{
  "nbformat": 4,
  "nbformat_minor": 0,
  "metadata": {
    "colab": {
      "name": "Untitled3.ipynb",
      "provenance": [],
      "authorship_tag": "ABX9TyMSRQ1psglxaUUkbz3m+BpD",
      "include_colab_link": true
    },
    "kernelspec": {
      "name": "python3",
      "display_name": "Python 3"
    },
    "language_info": {
      "name": "python"
    }
  },
  "cells": [
    {
      "cell_type": "markdown",
      "metadata": {
        "id": "view-in-github",
        "colab_type": "text"
      },
      "source": [
        "<a href=\"https://colab.research.google.com/github/srilav/machinelearning/blob/main/DBscan1.ipynb\" target=\"_parent\"><img src=\"https://colab.research.google.com/assets/colab-badge.svg\" alt=\"Open In Colab\"/></a>"
      ]
    },
    {
      "cell_type": "code",
      "metadata": {
        "colab": {
          "base_uri": "https://localhost:8080/",
          "height": 329
        },
        "id": "XTAv8lDN-QQu",
        "outputId": "1b61ec08-5883-4968-c407-437c9837f583"
      },
      "source": [
        "from sklearn.datasets import make_blobs\n",
        "from sklearn.cluster import DBSCAN\n",
        "import numpy as np\n",
        "import matplotlib.pyplot as plt\n",
        "\n",
        "# Configuration options\n",
        "num_samples_total = 5\n",
        "cluster_centers = [(1,1),(3,3)]\n",
        "num_classes = len(cluster_centers)\n",
        "epsilon = 0.95\n",
        "min_samples = 2\n",
        "\n",
        "# Generate data\n",
        "X, y = make_blobs(n_samples = num_samples_total, centers = cluster_centers, n_features = num_classes, center_box=(0, 1), cluster_std = 0.5)\n",
        "\n",
        "# Compute DBSCAN\n",
        "db = DBSCAN(eps=epsilon, min_samples=min_samples).fit(X)\n",
        "labels = db.labels_\n",
        "\n",
        "no_clusters = len(np.unique(labels) )\n",
        "no_noise = np.sum(np.array(labels) == -1, axis=0)\n",
        "\n",
        "print('Estimated no. of clusters: %d' % no_clusters)\n",
        "print('Estimated no. of noise points: %d' % no_noise)\n",
        "\n",
        "# Generate scatter plot for training data\n",
        "colors = list(map(lambda x: '#3b4cc0' if x == 1 else '#b40426', labels))\n",
        "plt.scatter(X[:,0], X[:,1], c=colors, marker=\"o\", picker=True)\n",
        "plt.title('Two clusters with data')\n",
        "plt.xlabel('Axis X[0]')\n",
        "plt.ylabel('Axis X[1]')\n",
        "plt.show()"
      ],
      "execution_count": 4,
      "outputs": [
        {
          "output_type": "stream",
          "name": "stdout",
          "text": [
            "Estimated no. of clusters: 2\n",
            "Estimated no. of noise points: 0\n"
          ]
        },
        {
          "output_type": "display_data",
          "data": {
            "image/png": "[encoded data removed]",
            "text/plain": [
              "<Figure size 432x288 with 1 Axes>"
            ]
          },
          "metadata": {
            "needs_background": "light"
          }
        }
      ]
    }
  ]
}