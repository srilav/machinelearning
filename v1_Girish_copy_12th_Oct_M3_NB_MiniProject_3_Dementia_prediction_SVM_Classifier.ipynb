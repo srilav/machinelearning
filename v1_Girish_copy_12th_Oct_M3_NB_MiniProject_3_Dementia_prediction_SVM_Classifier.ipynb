{
  "nbformat": 4,
  "nbformat_minor": 5,
  "metadata": {
    "kernelspec": {
      "display_name": "Python 3",
      "language": "python",
      "name": "python3"
    },
    "language_info": {
      "codemirror_mode": {
        "name": "ipython",
        "version": 3
      },
      "file_extension": ".py",
      "mimetype": "text/x-python",
      "name": "python",
      "nbconvert_exporter": "python",
      "pygments_lexer": "ipython3",
      "version": "3.9.2"
    },
    "colab": {
      "name": "v1-Girish copy - 12th Oct - M3_NB_MiniProject_3_Dementia_prediction_SVM_Classifier.ipynb",
      "provenance": [],
      "collapsed_sections": [],
      "include_colab_link": true
    }
  },
  "cells": [
    {
      "cell_type": "markdown",
      "metadata": {
        "id": "view-in-github",
        "colab_type": "text"
      },
      "source": [
        "<a href=\"https://colab.research.google.com/github/srilav/machinelearning/blob/main/v1_Girish_copy_12th_Oct_M3_NB_MiniProject_3_Dementia_prediction_SVM_Classifier.ipynb\" target=\"_parent\"><img src=\"https://colab.research.google.com/assets/colab-badge.svg\" alt=\"Open In Colab\"/></a>"
      ]
    },
    {
      "cell_type": "markdown",
      "metadata": {
        "id": "associate-sunset"
      },
      "source": [
        "# Advanced Certification Program in Computational Data Science\n",
        "## A program by IISc and TalentSprint\n",
        "### Mini-Project: Dementia prediction using SVM"
      ],
      "id": "associate-sunset"
    },
    {
      "cell_type": "markdown",
      "metadata": {
        "id": "handled-tooth"
      },
      "source": [
        "## Problem Statement"
      ],
      "id": "handled-tooth"
    },
    {
      "cell_type": "markdown",
      "metadata": {
        "id": "accessory-watts"
      },
      "source": [
        "Prediction of Dementia using an SVM model on brain MRI features"
      ],
      "id": "accessory-watts"
    },
    {
      "cell_type": "markdown",
      "metadata": {
        "id": "twenty-indonesia"
      },
      "source": [
        "## Learning Objectives"
      ],
      "id": "twenty-indonesia"
    },
    {
      "cell_type": "markdown",
      "metadata": {
        "id": "honest-friendship"
      },
      "source": [
        "At the end of the mini-project, you will be able to :\n",
        "\n",
        "* perform data exploration, preprocessing and visualization\n",
        "* implement SVM Classifier on the data\n",
        "* explore various parameters of SVM classifier and implement OneVsOne classifier\n",
        "* calculate the metrics and plot the roc_curve"
      ],
      "id": "honest-friendship"
    },
    {
      "cell_type": "markdown",
      "metadata": {
        "id": "rapid-hierarchy"
      },
      "source": [
        "## Information"
      ],
      "id": "rapid-hierarchy"
    },
    {
      "cell_type": "markdown",
      "metadata": {
        "id": "prescribed-matter"
      },
      "source": [
        "**About Dementia**\n",
        "\n",
        "Dementia is a general term for loss of memory and other mental abilities severe enough to interfere with daily life. It is caused by physical changes in the brain. Alzheimer's is the most common type of dementia, but there are many kinds.\n",
        "\n",
        "**Brain Imaging via magnetic resonance imaging (MRI) and Machine Learning**\n",
        "\n",
        "* MRI is used for the evaluation of patients with suspected Alzheimer's disease\n",
        "* MRIs detect both, local and generalized shrinkage of brain tissue.\n",
        "* MRI features predict the rate of decline of AD and may guide therapy in the future\n",
        "* Using machine learning on MRI features could help in automatedly and accurately predicting the progress of a patient from mild cognitive impairment to dementia\n",
        "\n",
        "To understand the basics of MRI technique, you could refer [here](https://case.edu/med/neurology/NR/MRI%20Basics.htm)"
      ],
      "id": "prescribed-matter"
    },
    {
      "cell_type": "markdown",
      "metadata": {
        "id": "lesbian-bottom"
      },
      "source": [
        "## Dataset"
      ],
      "id": "lesbian-bottom"
    },
    {
      "cell_type": "markdown",
      "metadata": {
        "id": "fixed-trainer"
      },
      "source": [
        "The dataset chosen for this mini-project is [OASIS - Longitudinal brain MRI Dataset](https://www.oasis-brains.org/). This dataset consists of a longitudinal MRI collection of 150 subjects aged 60 to 96. Each subject was scanned on two or more visits, separated by at least one year for a total of 373 imaging sessions. For each subject, 3 or 4 individual T1-weighted MRI scans obtained in single scan sessions are included. The subjects are all right-handed and include both men and women. 72 of the subjects were characterized as nondemented throughout the study. 64 of the included subjects were characterized as demented at the time of their initial visits and remained so for subsequent scans, including 51 individuals with mild to moderate Alzheimer’s disease. Another 14 subjects were characterized as nondemented at the time of their initial visit and were subsequently characterized as demented at a later visit.\n",
        "\n",
        "**Dataset fields:**\n",
        "\n",
        "* Subject ID - Subject Identification\n",
        "* MRI ID - MRI Exam Identification\n",
        "* Group - Target variable with 3 labels ('NonDemented', 'Demented', 'Converted')\n",
        "* Visit - Visit order\n",
        "* MR Delay - MR Delay Time (Contrast)\n",
        "* M/F - Male or Female\n",
        "* Hand - Unique value 'R'\n",
        "* MMSE - Mini-Mental State Examination score (range is from 0 = worst to 30 = best)\n",
        "* CDR - Clinical Dementia Rating (0 = no dementia, 0.5 = very mild AD, 1 = mild AD, 2 = moderate AD)\n",
        "* Derived anatomic volumes\n",
        "* eTIV - Estimated total intracranial volume, mm3\n",
        "* nWBV - Normalized whole-brain volume, expressed as a percent of all voxels in the atlas-masked image that are labeled as gray or white matter by the automated tissue segmentation process\n",
        "* ASF - Atlas scaling factor (unitless). A computed scaling factor that transforms native-space brain and skull to the atlas target (i.e., the determinant of the transform matrix)\n",
        "\n",
        "For learning more on building a machine learning model to predict dementia using SVM, refer [here](https://www.ncbi.nlm.nih.gov/pmc/articles/PMC7408873/)."
      ],
      "id": "fixed-trainer"
    },
    {
      "cell_type": "markdown",
      "metadata": {
        "id": "operating-latter"
      },
      "source": [
        "## Grading = 10 Points"
      ],
      "id": "operating-latter"
    },
    {
      "cell_type": "code",
      "metadata": {
        "id": "talented-upset",
        "cellView": "form",
        "colab": {
          "base_uri": "https://localhost:8080/"
        },
        "outputId": "68694c46-8c40-4055-8996-75c8e4d6fea3"
      },
      "source": [
        "#@title Download the dataset\n",
        "!wget -qq https://cdn.iisc.talentsprint.com/CDS/MiniProjects/oasis_longitudinal.csv\n",
        "print(\"Data downloaded successfully!\")"
      ],
      "id": "talented-upset",
      "execution_count": null,
      "outputs": [
        {
          "output_type": "stream",
          "name": "stdout",
          "text": [
            "Data downloaded successfully!\n"
          ]
        }
      ]
    },
    {
      "cell_type": "markdown",
      "metadata": {
        "id": "appreciated-pattern"
      },
      "source": [
        "### Import required packages"
      ],
      "id": "appreciated-pattern"
    },
    {
      "cell_type": "code",
      "metadata": {
        "id": "loose-marsh"
      },
      "source": [
        "import pandas as pd\n",
        "import numpy as np\n",
        "import seaborn as sns\n",
        "from matplotlib import pyplot as plt\n",
        "import math\n",
        "# sklearn imports\n",
        "from sklearn.pipeline import Pipeline, make_pipeline\n",
        "from sklearn.preprocessing import LabelEncoder, StandardScaler\n",
        "from sklearn.metrics import confusion_matrix, accuracy_score, precision_score, recall_score\n",
        "from sklearn.model_selection import train_test_split\n",
        "from sklearn.svm import SVC, LinearSVC\n",
        "from sklearn.multiclass import OneVsRestClassifier\n",
        "from sklearn.multiclass import OneVsOneClassifier\n",
        "from mlxtend.plotting import plot_decision_regions\n",
        "from sklearn.metrics import roc_auc_score, roc_curve, auc"
      ],
      "id": "loose-marsh",
      "execution_count": null,
      "outputs": []
    },
    {
      "cell_type": "markdown",
      "metadata": {
        "id": "compressed-reflection"
      },
      "source": [
        "### Load the dataset"
      ],
      "id": "compressed-reflection"
    },
    {
      "cell_type": "code",
      "metadata": {
        "id": "Pq97ZTs0h-j5"
      },
      "source": [
        "FILE_PATH='/content/oasis_longitudinal.csv'\n",
        "empty_values=['.', 'na','NA','NAN','NaN']"
      ],
      "id": "Pq97ZTs0h-j5",
      "execution_count": null,
      "outputs": []
    },
    {
      "cell_type": "code",
      "metadata": {
        "id": "fatty-graph"
      },
      "source": [
        "# YOUR CODE HERE\n",
        "def load_data(file_path):\n",
        "  data = pd.read_csv(\n",
        "    file_path, \n",
        "    header=0,\n",
        "    na_values=empty_values\n",
        "    )\n",
        "  return data"
      ],
      "id": "fatty-graph",
      "execution_count": null,
      "outputs": []
    },
    {
      "cell_type": "markdown",
      "metadata": {
        "id": "IJXMfmzZj6Cw"
      },
      "source": [
        "**Dataset fields:**\n",
        "\n",
        "* Subject ID - Subject Identification\n",
        "* MRI ID - MRI Exam Identification\n",
        "* Group - Target variable with 3 labels ('NonDemented', 'Demented', 'Converted')\n",
        "* Visit - Visit order\n",
        "* MR Delay - MR Delay Time (Contrast)\n",
        "* M/F - Male or Female\n",
        "* Hand - Unique value 'R'\n",
        "* MMSE - Mini-Mental State Examination score (range is from 0 = worst to 30 = best)\n",
        "* CDR - Clinical Dementia Rating (0 = no dementia, 0.5 = very mild AD, 1 = mild AD, 2 = moderate AD)\n",
        "* Derived anatomic volumes\n",
        "* eTIV - Estimated total intracranial volume, mm3\n",
        "* nWBV - Normalized whole-brain volume, expressed as a percent of all voxels in the atlas-masked image that are labeled as gray or white matter by the automated tissue segmentation process\n",
        "* ASF - Atlas scaling factor (unitless). A computed scaling factor that transforms native-space brain and skull to the atlas target (i.e., the determinant of the transform matrix)"
      ],
      "id": "IJXMfmzZj6Cw"
    },
    {
      "cell_type": "code",
      "metadata": {
        "id": "a19lytIOirqU"
      },
      "source": [
        "raw_df = load_data(FILE_PATH)"
      ],
      "id": "a19lytIOirqU",
      "execution_count": null,
      "outputs": []
    },
    {
      "cell_type": "code",
      "metadata": {
        "id": "f0ih3MDcqrrf"
      },
      "source": [
        "def get_dementia_status_by_visit(visit_id):\n",
        "  df_visit_status = raw_df[raw_df['Visit'] == visit_id]\n",
        "  return df_visit_status['Group'].value_counts()"
      ],
      "id": "f0ih3MDcqrrf",
      "execution_count": null,
      "outputs": []
    },
    {
      "cell_type": "code",
      "metadata": {
        "colab": {
          "base_uri": "https://localhost:8080/"
        },
        "id": "nj2aBibUoVIi",
        "outputId": "dbce9d16-d243-4f45-e1f1-afccca4df7ae"
      },
      "source": [
        "df_visit_status_1 = raw_df[raw_df['Visit'] == 1]\n",
        "df_visit_status_1['Group'].value_counts()"
      ],
      "id": "nj2aBibUoVIi",
      "execution_count": null,
      "outputs": [
        {
          "output_type": "execute_result",
          "data": {
            "text/plain": [
              "Nondemented    72\n",
              "Demented       64\n",
              "Converted      14\n",
              "Name: Group, dtype: int64"
            ]
          },
          "metadata": {},
          "execution_count": 7
        }
      ]
    },
    {
      "cell_type": "code",
      "metadata": {
        "colab": {
          "base_uri": "https://localhost:8080/",
          "height": 419
        },
        "id": "ifCwlznBmzJ7",
        "outputId": "91ccc31e-5594-4727-ee48-1e361e9f18c9"
      },
      "source": [
        "raw_df"
      ],
      "id": "ifCwlznBmzJ7",
      "execution_count": null,
      "outputs": [
        {
          "output_type": "execute_result",
          "data": {
            "text/html": [
              "<div>\n",
              "<style scoped>\n",
              "    .dataframe tbody tr th:only-of-type {\n",
              "        vertical-align: middle;\n",
              "    }\n",
              "\n",
              "    .dataframe tbody tr th {\n",
              "        vertical-align: top;\n",
              "    }\n",
              "\n",
              "    .dataframe thead th {\n",
              "        text-align: right;\n",
              "    }\n",
              "</style>\n",
              "<table border=\"1\" class=\"dataframe\">\n",
              "  <thead>\n",
              "    <tr style=\"text-align: right;\">\n",
              "      <th></th>\n",
              "      <th>Subject ID</th>\n",
              "      <th>MRI ID</th>\n",
              "      <th>Group</th>\n",
              "      <th>Visit</th>\n",
              "      <th>MR Delay</th>\n",
              "      <th>M/F</th>\n",
              "      <th>Hand</th>\n",
              "      <th>Age</th>\n",
              "      <th>EDUC</th>\n",
              "      <th>SES</th>\n",
              "      <th>MMSE</th>\n",
              "      <th>CDR</th>\n",
              "      <th>eTIV</th>\n",
              "      <th>nWBV</th>\n",
              "      <th>ASF</th>\n",
              "    </tr>\n",
              "  </thead>\n",
              "  <tbody>\n",
              "    <tr>\n",
              "      <th>0</th>\n",
              "      <td>OAS2_0001</td>\n",
              "      <td>OAS2_0001_MR1</td>\n",
              "      <td>Nondemented</td>\n",
              "      <td>1</td>\n",
              "      <td>0</td>\n",
              "      <td>M</td>\n",
              "      <td>R</td>\n",
              "      <td>87</td>\n",
              "      <td>14</td>\n",
              "      <td>2.0</td>\n",
              "      <td>27.0</td>\n",
              "      <td>0.0</td>\n",
              "      <td>1987</td>\n",
              "      <td>0.696</td>\n",
              "      <td>0.883</td>\n",
              "    </tr>\n",
              "    <tr>\n",
              "      <th>1</th>\n",
              "      <td>OAS2_0001</td>\n",
              "      <td>OAS2_0001_MR2</td>\n",
              "      <td>Nondemented</td>\n",
              "      <td>2</td>\n",
              "      <td>457</td>\n",
              "      <td>M</td>\n",
              "      <td>R</td>\n",
              "      <td>88</td>\n",
              "      <td>14</td>\n",
              "      <td>2.0</td>\n",
              "      <td>30.0</td>\n",
              "      <td>0.0</td>\n",
              "      <td>2004</td>\n",
              "      <td>0.681</td>\n",
              "      <td>0.876</td>\n",
              "    </tr>\n",
              "    <tr>\n",
              "      <th>2</th>\n",
              "      <td>OAS2_0002</td>\n",
              "      <td>OAS2_0002_MR1</td>\n",
              "      <td>Demented</td>\n",
              "      <td>1</td>\n",
              "      <td>0</td>\n",
              "      <td>M</td>\n",
              "      <td>R</td>\n",
              "      <td>75</td>\n",
              "      <td>12</td>\n",
              "      <td>NaN</td>\n",
              "      <td>23.0</td>\n",
              "      <td>0.5</td>\n",
              "      <td>1678</td>\n",
              "      <td>0.736</td>\n",
              "      <td>1.046</td>\n",
              "    </tr>\n",
              "    <tr>\n",
              "      <th>3</th>\n",
              "      <td>OAS2_0002</td>\n",
              "      <td>OAS2_0002_MR2</td>\n",
              "      <td>Demented</td>\n",
              "      <td>2</td>\n",
              "      <td>560</td>\n",
              "      <td>M</td>\n",
              "      <td>R</td>\n",
              "      <td>76</td>\n",
              "      <td>12</td>\n",
              "      <td>NaN</td>\n",
              "      <td>28.0</td>\n",
              "      <td>0.5</td>\n",
              "      <td>1738</td>\n",
              "      <td>0.713</td>\n",
              "      <td>1.010</td>\n",
              "    </tr>\n",
              "    <tr>\n",
              "      <th>4</th>\n",
              "      <td>OAS2_0002</td>\n",
              "      <td>OAS2_0002_MR3</td>\n",
              "      <td>Demented</td>\n",
              "      <td>3</td>\n",
              "      <td>1895</td>\n",
              "      <td>M</td>\n",
              "      <td>R</td>\n",
              "      <td>80</td>\n",
              "      <td>12</td>\n",
              "      <td>NaN</td>\n",
              "      <td>22.0</td>\n",
              "      <td>0.5</td>\n",
              "      <td>1698</td>\n",
              "      <td>0.701</td>\n",
              "      <td>1.034</td>\n",
              "    </tr>\n",
              "    <tr>\n",
              "      <th>...</th>\n",
              "      <td>...</td>\n",
              "      <td>...</td>\n",
              "      <td>...</td>\n",
              "      <td>...</td>\n",
              "      <td>...</td>\n",
              "      <td>...</td>\n",
              "      <td>...</td>\n",
              "      <td>...</td>\n",
              "      <td>...</td>\n",
              "      <td>...</td>\n",
              "      <td>...</td>\n",
              "      <td>...</td>\n",
              "      <td>...</td>\n",
              "      <td>...</td>\n",
              "      <td>...</td>\n",
              "    </tr>\n",
              "    <tr>\n",
              "      <th>368</th>\n",
              "      <td>OAS2_0185</td>\n",
              "      <td>OAS2_0185_MR2</td>\n",
              "      <td>Demented</td>\n",
              "      <td>2</td>\n",
              "      <td>842</td>\n",
              "      <td>M</td>\n",
              "      <td>R</td>\n",
              "      <td>82</td>\n",
              "      <td>16</td>\n",
              "      <td>1.0</td>\n",
              "      <td>28.0</td>\n",
              "      <td>0.5</td>\n",
              "      <td>1693</td>\n",
              "      <td>0.694</td>\n",
              "      <td>1.037</td>\n",
              "    </tr>\n",
              "    <tr>\n",
              "      <th>369</th>\n",
              "      <td>OAS2_0185</td>\n",
              "      <td>OAS2_0185_MR3</td>\n",
              "      <td>Demented</td>\n",
              "      <td>3</td>\n",
              "      <td>2297</td>\n",
              "      <td>M</td>\n",
              "      <td>R</td>\n",
              "      <td>86</td>\n",
              "      <td>16</td>\n",
              "      <td>1.0</td>\n",
              "      <td>26.0</td>\n",
              "      <td>0.5</td>\n",
              "      <td>1688</td>\n",
              "      <td>0.675</td>\n",
              "      <td>1.040</td>\n",
              "    </tr>\n",
              "    <tr>\n",
              "      <th>370</th>\n",
              "      <td>OAS2_0186</td>\n",
              "      <td>OAS2_0186_MR1</td>\n",
              "      <td>Nondemented</td>\n",
              "      <td>1</td>\n",
              "      <td>0</td>\n",
              "      <td>F</td>\n",
              "      <td>R</td>\n",
              "      <td>61</td>\n",
              "      <td>13</td>\n",
              "      <td>2.0</td>\n",
              "      <td>30.0</td>\n",
              "      <td>0.0</td>\n",
              "      <td>1319</td>\n",
              "      <td>0.801</td>\n",
              "      <td>1.331</td>\n",
              "    </tr>\n",
              "    <tr>\n",
              "      <th>371</th>\n",
              "      <td>OAS2_0186</td>\n",
              "      <td>OAS2_0186_MR2</td>\n",
              "      <td>Nondemented</td>\n",
              "      <td>2</td>\n",
              "      <td>763</td>\n",
              "      <td>F</td>\n",
              "      <td>R</td>\n",
              "      <td>63</td>\n",
              "      <td>13</td>\n",
              "      <td>2.0</td>\n",
              "      <td>30.0</td>\n",
              "      <td>0.0</td>\n",
              "      <td>1327</td>\n",
              "      <td>0.796</td>\n",
              "      <td>1.323</td>\n",
              "    </tr>\n",
              "    <tr>\n",
              "      <th>372</th>\n",
              "      <td>OAS2_0186</td>\n",
              "      <td>OAS2_0186_MR3</td>\n",
              "      <td>Nondemented</td>\n",
              "      <td>3</td>\n",
              "      <td>1608</td>\n",
              "      <td>F</td>\n",
              "      <td>R</td>\n",
              "      <td>65</td>\n",
              "      <td>13</td>\n",
              "      <td>2.0</td>\n",
              "      <td>30.0</td>\n",
              "      <td>0.0</td>\n",
              "      <td>1333</td>\n",
              "      <td>0.801</td>\n",
              "      <td>1.317</td>\n",
              "    </tr>\n",
              "  </tbody>\n",
              "</table>\n",
              "<p>373 rows × 15 columns</p>\n",
              "</div>"
            ],
            "text/plain": [
              "    Subject ID         MRI ID        Group  Visit  ...  CDR  eTIV   nWBV    ASF\n",
              "0    OAS2_0001  OAS2_0001_MR1  Nondemented      1  ...  0.0  1987  0.696  0.883\n",
              "1    OAS2_0001  OAS2_0001_MR2  Nondemented      2  ...  0.0  2004  0.681  0.876\n",
              "2    OAS2_0002  OAS2_0002_MR1     Demented      1  ...  0.5  1678  0.736  1.046\n",
              "3    OAS2_0002  OAS2_0002_MR2     Demented      2  ...  0.5  1738  0.713  1.010\n",
              "4    OAS2_0002  OAS2_0002_MR3     Demented      3  ...  0.5  1698  0.701  1.034\n",
              "..         ...            ...          ...    ...  ...  ...   ...    ...    ...\n",
              "368  OAS2_0185  OAS2_0185_MR2     Demented      2  ...  0.5  1693  0.694  1.037\n",
              "369  OAS2_0185  OAS2_0185_MR3     Demented      3  ...  0.5  1688  0.675  1.040\n",
              "370  OAS2_0186  OAS2_0186_MR1  Nondemented      1  ...  0.0  1319  0.801  1.331\n",
              "371  OAS2_0186  OAS2_0186_MR2  Nondemented      2  ...  0.0  1327  0.796  1.323\n",
              "372  OAS2_0186  OAS2_0186_MR3  Nondemented      3  ...  0.0  1333  0.801  1.317\n",
              "\n",
              "[373 rows x 15 columns]"
            ]
          },
          "metadata": {},
          "execution_count": 8
        }
      ]
    },
    {
      "cell_type": "markdown",
      "metadata": {
        "id": "BdFIqUB2oxki"
      },
      "source": [
        "Print the unique values of CDR - Clinical Dementia Rating Score (0 = no dementia, 0.5 = very mild AD, 1 = mild AD, 2 = moderate)"
      ],
      "id": "BdFIqUB2oxki"
    },
    {
      "cell_type": "code",
      "metadata": {
        "colab": {
          "base_uri": "https://localhost:8080/"
        },
        "id": "3W2pNv9Dm_-C",
        "outputId": "10b4b20d-bd51-400e-9759-219ea568482f"
      },
      "source": [
        "raw_df['CDR'].unique()"
      ],
      "id": "3W2pNv9Dm_-C",
      "execution_count": null,
      "outputs": [
        {
          "output_type": "execute_result",
          "data": {
            "text/plain": [
              "array([0. , 0.5, 1. , 2. ])"
            ]
          },
          "metadata": {},
          "execution_count": 9
        }
      ]
    },
    {
      "cell_type": "markdown",
      "metadata": {
        "id": "christian-hamilton"
      },
      "source": [
        "### Pre-processing and Data Engineering (2 points)"
      ],
      "id": "christian-hamilton"
    },
    {
      "cell_type": "markdown",
      "metadata": {
        "id": "fI2RyU3nqbr5"
      },
      "source": [
        "##### Studying the Socio Economic Status Variables (SES) - for self-study"
      ],
      "id": "fI2RyU3nqbr5"
    },
    {
      "cell_type": "code",
      "metadata": {
        "id": "SflaKtjvqi8h",
        "colab": {
          "base_uri": "https://localhost:8080/"
        },
        "outputId": "8c4c4b0f-6bbb-496b-f5fb-101283476c8f"
      },
      "source": [
        "raw_df['SES'].unique()"
      ],
      "id": "SflaKtjvqi8h",
      "execution_count": null,
      "outputs": [
        {
          "output_type": "execute_result",
          "data": {
            "text/plain": [
              "array([ 2., nan,  3.,  4.,  1.,  5.])"
            ]
          },
          "metadata": {},
          "execution_count": 10
        }
      ]
    },
    {
      "cell_type": "code",
      "metadata": {
        "colab": {
          "base_uri": "https://localhost:8080/"
        },
        "id": "8DFSBofNrLL6",
        "outputId": "ac595fc8-2110-4943-8064-a9c6725c68c4"
      },
      "source": [
        "raw_df['SES'].isnull().sum()"
      ],
      "id": "8DFSBofNrLL6",
      "execution_count": null,
      "outputs": [
        {
          "output_type": "execute_result",
          "data": {
            "text/plain": [
              "19"
            ]
          },
          "metadata": {},
          "execution_count": 11
        }
      ]
    },
    {
      "cell_type": "code",
      "metadata": {
        "colab": {
          "base_uri": "https://localhost:8080/"
        },
        "id": "9eiKbGPjrUUY",
        "outputId": "5fdede07-7d6d-426a-e130-f9ad291036ed"
      },
      "source": [
        "raw_df['SES'].describe()"
      ],
      "id": "9eiKbGPjrUUY",
      "execution_count": null,
      "outputs": [
        {
          "output_type": "execute_result",
          "data": {
            "text/plain": [
              "count    354.000000\n",
              "mean       2.460452\n",
              "std        1.134005\n",
              "min        1.000000\n",
              "25%        2.000000\n",
              "50%        2.000000\n",
              "75%        3.000000\n",
              "max        5.000000\n",
              "Name: SES, dtype: float64"
            ]
          },
          "metadata": {},
          "execution_count": 12
        }
      ]
    },
    {
      "cell_type": "code",
      "metadata": {
        "colab": {
          "base_uri": "https://localhost:8080/"
        },
        "id": "LWLhzlpFrxdP",
        "outputId": "c024fa1c-f631-4b54-dbfb-2ee6f67fcb18"
      },
      "source": [
        "raw_df_nan_ses = raw_df[~raw_df['SES'].isin(['1.0', '2.0', '3.0', '4.0', '5.0'])]\n",
        "raw_df_nan_ses['EDUC'].unique()"
      ],
      "id": "LWLhzlpFrxdP",
      "execution_count": null,
      "outputs": [
        {
          "output_type": "execute_result",
          "data": {
            "text/plain": [
              "array([12, 16])"
            ]
          },
          "metadata": {},
          "execution_count": 13
        }
      ]
    },
    {
      "cell_type": "code",
      "metadata": {
        "colab": {
          "base_uri": "https://localhost:8080/"
        },
        "id": "rOauiq88uslP",
        "outputId": "e3ad00fb-548b-42c5-9b77-3cc7becb5afc"
      },
      "source": [
        "raw_df['SES'].median()"
      ],
      "id": "rOauiq88uslP",
      "execution_count": null,
      "outputs": [
        {
          "output_type": "execute_result",
          "data": {
            "text/plain": [
              "2.0"
            ]
          },
          "metadata": {},
          "execution_count": 14
        }
      ]
    },
    {
      "cell_type": "code",
      "metadata": {
        "id": "yIsOCtR7u14v"
      },
      "source": [
        "raw_df['SES'].fillna(raw_df['SES'].median(), inplace=True)"
      ],
      "id": "yIsOCtR7u14v",
      "execution_count": null,
      "outputs": []
    },
    {
      "cell_type": "code",
      "metadata": {
        "colab": {
          "base_uri": "https://localhost:8080/"
        },
        "id": "nwUb-qqbu6IO",
        "outputId": "c27da65f-6e59-4cf8-b01b-357c08c4c631"
      },
      "source": [
        "raw_df_nan_ses_1 = raw_df[~raw_df['SES'].isin(['1.0', '2.0', '3.0', '4.0', '5.0'])]\n",
        "raw_df_nan_ses_1['EDUC'].unique()"
      ],
      "id": "nwUb-qqbu6IO",
      "execution_count": null,
      "outputs": [
        {
          "output_type": "execute_result",
          "data": {
            "text/plain": [
              "array([], dtype=int64)"
            ]
          },
          "metadata": {},
          "execution_count": 16
        }
      ]
    },
    {
      "cell_type": "markdown",
      "metadata": {
        "id": "dense-ivory"
      },
      "source": [
        "#### Remove unwanted columns"
      ],
      "id": "dense-ivory"
    },
    {
      "cell_type": "code",
      "metadata": {
        "id": "J6uM9XiSpNYK"
      },
      "source": [
        "drop_columns_list = ['Subject ID', 'MRI ID', 'M/F', 'Hand']"
      ],
      "id": "J6uM9XiSpNYK",
      "execution_count": null,
      "outputs": []
    },
    {
      "cell_type": "code",
      "metadata": {
        "id": "prime-genetics",
        "colab": {
          "base_uri": "https://localhost:8080/",
          "height": 419
        },
        "outputId": "c5faa88c-80ea-454b-aff1-e23d1eb57064"
      },
      "source": [
        "# YOUR CODE HERE\n",
        "df = raw_df.drop(columns=drop_columns_list)\n",
        "df"
      ],
      "id": "prime-genetics",
      "execution_count": null,
      "outputs": [
        {
          "output_type": "execute_result",
          "data": {
            "text/html": [
              "<div>\n",
              "<style scoped>\n",
              "    .dataframe tbody tr th:only-of-type {\n",
              "        vertical-align: middle;\n",
              "    }\n",
              "\n",
              "    .dataframe tbody tr th {\n",
              "        vertical-align: top;\n",
              "    }\n",
              "\n",
              "    .dataframe thead th {\n",
              "        text-align: right;\n",
              "    }\n",
              "</style>\n",
              "<table border=\"1\" class=\"dataframe\">\n",
              "  <thead>\n",
              "    <tr style=\"text-align: right;\">\n",
              "      <th></th>\n",
              "      <th>Group</th>\n",
              "      <th>Visit</th>\n",
              "      <th>MR Delay</th>\n",
              "      <th>Age</th>\n",
              "      <th>EDUC</th>\n",
              "      <th>SES</th>\n",
              "      <th>MMSE</th>\n",
              "      <th>CDR</th>\n",
              "      <th>eTIV</th>\n",
              "      <th>nWBV</th>\n",
              "      <th>ASF</th>\n",
              "    </tr>\n",
              "  </thead>\n",
              "  <tbody>\n",
              "    <tr>\n",
              "      <th>0</th>\n",
              "      <td>Nondemented</td>\n",
              "      <td>1</td>\n",
              "      <td>0</td>\n",
              "      <td>87</td>\n",
              "      <td>14</td>\n",
              "      <td>2.0</td>\n",
              "      <td>27.0</td>\n",
              "      <td>0.0</td>\n",
              "      <td>1987</td>\n",
              "      <td>0.696</td>\n",
              "      <td>0.883</td>\n",
              "    </tr>\n",
              "    <tr>\n",
              "      <th>1</th>\n",
              "      <td>Nondemented</td>\n",
              "      <td>2</td>\n",
              "      <td>457</td>\n",
              "      <td>88</td>\n",
              "      <td>14</td>\n",
              "      <td>2.0</td>\n",
              "      <td>30.0</td>\n",
              "      <td>0.0</td>\n",
              "      <td>2004</td>\n",
              "      <td>0.681</td>\n",
              "      <td>0.876</td>\n",
              "    </tr>\n",
              "    <tr>\n",
              "      <th>2</th>\n",
              "      <td>Demented</td>\n",
              "      <td>1</td>\n",
              "      <td>0</td>\n",
              "      <td>75</td>\n",
              "      <td>12</td>\n",
              "      <td>2.0</td>\n",
              "      <td>23.0</td>\n",
              "      <td>0.5</td>\n",
              "      <td>1678</td>\n",
              "      <td>0.736</td>\n",
              "      <td>1.046</td>\n",
              "    </tr>\n",
              "    <tr>\n",
              "      <th>3</th>\n",
              "      <td>Demented</td>\n",
              "      <td>2</td>\n",
              "      <td>560</td>\n",
              "      <td>76</td>\n",
              "      <td>12</td>\n",
              "      <td>2.0</td>\n",
              "      <td>28.0</td>\n",
              "      <td>0.5</td>\n",
              "      <td>1738</td>\n",
              "      <td>0.713</td>\n",
              "      <td>1.010</td>\n",
              "    </tr>\n",
              "    <tr>\n",
              "      <th>4</th>\n",
              "      <td>Demented</td>\n",
              "      <td>3</td>\n",
              "      <td>1895</td>\n",
              "      <td>80</td>\n",
              "      <td>12</td>\n",
              "      <td>2.0</td>\n",
              "      <td>22.0</td>\n",
              "      <td>0.5</td>\n",
              "      <td>1698</td>\n",
              "      <td>0.701</td>\n",
              "      <td>1.034</td>\n",
              "    </tr>\n",
              "    <tr>\n",
              "      <th>...</th>\n",
              "      <td>...</td>\n",
              "      <td>...</td>\n",
              "      <td>...</td>\n",
              "      <td>...</td>\n",
              "      <td>...</td>\n",
              "      <td>...</td>\n",
              "      <td>...</td>\n",
              "      <td>...</td>\n",
              "      <td>...</td>\n",
              "      <td>...</td>\n",
              "      <td>...</td>\n",
              "    </tr>\n",
              "    <tr>\n",
              "      <th>368</th>\n",
              "      <td>Demented</td>\n",
              "      <td>2</td>\n",
              "      <td>842</td>\n",
              "      <td>82</td>\n",
              "      <td>16</td>\n",
              "      <td>1.0</td>\n",
              "      <td>28.0</td>\n",
              "      <td>0.5</td>\n",
              "      <td>1693</td>\n",
              "      <td>0.694</td>\n",
              "      <td>1.037</td>\n",
              "    </tr>\n",
              "    <tr>\n",
              "      <th>369</th>\n",
              "      <td>Demented</td>\n",
              "      <td>3</td>\n",
              "      <td>2297</td>\n",
              "      <td>86</td>\n",
              "      <td>16</td>\n",
              "      <td>1.0</td>\n",
              "      <td>26.0</td>\n",
              "      <td>0.5</td>\n",
              "      <td>1688</td>\n",
              "      <td>0.675</td>\n",
              "      <td>1.040</td>\n",
              "    </tr>\n",
              "    <tr>\n",
              "      <th>370</th>\n",
              "      <td>Nondemented</td>\n",
              "      <td>1</td>\n",
              "      <td>0</td>\n",
              "      <td>61</td>\n",
              "      <td>13</td>\n",
              "      <td>2.0</td>\n",
              "      <td>30.0</td>\n",
              "      <td>0.0</td>\n",
              "      <td>1319</td>\n",
              "      <td>0.801</td>\n",
              "      <td>1.331</td>\n",
              "    </tr>\n",
              "    <tr>\n",
              "      <th>371</th>\n",
              "      <td>Nondemented</td>\n",
              "      <td>2</td>\n",
              "      <td>763</td>\n",
              "      <td>63</td>\n",
              "      <td>13</td>\n",
              "      <td>2.0</td>\n",
              "      <td>30.0</td>\n",
              "      <td>0.0</td>\n",
              "      <td>1327</td>\n",
              "      <td>0.796</td>\n",
              "      <td>1.323</td>\n",
              "    </tr>\n",
              "    <tr>\n",
              "      <th>372</th>\n",
              "      <td>Nondemented</td>\n",
              "      <td>3</td>\n",
              "      <td>1608</td>\n",
              "      <td>65</td>\n",
              "      <td>13</td>\n",
              "      <td>2.0</td>\n",
              "      <td>30.0</td>\n",
              "      <td>0.0</td>\n",
              "      <td>1333</td>\n",
              "      <td>0.801</td>\n",
              "      <td>1.317</td>\n",
              "    </tr>\n",
              "  </tbody>\n",
              "</table>\n",
              "<p>373 rows × 11 columns</p>\n",
              "</div>"
            ],
            "text/plain": [
              "           Group  Visit  MR Delay  Age  EDUC  ...  MMSE  CDR  eTIV   nWBV    ASF\n",
              "0    Nondemented      1         0   87    14  ...  27.0  0.0  1987  0.696  0.883\n",
              "1    Nondemented      2       457   88    14  ...  30.0  0.0  2004  0.681  0.876\n",
              "2       Demented      1         0   75    12  ...  23.0  0.5  1678  0.736  1.046\n",
              "3       Demented      2       560   76    12  ...  28.0  0.5  1738  0.713  1.010\n",
              "4       Demented      3      1895   80    12  ...  22.0  0.5  1698  0.701  1.034\n",
              "..           ...    ...       ...  ...   ...  ...   ...  ...   ...    ...    ...\n",
              "368     Demented      2       842   82    16  ...  28.0  0.5  1693  0.694  1.037\n",
              "369     Demented      3      2297   86    16  ...  26.0  0.5  1688  0.675  1.040\n",
              "370  Nondemented      1         0   61    13  ...  30.0  0.0  1319  0.801  1.331\n",
              "371  Nondemented      2       763   63    13  ...  30.0  0.0  1327  0.796  1.323\n",
              "372  Nondemented      3      1608   65    13  ...  30.0  0.0  1333  0.801  1.317\n",
              "\n",
              "[373 rows x 11 columns]"
            ]
          },
          "metadata": {},
          "execution_count": 62
        }
      ]
    },
    {
      "cell_type": "markdown",
      "metadata": {
        "id": "reported-expression"
      },
      "source": [
        "#### Encode categorical features into numeric"
      ],
      "id": "reported-expression"
    },
    {
      "cell_type": "code",
      "metadata": {
        "id": "radical-procurement"
      },
      "source": [
        "# YOUR CODE HERE\n",
        "\n",
        "from sklearn.preprocessing import LabelEncoder\n",
        "encoder = LabelEncoder()\n",
        "df_dementia_group = df['Group']\n",
        "df['Group'] = encoder.fit_transform(df_dementia_group)"
      ],
      "id": "radical-procurement",
      "execution_count": null,
      "outputs": []
    },
    {
      "cell_type": "code",
      "metadata": {
        "colab": {
          "base_uri": "https://localhost:8080/",
          "height": 419
        },
        "id": "Xm5cIHA7eBcu",
        "outputId": "19bd4df0-4eb6-473f-ec33-2ab397a7d576"
      },
      "source": [
        "df"
      ],
      "id": "Xm5cIHA7eBcu",
      "execution_count": null,
      "outputs": [
        {
          "output_type": "execute_result",
          "data": {
            "text/html": [
              "<div>\n",
              "<style scoped>\n",
              "    .dataframe tbody tr th:only-of-type {\n",
              "        vertical-align: middle;\n",
              "    }\n",
              "\n",
              "    .dataframe tbody tr th {\n",
              "        vertical-align: top;\n",
              "    }\n",
              "\n",
              "    .dataframe thead th {\n",
              "        text-align: right;\n",
              "    }\n",
              "</style>\n",
              "<table border=\"1\" class=\"dataframe\">\n",
              "  <thead>\n",
              "    <tr style=\"text-align: right;\">\n",
              "      <th></th>\n",
              "      <th>Group</th>\n",
              "      <th>Visit</th>\n",
              "      <th>MR Delay</th>\n",
              "      <th>Age</th>\n",
              "      <th>EDUC</th>\n",
              "      <th>SES</th>\n",
              "      <th>MMSE</th>\n",
              "      <th>CDR</th>\n",
              "      <th>eTIV</th>\n",
              "      <th>nWBV</th>\n",
              "      <th>ASF</th>\n",
              "    </tr>\n",
              "  </thead>\n",
              "  <tbody>\n",
              "    <tr>\n",
              "      <th>0</th>\n",
              "      <td>2</td>\n",
              "      <td>1</td>\n",
              "      <td>0</td>\n",
              "      <td>87</td>\n",
              "      <td>14</td>\n",
              "      <td>2.0</td>\n",
              "      <td>27.0</td>\n",
              "      <td>0.0</td>\n",
              "      <td>1987</td>\n",
              "      <td>0.696</td>\n",
              "      <td>0.883</td>\n",
              "    </tr>\n",
              "    <tr>\n",
              "      <th>1</th>\n",
              "      <td>2</td>\n",
              "      <td>2</td>\n",
              "      <td>457</td>\n",
              "      <td>88</td>\n",
              "      <td>14</td>\n",
              "      <td>2.0</td>\n",
              "      <td>30.0</td>\n",
              "      <td>0.0</td>\n",
              "      <td>2004</td>\n",
              "      <td>0.681</td>\n",
              "      <td>0.876</td>\n",
              "    </tr>\n",
              "    <tr>\n",
              "      <th>2</th>\n",
              "      <td>1</td>\n",
              "      <td>1</td>\n",
              "      <td>0</td>\n",
              "      <td>75</td>\n",
              "      <td>12</td>\n",
              "      <td>2.0</td>\n",
              "      <td>23.0</td>\n",
              "      <td>0.5</td>\n",
              "      <td>1678</td>\n",
              "      <td>0.736</td>\n",
              "      <td>1.046</td>\n",
              "    </tr>\n",
              "    <tr>\n",
              "      <th>3</th>\n",
              "      <td>1</td>\n",
              "      <td>2</td>\n",
              "      <td>560</td>\n",
              "      <td>76</td>\n",
              "      <td>12</td>\n",
              "      <td>2.0</td>\n",
              "      <td>28.0</td>\n",
              "      <td>0.5</td>\n",
              "      <td>1738</td>\n",
              "      <td>0.713</td>\n",
              "      <td>1.010</td>\n",
              "    </tr>\n",
              "    <tr>\n",
              "      <th>4</th>\n",
              "      <td>1</td>\n",
              "      <td>3</td>\n",
              "      <td>1895</td>\n",
              "      <td>80</td>\n",
              "      <td>12</td>\n",
              "      <td>2.0</td>\n",
              "      <td>22.0</td>\n",
              "      <td>0.5</td>\n",
              "      <td>1698</td>\n",
              "      <td>0.701</td>\n",
              "      <td>1.034</td>\n",
              "    </tr>\n",
              "    <tr>\n",
              "      <th>...</th>\n",
              "      <td>...</td>\n",
              "      <td>...</td>\n",
              "      <td>...</td>\n",
              "      <td>...</td>\n",
              "      <td>...</td>\n",
              "      <td>...</td>\n",
              "      <td>...</td>\n",
              "      <td>...</td>\n",
              "      <td>...</td>\n",
              "      <td>...</td>\n",
              "      <td>...</td>\n",
              "    </tr>\n",
              "    <tr>\n",
              "      <th>368</th>\n",
              "      <td>1</td>\n",
              "      <td>2</td>\n",
              "      <td>842</td>\n",
              "      <td>82</td>\n",
              "      <td>16</td>\n",
              "      <td>1.0</td>\n",
              "      <td>28.0</td>\n",
              "      <td>0.5</td>\n",
              "      <td>1693</td>\n",
              "      <td>0.694</td>\n",
              "      <td>1.037</td>\n",
              "    </tr>\n",
              "    <tr>\n",
              "      <th>369</th>\n",
              "      <td>1</td>\n",
              "      <td>3</td>\n",
              "      <td>2297</td>\n",
              "      <td>86</td>\n",
              "      <td>16</td>\n",
              "      <td>1.0</td>\n",
              "      <td>26.0</td>\n",
              "      <td>0.5</td>\n",
              "      <td>1688</td>\n",
              "      <td>0.675</td>\n",
              "      <td>1.040</td>\n",
              "    </tr>\n",
              "    <tr>\n",
              "      <th>370</th>\n",
              "      <td>2</td>\n",
              "      <td>1</td>\n",
              "      <td>0</td>\n",
              "      <td>61</td>\n",
              "      <td>13</td>\n",
              "      <td>2.0</td>\n",
              "      <td>30.0</td>\n",
              "      <td>0.0</td>\n",
              "      <td>1319</td>\n",
              "      <td>0.801</td>\n",
              "      <td>1.331</td>\n",
              "    </tr>\n",
              "    <tr>\n",
              "      <th>371</th>\n",
              "      <td>2</td>\n",
              "      <td>2</td>\n",
              "      <td>763</td>\n",
              "      <td>63</td>\n",
              "      <td>13</td>\n",
              "      <td>2.0</td>\n",
              "      <td>30.0</td>\n",
              "      <td>0.0</td>\n",
              "      <td>1327</td>\n",
              "      <td>0.796</td>\n",
              "      <td>1.323</td>\n",
              "    </tr>\n",
              "    <tr>\n",
              "      <th>372</th>\n",
              "      <td>2</td>\n",
              "      <td>3</td>\n",
              "      <td>1608</td>\n",
              "      <td>65</td>\n",
              "      <td>13</td>\n",
              "      <td>2.0</td>\n",
              "      <td>30.0</td>\n",
              "      <td>0.0</td>\n",
              "      <td>1333</td>\n",
              "      <td>0.801</td>\n",
              "      <td>1.317</td>\n",
              "    </tr>\n",
              "  </tbody>\n",
              "</table>\n",
              "<p>373 rows × 11 columns</p>\n",
              "</div>"
            ],
            "text/plain": [
              "     Group  Visit  MR Delay  Age  EDUC  SES  MMSE  CDR  eTIV   nWBV    ASF\n",
              "0        2      1         0   87    14  2.0  27.0  0.0  1987  0.696  0.883\n",
              "1        2      2       457   88    14  2.0  30.0  0.0  2004  0.681  0.876\n",
              "2        1      1         0   75    12  2.0  23.0  0.5  1678  0.736  1.046\n",
              "3        1      2       560   76    12  2.0  28.0  0.5  1738  0.713  1.010\n",
              "4        1      3      1895   80    12  2.0  22.0  0.5  1698  0.701  1.034\n",
              "..     ...    ...       ...  ...   ...  ...   ...  ...   ...    ...    ...\n",
              "368      1      2       842   82    16  1.0  28.0  0.5  1693  0.694  1.037\n",
              "369      1      3      2297   86    16  1.0  26.0  0.5  1688  0.675  1.040\n",
              "370      2      1         0   61    13  2.0  30.0  0.0  1319  0.801  1.331\n",
              "371      2      2       763   63    13  2.0  30.0  0.0  1327  0.796  1.323\n",
              "372      2      3      1608   65    13  2.0  30.0  0.0  1333  0.801  1.317\n",
              "\n",
              "[373 rows x 11 columns]"
            ]
          },
          "metadata": {},
          "execution_count": 20
        }
      ]
    },
    {
      "cell_type": "markdown",
      "metadata": {
        "id": "hundred-geometry"
      },
      "source": [
        "#### Handle the null values by removing or replacing"
      ],
      "id": "hundred-geometry"
    },
    {
      "cell_type": "code",
      "metadata": {
        "id": "geographic-celebration",
        "colab": {
          "base_uri": "https://localhost:8080/"
        },
        "outputId": "24711f26-6b30-4cba-f91d-663c995c581d"
      },
      "source": [
        "# YOUR CODE HERE\n",
        "df.columns[df.isnull().any()]"
      ],
      "id": "geographic-celebration",
      "execution_count": null,
      "outputs": [
        {
          "output_type": "execute_result",
          "data": {
            "text/plain": [
              "Index(['MMSE'], dtype='object')"
            ]
          },
          "metadata": {},
          "execution_count": 21
        }
      ]
    },
    {
      "cell_type": "code",
      "metadata": {
        "id": "rFgC6VbXfixU"
      },
      "source": [
        "null_record_count = df['MMSE'].isnull().sum()"
      ],
      "id": "rFgC6VbXfixU",
      "execution_count": null,
      "outputs": []
    },
    {
      "cell_type": "code",
      "metadata": {
        "colab": {
          "base_uri": "https://localhost:8080/"
        },
        "id": "vxmRhaude3TW",
        "outputId": "25817722-f212-4307-a96b-803fa6a02c99"
      },
      "source": [
        "print(f'Within the dataset of size = {df.shape[0]}, only {null_record_count} records have MMSE as null. Dropping those records')"
      ],
      "id": "vxmRhaude3TW",
      "execution_count": null,
      "outputs": [
        {
          "output_type": "stream",
          "name": "stdout",
          "text": [
            "Within the dataset of size = 373, only 2 records have MMSE as null. Dropping those records\n"
          ]
        }
      ]
    },
    {
      "cell_type": "code",
      "metadata": {
        "id": "mR2OHFV4gHHx"
      },
      "source": [
        "final_df = df.dropna()"
      ],
      "id": "mR2OHFV4gHHx",
      "execution_count": null,
      "outputs": []
    },
    {
      "cell_type": "code",
      "metadata": {
        "colab": {
          "base_uri": "https://localhost:8080/",
          "height": 419
        },
        "id": "8DhM6QXYgP1G",
        "outputId": "dc562ac8-0908-440a-f7a9-59105a589c7f"
      },
      "source": [
        "final_df"
      ],
      "id": "8DhM6QXYgP1G",
      "execution_count": null,
      "outputs": [
        {
          "output_type": "execute_result",
          "data": {
            "text/html": [
              "<div>\n",
              "<style scoped>\n",
              "    .dataframe tbody tr th:only-of-type {\n",
              "        vertical-align: middle;\n",
              "    }\n",
              "\n",
              "    .dataframe tbody tr th {\n",
              "        vertical-align: top;\n",
              "    }\n",
              "\n",
              "    .dataframe thead th {\n",
              "        text-align: right;\n",
              "    }\n",
              "</style>\n",
              "<table border=\"1\" class=\"dataframe\">\n",
              "  <thead>\n",
              "    <tr style=\"text-align: right;\">\n",
              "      <th></th>\n",
              "      <th>Group</th>\n",
              "      <th>Visit</th>\n",
              "      <th>MR Delay</th>\n",
              "      <th>Age</th>\n",
              "      <th>EDUC</th>\n",
              "      <th>SES</th>\n",
              "      <th>MMSE</th>\n",
              "      <th>CDR</th>\n",
              "      <th>eTIV</th>\n",
              "      <th>nWBV</th>\n",
              "      <th>ASF</th>\n",
              "    </tr>\n",
              "  </thead>\n",
              "  <tbody>\n",
              "    <tr>\n",
              "      <th>0</th>\n",
              "      <td>2</td>\n",
              "      <td>1</td>\n",
              "      <td>0</td>\n",
              "      <td>87</td>\n",
              "      <td>14</td>\n",
              "      <td>2.0</td>\n",
              "      <td>27.0</td>\n",
              "      <td>0.0</td>\n",
              "      <td>1987</td>\n",
              "      <td>0.696</td>\n",
              "      <td>0.883</td>\n",
              "    </tr>\n",
              "    <tr>\n",
              "      <th>1</th>\n",
              "      <td>2</td>\n",
              "      <td>2</td>\n",
              "      <td>457</td>\n",
              "      <td>88</td>\n",
              "      <td>14</td>\n",
              "      <td>2.0</td>\n",
              "      <td>30.0</td>\n",
              "      <td>0.0</td>\n",
              "      <td>2004</td>\n",
              "      <td>0.681</td>\n",
              "      <td>0.876</td>\n",
              "    </tr>\n",
              "    <tr>\n",
              "      <th>2</th>\n",
              "      <td>1</td>\n",
              "      <td>1</td>\n",
              "      <td>0</td>\n",
              "      <td>75</td>\n",
              "      <td>12</td>\n",
              "      <td>2.0</td>\n",
              "      <td>23.0</td>\n",
              "      <td>0.5</td>\n",
              "      <td>1678</td>\n",
              "      <td>0.736</td>\n",
              "      <td>1.046</td>\n",
              "    </tr>\n",
              "    <tr>\n",
              "      <th>3</th>\n",
              "      <td>1</td>\n",
              "      <td>2</td>\n",
              "      <td>560</td>\n",
              "      <td>76</td>\n",
              "      <td>12</td>\n",
              "      <td>2.0</td>\n",
              "      <td>28.0</td>\n",
              "      <td>0.5</td>\n",
              "      <td>1738</td>\n",
              "      <td>0.713</td>\n",
              "      <td>1.010</td>\n",
              "    </tr>\n",
              "    <tr>\n",
              "      <th>4</th>\n",
              "      <td>1</td>\n",
              "      <td>3</td>\n",
              "      <td>1895</td>\n",
              "      <td>80</td>\n",
              "      <td>12</td>\n",
              "      <td>2.0</td>\n",
              "      <td>22.0</td>\n",
              "      <td>0.5</td>\n",
              "      <td>1698</td>\n",
              "      <td>0.701</td>\n",
              "      <td>1.034</td>\n",
              "    </tr>\n",
              "    <tr>\n",
              "      <th>...</th>\n",
              "      <td>...</td>\n",
              "      <td>...</td>\n",
              "      <td>...</td>\n",
              "      <td>...</td>\n",
              "      <td>...</td>\n",
              "      <td>...</td>\n",
              "      <td>...</td>\n",
              "      <td>...</td>\n",
              "      <td>...</td>\n",
              "      <td>...</td>\n",
              "      <td>...</td>\n",
              "    </tr>\n",
              "    <tr>\n",
              "      <th>368</th>\n",
              "      <td>1</td>\n",
              "      <td>2</td>\n",
              "      <td>842</td>\n",
              "      <td>82</td>\n",
              "      <td>16</td>\n",
              "      <td>1.0</td>\n",
              "      <td>28.0</td>\n",
              "      <td>0.5</td>\n",
              "      <td>1693</td>\n",
              "      <td>0.694</td>\n",
              "      <td>1.037</td>\n",
              "    </tr>\n",
              "    <tr>\n",
              "      <th>369</th>\n",
              "      <td>1</td>\n",
              "      <td>3</td>\n",
              "      <td>2297</td>\n",
              "      <td>86</td>\n",
              "      <td>16</td>\n",
              "      <td>1.0</td>\n",
              "      <td>26.0</td>\n",
              "      <td>0.5</td>\n",
              "      <td>1688</td>\n",
              "      <td>0.675</td>\n",
              "      <td>1.040</td>\n",
              "    </tr>\n",
              "    <tr>\n",
              "      <th>370</th>\n",
              "      <td>2</td>\n",
              "      <td>1</td>\n",
              "      <td>0</td>\n",
              "      <td>61</td>\n",
              "      <td>13</td>\n",
              "      <td>2.0</td>\n",
              "      <td>30.0</td>\n",
              "      <td>0.0</td>\n",
              "      <td>1319</td>\n",
              "      <td>0.801</td>\n",
              "      <td>1.331</td>\n",
              "    </tr>\n",
              "    <tr>\n",
              "      <th>371</th>\n",
              "      <td>2</td>\n",
              "      <td>2</td>\n",
              "      <td>763</td>\n",
              "      <td>63</td>\n",
              "      <td>13</td>\n",
              "      <td>2.0</td>\n",
              "      <td>30.0</td>\n",
              "      <td>0.0</td>\n",
              "      <td>1327</td>\n",
              "      <td>0.796</td>\n",
              "      <td>1.323</td>\n",
              "    </tr>\n",
              "    <tr>\n",
              "      <th>372</th>\n",
              "      <td>2</td>\n",
              "      <td>3</td>\n",
              "      <td>1608</td>\n",
              "      <td>65</td>\n",
              "      <td>13</td>\n",
              "      <td>2.0</td>\n",
              "      <td>30.0</td>\n",
              "      <td>0.0</td>\n",
              "      <td>1333</td>\n",
              "      <td>0.801</td>\n",
              "      <td>1.317</td>\n",
              "    </tr>\n",
              "  </tbody>\n",
              "</table>\n",
              "<p>371 rows × 11 columns</p>\n",
              "</div>"
            ],
            "text/plain": [
              "     Group  Visit  MR Delay  Age  EDUC  SES  MMSE  CDR  eTIV   nWBV    ASF\n",
              "0        2      1         0   87    14  2.0  27.0  0.0  1987  0.696  0.883\n",
              "1        2      2       457   88    14  2.0  30.0  0.0  2004  0.681  0.876\n",
              "2        1      1         0   75    12  2.0  23.0  0.5  1678  0.736  1.046\n",
              "3        1      2       560   76    12  2.0  28.0  0.5  1738  0.713  1.010\n",
              "4        1      3      1895   80    12  2.0  22.0  0.5  1698  0.701  1.034\n",
              "..     ...    ...       ...  ...   ...  ...   ...  ...   ...    ...    ...\n",
              "368      1      2       842   82    16  1.0  28.0  0.5  1693  0.694  1.037\n",
              "369      1      3      2297   86    16  1.0  26.0  0.5  1688  0.675  1.040\n",
              "370      2      1         0   61    13  2.0  30.0  0.0  1319  0.801  1.331\n",
              "371      2      2       763   63    13  2.0  30.0  0.0  1327  0.796  1.323\n",
              "372      2      3      1608   65    13  2.0  30.0  0.0  1333  0.801  1.317\n",
              "\n",
              "[371 rows x 11 columns]"
            ]
          },
          "metadata": {},
          "execution_count": 25
        }
      ]
    },
    {
      "cell_type": "code",
      "metadata": {
        "colab": {
          "base_uri": "https://localhost:8080/"
        },
        "id": "1bCE0qA7g1Zj",
        "outputId": "856068a8-315b-44ed-8588-7c1717019183"
      },
      "source": [
        "final_df.shape"
      ],
      "id": "1bCE0qA7g1Zj",
      "execution_count": null,
      "outputs": [
        {
          "output_type": "execute_result",
          "data": {
            "text/plain": [
              "(371, 11)"
            ]
          },
          "metadata": {},
          "execution_count": 26
        }
      ]
    },
    {
      "cell_type": "markdown",
      "metadata": {
        "id": "intelligent-worse"
      },
      "source": [
        "#### Identify feature and target and split it into train test"
      ],
      "id": "intelligent-worse"
    },
    {
      "cell_type": "code",
      "metadata": {
        "id": "artificial-declaration"
      },
      "source": [
        "# YOUR CODE HERE\n",
        "X = final_df.iloc[:, 1:]\n",
        "y = final_df.iloc[:, 0]"
      ],
      "id": "artificial-declaration",
      "execution_count": null,
      "outputs": []
    },
    {
      "cell_type": "code",
      "metadata": {
        "colab": {
          "base_uri": "https://localhost:8080/",
          "height": 204
        },
        "id": "WRZ4e3Rfg92q",
        "outputId": "1986c750-6dc6-40ad-9100-73dd88b85160"
      },
      "source": [
        "X.head()"
      ],
      "id": "WRZ4e3Rfg92q",
      "execution_count": null,
      "outputs": [
        {
          "output_type": "execute_result",
          "data": {
            "text/html": [
              "<div>\n",
              "<style scoped>\n",
              "    .dataframe tbody tr th:only-of-type {\n",
              "        vertical-align: middle;\n",
              "    }\n",
              "\n",
              "    .dataframe tbody tr th {\n",
              "        vertical-align: top;\n",
              "    }\n",
              "\n",
              "    .dataframe thead th {\n",
              "        text-align: right;\n",
              "    }\n",
              "</style>\n",
              "<table border=\"1\" class=\"dataframe\">\n",
              "  <thead>\n",
              "    <tr style=\"text-align: right;\">\n",
              "      <th></th>\n",
              "      <th>Visit</th>\n",
              "      <th>MR Delay</th>\n",
              "      <th>Age</th>\n",
              "      <th>EDUC</th>\n",
              "      <th>SES</th>\n",
              "      <th>MMSE</th>\n",
              "      <th>CDR</th>\n",
              "      <th>eTIV</th>\n",
              "      <th>nWBV</th>\n",
              "      <th>ASF</th>\n",
              "    </tr>\n",
              "  </thead>\n",
              "  <tbody>\n",
              "    <tr>\n",
              "      <th>0</th>\n",
              "      <td>1</td>\n",
              "      <td>0</td>\n",
              "      <td>87</td>\n",
              "      <td>14</td>\n",
              "      <td>2.0</td>\n",
              "      <td>27.0</td>\n",
              "      <td>0.0</td>\n",
              "      <td>1987</td>\n",
              "      <td>0.696</td>\n",
              "      <td>0.883</td>\n",
              "    </tr>\n",
              "    <tr>\n",
              "      <th>1</th>\n",
              "      <td>2</td>\n",
              "      <td>457</td>\n",
              "      <td>88</td>\n",
              "      <td>14</td>\n",
              "      <td>2.0</td>\n",
              "      <td>30.0</td>\n",
              "      <td>0.0</td>\n",
              "      <td>2004</td>\n",
              "      <td>0.681</td>\n",
              "      <td>0.876</td>\n",
              "    </tr>\n",
              "    <tr>\n",
              "      <th>2</th>\n",
              "      <td>1</td>\n",
              "      <td>0</td>\n",
              "      <td>75</td>\n",
              "      <td>12</td>\n",
              "      <td>2.0</td>\n",
              "      <td>23.0</td>\n",
              "      <td>0.5</td>\n",
              "      <td>1678</td>\n",
              "      <td>0.736</td>\n",
              "      <td>1.046</td>\n",
              "    </tr>\n",
              "    <tr>\n",
              "      <th>3</th>\n",
              "      <td>2</td>\n",
              "      <td>560</td>\n",
              "      <td>76</td>\n",
              "      <td>12</td>\n",
              "      <td>2.0</td>\n",
              "      <td>28.0</td>\n",
              "      <td>0.5</td>\n",
              "      <td>1738</td>\n",
              "      <td>0.713</td>\n",
              "      <td>1.010</td>\n",
              "    </tr>\n",
              "    <tr>\n",
              "      <th>4</th>\n",
              "      <td>3</td>\n",
              "      <td>1895</td>\n",
              "      <td>80</td>\n",
              "      <td>12</td>\n",
              "      <td>2.0</td>\n",
              "      <td>22.0</td>\n",
              "      <td>0.5</td>\n",
              "      <td>1698</td>\n",
              "      <td>0.701</td>\n",
              "      <td>1.034</td>\n",
              "    </tr>\n",
              "  </tbody>\n",
              "</table>\n",
              "</div>"
            ],
            "text/plain": [
              "   Visit  MR Delay  Age  EDUC  SES  MMSE  CDR  eTIV   nWBV    ASF\n",
              "0      1         0   87    14  2.0  27.0  0.0  1987  0.696  0.883\n",
              "1      2       457   88    14  2.0  30.0  0.0  2004  0.681  0.876\n",
              "2      1         0   75    12  2.0  23.0  0.5  1678  0.736  1.046\n",
              "3      2       560   76    12  2.0  28.0  0.5  1738  0.713  1.010\n",
              "4      3      1895   80    12  2.0  22.0  0.5  1698  0.701  1.034"
            ]
          },
          "metadata": {},
          "execution_count": 28
        }
      ]
    },
    {
      "cell_type": "code",
      "metadata": {
        "id": "w_8ckpcr7Qb6"
      },
      "source": [
        "X_train, X_test, y_train, y_test = train_test_split(X, y, test_size=0.2, random_state=42)"
      ],
      "id": "w_8ckpcr7Qb6",
      "execution_count": null,
      "outputs": []
    },
    {
      "cell_type": "markdown",
      "metadata": {
        "id": "4UeDQCt47vlf"
      },
      "source": [
        "Scaling the data"
      ],
      "id": "4UeDQCt47vlf"
    },
    {
      "cell_type": "markdown",
      "metadata": {
        "id": "hispanic-reply"
      },
      "source": [
        "### EDA &  Visualization (1 point)"
      ],
      "id": "hispanic-reply"
    },
    {
      "cell_type": "markdown",
      "metadata": {
        "id": "coordinate-domain"
      },
      "source": [
        "#### Plot the distribution of all the variables using a histogram"
      ],
      "id": "coordinate-domain"
    },
    {
      "cell_type": "code",
      "metadata": {
        "colab": {
          "base_uri": "https://localhost:8080/"
        },
        "id": "jvgQXQJAhT8D",
        "outputId": "56624ce9-6d27-4571-95bb-b7ed5a17e807"
      },
      "source": [
        "final_df.dtypes"
      ],
      "id": "jvgQXQJAhT8D",
      "execution_count": null,
      "outputs": [
        {
          "output_type": "execute_result",
          "data": {
            "text/plain": [
              "Group         int64\n",
              "Visit         int64\n",
              "MR Delay      int64\n",
              "Age           int64\n",
              "EDUC          int64\n",
              "SES         float64\n",
              "MMSE        float64\n",
              "CDR         float64\n",
              "eTIV          int64\n",
              "nWBV        float64\n",
              "ASF         float64\n",
              "dtype: object"
            ]
          },
          "metadata": {},
          "execution_count": 30
        }
      ]
    },
    {
      "cell_type": "code",
      "metadata": {
        "id": "normal-artist",
        "colab": {
          "base_uri": "https://localhost:8080/",
          "height": 1000
        },
        "outputId": "334d6f0c-ce90-42a5-8d20-ad07fa16ed4e"
      },
      "source": [
        "# YOUR CODE HERE\n",
        "final_df.hist(figsize=(16, 20), bins=50, xlabelsize=8, ylabelsize=8)"
      ],
      "id": "normal-artist",
      "execution_count": null,
      "outputs": [
        {
          "output_type": "execute_result",
          "data": {
            "text/plain": [
              "array([[<matplotlib.axes._subplots.AxesSubplot object at 0x7f4fdee1e850>,\n",
              "        <matplotlib.axes._subplots.AxesSubplot object at 0x7f4fdedebdd0>,\n",
              "        <matplotlib.axes._subplots.AxesSubplot object at 0x7f4fdedb0490>],\n",
              "       [<matplotlib.axes._subplots.AxesSubplot object at 0x7f4fded64b10>,\n",
              "        <matplotlib.axes._subplots.AxesSubplot object at 0x7f4fded261d0>,\n",
              "        <matplotlib.axes._subplots.AxesSubplot object at 0x7f4fdecdc810>],\n",
              "       [<matplotlib.axes._subplots.AxesSubplot object at 0x7f4fdec90f50>,\n",
              "        <matplotlib.axes._subplots.AxesSubplot object at 0x7f4fdec53550>,\n",
              "        <matplotlib.axes._subplots.AxesSubplot object at 0x7f4fdec53590>],\n",
              "       [<matplotlib.axes._subplots.AxesSubplot object at 0x7f4fdec88d10>,\n",
              "        <matplotlib.axes._subplots.AxesSubplot object at 0x7f4fdebfe950>,\n",
              "        <matplotlib.axes._subplots.AxesSubplot object at 0x7f4fdebaaad0>]],\n",
              "      dtype=object)"
            ]
          },
          "metadata": {},
          "execution_count": 31
        },
        {
          "output_type": "display_data",
          "data": {
            "image/png": "[encoded data removed]",
            "text/plain": [
              "<Figure size 1152x1440 with 12 Axes>"
            ]
          },
          "metadata": {
            "needs_background": "light"
          }
        }
      ]
    },
    {
      "cell_type": "markdown",
      "metadata": {
        "id": "minimal-latest"
      },
      "source": [
        "#### Visualize the frequency of Age"
      ],
      "id": "minimal-latest"
    },
    {
      "cell_type": "code",
      "metadata": {
        "id": "fabulous-appointment",
        "colab": {
          "base_uri": "https://localhost:8080/",
          "height": 625
        },
        "outputId": "85409ac3-05c1-4100-e365-b4b0e7222895"
      },
      "source": [
        "# YOUR CODE HERE\n",
        "plt.rcParams.update({'figure.figsize':(7,5), 'figure.dpi':100})\n",
        "plt.hist(final_df['Age'], bins=50)"
      ],
      "id": "fabulous-appointment",
      "execution_count": null,
      "outputs": [
        {
          "output_type": "execute_result",
          "data": {
            "text/plain": [
              "(array([ 2.,  4.,  4.,  3.,  0.,  3.,  6., 10.,  0.,  6., 14., 13.,  0.,\n",
              "        12., 18., 11.,  0., 26., 12., 21.,  0., 16., 15., 21.,  0., 11.,\n",
              "        20., 18., 17.,  0., 12., 13.,  9.,  0., 10.,  6., 10.,  0.,  7.,\n",
              "         5.,  4.,  0.,  4.,  3.,  1.,  0.,  1.,  1.,  1.,  1.]),\n",
              " array([60.  , 60.76, 61.52, 62.28, 63.04, 63.8 , 64.56, 65.32, 66.08,\n",
              "        66.84, 67.6 , 68.36, 69.12, 69.88, 70.64, 71.4 , 72.16, 72.92,\n",
              "        73.68, 74.44, 75.2 , 75.96, 76.72, 77.48, 78.24, 79.  , 79.76,\n",
              "        80.52, 81.28, 82.04, 82.8 , 83.56, 84.32, 85.08, 85.84, 86.6 ,\n",
              "        87.36, 88.12, 88.88, 89.64, 90.4 , 91.16, 91.92, 92.68, 93.44,\n",
              "        94.2 , 94.96, 95.72, 96.48, 97.24, 98.  ]),\n",
              " <a list of 50 Patch objects>)"
            ]
          },
          "metadata": {},
          "execution_count": 32
        },
        {
          "output_type": "display_data",
          "data": {
            "image/png": "[encoded data removed]",
            "text/plain": [
              "<Figure size 700x500 with 1 Axes>"
            ]
          },
          "metadata": {
            "needs_background": "light"
          }
        }
      ]
    },
    {
      "cell_type": "markdown",
      "metadata": {
        "id": "weighted-guyana"
      },
      "source": [
        "#### How many people have Alzheimer? Visualize with an appropriate plot\n",
        "\n",
        "the same person visits two or more times; extract the single visit data and plot\n",
        "\n",
        "**Hint**: Visit = 1"
      ],
      "id": "weighted-guyana"
    },
    {
      "cell_type": "code",
      "metadata": {
        "colab": {
          "base_uri": "https://localhost:8080/"
        },
        "id": "PRIxR9x3mRb0",
        "outputId": "38c5f219-335f-4854-b818-9895a46475ee"
      },
      "source": [
        "visit_1_df = final_df[final_df['Visit'] == 1]\n",
        "visit_1_df.shape"
      ],
      "id": "PRIxR9x3mRb0",
      "execution_count": null,
      "outputs": [
        {
          "output_type": "execute_result",
          "data": {
            "text/plain": [
              "(150, 11)"
            ]
          },
          "metadata": {},
          "execution_count": 33
        }
      ]
    },
    {
      "cell_type": "code",
      "metadata": {
        "id": "unusual-burst",
        "colab": {
          "base_uri": "https://localhost:8080/",
          "height": 458
        },
        "outputId": "634ba72b-e061-4517-c513-c361c0a23053"
      },
      "source": [
        "# YOUR CODE HERE\n",
        "plt.subplots(figsize=(6, 4))\n",
        "sns.countplot('Group',data=visit_1_df)\n",
        "plt.xlabel(\"Group\")\n",
        "plt.ylabel(\"Number of Patients\")\n",
        "plt.title(\"Patients who were detected with Alzheimer's in their first visit\")\n",
        "plt.show()"
      ],
      "id": "unusual-burst",
      "execution_count": null,
      "outputs": [
        {
          "output_type": "stream",
          "name": "stderr",
          "text": [
            "/usr/local/lib/python3.7/dist-packages/seaborn/_decorators.py:43: FutureWarning: Pass the following variable as a keyword arg: x. From version 0.12, the only valid positional argument will be `data`, and passing other arguments without an explicit keyword will result in an error or misinterpretation.\n",
            "  FutureWarning\n"
          ]
        },
        {
          "output_type": "display_data",
          "data": {
            "image/png": "[encoded data removed]",
            "text/plain": [
              "<Figure size 600x400 with 1 Axes>"
            ]
          },
          "metadata": {
            "needs_background": "light"
          }
        }
      ]
    },
    {
      "cell_type": "code",
      "metadata": {
        "colab": {
          "base_uri": "https://localhost:8080/"
        },
        "id": "wRwm7RWgrDbR",
        "outputId": "50c63bdb-0f37-4363-abfe-4b934038a0d5"
      },
      "source": [
        "get_dementia_status_by_visit(visit_id=1)"
      ],
      "id": "wRwm7RWgrDbR",
      "execution_count": null,
      "outputs": [
        {
          "output_type": "execute_result",
          "data": {
            "text/plain": [
              "Nondemented    72\n",
              "Demented       64\n",
              "Converted      14\n",
              "Name: Group, dtype: int64"
            ]
          },
          "metadata": {},
          "execution_count": 35
        }
      ]
    },
    {
      "cell_type": "markdown",
      "metadata": {
        "id": "welcome-arbitration"
      },
      "source": [
        "#### Calculate the correlation of features and plot the heatmap"
      ],
      "id": "welcome-arbitration"
    },
    {
      "cell_type": "code",
      "metadata": {
        "id": "NPIQF8_isrBU"
      },
      "source": [
        "def Correlation(df, bar=0.9):\n",
        "  # Creates correlation matrix\n",
        "  Corr = df.corr()\n",
        "  \n",
        "  # Set Up Mask To Hide Upper Triangle\n",
        "  mask = np.triu(np.ones_like(Corr, dtype=bool))\n",
        "  tri_df = Corr.mask(mask)\n",
        "\n",
        "  # Finding features with correlation value more than specified threshold value (bar=0.9)\n",
        "  highly_cor_col = [col for col in tri_df.columns if any(tri_df[col] > bar )]\n",
        "  print(f\"Highly correlated columns - {highly_cor_col} \\n\\n\")\n",
        "  \n",
        "  #Heat map for correlation matrix of attributes\n",
        "  fig,ax=plt.subplots(figsize=(15,8))\n",
        "  sns.heatmap(Corr,mask=mask,vmax=1.00,vmin=-1.00,square=True,annot=True,ax=ax)\n",
        "  ax.set_title('Correlation matrix of attributes')\n",
        "  plt.show()\n",
        "\n",
        "  return df"
      ],
      "id": "NPIQF8_isrBU",
      "execution_count": null,
      "outputs": []
    },
    {
      "cell_type": "code",
      "metadata": {
        "id": "royal-address",
        "colab": {
          "base_uri": "https://localhost:8080/",
          "height": 738
        },
        "outputId": "d3f48692-dbf1-43df-826a-652070e12788"
      },
      "source": [
        "# YOUR CODE HERE\n",
        "final_df = Correlation(final_df)"
      ],
      "id": "royal-address",
      "execution_count": null,
      "outputs": [
        {
          "output_type": "stream",
          "name": "stdout",
          "text": [
            "Highly correlated columns - ['Visit'] \n",
            "\n",
            "\n"
          ]
        },
        {
          "output_type": "display_data",
          "data": {
            "image/png": "[encoded data removed]",
            "text/plain": [
              "<Figure size 1500x800 with 2 Axes>"
            ]
          },
          "metadata": {
            "needs_background": "light"
          }
        }
      ]
    },
    {
      "cell_type": "markdown",
      "metadata": {
        "id": "subject-pitch"
      },
      "source": [
        "### Model training and evaluation (4 points)\n",
        "\n",
        "**Hint:** SVM model from sklearn"
      ],
      "id": "subject-pitch"
    },
    {
      "cell_type": "markdown",
      "metadata": {
        "id": "DrpssA47vyI2"
      },
      "source": [
        "**Initializing this takes a long time (~ 4 mins) as probability=True. We will need it for the ROC curves. **"
      ],
      "id": "DrpssA47vyI2"
    },
    {
      "cell_type": "code",
      "metadata": {
        "id": "superb-invasion"
      },
      "source": [
        "# YOUR CODE HERE\n",
        "svc = SVC(kernel='linear', probability=True,random_state=0, C = 10) # Setting probability=True, as we need the ROC curve\n",
        "svc_clf = make_pipeline(StandardScaler(), svc)\n"
      ],
      "id": "superb-invasion",
      "execution_count": null,
      "outputs": []
    },
    {
      "cell_type": "code",
      "metadata": {
        "colab": {
          "base_uri": "https://localhost:8080/"
        },
        "id": "qYKgKS4JVe8q",
        "outputId": "b31e3f74-be97-41b9-9ab8-bea90a4938a5"
      },
      "source": [
        "svc_clf.fit(X_train, y_train)"
      ],
      "id": "qYKgKS4JVe8q",
      "execution_count": null,
      "outputs": [
        {
          "output_type": "execute_result",
          "data": {
            "text/plain": [
              "Pipeline(memory=None,\n",
              "         steps=[('standardscaler',\n",
              "                 StandardScaler(copy=True, with_mean=True, with_std=True)),\n",
              "                ('svc',\n",
              "                 SVC(C=10, break_ties=False, cache_size=200, class_weight=None,\n",
              "                     coef0=0.0, decision_function_shape='ovr', degree=3,\n",
              "                     gamma='scale', kernel='linear', max_iter=-1,\n",
              "                     probability=True, random_state=0, shrinking=True,\n",
              "                     tol=0.001, verbose=False))],\n",
              "         verbose=False)"
            ]
          },
          "metadata": {},
          "execution_count": 71
        }
      ]
    },
    {
      "cell_type": "code",
      "metadata": {
        "id": "waWhYZrWHOYv"
      },
      "source": [
        "# LinearSVC\n",
        "#clf = make_pipeline(StandardScaler(),LinearSVC(random_state=0, tol=1e-5))\n",
        "#clf.fit(X_train, y_train)"
      ],
      "id": "waWhYZrWHOYv",
      "execution_count": null,
      "outputs": []
    },
    {
      "cell_type": "code",
      "metadata": {
        "id": "JJ6FjLlu90Ym"
      },
      "source": [
        "y_pred = svc_clf.predict(X_test)"
      ],
      "id": "JJ6FjLlu90Ym",
      "execution_count": null,
      "outputs": []
    },
    {
      "cell_type": "code",
      "metadata": {
        "colab": {
          "base_uri": "https://localhost:8080/",
          "height": 204
        },
        "id": "CIcs60GVixqz",
        "outputId": "cbc137b2-add8-4dbf-e614-3974880c585e"
      },
      "source": [
        "X_train.head()"
      ],
      "id": "CIcs60GVixqz",
      "execution_count": null,
      "outputs": [
        {
          "output_type": "execute_result",
          "data": {
            "text/html": [
              "<div>\n",
              "<style scoped>\n",
              "    .dataframe tbody tr th:only-of-type {\n",
              "        vertical-align: middle;\n",
              "    }\n",
              "\n",
              "    .dataframe tbody tr th {\n",
              "        vertical-align: top;\n",
              "    }\n",
              "\n",
              "    .dataframe thead th {\n",
              "        text-align: right;\n",
              "    }\n",
              "</style>\n",
              "<table border=\"1\" class=\"dataframe\">\n",
              "  <thead>\n",
              "    <tr style=\"text-align: right;\">\n",
              "      <th></th>\n",
              "      <th>Visit</th>\n",
              "      <th>MR Delay</th>\n",
              "      <th>Age</th>\n",
              "      <th>EDUC</th>\n",
              "      <th>SES</th>\n",
              "      <th>MMSE</th>\n",
              "      <th>CDR</th>\n",
              "      <th>eTIV</th>\n",
              "      <th>nWBV</th>\n",
              "      <th>ASF</th>\n",
              "    </tr>\n",
              "  </thead>\n",
              "  <tbody>\n",
              "    <tr>\n",
              "      <th>192</th>\n",
              "      <td>1</td>\n",
              "      <td>0</td>\n",
              "      <td>75</td>\n",
              "      <td>12</td>\n",
              "      <td>4.0</td>\n",
              "      <td>28.0</td>\n",
              "      <td>0.0</td>\n",
              "      <td>1511</td>\n",
              "      <td>0.739</td>\n",
              "      <td>1.162</td>\n",
              "    </tr>\n",
              "    <tr>\n",
              "      <th>75</th>\n",
              "      <td>4</td>\n",
              "      <td>2508</td>\n",
              "      <td>89</td>\n",
              "      <td>12</td>\n",
              "      <td>4.0</td>\n",
              "      <td>26.0</td>\n",
              "      <td>0.5</td>\n",
              "      <td>1485</td>\n",
              "      <td>0.706</td>\n",
              "      <td>1.181</td>\n",
              "    </tr>\n",
              "    <tr>\n",
              "      <th>84</th>\n",
              "      <td>1</td>\n",
              "      <td>0</td>\n",
              "      <td>70</td>\n",
              "      <td>17</td>\n",
              "      <td>3.0</td>\n",
              "      <td>29.0</td>\n",
              "      <td>0.0</td>\n",
              "      <td>1640</td>\n",
              "      <td>0.766</td>\n",
              "      <td>1.070</td>\n",
              "    </tr>\n",
              "    <tr>\n",
              "      <th>361</th>\n",
              "      <td>1</td>\n",
              "      <td>0</td>\n",
              "      <td>66</td>\n",
              "      <td>13</td>\n",
              "      <td>2.0</td>\n",
              "      <td>30.0</td>\n",
              "      <td>0.0</td>\n",
              "      <td>1495</td>\n",
              "      <td>0.746</td>\n",
              "      <td>1.174</td>\n",
              "    </tr>\n",
              "    <tr>\n",
              "      <th>16</th>\n",
              "      <td>2</td>\n",
              "      <td>576</td>\n",
              "      <td>69</td>\n",
              "      <td>12</td>\n",
              "      <td>2.0</td>\n",
              "      <td>24.0</td>\n",
              "      <td>0.5</td>\n",
              "      <td>1480</td>\n",
              "      <td>0.791</td>\n",
              "      <td>1.186</td>\n",
              "    </tr>\n",
              "  </tbody>\n",
              "</table>\n",
              "</div>"
            ],
            "text/plain": [
              "     Visit  MR Delay  Age  EDUC  SES  MMSE  CDR  eTIV   nWBV    ASF\n",
              "192      1         0   75    12  4.0  28.0  0.0  1511  0.739  1.162\n",
              "75       4      2508   89    12  4.0  26.0  0.5  1485  0.706  1.181\n",
              "84       1         0   70    17  3.0  29.0  0.0  1640  0.766  1.070\n",
              "361      1         0   66    13  2.0  30.0  0.0  1495  0.746  1.174\n",
              "16       2       576   69    12  2.0  24.0  0.5  1480  0.791  1.186"
            ]
          },
          "metadata": {},
          "execution_count": 73
        }
      ]
    },
    {
      "cell_type": "code",
      "metadata": {
        "colab": {
          "base_uri": "https://localhost:8080/",
          "height": 477
        },
        "id": "ul_JJkYHjS1L",
        "outputId": "b68e4543-112b-470c-9bed-2a8bb49351d1"
      },
      "source": [
        "plt.scatter(X_train.iloc[:, 6], X_train.iloc[:, 2], c=y_train, s=50, cmap='autumn')\n",
        "plt.title('Linearly separable data - CDR (Clinical Dementia Rating) and Age')"
      ],
      "id": "ul_JJkYHjS1L",
      "execution_count": null,
      "outputs": [
        {
          "output_type": "execute_result",
          "data": {
            "text/plain": [
              "Text(0.5, 1.0, 'Linearly separable data - CDR (Clinical Dementia Rating) and Age')"
            ]
          },
          "metadata": {},
          "execution_count": 74
        },
        {
          "output_type": "display_data",
          "data": {
            "image/png": "[encoded data removed]",
            "text/plain": [
              "<Figure size 700x500 with 1 Axes>"
            ]
          },
          "metadata": {
            "needs_background": "light"
          }
        }
      ]
    },
    {
      "cell_type": "markdown",
      "metadata": {
        "id": "h0JuTsEa9cNt"
      },
      "source": [
        "TBD - Ask Jaley. \n",
        "\n",
        "1.   Is the above data linearly separable?\n",
        "2.   In the below chart, can we have so many support vectors?\n",
        "\n"
      ],
      "id": "h0JuTsEa9cNt"
    },
    {
      "cell_type": "markdown",
      "metadata": {
        "id": "biological-diagram"
      },
      "source": [
        "#### Support vectors of the model\n",
        "\n",
        "* Find the samples of the dataset which are the support vectors of the model "
      ],
      "id": "biological-diagram"
    },
    {
      "cell_type": "code",
      "metadata": {
        "id": "WQGQ8w7rhIo7",
        "colab": {
          "base_uri": "https://localhost:8080/",
          "height": 480
        },
        "outputId": "4bee954e-2a35-46fa-afd4-9a5f4fca0251"
      },
      "source": [
        "support_vectors = svc.support_vectors_\n",
        "\n",
        "# Visualize support vectors\n",
        "plt.scatter(X_train.iloc[:,6], X_train.iloc[:,2])\n",
        "plt.scatter(support_vectors[:,6], support_vectors[:,2], color='red')\n",
        "plt.title('Linearly separable data (in purple) with support vectors (in red)')\n",
        "plt.xlabel('X1')\n",
        "plt.ylabel('X2')\n",
        "plt.show()"
      ],
      "id": "WQGQ8w7rhIo7",
      "execution_count": null,
      "outputs": [
        {
          "output_type": "display_data",
          "data": {
            "image/png": "[encoded data removed]",
            "text/plain": [
              "<Figure size 700x500 with 1 Axes>"
            ]
          },
          "metadata": {
            "needs_background": "light"
          }
        }
      ]
    },
    {
      "cell_type": "code",
      "metadata": {
        "id": "strange-imagination",
        "colab": {
          "base_uri": "https://localhost:8080/"
        },
        "outputId": "31fbb600-ae89-4178-ef8e-9c89c2de5638"
      },
      "source": [
        "# YOUR CODE HERE\n",
        "svc.support_vectors_.size"
      ],
      "id": "strange-imagination",
      "execution_count": null,
      "outputs": [
        {
          "output_type": "execute_result",
          "data": {
            "text/plain": [
              "930"
            ]
          },
          "metadata": {},
          "execution_count": 76
        }
      ]
    },
    {
      "cell_type": "code",
      "metadata": {
        "colab": {
          "base_uri": "https://localhost:8080/"
        },
        "id": "Y0jXgomkbUST",
        "outputId": "a033fd90-07ea-488b-de32-f06ef6ff5b91"
      },
      "source": [
        "svc.support_vectors_.shape"
      ],
      "id": "Y0jXgomkbUST",
      "execution_count": null,
      "outputs": [
        {
          "output_type": "execute_result",
          "data": {
            "text/plain": [
              "(93, 10)"
            ]
          },
          "metadata": {},
          "execution_count": 78
        }
      ]
    },
    {
      "cell_type": "code",
      "metadata": {
        "id": "nPdL-qFCyqXO",
        "colab": {
          "base_uri": "https://localhost:8080/"
        },
        "outputId": "f5906a21-867b-415a-8d30-84f3fadbc55f"
      },
      "source": [
        "support_vector_indices = svc.support_\n",
        "print(support_vector_indices)"
      ],
      "id": "nPdL-qFCyqXO",
      "execution_count": null,
      "outputs": [
        {
          "output_type": "stream",
          "name": "stdout",
          "text": [
            "[ 12  23  35  49  57  61  66  68  70  85  99 103 105 107 109 130 142 159\n",
            " 163 223 242 243 251 267 294   1   6  18  32  39  56  77  90  93 101 135\n",
            " 138 139 166 177 180 193 200 214 218 224 227 232 241 255  14  15  27  30\n",
            "  38  41  44  46  53  59  60  73  74  75  76  78  86  88  89  94  97 116\n",
            " 119 125 129 136 149 164 168 173 174 197 198 199 201 203 207 210 211 213\n",
            " 222 226 234 238 244 249 252 258 271 280 289 293]\n"
          ]
        }
      ]
    },
    {
      "cell_type": "markdown",
      "metadata": {
        "id": "Ii5EqlWcoLJq"
      },
      "source": [
        "#### Confusion matrix for multi-class classification\n",
        "\n",
        "* Predict the test and plot the confusion matrix"
      ],
      "id": "Ii5EqlWcoLJq"
    },
    {
      "cell_type": "code",
      "metadata": {
        "id": "eytk2LyXn7h2"
      },
      "source": [
        "y_pred_svc = svc_clf.predict(X_test)"
      ],
      "id": "eytk2LyXn7h2",
      "execution_count": null,
      "outputs": []
    },
    {
      "cell_type": "code",
      "metadata": {
        "colab": {
          "base_uri": "https://localhost:8080/"
        },
        "id": "RzhZvCtd-0nN",
        "outputId": "83856e1c-03f4-4567-c2c6-6f51f1b3a41a"
      },
      "source": [
        "confusion_matrix_svc = metrics.confusion_matrix(y_test, y_pred_svc) \n",
        "confusion_matrix_svc"
      ],
      "id": "RzhZvCtd-0nN",
      "execution_count": null,
      "outputs": [
        {
          "output_type": "execute_result",
          "data": {
            "text/plain": [
              "array([[ 2,  1,  8],\n",
              "       [ 1, 31,  0],\n",
              "       [ 0,  1, 31]])"
            ]
          },
          "metadata": {},
          "execution_count": 49
        }
      ]
    },
    {
      "cell_type": "markdown",
      "metadata": {
        "id": "Vt5aGVjA0VlE"
      },
      "source": [
        "**Since most results are on the main diagonal, the classification indeed looks correct**\n",
        "\n",
        "\n",
        "*   0 - Converted\n",
        "*   1 - Demented\n",
        "*   2 - Non Demented\n",
        "\n",
        "\n",
        "\n",
        "\n",
        "---\n",
        "\n"
      ],
      "id": "Vt5aGVjA0VlE"
    },
    {
      "cell_type": "code",
      "metadata": {
        "colab": {
          "base_uri": "https://localhost:8080/",
          "height": 457
        },
        "id": "-QKRrHzN_UoD",
        "outputId": "9cbb2ebf-d5be-4425-abbd-85e145f2a329"
      },
      "source": [
        "metrics.plot_confusion_matrix(svc_clf, X_test, y_test)\n",
        "plt.show()"
      ],
      "id": "-QKRrHzN_UoD",
      "execution_count": null,
      "outputs": [
        {
          "output_type": "display_data",
          "data": {
            "image/png": "[encoded data removed]",
            "text/plain": [
              "<Figure size 700x500 with 2 Axes>"
            ]
          },
          "metadata": {
            "needs_background": "light"
          }
        }
      ]
    },
    {
      "cell_type": "code",
      "metadata": {
        "colab": {
          "base_uri": "https://localhost:8080/",
          "height": 453
        },
        "id": "fipP_gVh0FDP",
        "outputId": "26a9b8f9-a7fa-4487-ca58-5b194f8f043d"
      },
      "source": [
        "plt.matshow(confusion_matrix_svc, cmap=plt.cm.gray)\n",
        "plt.show()"
      ],
      "id": "fipP_gVh0FDP",
      "execution_count": null,
      "outputs": [
        {
          "output_type": "display_data",
          "data": {
            "image/png": "[encoded data removed]",
            "text/plain": [
              "<Figure size 500x500 with 1 Axes>"
            ]
          },
          "metadata": {
            "needs_background": "light"
          }
        }
      ]
    },
    {
      "cell_type": "markdown",
      "metadata": {
        "id": "prepared-socket"
      },
      "source": [
        "#### One VS Rest Classifier\n",
        "\n",
        "OneVsRestClassifier can also be used for multilabel classification. For each classifier, the class is fitted against all the other classes. In addition to its computational efficiency (only n_classes classifiers are needed)\n",
        "\n",
        "* Fit `OneVsRestClassifier` on the data and find the accuracy\n",
        "\n",
        "Hint: [OneVsRestClassifier](https://scikit-learn.org/stable/modules/generated/sklearn.multiclass.OneVsRestClassifier.html)"
      ],
      "id": "prepared-socket"
    },
    {
      "cell_type": "code",
      "metadata": {
        "id": "appointed-division",
        "colab": {
          "base_uri": "https://localhost:8080/"
        },
        "outputId": "d704132d-5a83-409f-b751-5bbe587cc938"
      },
      "source": [
        "clf_ovr = make_pipeline(StandardScaler(),\n",
        "                    OneVsRestClassifier(LinearSVC(random_state=0, tol=1e-5)))\n",
        "clf_ovr.fit(X_train, y_train)\n",
        "\n",
        "y_pred_clf_ovr = clf_ovr.predict(X_test)\n",
        "#print(y_pred_clf_ovr)"
      ],
      "id": "appointed-division",
      "execution_count": null,
      "outputs": [
        {
          "output_type": "stream",
          "name": "stderr",
          "text": [
            "/usr/local/lib/python3.7/dist-packages/sklearn/svm/_base.py:947: ConvergenceWarning: Liblinear failed to converge, increase the number of iterations.\n",
            "  \"the number of iterations.\", ConvergenceWarning)\n"
          ]
        }
      ]
    },
    {
      "cell_type": "code",
      "metadata": {
        "colab": {
          "base_uri": "https://localhost:8080/"
        },
        "id": "3Y8Fy6BFWaSE",
        "outputId": "4219be79-e624-4b69-d09a-b601d984c962"
      },
      "source": [
        "a_score_ovr = accuracy_score(y_test, y_pred_clf_ovr)\n",
        "print(f\"Accuracy score with OneVsRestClassifier : {a_score_ovr}\")"
      ],
      "id": "3Y8Fy6BFWaSE",
      "execution_count": null,
      "outputs": [
        {
          "output_type": "stream",
          "name": "stdout",
          "text": [
            "Accuracy score with OneVsRestClassifier : 0.8533333333333334\n"
          ]
        }
      ]
    },
    {
      "cell_type": "markdown",
      "metadata": {
        "id": "indoor-teddy"
      },
      "source": [
        "#### One VS One Classifier\n",
        "\n",
        "This strategy consists of fitting one classifier per class pair. At prediction time, the class which received the most votes is selected.\n",
        "\n",
        "* Fit `OneVsOneClassifier` on the data and find the accuracy\n",
        "\n",
        "Hint: [OneVsOneClassifier](https://scikit-learn.org/stable/modules/generated/sklearn.multiclass.OneVsOneClassifier.html)"
      ],
      "id": "indoor-teddy"
    },
    {
      "cell_type": "code",
      "metadata": {
        "id": "powered-combination"
      },
      "source": [
        "clf_ovo = make_pipeline(StandardScaler(),\n",
        "                    OneVsOneClassifier(LinearSVC(random_state=0, tol=1e-5)))\n",
        "clf_ovo.fit(X_train, y_train)\n",
        "\n",
        "y_pred_clf_ovo = clf_ovr.predict(X_test)"
      ],
      "id": "powered-combination",
      "execution_count": null,
      "outputs": []
    },
    {
      "cell_type": "code",
      "metadata": {
        "colab": {
          "base_uri": "https://localhost:8080/"
        },
        "id": "kD64DpctXGv5",
        "outputId": "c55e843a-5597-429a-81c3-ce6e80865ba6"
      },
      "source": [
        "a_score_ovo = accuracy_score(y_test, y_pred_clf_ovo)\n",
        "print(f\"Accuracy score with OneVsOneClassifier : {a_score_ovo}\")"
      ],
      "id": "kD64DpctXGv5",
      "execution_count": null,
      "outputs": [
        {
          "output_type": "stream",
          "name": "stdout",
          "text": [
            "Accuracy score with OneVsOneClassifier : 0.8533333333333334\n"
          ]
        }
      ]
    },
    {
      "cell_type": "markdown",
      "metadata": {
        "id": "supposed-entrance"
      },
      "source": [
        "#### Make it binary classification\n",
        "\n",
        "As stated in the dataset description, 14 subjects were characterized as nondemented at the time of their initial visit and were subsequently characterized as demented at a later visit. Change `Converted` label into `Demented`.\n",
        "\n",
        "**Note:** In two-class classification, encode the labels into numerical to plot the roc_curve with predictions."
      ],
      "id": "supposed-entrance"
    },
    {
      "cell_type": "code",
      "metadata": {
        "id": "married-cabinet",
        "colab": {
          "base_uri": "https://localhost:8080/"
        },
        "outputId": "e3291fc5-1718-499c-a4a0-6a5959b7ddc7"
      },
      "source": [
        "df['Group'].unique()"
      ],
      "id": "married-cabinet",
      "execution_count": null,
      "outputs": [
        {
          "output_type": "execute_result",
          "data": {
            "text/plain": [
              "array(['Nondemented', 'Demented', 'Converted'], dtype=object)"
            ]
          },
          "metadata": {},
          "execution_count": 64
        }
      ]
    },
    {
      "cell_type": "code",
      "metadata": {
        "colab": {
          "base_uri": "https://localhost:8080/",
          "height": 204
        },
        "id": "XrlUjIJCZaGI",
        "outputId": "07e33656-bbcf-4af3-b62e-a10ba937d3ac"
      },
      "source": [
        "df.head()"
      ],
      "id": "XrlUjIJCZaGI",
      "execution_count": null,
      "outputs": [
        {
          "output_type": "execute_result",
          "data": {
            "text/html": [
              "<div>\n",
              "<style scoped>\n",
              "    .dataframe tbody tr th:only-of-type {\n",
              "        vertical-align: middle;\n",
              "    }\n",
              "\n",
              "    .dataframe tbody tr th {\n",
              "        vertical-align: top;\n",
              "    }\n",
              "\n",
              "    .dataframe thead th {\n",
              "        text-align: right;\n",
              "    }\n",
              "</style>\n",
              "<table border=\"1\" class=\"dataframe\">\n",
              "  <thead>\n",
              "    <tr style=\"text-align: right;\">\n",
              "      <th></th>\n",
              "      <th>Group</th>\n",
              "      <th>Visit</th>\n",
              "      <th>MR Delay</th>\n",
              "      <th>Age</th>\n",
              "      <th>EDUC</th>\n",
              "      <th>SES</th>\n",
              "      <th>MMSE</th>\n",
              "      <th>CDR</th>\n",
              "      <th>eTIV</th>\n",
              "      <th>nWBV</th>\n",
              "      <th>ASF</th>\n",
              "    </tr>\n",
              "  </thead>\n",
              "  <tbody>\n",
              "    <tr>\n",
              "      <th>0</th>\n",
              "      <td>Nondemented</td>\n",
              "      <td>1</td>\n",
              "      <td>0</td>\n",
              "      <td>87</td>\n",
              "      <td>14</td>\n",
              "      <td>2.0</td>\n",
              "      <td>27.0</td>\n",
              "      <td>0.0</td>\n",
              "      <td>1987</td>\n",
              "      <td>0.696</td>\n",
              "      <td>0.883</td>\n",
              "    </tr>\n",
              "    <tr>\n",
              "      <th>1</th>\n",
              "      <td>Nondemented</td>\n",
              "      <td>2</td>\n",
              "      <td>457</td>\n",
              "      <td>88</td>\n",
              "      <td>14</td>\n",
              "      <td>2.0</td>\n",
              "      <td>30.0</td>\n",
              "      <td>0.0</td>\n",
              "      <td>2004</td>\n",
              "      <td>0.681</td>\n",
              "      <td>0.876</td>\n",
              "    </tr>\n",
              "    <tr>\n",
              "      <th>2</th>\n",
              "      <td>Demented</td>\n",
              "      <td>1</td>\n",
              "      <td>0</td>\n",
              "      <td>75</td>\n",
              "      <td>12</td>\n",
              "      <td>2.0</td>\n",
              "      <td>23.0</td>\n",
              "      <td>0.5</td>\n",
              "      <td>1678</td>\n",
              "      <td>0.736</td>\n",
              "      <td>1.046</td>\n",
              "    </tr>\n",
              "    <tr>\n",
              "      <th>3</th>\n",
              "      <td>Demented</td>\n",
              "      <td>2</td>\n",
              "      <td>560</td>\n",
              "      <td>76</td>\n",
              "      <td>12</td>\n",
              "      <td>2.0</td>\n",
              "      <td>28.0</td>\n",
              "      <td>0.5</td>\n",
              "      <td>1738</td>\n",
              "      <td>0.713</td>\n",
              "      <td>1.010</td>\n",
              "    </tr>\n",
              "    <tr>\n",
              "      <th>4</th>\n",
              "      <td>Demented</td>\n",
              "      <td>3</td>\n",
              "      <td>1895</td>\n",
              "      <td>80</td>\n",
              "      <td>12</td>\n",
              "      <td>2.0</td>\n",
              "      <td>22.0</td>\n",
              "      <td>0.5</td>\n",
              "      <td>1698</td>\n",
              "      <td>0.701</td>\n",
              "      <td>1.034</td>\n",
              "    </tr>\n",
              "  </tbody>\n",
              "</table>\n",
              "</div>"
            ],
            "text/plain": [
              "         Group  Visit  MR Delay  Age  EDUC  SES  MMSE  CDR  eTIV   nWBV    ASF\n",
              "0  Nondemented      1         0   87    14  2.0  27.0  0.0  1987  0.696  0.883\n",
              "1  Nondemented      2       457   88    14  2.0  30.0  0.0  2004  0.681  0.876\n",
              "2     Demented      1         0   75    12  2.0  23.0  0.5  1678  0.736  1.046\n",
              "3     Demented      2       560   76    12  2.0  28.0  0.5  1738  0.713  1.010\n",
              "4     Demented      3      1895   80    12  2.0  22.0  0.5  1698  0.701  1.034"
            ]
          },
          "metadata": {},
          "execution_count": 69
        }
      ]
    },
    {
      "cell_type": "code",
      "metadata": {
        "id": "hg9ZjYf5Zm3-"
      },
      "source": [
        "y[]"
      ],
      "id": "hg9ZjYf5Zm3-",
      "execution_count": null,
      "outputs": []
    },
    {
      "cell_type": "code",
      "metadata": {
        "id": "iIjALudfZVSX"
      },
      "source": [
        "def converterGroupBinary(Group):\n",
        "    if Group == 0 or Group == 1:\n",
        "        return 1\n",
        "    else: \n",
        "        return 2"
      ],
      "id": "iIjALudfZVSX",
      "execution_count": null,
      "outputs": []
    },
    {
      "cell_type": "code",
      "metadata": {
        "colab": {
          "base_uri": "https://localhost:8080/"
        },
        "id": "JBedIxzcez1P",
        "outputId": "13ff10a7-7f09-4dfa-8859-cef7dc9b9848"
      },
      "source": [
        "final_df['Group'] = final_df['Group'].apply(converterGroupBinary)"
      ],
      "id": "JBedIxzcez1P",
      "execution_count": null,
      "outputs": [
        {
          "output_type": "stream",
          "name": "stderr",
          "text": [
            "/usr/local/lib/python3.7/dist-packages/ipykernel_launcher.py:1: SettingWithCopyWarning: \n",
            "A value is trying to be set on a copy of a slice from a DataFrame.\n",
            "Try using .loc[row_indexer,col_indexer] = value instead\n",
            "\n",
            "See the caveats in the documentation: https://pandas.pydata.org/pandas-docs/stable/user_guide/indexing.html#returning-a-view-versus-a-copy\n",
            "  \"\"\"Entry point for launching an IPython kernel.\n"
          ]
        }
      ]
    },
    {
      "cell_type": "code",
      "metadata": {
        "colab": {
          "base_uri": "https://localhost:8080/"
        },
        "id": "BFpF3qGCfGwN",
        "outputId": "5f3e5a71-d6e8-4b70-cf7f-c3b9fe98d0d5"
      },
      "source": [
        "final_df['Group'].unique()"
      ],
      "id": "BFpF3qGCfGwN",
      "execution_count": null,
      "outputs": [
        {
          "output_type": "execute_result",
          "data": {
            "text/plain": [
              "array([2, 1])"
            ]
          },
          "metadata": {},
          "execution_count": 89
        }
      ]
    },
    {
      "cell_type": "code",
      "metadata": {
        "colab": {
          "base_uri": "https://localhost:8080/",
          "height": 204
        },
        "id": "Y60ZYTpifQeD",
        "outputId": "f278ce62-e633-4a67-b8f4-9c0a0de8941e"
      },
      "source": [
        "final_df.head()"
      ],
      "id": "Y60ZYTpifQeD",
      "execution_count": null,
      "outputs": [
        {
          "output_type": "execute_result",
          "data": {
            "text/html": [
              "<div>\n",
              "<style scoped>\n",
              "    .dataframe tbody tr th:only-of-type {\n",
              "        vertical-align: middle;\n",
              "    }\n",
              "\n",
              "    .dataframe tbody tr th {\n",
              "        vertical-align: top;\n",
              "    }\n",
              "\n",
              "    .dataframe thead th {\n",
              "        text-align: right;\n",
              "    }\n",
              "</style>\n",
              "<table border=\"1\" class=\"dataframe\">\n",
              "  <thead>\n",
              "    <tr style=\"text-align: right;\">\n",
              "      <th></th>\n",
              "      <th>Group</th>\n",
              "      <th>Visit</th>\n",
              "      <th>MR Delay</th>\n",
              "      <th>Age</th>\n",
              "      <th>EDUC</th>\n",
              "      <th>SES</th>\n",
              "      <th>MMSE</th>\n",
              "      <th>CDR</th>\n",
              "      <th>eTIV</th>\n",
              "      <th>nWBV</th>\n",
              "      <th>ASF</th>\n",
              "    </tr>\n",
              "  </thead>\n",
              "  <tbody>\n",
              "    <tr>\n",
              "      <th>0</th>\n",
              "      <td>2</td>\n",
              "      <td>1</td>\n",
              "      <td>0</td>\n",
              "      <td>87</td>\n",
              "      <td>14</td>\n",
              "      <td>2.0</td>\n",
              "      <td>27.0</td>\n",
              "      <td>0.0</td>\n",
              "      <td>1987</td>\n",
              "      <td>0.696</td>\n",
              "      <td>0.883</td>\n",
              "    </tr>\n",
              "    <tr>\n",
              "      <th>1</th>\n",
              "      <td>2</td>\n",
              "      <td>2</td>\n",
              "      <td>457</td>\n",
              "      <td>88</td>\n",
              "      <td>14</td>\n",
              "      <td>2.0</td>\n",
              "      <td>30.0</td>\n",
              "      <td>0.0</td>\n",
              "      <td>2004</td>\n",
              "      <td>0.681</td>\n",
              "      <td>0.876</td>\n",
              "    </tr>\n",
              "    <tr>\n",
              "      <th>2</th>\n",
              "      <td>1</td>\n",
              "      <td>1</td>\n",
              "      <td>0</td>\n",
              "      <td>75</td>\n",
              "      <td>12</td>\n",
              "      <td>2.0</td>\n",
              "      <td>23.0</td>\n",
              "      <td>0.5</td>\n",
              "      <td>1678</td>\n",
              "      <td>0.736</td>\n",
              "      <td>1.046</td>\n",
              "    </tr>\n",
              "    <tr>\n",
              "      <th>3</th>\n",
              "      <td>1</td>\n",
              "      <td>2</td>\n",
              "      <td>560</td>\n",
              "      <td>76</td>\n",
              "      <td>12</td>\n",
              "      <td>2.0</td>\n",
              "      <td>28.0</td>\n",
              "      <td>0.5</td>\n",
              "      <td>1738</td>\n",
              "      <td>0.713</td>\n",
              "      <td>1.010</td>\n",
              "    </tr>\n",
              "    <tr>\n",
              "      <th>4</th>\n",
              "      <td>1</td>\n",
              "      <td>3</td>\n",
              "      <td>1895</td>\n",
              "      <td>80</td>\n",
              "      <td>12</td>\n",
              "      <td>2.0</td>\n",
              "      <td>22.0</td>\n",
              "      <td>0.5</td>\n",
              "      <td>1698</td>\n",
              "      <td>0.701</td>\n",
              "      <td>1.034</td>\n",
              "    </tr>\n",
              "  </tbody>\n",
              "</table>\n",
              "</div>"
            ],
            "text/plain": [
              "   Group  Visit  MR Delay  Age  EDUC  SES  MMSE  CDR  eTIV   nWBV    ASF\n",
              "0      2      1         0   87    14  2.0  27.0  0.0  1987  0.696  0.883\n",
              "1      2      2       457   88    14  2.0  30.0  0.0  2004  0.681  0.876\n",
              "2      1      1         0   75    12  2.0  23.0  0.5  1678  0.736  1.046\n",
              "3      1      2       560   76    12  2.0  28.0  0.5  1738  0.713  1.010\n",
              "4      1      3      1895   80    12  2.0  22.0  0.5  1698  0.701  1.034"
            ]
          },
          "metadata": {},
          "execution_count": 90
        }
      ]
    },
    {
      "cell_type": "code",
      "metadata": {
        "id": "ay9dXKG2fOQ9"
      },
      "source": [
        "X_b = final_df.iloc[:, 1:].values                  \n",
        "y_b = final_df.iloc[:, 0].values\n",
        "\n",
        "X_train_b, X_test_b, y_train_b, y_test_b = train_test_split(X_b, y_b, test_size = 0.25, random_state=0)"
      ],
      "id": "ay9dXKG2fOQ9",
      "execution_count": null,
      "outputs": []
    },
    {
      "cell_type": "code",
      "metadata": {
        "id": "CnpAhsvgfb_L"
      },
      "source": [
        "\n",
        "svc_b = SVC(kernel='linear', probability=True,random_state=0)\n",
        "clf_b = make_pipeline(StandardScaler(), svc_b)\n",
        "clf_b.fit(X_train_b, y_train_b)\n",
        "\n",
        "y_pred_b = clf_b.predict(X_test_b)"
      ],
      "id": "CnpAhsvgfb_L",
      "execution_count": null,
      "outputs": []
    },
    {
      "cell_type": "code",
      "metadata": {
        "colab": {
          "base_uri": "https://localhost:8080/"
        },
        "id": "sf62iAaofgFU",
        "outputId": "90542cfc-17f3-49f6-9f3a-0660c07e25f2"
      },
      "source": [
        "a_score_b = accuracy_score(y_test_b, y_pred_b)\n",
        "print(f\"Accuracy score with Binary : {a_score_b}\")"
      ],
      "id": "sf62iAaofgFU",
      "execution_count": null,
      "outputs": [
        {
          "output_type": "stream",
          "name": "stdout",
          "text": [
            "Accuracy score with Binary : 0.956989247311828\n"
          ]
        }
      ]
    },
    {
      "cell_type": "markdown",
      "metadata": {
        "id": "HTfsIiKu8ROM"
      },
      "source": [
        "#### Compare the performance and predictions of both multi-class and binary classifications"
      ],
      "id": "HTfsIiKu8ROM"
    },
    {
      "cell_type": "code",
      "metadata": {
        "id": "HLhq8-dy8Y9F",
        "colab": {
          "base_uri": "https://localhost:8080/"
        },
        "outputId": "619d921b-3d8c-45cc-bfd9-d7b703d6976e"
      },
      "source": [
        "#Precision\n",
        "print(f'Precision score for binary classification : {precision_score(y_test_b,y_pred_b)} \\n')\n",
        "print(f\"Precision score for multiclass classification : {precision_score(y_test,y_pred_svc, average='micro')} \\n\")\n",
        "print(f\"Precision score for multiclass - OneVsRest classification : {precision_score(y_test,y_pred_clf_ovr,average='micro')} \\n\")\n",
        "print(f\"Precision score for multiclass - OneVsOne classification : {precision_score(y_test,y_pred_clf_ovo,average='micro')} \\n\")"
      ],
      "id": "HLhq8-dy8Y9F",
      "execution_count": null,
      "outputs": [
        {
          "output_type": "stream",
          "name": "stdout",
          "text": [
            "Precision score for binary classification : 1.0 \n",
            "\n",
            "Precision score for multiclass classification : 0.8533333333333334 \n",
            "\n",
            "Precision score for multiclass - OneVsRest classification : 0.8533333333333334 \n",
            "\n",
            "Precision score for multiclass - OneVsOne classification : 0.8533333333333334 \n",
            "\n"
          ]
        }
      ]
    },
    {
      "cell_type": "code",
      "metadata": {
        "id": "A38sZamMik93"
      },
      "source": [
        "#Recall\n"
      ],
      "id": "A38sZamMik93",
      "execution_count": null,
      "outputs": []
    },
    {
      "cell_type": "markdown",
      "metadata": {
        "id": "normal-vessel"
      },
      "source": [
        "### Classification report and metrics (2 points)"
      ],
      "id": "normal-vessel"
    },
    {
      "cell_type": "markdown",
      "metadata": {
        "id": "heard-magazine"
      },
      "source": [
        "#### Confusion matrix\n",
        "\n",
        "Describe the performance of a classification model (or \"classifier\") on a set of test data for which the true values are known."
      ],
      "id": "heard-magazine"
    },
    {
      "cell_type": "code",
      "metadata": {
        "scrolled": true,
        "id": "intelligent-table"
      },
      "source": [
        "# YOUR CODE HERE"
      ],
      "id": "intelligent-table",
      "execution_count": null,
      "outputs": []
    },
    {
      "cell_type": "markdown",
      "metadata": {
        "id": "1RVShcZv_A19"
      },
      "source": [
        "#### Plot the ROC Curve\n",
        "\n",
        "ROC curves typically feature true positive rate on the Y axis, and false positive rate on the X axis. This means that the top left corner of the plot is the “ideal” point - a false positive rate of zero, and a true positive rate of one. This is not very realistic, but it does mean that a larger area under the curve (AUC) is usually better."
      ],
      "id": "1RVShcZv_A19"
    },
    {
      "cell_type": "code",
      "metadata": {
        "id": "threatened-laugh"
      },
      "source": [
        "# YOUR CODE HERE\n",
        "svc_prob = svc.predict_proba(X_test)\n",
        "preds = svc_prob[:,1]\n",
        "fpr, tpr, threshold = metrics.roc_curve(y_test, preds, pos_label=2)"
      ],
      "id": "threatened-laugh",
      "execution_count": null,
      "outputs": []
    },
    {
      "cell_type": "code",
      "metadata": {
        "colab": {
          "base_uri": "https://localhost:8080/"
        },
        "id": "Vl-PLk1sd-um",
        "outputId": "a1b0f84c-04a7-4080-cf9b-1906c58cab66"
      },
      "source": [
        "svc_prob"
      ],
      "id": "Vl-PLk1sd-um",
      "execution_count": null,
      "outputs": [
        {
          "output_type": "execute_result",
          "data": {
            "text/plain": [
              "array([[1.86347503e-01, 7.53888597e-02, 7.38263637e-01],\n",
              "       [5.35430183e-02, 5.67937491e-03, 9.40777607e-01],\n",
              "       [1.94744987e-01, 8.30327519e-02, 7.22222261e-01],\n",
              "       [6.74589394e-02, 9.13286817e-03, 9.23408192e-01],\n",
              "       [5.16718841e-02, 5.28186028e-03, 9.43046256e-01],\n",
              "       [1.99643673e-01, 8.77131988e-02, 7.12643128e-01],\n",
              "       [2.35793464e-01, 1.27902329e-01, 6.36304207e-01],\n",
              "       [2.61827413e-02, 1.34428362e-03, 9.72472975e-01],\n",
              "       [5.84429827e-02, 6.79429556e-03, 9.34762722e-01],\n",
              "       [2.00885565e-01, 8.89264633e-02, 7.10187972e-01],\n",
              "       [2.16025026e-01, 1.04627373e-01, 6.79347602e-01],\n",
              "       [1.25789753e-01, 3.27678378e-02, 8.41442409e-01],\n",
              "       [4.98308904e-03, 5.04673929e-08, 9.95016860e-01],\n",
              "       [5.37535122e-02, 5.72506239e-03, 9.40521425e-01],\n",
              "       [3.00189824e-01, 2.35271398e-01, 4.64538778e-01],\n",
              "       [1.10529905e-02, 2.41322806e-04, 9.88705687e-01],\n",
              "       [2.21712217e-02, 9.64718046e-04, 9.76864060e-01],\n",
              "       [1.84782852e-01, 7.40160618e-02, 7.41201086e-01],\n",
              "       [2.81577747e-02, 1.55450123e-03, 9.70287724e-01],\n",
              "       [2.08988461e-01, 9.71160363e-02, 6.93895503e-01],\n",
              "       [6.12219131e-03, 7.44647229e-05, 9.93803344e-01],\n",
              "       [2.79980258e-02, 1.53692249e-03, 9.70465052e-01],\n",
              "       [1.91744151e-01, 8.02470421e-02, 7.28008807e-01],\n",
              "       [2.15903353e-01, 1.04494220e-01, 6.79602427e-01],\n",
              "       [3.44943514e-02, 2.33418290e-03, 9.63171466e-01],\n",
              "       [1.10230599e-01, 2.49470542e-02, 8.64822347e-01],\n",
              "       [3.10081710e-01, 2.58877655e-01, 4.31040636e-01],\n",
              "       [5.53789203e-02, 6.08449488e-03, 9.38536585e-01],\n",
              "       [1.53428713e-02, 4.63460446e-04, 9.84193668e-01],\n",
              "       [3.77815312e-02, 1.97135087e-06, 9.62216497e-01],\n",
              "       [1.72729823e-01, 6.39609333e-02, 7.63309244e-01],\n",
              "       [3.04035265e-02, 1.81238900e-03, 9.67784084e-01],\n",
              "       [2.61689773e-02, 1.34287283e-03, 9.72488150e-01],\n",
              "       [9.07871314e-02, 1.67728377e-02, 8.92440031e-01],\n",
              "       [6.42539280e-02, 8.25816433e-03, 9.27487908e-01],\n",
              "       [6.55873922e-02, 8.61620807e-03, 9.25796400e-01],\n",
              "       [3.04354591e-02, 1.81620125e-03, 9.67748340e-01],\n",
              "       [6.86257793e-02, 9.46340221e-03, 9.21910818e-01],\n",
              "       [8.75345484e-03, 5.62162699e-08, 9.91246489e-01],\n",
              "       [7.04946112e-02, 1.00408098e-02, 9.19464579e-01],\n",
              "       [1.52214072e-02, 1.07660269e-07, 9.84778485e-01],\n",
              "       [6.23749824e-02, 7.76776325e-03, 9.29857254e-01],\n",
              "       [8.46136127e-02, 1.45344234e-02, 9.00851964e-01],\n",
              "       [1.20727784e-01, 1.13426021e-04, 8.79158790e-01],\n",
              "       [1.88660031e-02, 1.83826002e-07, 9.81133813e-01],\n",
              "       [1.95688858e-01, 8.39216449e-02, 7.20389497e-01],\n",
              "       [2.81436583e-01, 1.97334335e-01, 5.21229082e-01],\n",
              "       [2.07913414e-02, 8.48757758e-04, 9.78359901e-01],\n",
              "       [6.93426256e-02, 9.71199508e-03, 9.20945379e-01],\n",
              "       [2.00477837e-01, 8.85269290e-02, 7.10995234e-01],\n",
              "       [8.02634482e-02, 1.30578397e-02, 9.06678712e-01],\n",
              "       [5.18309970e-02, 5.31506271e-03, 9.42853940e-01],\n",
              "       [1.22724720e-01, 3.11341485e-02, 8.46141131e-01],\n",
              "       [5.36287584e-02, 5.69796098e-03, 9.40673281e-01],\n",
              "       [3.11465896e-01, 2.62444446e-01, 4.26089658e-01],\n",
              "       [2.52895264e-02, 1.25428328e-03, 9.73456190e-01],\n",
              "       [1.92416837e-01, 8.08662020e-02, 7.26716961e-01],\n",
              "       [9.79729121e-02, 1.95925806e-02, 8.82434507e-01],\n",
              "       [2.30064534e-02, 1.03853136e-03, 9.75955015e-01],\n",
              "       [1.86993497e-01, 7.59602867e-02, 7.37046216e-01],\n",
              "       [1.69558600e-02, 5.65483243e-04, 9.82478657e-01],\n",
              "       [3.29075529e-02, 2.12376396e-03, 9.64968683e-01],\n",
              "       [2.16863454e-01, 1.05548096e-01, 6.77588451e-01],\n",
              "       [1.26950706e-01, 3.33987873e-02, 8.39650506e-01],\n",
              "       [7.76586595e-02, 2.64019454e-05, 9.22314939e-01],\n",
              "       [8.25719364e-02, 1.38311119e-02, 9.03596952e-01],\n",
              "       [3.19890012e-02, 2.00661190e-03, 9.66004387e-01],\n",
              "       [9.28510349e-03, 1.70596201e-04, 9.90544300e-01],\n",
              "       [1.09260036e-01, 2.44976126e-02, 8.66242351e-01],\n",
              "       [2.92257485e-02, 1.67463063e-03, 9.69099621e-01],\n",
              "       [2.85318321e-01, 2.04596310e-01, 5.10085369e-01],\n",
              "       [1.31667713e-01, 3.60317729e-02, 8.32300514e-01],\n",
              "       [3.64249580e-02, 1.72422267e-06, 9.63573318e-01],\n",
              "       [3.37679263e-02, 2.23658804e-03, 9.63995486e-01],\n",
              "       [5.36809778e-02, 5.70929667e-03, 9.40609726e-01]])"
            ]
          },
          "metadata": {},
          "execution_count": 84
        }
      ]
    },
    {
      "cell_type": "code",
      "metadata": {
        "id": "Ny4yfSYVDpr6"
      },
      "source": [
        "roc_auc = metrics.auc(fpr, tpr)"
      ],
      "id": "Ny4yfSYVDpr6",
      "execution_count": null,
      "outputs": []
    },
    {
      "cell_type": "code",
      "metadata": {
        "colab": {
          "base_uri": "https://localhost:8080/",
          "height": 477
        },
        "id": "G4jY8Vy9Dle_",
        "outputId": "6d28d19f-7782-42ef-aff1-be305420a292"
      },
      "source": [
        "plt.title('Receiver Operating Characteristic')\n",
        "plt.plot(fpr, tpr, 'b', label = 'AUC = %0.2f' % roc_auc)"
      ],
      "id": "G4jY8Vy9Dle_",
      "execution_count": null,
      "outputs": [
        {
          "output_type": "execute_result",
          "data": {
            "text/plain": [
              "[<matplotlib.lines.Line2D at 0x7f4fd3890650>]"
            ]
          },
          "metadata": {},
          "execution_count": 83
        },
        {
          "output_type": "display_data",
          "data": {
            "image/png": "[encoded data removed]",
            "text/plain": [
              "<Figure size 700x500 with 1 Axes>"
            ]
          },
          "metadata": {
            "needs_background": "light"
          }
        }
      ]
    },
    {
      "cell_type": "markdown",
      "metadata": {
        "id": "fresh-force"
      },
      "source": [
        "### Choice of C for SVM (1 point)\n",
        "\n",
        "experiment with different C values given and plot the ROC curve for each"
      ],
      "id": "fresh-force"
    },
    {
      "cell_type": "code",
      "metadata": {
        "id": "noble-uruguay"
      },
      "source": [
        "c_val = [0.0001, 0.001, 0.01, 0.1, 1, 10, 100, 1000]\n",
        "# YOUR CODE HERE"
      ],
      "id": "noble-uruguay",
      "execution_count": null,
      "outputs": []
    },
    {
      "cell_type": "markdown",
      "metadata": {
        "id": "chinese-southwest"
      },
      "source": [
        "### Report Analysis\n",
        "\n",
        "* Compare the performance of the model with various Kernel parameters.\n",
        "* Discuss the impact of parameter C and gamma on performance.\n",
        "* Comment on the computational cost of implementing one vs one and one vs all to solve multi-class classification with binary classifier.\n",
        "* When do you call a sample/record in the data as a support vector?"
      ],
      "id": "chinese-southwest"
    }
  ]
}