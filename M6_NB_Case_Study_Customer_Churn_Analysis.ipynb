{
  "nbformat": 4,
  "nbformat_minor": 0,
  "metadata": {
    "colab": {
      "name": "M6_NB_Case_Study_Customer_Churn_Analysis.ipynb",
      "provenance": [],
      "collapsed_sections": [],
      "include_colab_link": true
    },
    "kernelspec": {
      "display_name": "Python 3",
      "language": "python",
      "name": "python3"
    },
    "language_info": {
      "codemirror_mode": {
        "name": "ipython",
        "version": 3
      },
      "file_extension": ".py",
      "mimetype": "text/x-python",
      "name": "python",
      "nbconvert_exporter": "python",
      "pygments_lexer": "ipython3",
      "version": "3.8.5"
    }
  },
  "cells": [
    {
      "cell_type": "markdown",
      "metadata": {
        "id": "view-in-github",
        "colab_type": "text"
      },
      "source": [
        "<a href=\"https://colab.research.google.com/github/srilav/machinelearning/blob/main/M6_NB_Case_Study_Customer_Churn_Analysis.ipynb\" target=\"_parent\"><img src=\"https://colab.research.google.com/assets/colab-badge.svg\" alt=\"Open In Colab\"/></a>"
      ]
    },
    {
      "cell_type": "markdown",
      "metadata": {
        "id": "MZQMVE4gmAlY"
      },
      "source": [
        "# Advanced Certification Program in Computational Data Science\n",
        "## A program by IISc and TalentSprint\n",
        "### Case Study: Customer Churn Analysis"
      ]
    },
    {
      "cell_type": "markdown",
      "metadata": {
        "id": "UpgCEb9kmJ2Y"
      },
      "source": [
        "## Learning Objectives"
      ]
    },
    {
      "cell_type": "markdown",
      "metadata": {
        "id": "rZkwoKfWmNJj"
      },
      "source": [
        "At the end of the experiment, you will be able to\n",
        "\n",
        "* understand what is customer churn\n",
        "* know the importance of predicting customer churn\n",
        "* build a prediction model for a credit card company dataset\n",
        "* build a prediction model for a telecommunication company dataset"
      ]
    },
    {
      "cell_type": "markdown",
      "metadata": {
        "id": "jtdSVLWombeQ"
      },
      "source": [
        "## Information"
      ]
    },
    {
      "cell_type": "markdown",
      "metadata": {
        "id": "77chehIFiXOF"
      },
      "source": [
        "Customer churn or customer attrition is the phenomenon where customers of a business no longer purchase or interact with the business. A high churn means that a higher number of customers no longer want to purchase goods and services from the business. Customer churn rate or customer attrition rate is the mathematical calculation of the percentage of customers who are not likely to make another purchase from a business.\n",
        "\n",
        "Customer churn happens when customers decide to not continue purchasing products/services from an organization and end their association. It is an integral parameter for the organization since acquiring a new customer could cost even more than retaining an existing customer. Customer churn can prove to be a roadblock for an exponentially growing organization and a retention strategy should be decided in order to avoid an increase in customer churn rates.\n",
        "\n",
        "To know more about customer churn, click [here](https://www.questionpro.com/blog/customer-churn/)."
      ]
    },
    {
      "cell_type": "markdown",
      "metadata": {
        "id": "tm91jkW4t6lo"
      },
      "source": [
        "### Importance of Predicting Customer Churn"
      ]
    },
    {
      "cell_type": "markdown",
      "metadata": {
        "id": "VTLfJeKkrg-z"
      },
      "source": [
        "The ability to predict that certain customers are at a very high risk of churning represents a substantial revenue maintenance source for any business:\n",
        "\n",
        "* Acquiring new customers is a costly affair but losing the existing customers will cost even more for the business or the organization. The existing customer base should be happy to purchase repeatedly from your brand, for the best business outcomes\n",
        "\n",
        "* Increasing market competition encourages organizations to focus not only on new business but also on retaining existing customers.\n",
        "\n",
        "* The most important step towards predicting customer churn is to start awarding existing customers for regular purchases and support.\n",
        "\n",
        "* Customer churn usually results from an entire customer journey and not just a few incidents. To avoid customer churn, organizations should start offering incentives on purchases of these soon-to-churn customers.\n",
        "\n",
        "* A customer’s intention to stop using a particular product/service may always be a decision formed over time. There are various factors which lead to this decision and it is important for organizations to understand each and every factor so that customers can be convinced to stay and keep making purchases."
      ]
    },
    {
      "cell_type": "markdown",
      "metadata": {
        "id": "pWlFr6jbwuyK"
      },
      "source": [
        "### Customer Churn Analysis"
      ]
    },
    {
      "cell_type": "markdown",
      "metadata": {
        "id": "NlzWBKtvwyFf"
      },
      "source": [
        "Here we will go through some consumer data and see how we can leverage data insights and predictive modeling in order to improve customer retention."
      ]
    },
    {
      "cell_type": "markdown",
      "metadata": {
        "id": "uNPVAf5_w-GI"
      },
      "source": [
        "**Dataset Description**\n",
        "\n",
        "Our first customer dataset is from a **credit card company**, where we are able to review customer attributes such as gender, age, tenure, balance, number of products they are subscribed to, their estimated salary and if they stopped the subscription or not. \n",
        "\n",
        "Here, tenure represents the number of months the customer has stayed with the company."
      ]
    },
    {
      "cell_type": "code",
      "metadata": {
        "id": "WBPPuGmBlDIN",
        "cellView": "form"
      },
      "source": [
        "#@title Run this cell to download the datasets\n",
        "from IPython import get_ipython\n",
        "\n",
        "ipython = get_ipython()\n",
        "  \n",
        "notebook= \"M6_AST_10_Customer_Churn_Analysis_C\" #name of the notebook\n",
        " \n",
        "ipython.magic(\"sx wget https://raw.githubusercontent.com/anilak1978/customer_churn/master/Churn_Modeling.csv\")\n",
        "ipython.magic(\"sx wget https://raw.githubusercontent.com/anilak1978/customer-churn/master/bigml_59c28831336c6604c800002a.csv\")\n",
        "    \n"
      ],
      "execution_count": null,
      "outputs": []
    },
    {
      "cell_type": "markdown",
      "metadata": {
        "id": "ngSwdAMOxJmg"
      },
      "source": [
        "### Import required packages"
      ]
    },
    {
      "cell_type": "code",
      "metadata": {
        "id": "co_W2THVxQWX"
      },
      "source": [
        "import numpy as np\n",
        "import pandas as pd\n",
        "import seaborn as sns\n",
        "import matplotlib.pyplot as plt\n",
        "from sklearn.preprocessing import LabelEncoder, StandardScaler\n",
        "from sklearn.model_selection import train_test_split\n",
        "from sklearn.svm import SVC\n",
        "from sklearn.tree import DecisionTreeClassifier\n",
        "from sklearn.ensemble import RandomForestClassifier\n",
        "from sklearn.metrics import accuracy_score, confusion_matrix, precision_score, recall_score, roc_curve, roc_auc_score, f1_score"
      ],
      "execution_count": null,
      "outputs": []
    },
    {
      "cell_type": "code",
      "metadata": {
        "id": "z7iqSOnnxeDR"
      },
      "source": [
        "# Read data\n",
        "df = pd.read_csv(\"Churn_Modeling.csv\")\n",
        "df.head()"
      ],
      "execution_count": null,
      "outputs": []
    },
    {
      "cell_type": "code",
      "metadata": {
        "id": "UavjcULkrg_L"
      },
      "source": [
        "# Shape of dataset\n",
        "df.shape"
      ],
      "execution_count": null,
      "outputs": []
    },
    {
      "cell_type": "code",
      "metadata": {
        "id": "xTId35Uox2W5"
      },
      "source": [
        "# Check for missing values\n",
        "df.isnull().sum()"
      ],
      "execution_count": null,
      "outputs": []
    },
    {
      "cell_type": "code",
      "metadata": {
        "id": "r1pUZEwVyAz7"
      },
      "source": [
        "# data types\n",
        "df.dtypes"
      ],
      "execution_count": null,
      "outputs": []
    },
    {
      "cell_type": "code",
      "metadata": {
        "id": "MCbIEgMTyYoQ"
      },
      "source": [
        "# Looking at the summary\n",
        "df.describe()"
      ],
      "execution_count": null,
      "outputs": []
    },
    {
      "cell_type": "markdown",
      "metadata": {
        "id": "IaIjIeejyf8Q"
      },
      "source": [
        "From the above statistical insights, we see that the average age of our customers is 39, the average month customer has been a member is 5 and the estimated average salary is 100K."
      ]
    },
    {
      "cell_type": "code",
      "metadata": {
        "id": "0wu37pSErg_T"
      },
      "source": [
        "# Columns of dataset\n",
        "df.columns"
      ],
      "execution_count": null,
      "outputs": []
    },
    {
      "cell_type": "code",
      "metadata": {
        "id": "72ENoCzSrg_U"
      },
      "source": [
        "# Looking at CreditScore for Churn and No churn data\n",
        "sns.boxplot(x=df['Exited'], y=df['CreditScore'])\n",
        "plt.show()"
      ],
      "execution_count": null,
      "outputs": []
    },
    {
      "cell_type": "code",
      "metadata": {
        "id": "1nCqjQE4rg_W"
      },
      "source": [
        "# Mean CreditScore for Churn and No churn data\n",
        "df.groupby('Exited')['CreditScore'].mean()"
      ],
      "execution_count": null,
      "outputs": []
    },
    {
      "cell_type": "markdown",
      "metadata": {
        "id": "Q_n746sErg_X"
      },
      "source": [
        "From the above results, we can see the difference between the credit score for churn and no churn customers."
      ]
    },
    {
      "cell_type": "code",
      "metadata": {
        "id": "8NnENoynrg_Y"
      },
      "source": [
        "# Visualize Geography and Churn columns\n",
        "sns.barplot(x='Geography', y='Exited', data = df, ci=None)\n",
        "plt.show()"
      ],
      "execution_count": null,
      "outputs": []
    },
    {
      "cell_type": "markdown",
      "metadata": {
        "id": "oaifBHc4rg_a"
      },
      "source": [
        "The churn rate is higher for Germany than France and Spain."
      ]
    },
    {
      "cell_type": "code",
      "metadata": {
        "id": "X-ueJM3Krg_b"
      },
      "source": [
        "# Visualize Gender and Churn columns\n",
        "sns.barplot(x='Gender', y='Exited', data = df, ci=None)\n",
        "plt.show()"
      ],
      "execution_count": null,
      "outputs": []
    },
    {
      "cell_type": "markdown",
      "metadata": {
        "id": "1X5cpy7Brg_c"
      },
      "source": [
        "The churn rate is higher for female customers."
      ]
    },
    {
      "cell_type": "code",
      "metadata": {
        "id": "ZZO4ZsCOrg_d"
      },
      "source": [
        "# Looking at Age of Churn and No churn data\n",
        "sns.boxplot(x=df['Exited'], y=df['Age'])\n",
        "plt.show()"
      ],
      "execution_count": null,
      "outputs": []
    },
    {
      "cell_type": "markdown",
      "metadata": {
        "id": "BpXYL2BPrg_e"
      },
      "source": [
        "We can see a significant difference between the age of churn and no churn customers."
      ]
    },
    {
      "cell_type": "code",
      "metadata": {
        "id": "cOHfSS_wrg_f"
      },
      "source": [
        "# Visualize Tenure and Churn columns\n",
        "sns.barplot(x='Tenure', y='Exited', data = df, ci=None)\n",
        "plt.show()"
      ],
      "execution_count": null,
      "outputs": []
    },
    {
      "cell_type": "markdown",
      "metadata": {
        "id": "heZpKqPirg_g"
      },
      "source": [
        "From the above plot, we can see that 0 and 1 are the top two tenures with the highest churn rate."
      ]
    },
    {
      "cell_type": "code",
      "metadata": {
        "id": "ffsy9NhTrg_h"
      },
      "source": [
        "# Looking at Balance for Churn and No churn data\n",
        "sns.boxplot(x=df['Exited'], y=df['Balance'])\n",
        "plt.show()"
      ],
      "execution_count": null,
      "outputs": []
    },
    {
      "cell_type": "code",
      "metadata": {
        "id": "NPYcrqV4rg_i"
      },
      "source": [
        "# Visualize Number of Products and Churn columns\n",
        "sns.barplot(x='NumOfProducts', y='Exited', data = df, ci=None)\n",
        "plt.show()"
      ],
      "execution_count": null,
      "outputs": []
    },
    {
      "cell_type": "code",
      "metadata": {
        "id": "xKhWiC4Hrg_j"
      },
      "source": [
        "# Visualize Has credit card and Churn columns\n",
        "sns.barplot(x='HasCrCard', y='Exited', data = df, ci=None)\n",
        "plt.show()"
      ],
      "execution_count": null,
      "outputs": []
    },
    {
      "cell_type": "markdown",
      "metadata": {
        "id": "lEZr-drqrg_k"
      },
      "source": [
        "In the above plot, a very less difference is there in churn rate between the customers who have credit card and who doesn't."
      ]
    },
    {
      "cell_type": "code",
      "metadata": {
        "id": "gD_lKMIerg_l"
      },
      "source": [
        "# Visualize Is active member and Churn columns\n",
        "sns.barplot(x='IsActiveMember', y='Exited', data = df, ci=None)\n",
        "plt.show()"
      ],
      "execution_count": null,
      "outputs": []
    },
    {
      "cell_type": "code",
      "metadata": {
        "id": "k4KgxwA4rg_m"
      },
      "source": [
        "# Looking at EstimatedSalary for Churn and No churn data\n",
        "sns.boxplot(x=df['Exited'], y=df['EstimatedSalary'])\n",
        "plt.show()"
      ],
      "execution_count": null,
      "outputs": []
    },
    {
      "cell_type": "code",
      "metadata": {
        "id": "otv1tU9qy0uH"
      },
      "source": [
        "# Looking at Geography and Gender Distribution against Estimated Salary\n",
        "plt.figure(figsize=(20,20))\n",
        "sns.catplot(x=\"Geography\", y=\"EstimatedSalary\", hue=\"Gender\", kind=\"box\", data=df)\n",
        "plt.title(\"Geography VS Estimated Salary\")\n",
        "plt.xlabel(\"Geography\")\n",
        "plt.ylabel(\"Estimated Salary\")\n",
        "plt.show()"
      ],
      "execution_count": null,
      "outputs": []
    },
    {
      "cell_type": "markdown",
      "metadata": {
        "id": "2mY9FPTEy5Sq"
      },
      "source": [
        "When we look at the gender and geographic distribution of estimated salary, we see that male customers estimated average salary is little more as compared to that of females in France, however in Germany and Spain female customers’ estimated average salary is higher."
      ]
    },
    {
      "cell_type": "markdown",
      "metadata": {
        "id": "a2OZ_ves0ucb"
      },
      "source": [
        "Based on our basic exploratory analysis, we can define the important customer attributes that can give us the best insight in order to predict the type of customers that can churn.\n",
        "\n",
        "In this dataset, we can select credit score, geography, gender, age, tenure, balance, number of products, is active member and estimated salary attributes as the feature set and exited as the target variable."
      ]
    },
    {
      "cell_type": "code",
      "metadata": {
        "id": "zoUI7OyPrg_r"
      },
      "source": [
        "# Feature set\n",
        "X = df[[\"CreditScore\", \"Geography\", \"Gender\", \"Age\", \"Tenure\", \"Balance\", \"NumOfProducts\", \"IsActiveMember\", \"EstimatedSalary\"]].values\n",
        "# Target\n",
        "y = df[[\"Exited\"]]\n",
        "X[0:5], y[0:5]"
      ],
      "execution_count": null,
      "outputs": []
    },
    {
      "cell_type": "markdown",
      "metadata": {
        "id": "yOvWO0lw2Csl"
      },
      "source": [
        "Update the categorical variables to numerical variables:"
      ]
    },
    {
      "cell_type": "code",
      "metadata": {
        "id": "L5f0Pmjx2L98"
      },
      "source": [
        "# preprocessing categorical variables\n",
        "geography = LabelEncoder()\n",
        "geography.fit([\"France\", \"Spain\", \"Germany\"])\n",
        "X[:,1] = geography.transform(X[:,1])\n",
        "\n",
        "gender = LabelEncoder()\n",
        "gender.fit([\"Female\", \"Male\"])\n",
        "X[:,2] = gender.transform(X[:,2])\n",
        "X[0:5]"
      ],
      "execution_count": null,
      "outputs": []
    },
    {
      "cell_type": "markdown",
      "metadata": {
        "id": "HjHxuj2W3PU4"
      },
      "source": [
        "Splitting into training and testing set:"
      ]
    },
    {
      "cell_type": "code",
      "metadata": {
        "id": "Ax8nCiiP2_6E"
      },
      "source": [
        "# Split train and test data\n",
        "X_train, X_test, y_train, y_test = train_test_split(X, y, test_size=0.2, random_state=3)"
      ],
      "execution_count": null,
      "outputs": []
    },
    {
      "cell_type": "markdown",
      "metadata": {
        "id": "O7zSCNBv3j6w"
      },
      "source": [
        "In this dataset, let’s use DecisionTreeClassifier and RandomForestClassifier to create the model and prediction, further evaluate them both to see which one is better."
      ]
    },
    {
      "cell_type": "code",
      "metadata": {
        "id": "8iylNOEC3Oyn"
      },
      "source": [
        "# Create model using DecisionTree Classifier and fit training data\n",
        "dt_model = DecisionTreeClassifier()\n",
        "dt_model.fit(X_train, y_train)\n",
        "\n",
        "# Prediction\n",
        "dt_pred = dt_model.predict(X_test)\n",
        "dt_pred[0:5]"
      ],
      "execution_count": null,
      "outputs": []
    },
    {
      "cell_type": "code",
      "metadata": {
        "id": "dkdPFZrn31yv"
      },
      "source": [
        "# Evaluating the prediction model\n",
        "accuracy_score(y_test, dt_pred)"
      ],
      "execution_count": null,
      "outputs": []
    },
    {
      "cell_type": "code",
      "metadata": {
        "id": "P8g-5SsA4NgD"
      },
      "source": [
        "# Create Random Forest Decision Tree model\n",
        "rf_model = RandomForestClassifier(n_estimators=100)\n",
        "rf_model.fit(X_train, y_train.values.ravel())\n",
        "\n",
        "# Prediction using rf_model\n",
        "rf_pred = rf_model.predict(X_test)\n",
        "rf_pred[0:5]"
      ],
      "execution_count": null,
      "outputs": []
    },
    {
      "cell_type": "code",
      "metadata": {
        "id": "caaeZRDx4edz"
      },
      "source": [
        "# Evaluate the model\n",
        "accuracy_score(y_test, rf_pred)"
      ],
      "execution_count": null,
      "outputs": []
    },
    {
      "cell_type": "markdown",
      "metadata": {
        "id": "73bqev714le3"
      },
      "source": [
        "Based on the metrics evaluations, while 79% of the predictions would be accurate with the Decision Classifier Model, 85% of the predictions would be accurate with the RandomForestClassifier. In this case Random Forest is performing better."
      ]
    },
    {
      "cell_type": "markdown",
      "metadata": {
        "id": "_NSIfwvL5oGs"
      },
      "source": [
        "Now, let’s look at the second customer dataset to see if we can do better analysis and prediction models."
      ]
    },
    {
      "cell_type": "markdown",
      "metadata": {
        "id": "6ZXJolF15vlR"
      },
      "source": [
        "**Dataset Description**\n",
        "\n",
        "Here we are looking at a **telecommunication company** and its existing customer attributes such as their current plan, charges, location in terms of state, amount of customer service calls, account length and churn."
      ]
    },
    {
      "cell_type": "code",
      "metadata": {
        "id": "Iuj_1Ahu4lPn"
      },
      "source": [
        "# Read data\n",
        "df1 = pd.read_csv(\"bigml_59c28831336c6604c800002a.csv\")\n",
        "df1.head()"
      ],
      "execution_count": null,
      "outputs": []
    },
    {
      "cell_type": "code",
      "metadata": {
        "id": "Gi1LTcyQrg_3"
      },
      "source": [
        "# Shape of dataset\n",
        "df1.shape"
      ],
      "execution_count": null,
      "outputs": []
    },
    {
      "cell_type": "code",
      "metadata": {
        "id": "RLWUKKxw6gS7"
      },
      "source": [
        "# Check for missing values\n",
        "df1.isnull().sum()"
      ],
      "execution_count": null,
      "outputs": []
    },
    {
      "cell_type": "code",
      "metadata": {
        "id": "XUNzKAm76lMH"
      },
      "source": [
        "# Datatypes\n",
        "df1.dtypes"
      ],
      "execution_count": null,
      "outputs": []
    },
    {
      "cell_type": "markdown",
      "metadata": {
        "id": "wRg69QZP6yqF"
      },
      "source": [
        "There are no missing data within the dataset and data types are correct."
      ]
    },
    {
      "cell_type": "code",
      "metadata": {
        "id": "8J5n5-Uh7-B9"
      },
      "source": [
        "# Visualize State and Churn columns\n",
        "plt.figure(figsize=(20,6))\n",
        "sns.barplot(x='state', y='churn', data = df1, ci=None)\n",
        "plt.show()"
      ],
      "execution_count": null,
      "outputs": []
    },
    {
      "cell_type": "markdown",
      "metadata": {
        "id": "jVTE_t1I79e3"
      },
      "source": [
        "When we look at the state and churn we see that California and New Jersey are the top two states with the highest churn rate."
      ]
    },
    {
      "cell_type": "code",
      "metadata": {
        "id": "2-XZvEP3_xVA"
      },
      "source": [
        "# Visualize International plan and Churn columns\n",
        "sns.barplot(x='international plan', y='churn', data = df1, ci=None)\n",
        "plt.show()"
      ],
      "execution_count": null,
      "outputs": []
    },
    {
      "cell_type": "code",
      "metadata": {
        "id": "hKpPaauhAJ92"
      },
      "source": [
        "# Visualize Voice mail plan and Churn columns\n",
        "sns.barplot(x='voice mail plan', y='churn', data = df1, ci=None)\n",
        "plt.show()"
      ],
      "execution_count": null,
      "outputs": []
    },
    {
      "cell_type": "markdown",
      "metadata": {
        "id": "Q5LT57am_tZF"
      },
      "source": [
        "We also see that the churn rate is higher with the international plan customers and lower with the customers that have voice mail plan.\n",
        "\n",
        "One possible reason for customers on the International plan having a significantly higher churn is that they are joining whenever they have to travel abroad for a short period of time and when the trip gets over, they leave."
      ]
    },
    {
      "cell_type": "code",
      "metadata": {
        "id": "ZFp7etie77aL"
      },
      "source": [
        "# Relationship between Customer service calls and Churn columns\n",
        "sns.regplot(x=df1['customer service calls'], y=df1['churn'], marker='.')\n",
        "plt.xlabel('Customer service calls')\n",
        "plt.ylabel(\"Churn\")\n",
        "plt.show()"
      ],
      "execution_count": null,
      "outputs": []
    },
    {
      "cell_type": "markdown",
      "metadata": {
        "id": "vzETP9HxC0sh"
      },
      "source": [
        "Poor customer service is one of the well-known reasons for customer churn. In this case, we can see from the above plot a strong positive linear relationship with the customer service call amount and churn rate."
      ]
    },
    {
      "cell_type": "markdown",
      "metadata": {
        "id": "2UWE8JbaEz6v"
      },
      "source": [
        "Now, let’s develop multiple different models and evaluate them to see which one would be the best fit to solve the business problem of customer churn."
      ]
    },
    {
      "cell_type": "code",
      "metadata": {
        "id": "cHpHHOSwE6tZ"
      },
      "source": [
        "# Feature selection\n",
        "X1 = df1[[\"account length\", \"international plan\", \"total day charge\", \"total night charge\", \"total intl charge\", \"customer service calls\", \"state\"]]\n",
        "# Target selection\n",
        "y1 = df1[\"churn\"]\n",
        "X1[0:5]"
      ],
      "execution_count": null,
      "outputs": []
    },
    {
      "cell_type": "markdown",
      "metadata": {
        "id": "aGUMtjpAFEsf"
      },
      "source": [
        "Update the categorical variables to numeric variables in order to create model:"
      ]
    },
    {
      "cell_type": "code",
      "metadata": {
        "id": "GF4vqZTzFLDX"
      },
      "source": [
        "# Update state with one hot coding\n",
        "X1 = pd.get_dummies(X1, columns=[\"state\"])\n",
        "X1 = X1.values\n",
        "\n",
        "# Preprocess to update str variables to numerical variables\n",
        "international_plan = LabelEncoder()\n",
        "international_plan.fit([\"no\", \"yes\"])\n",
        "X1[:,1] = international_plan.transform(X1[:,1])\n",
        "X1[0:5]"
      ],
      "execution_count": null,
      "outputs": []
    },
    {
      "cell_type": "code",
      "metadata": {
        "id": "3kJnBITerhAD"
      },
      "source": [
        "# Scaling data\n",
        "sc = StandardScaler()\n",
        "X1_scaled = sc.fit_transform(X1)"
      ],
      "execution_count": null,
      "outputs": []
    },
    {
      "cell_type": "markdown",
      "metadata": {
        "id": "Ym3GKqVWFqNe"
      },
      "source": [
        "Splitting into training and testing set:"
      ]
    },
    {
      "cell_type": "code",
      "metadata": {
        "id": "L5_94f-0Fpbo"
      },
      "source": [
        "# Create training and testing set\n",
        "X_train1, X_test1, y_train1, y_test1 = train_test_split(X1_scaled, y1, test_size=0.2, stratify=y1, random_state=3)"
      ],
      "execution_count": null,
      "outputs": []
    },
    {
      "cell_type": "markdown",
      "metadata": {
        "id": "Hj6-e-zH_1GY"
      },
      "source": [
        "Let’s create a model using the Support Vector Machine."
      ]
    },
    {
      "cell_type": "code",
      "metadata": {
        "id": "k2CRu7GA_1GZ"
      },
      "source": [
        "# Creating the svm model and fitting training set\n",
        "svc_model = SVC(probability=True)\n",
        "svc_model.fit(X_train1, y_train1)\n",
        "# Prediction\n",
        "svc_pred = svc_model.predict(X_test1)\n",
        "print(svc_pred[0:5])\n",
        "\n",
        "# Accuracy score\n",
        "print(\"Accuracy score: \", accuracy_score(y_test1, svc_pred))"
      ],
      "execution_count": null,
      "outputs": []
    },
    {
      "cell_type": "markdown",
      "metadata": {
        "id": "d1VR5yRD_1Ga"
      },
      "source": [
        "The accuracy score for SVM Model for predicting churn of the telecommunication company customers is 0.85. However, we should analyze this further as the data is impartial.\n",
        "\n",
        "We can review additional evaluation metrics, such as cross validation matrix which will give us the number of true positives, false positives, true and false negatives, precision, recall and f1 score."
      ]
    },
    {
      "cell_type": "code",
      "metadata": {
        "id": "Swas8TQi_1Ga"
      },
      "source": [
        "# Confusion matrix\n",
        "confusion_matrix(y_test1, svc_pred)"
      ],
      "execution_count": null,
      "outputs": []
    },
    {
      "cell_type": "markdown",
      "metadata": {
        "id": "ImxQo78CBRB9"
      },
      "source": [
        "The model predicts 564 True Negatives, 6 False Positives, 90 False Negatives, 7 True Positives."
      ]
    },
    {
      "cell_type": "code",
      "metadata": {
        "id": "DqKEs03_B12m"
      },
      "source": [
        "# Precision score for svm\n",
        "print(\"Precision: \", precision_score(y_test1, svc_pred))"
      ],
      "execution_count": null,
      "outputs": []
    },
    {
      "cell_type": "code",
      "metadata": {
        "id": "ZkR3EiGEB32F"
      },
      "source": [
        "# Recall score for svm\n",
        "print(\"Recall: \", recall_score(y_test1, svc_pred))"
      ],
      "execution_count": null,
      "outputs": []
    },
    {
      "cell_type": "code",
      "metadata": {
        "id": "GRnYyK5TB6R3"
      },
      "source": [
        "# Probability for each prediction\n",
        "prob_2 = svc_model.predict_proba(X_test1)[:,1]\n",
        "\n",
        "# ROC curve giving the false and true positive predictions\n",
        "fpr, tpr, thresholds = roc_curve(y_test1, prob_2)\n",
        "plt.plot(fpr, tpr)\n",
        "plt.title(\"ROC curve\")\n",
        "plt.xlabel(\"False positive rate\")\n",
        "plt.ylabel(\"True positive rate\")\n",
        "plt.show()"
      ],
      "execution_count": null,
      "outputs": []
    },
    {
      "cell_type": "code",
      "metadata": {
        "id": "9AU50Ux1_1Gb"
      },
      "source": [
        "# Area under the curve\n",
        "auc = roc_auc_score(y_test1, prob_2)\n",
        "print(\"Area under curve: \", auc)"
      ],
      "execution_count": null,
      "outputs": []
    },
    {
      "cell_type": "code",
      "metadata": {
        "id": "sNYdSOdK_1Gb"
      },
      "source": [
        "# F1_score\n",
        "f1_ = f1_score(y_test1, svc_pred)\n",
        "print(\"F1-score: \", f1_)"
      ],
      "execution_count": null,
      "outputs": []
    },
    {
      "cell_type": "markdown",
      "metadata": {
        "id": "06d9qs4lCCOV"
      },
      "source": [
        "Let’s create another model using RandomForestClassifier."
      ]
    },
    {
      "cell_type": "code",
      "metadata": {
        "id": "IzaWC8XNG-B2"
      },
      "source": [
        "# Create model using RandomForestClassifier and fit the training set\n",
        "rf_model1 = RandomForestClassifier(n_estimators=100, random_state=4)\n",
        "rf_model1.fit(X_train1, y_train1)\n",
        "\n",
        "# Create prediction\n",
        "rf_pred1 = rf_model1.predict(X_test1)\n",
        "rf_pred1[0:5]"
      ],
      "execution_count": null,
      "outputs": []
    },
    {
      "cell_type": "code",
      "metadata": {
        "id": "yAt8oczVHRtg"
      },
      "source": [
        "# Accuracy score\n",
        "accuracy_score(y_test1, rf_pred1)"
      ],
      "execution_count": null,
      "outputs": []
    },
    {
      "cell_type": "markdown",
      "metadata": {
        "id": "6si6QhXvHpmz"
      },
      "source": [
        "We can see that the accuracy score for Random Forest Classification is higher than Support Vector Machine."
      ]
    },
    {
      "cell_type": "code",
      "metadata": {
        "id": "S9cAQQowH5v2"
      },
      "source": [
        "# Confusion matrix to find precision and recall\n",
        "confusion_matrix(y_test1, rf_pred1)"
      ],
      "execution_count": null,
      "outputs": []
    },
    {
      "cell_type": "markdown",
      "metadata": {
        "id": "9PSLfj84C5fZ"
      },
      "source": [
        "The model predicts 558 True Negatives, 12 False Positives, 52 False Negatives, 45 True Positives.\n",
        "\n",
        "Even though the False Positive count slightly went up, the True Positives are significantly more compared to SVM model."
      ]
    },
    {
      "cell_type": "code",
      "metadata": {
        "id": "BN7Fc_uhI5k_"
      },
      "source": [
        "# Precision score\n",
        "print(\"Precision: \", precision_score(y_test1, rf_pred1))"
      ],
      "execution_count": null,
      "outputs": []
    },
    {
      "cell_type": "code",
      "metadata": {
        "id": "1cBwh4XrJFLB"
      },
      "source": [
        "# Recall score\n",
        "print(\"Recall: \", recall_score(y_test1, rf_pred1))"
      ],
      "execution_count": null,
      "outputs": []
    },
    {
      "cell_type": "code",
      "metadata": {
        "id": "H1bGlb7PJVTE"
      },
      "source": [
        "# Probability for each prediction\n",
        "prob = rf_model1.predict_proba(X_test1)[:,1]\n",
        "\n",
        "# ROC curve giving the false and true positive predictions\n",
        "fpr, tpr, thresholds = roc_curve(y_test1, prob)\n",
        "plt.plot(fpr, tpr)\n",
        "plt.title(\"ROC curve\")\n",
        "plt.xlabel(\"False positive rate\")\n",
        "plt.ylabel(\"True positive rate\")\n",
        "plt.show()"
      ],
      "execution_count": null,
      "outputs": []
    },
    {
      "cell_type": "code",
      "metadata": {
        "id": "zG5Y8FwQKBSB"
      },
      "source": [
        "# Area under the curve\n",
        "auc = roc_auc_score(y_test1, prob)\n",
        "print(\"Area under curve: \", auc)"
      ],
      "execution_count": null,
      "outputs": []
    },
    {
      "cell_type": "code",
      "metadata": {
        "id": "3jfDw3m-IblE"
      },
      "source": [
        "# F1_score\n",
        "f1 = f1_score(y_test1, rf_pred1)\n",
        "print(\"F1-score: \", f1)"
      ],
      "execution_count": null,
      "outputs": []
    },
    {
      "cell_type": "markdown",
      "metadata": {
        "id": "MVFNEMO7LDHS"
      },
      "source": [
        "We can further look at the feature importance to see what features have the most impact on the prediction."
      ]
    },
    {
      "cell_type": "code",
      "metadata": {
        "id": "lJN75j9NLIdI"
      },
      "source": [
        "# Importance of each feature\n",
        "importances = rf_model1.feature_importances_\n",
        "\n",
        "# Visualize the feature importance\n",
        "indices = np.argsort(importances)[::-1]\n",
        "plt.figure(figsize=(10,5))\n",
        "plt.bar(range(X1.shape[1]), importances[indices])\n",
        "plt.ylabel(\"Feature Importance\")\n",
        "plt.xlabel(\"Column Index\")\n",
        "plt.show()"
      ],
      "execution_count": null,
      "outputs": []
    },
    {
      "cell_type": "markdown",
      "metadata": {
        "id": "QX5p1g5FLaeC"
      },
      "source": [
        "Based on the feature importance, we can remove state feature from our model."
      ]
    },
    {
      "cell_type": "markdown",
      "metadata": {
        "id": "15u7n7CsOBE4"
      },
      "source": [
        "From the above results, we can see that both the precision score and recall score for SVM is much lower than the Random Forest Classifier. Although, the area under the roc curve (auc)  is the same for both models which is 0.8.\n",
        "\n",
        "Based on the two predictive models, the second one we created with Random Forest Classifier would be a better choice. We can also tune this model and improve it by updating the parameter and removing state variable from the feature set for better prediction."
      ]
    },
    {
      "cell_type": "markdown",
      "metadata": {
        "id": "hN8Z7SHlOrr-"
      },
      "source": [
        "With the existing consumer insights through data, companies can predict customers’ possible needs and issues, define proper strategies and solutions against them, meet their expectations and retain their business. Based on the predictive analysis and modeling, businesses can focus their attention with targeted approach by segmenting and offering them customized solutions."
      ]
    },
    {
      "cell_type": "code",
      "source": [
        ""
      ],
      "metadata": {
        "id": "Xa6cEtb-Hn8e"
      },
      "execution_count": null,
      "outputs": []
    }
  ]
}