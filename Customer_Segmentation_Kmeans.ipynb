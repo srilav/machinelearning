{
  "nbformat": 4,
  "nbformat_minor": 0,
  "metadata": {
    "colab": {
      "name": "Customer_Segmentation_Kmeans.ipynb",
      "provenance": [],
      "collapsed_sections": [],
      "include_colab_link": true
    },
    "kernelspec": {
      "display_name": "Python 3",
      "language": "python",
      "name": "python3"
    },
    "language_info": {
      "codemirror_mode": {
        "name": "ipython",
        "version": 3
      },
      "file_extension": ".py",
      "mimetype": "text/x-python",
      "name": "python",
      "nbconvert_exporter": "python",
      "pygments_lexer": "ipython3",
      "version": "3.6.9"
    }
  },
  "cells": [
    {
      "cell_type": "markdown",
      "metadata": {
        "id": "view-in-github",
        "colab_type": "text"
      },
      "source": [
        "<a href=\"https://colab.research.google.com/github/srilav/machinelearning/blob/main/Customer_Segmentation_Kmeans.ipynb\" target=\"_parent\"><img src=\"https://colab.research.google.com/assets/colab-badge.svg\" alt=\"Open In Colab\"/></a>"
      ]
    },
    {
      "cell_type": "markdown",
      "metadata": {
        "id": "aUUu9l_JfJ92"
      },
      "source": [
        "# Advanced Certification Program in Computational Data Science\n",
        "\n",
        "##  A program by IISc and TalentSprint\n",
        "\n",
        "### Mini Project Notebook: Customer segmentation using clustering"
      ]
    },
    {
      "cell_type": "markdown",
      "metadata": {
        "id": "SL3yrUc-XrLS"
      },
      "source": [
        "## Learning Objectives"
      ]
    },
    {
      "cell_type": "markdown",
      "metadata": {
        "id": "7jZ3M2hjiyb0"
      },
      "source": [
        "At the end of the experiment, you will be able to :\n",
        "\n",
        "* extract summary level insight from a given customer dataset.\n",
        "\n",
        "* handle the missing data and identify the underlying pattern or structure of the data.\n",
        "\n",
        "* create an unsupervised model that generates the optimum number of segments for the customer base\n",
        "\n",
        "* identify customer segments based on the overall buying behaviour\n"
      ]
    },
    {
      "cell_type": "markdown",
      "metadata": {
        "id": "-EqvTSjZZIUE"
      },
      "source": [
        "## Dataset"
      ]
    },
    {
      "cell_type": "markdown",
      "metadata": {
        "id": "interior-simple"
      },
      "source": [
        "The dataset chosen for this mini project is the Online Retail dataset. It is a transnational data set which contains all the transactions occurring between 01/12/2010 and 09/12/2011 for a UK-based and registered non-store online retail.\n",
        "\n",
        "The dataset contains 541909 records, and each record is made up of 8 fields.\n",
        "\n",
        "To know more about the dataset : [click here](https://archive.ics.uci.edu/ml/datasets/Online+Retail)"
      ]
    },
    {
      "cell_type": "markdown",
      "metadata": {
        "id": "OnFlaGNVFJI3"
      },
      "source": [
        "## Information"
      ]
    },
    {
      "cell_type": "markdown",
      "metadata": {
        "id": "Pyj3MM1li34l"
      },
      "source": [
        "**Clustering** is the task of grouping together a set of objects so that the objects in the same cluster are more similar to each other than to objects in other clusters. Similarity is a measure that reflects the strength of the relationship between two data objects.\n",
        "\n",
        "In the clustering calculation, K-Means is a very popular algorithm. In this analysis, this method is used to cluster the similar data items.\n",
        "\n",
        "In Retail and E-Commerce (B2C), and more broadly in B2B, one of the key elements shaping the business strategy of a firm is understanding of customer behaviour. More specifically, understanding the customers based on different business metrics: how much they spend (revenue), how often they spend (frequency), are they new or existing customers, what are their favorite products, etc... Such understanding in turn helps direct marketing, sales, account management and product teams to support customers on a personalized level and improve the product offering.\n",
        "\n",
        "Furthermore, segmenting customers into different categories based on similar/cyclical buying pattern over a period of 1 year helps the retail shops manage their inventory better, thereby lowering costs and raising revenues by placing the orders in sync with the buying cycles."
      ]
    },
    {
      "cell_type": "markdown",
      "metadata": {
        "id": "zHRotrYe1aFn"
      },
      "source": [
        "The market researcher can segment customers into the B2C model using various customer's demographic characteristics such as occupation, gender, age, location, and marital status. Psychographic characteristics such as social class, lifestyle and personality characteristics and behavioral characteristics such as spending, consumption habits, product/service usage, and previously purchased products. In the B2B model using various company's characteristics such as the size of the company, type of industry, and location"
      ]
    },
    {
      "cell_type": "markdown",
      "metadata": {
        "id": "eY8QnQQ_i8oy"
      },
      "source": [
        "## Problem Statement"
      ]
    },
    {
      "cell_type": "markdown",
      "metadata": {
        "id": "MhyOGhrYi8oz"
      },
      "source": [
        "Perform customer segmentation for an Online Retail using an Unsupervised Clustering technique (K-Means)"
      ]
    },
    {
      "cell_type": "markdown",
      "metadata": {
        "id": "-hvBRDmI6t2J"
      },
      "source": [
        "**What is RFM?**\n",
        "\n",
        "RFM (Recency, Frequency, Monetary) analysis is a behavior-based approach grouping customers into segments. It groups the customers on the basis of their previous purchase transactions. How recently, how often, and how much did a customer buy. RFM filters customers into various groups for the purpose of better service. It helps managers to identify potential customers to do more profitable business.\n",
        "\n",
        "**RECENCY:** How recently did the customer visit our website or how recently did a customer purchase? Number of days since last purchase (least recency)\n",
        "**Frequency:** How often do they visit or how often do they purchase?It means the total number of purchases. ( high frequency)\n",
        "**Monetary:** How much revenue we get from their visit or how much do they spend when they purchase? It means the total money customer spent (high monetary value) \n",
        "\n",
        "The RFM Analysis will help the businesses to segment their customer base into different homogenous groups so that they can engage with each group with different targeted marketing strategies"
      ]
    },
    {
      "cell_type": "markdown",
      "metadata": {
        "id": "LoBc6gM88mEL"
      },
      "source": [
        "Steps of RFM(Recency, Frequency, Monetary):\n",
        "*  Calculate the Recency, Frequency, Monetary values for each customer.\n",
        "*  Add segment bin values to RFM table using quartile\n",
        "*  Sort the customer RFM score in ascending order"
      ]
    },
    {
      "cell_type": "markdown",
      "metadata": {
        "id": "abstract-stocks"
      },
      "source": [
        "### Import Required packages"
      ]
    },
    {
      "cell_type": "code",
      "metadata": {
        "id": "advisory-knowing"
      },
      "source": [
        "from matplotlib import pyplot as plt\n",
        "import numpy as np\n",
        "import pandas as pd\n",
        "import seaborn as sns\n",
        "import scipy\n",
        "from sklearn.cluster import KMeans\n",
        "from sklearn.model_selection import train_test_split\n",
        "from sklearn.preprocessing import StandardScaler\n",
        "from sklearn.cluster import DBSCAN\n",
        "%matplotlib inline\n",
        "import warnings\n",
        "warnings.filterwarnings('ignore')"
      ],
      "execution_count": null,
      "outputs": []
    },
    {
      "cell_type": "markdown",
      "metadata": {
        "id": "bound-basement"
      },
      "source": [
        "## Data Wrangling"
      ]
    },
    {
      "cell_type": "code",
      "metadata": {
        "id": "PXJixnAljGfN"
      },
      "source": [
        "#@title Download the data\n",
        "!wget -qq https://cdn.iisc.talentsprint.com/CDS/MiniProjects/Online_Retail.zip\n",
        "!unzip -qq Online_Retail.zip"
      ],
      "execution_count": null,
      "outputs": []
    },
    {
      "cell_type": "markdown",
      "metadata": {
        "id": "zn4Qu6tMWt2Z"
      },
      "source": [
        "Cannot rely on df.info() method to get the real data type of the values of a feature, as some missing values that are represented as strings in a continuous feature can coerce it to read them as object dtypes"
      ]
    },
    {
      "cell_type": "markdown",
      "metadata": {
        "id": "EBSL2lslXbP_"
      },
      "source": [
        "**Tip:** in Python, it's a good practice to typecast categorical features to a category dtype because they make the operations on such columns much faster than the object dtype. You can do the typecasting by using .astype() method on your columns.Note that the DataFrame with category dtype is much faster"
      ]
    },
    {
      "cell_type": "markdown",
      "metadata": {
        "id": "7Vu9jhC5jJHs"
      },
      "source": [
        "## Load the data"
      ]
    },
    {
      "cell_type": "code",
      "metadata": {
        "colab": {
          "base_uri": "https://localhost:8080/",
          "height": 204
        },
        "id": "RdvmgyZRdZup",
        "outputId": "21451bd9-88c6-49f8-e01c-8897e2a74e79"
      },
      "source": [
        "#Load data\n",
        "def load_data(Filepath):\n",
        "  data = pd.read_csv(\n",
        "    Filepath,      # relative python path to subdirectory\n",
        "    sep=',',           # Comma-separated value file.\n",
        "    encoding='unicode_escape',        # encoding\n",
        "    header=0,                  # specify a row as header\n",
        "    usecols=[0,1,2,3,4,5,6,7],   # Only load the  columns specified.\n",
        "    dtype={\"InvoiceNo\": str,\"StockCode\":str,\"CustomerID\":str,\"UnitPrice\":float,\"Quantity\":int,\"Description\":str,\"Country\":\"category\"},             # Parse the agecolumn as an integer     \n",
        "    parse_dates=[\"InvoiceDate\"],     # Intepret the date column as a date\n",
        "    skiprows=None,         # Skip the first few rows of the file\n",
        "    na_values=['.', 'na','NA','NAN','NaN','Nan']       # Take any '.' or 'na' values as NA\n",
        "    )\n",
        "  return data\n",
        "\n",
        "Filepath='/content/Online_Retail_Train.csv'\n",
        "train_df=load_data(Filepath)\n",
        "train_df.head()"
      ],
      "execution_count": null,
      "outputs": [
        {
          "output_type": "execute_result",
          "data": {
            "text/html": [
              "<div>\n",
              "<style scoped>\n",
              "    .dataframe tbody tr th:only-of-type {\n",
              "        vertical-align: middle;\n",
              "    }\n",
              "\n",
              "    .dataframe tbody tr th {\n",
              "        vertical-align: top;\n",
              "    }\n",
              "\n",
              "    .dataframe thead th {\n",
              "        text-align: right;\n",
              "    }\n",
              "</style>\n",
              "<table border=\"1\" class=\"dataframe\">\n",
              "  <thead>\n",
              "    <tr style=\"text-align: right;\">\n",
              "      <th></th>\n",
              "      <th>InvoiceNo</th>\n",
              "      <th>StockCode</th>\n",
              "      <th>Description</th>\n",
              "      <th>Quantity</th>\n",
              "      <th>InvoiceDate</th>\n",
              "      <th>UnitPrice</th>\n",
              "      <th>CustomerID</th>\n",
              "      <th>Country</th>\n",
              "    </tr>\n",
              "  </thead>\n",
              "  <tbody>\n",
              "    <tr>\n",
              "      <th>0</th>\n",
              "      <td>579427</td>\n",
              "      <td>22636</td>\n",
              "      <td>CHILDS BREAKFAST SET CIRCUS PARADE</td>\n",
              "      <td>2</td>\n",
              "      <td>2011-11-29 13:04:00</td>\n",
              "      <td>8.50</td>\n",
              "      <td>16479.0</td>\n",
              "      <td>United Kingdom</td>\n",
              "    </tr>\n",
              "    <tr>\n",
              "      <th>1</th>\n",
              "      <td>554092</td>\n",
              "      <td>21916</td>\n",
              "      <td>SET 12 RETRO WHITE CHALK STICKS</td>\n",
              "      <td>24</td>\n",
              "      <td>2011-05-22 12:41:00</td>\n",
              "      <td>0.42</td>\n",
              "      <td>17176.0</td>\n",
              "      <td>United Kingdom</td>\n",
              "    </tr>\n",
              "    <tr>\n",
              "      <th>2</th>\n",
              "      <td>577774</td>\n",
              "      <td>84692</td>\n",
              "      <td>BOX OF 24 COCKTAIL PARASOLS</td>\n",
              "      <td>6</td>\n",
              "      <td>2011-11-21 15:57:00</td>\n",
              "      <td>0.42</td>\n",
              "      <td>16712.0</td>\n",
              "      <td>United Kingdom</td>\n",
              "    </tr>\n",
              "    <tr>\n",
              "      <th>3</th>\n",
              "      <td>C571196</td>\n",
              "      <td>23350</td>\n",
              "      <td>ROLL WRAP VINTAGE SPOT</td>\n",
              "      <td>-12</td>\n",
              "      <td>2011-10-14 12:02:00</td>\n",
              "      <td>1.25</td>\n",
              "      <td>NaN</td>\n",
              "      <td>United Kingdom</td>\n",
              "    </tr>\n",
              "    <tr>\n",
              "      <th>4</th>\n",
              "      <td>546649</td>\n",
              "      <td>84509a</td>\n",
              "      <td>SET OF 4 ENGLISH ROSE PLACEMATS</td>\n",
              "      <td>1</td>\n",
              "      <td>2011-03-15 14:17:00</td>\n",
              "      <td>7.46</td>\n",
              "      <td>NaN</td>\n",
              "      <td>United Kingdom</td>\n",
              "    </tr>\n",
              "  </tbody>\n",
              "</table>\n",
              "</div>"
            ],
            "text/plain": [
              "  InvoiceNo StockCode  ... CustomerID         Country\n",
              "0    579427     22636  ...    16479.0  United Kingdom\n",
              "1    554092     21916  ...    17176.0  United Kingdom\n",
              "2    577774     84692  ...    16712.0  United Kingdom\n",
              "3   C571196     23350  ...        NaN  United Kingdom\n",
              "4    546649    84509a  ...        NaN  United Kingdom\n",
              "\n",
              "[5 rows x 8 columns]"
            ]
          },
          "metadata": {},
          "execution_count": 3
        }
      ]
    },
    {
      "cell_type": "code",
      "metadata": {
        "id": "ZIP5HV_ma_1u"
      },
      "source": [
        "#Trimming customer ID column\n",
        "train_df = train_df.sort_values(ascending=True,by=[\"InvoiceDate\",\"CustomerID\", \"InvoiceNo\"]).reset_index()\n",
        "train_df['CustomerID'] = train_df['CustomerID'].replace('\\.0', '', regex=True)"
      ],
      "execution_count": null,
      "outputs": []
    },
    {
      "cell_type": "markdown",
      "metadata": {
        "id": "vtV_KWBLUzRk"
      },
      "source": [
        "## Data Pre-processing (2 points)"
      ]
    },
    {
      "cell_type": "code",
      "metadata": {
        "colab": {
          "base_uri": "https://localhost:8080/"
        },
        "id": "Lj5VPXN1dZuq",
        "outputId": "7c64e607-edc2-45dd-a8d0-c1a24c00aa86"
      },
      "source": [
        "#data exploration\n",
        "def explore_data(df):\n",
        "    print(f\"First 5 rows : \\n {df.head()} \\n\")\n",
        "    print(f\"Shape : \\n {df.shape} \\n\")\n",
        "    print(f\"Columns : \\n {df.columns} \\n\")\n",
        "    print(f\"Data types : \\n {df.dtypes}\\n\")\n",
        "    print(f\"Summary of data : \\n {df.describe()} \\n\")\n",
        "    print(f\"data info :\\n{df.info()}\\n\")\n",
        "    print(f\"Null objects in each column :\\n{df.isnull().sum()}\\n\")\n",
        "    print(f\"Duplicate rows in data :\\n{np.any(df.duplicated())}\\n\")\n",
        "\n",
        "explore_data(train_df)"
      ],
      "execution_count": null,
      "outputs": [
        {
          "output_type": "stream",
          "name": "stdout",
          "text": [
            "First 5 rows : \n",
            "     index InvoiceNo StockCode  ... UnitPrice  CustomerID         Country\n",
            "0    5391    536365     21730  ...      4.25       17850  United Kingdom\n",
            "1  211900    536365    85123A  ...      2.55       17850  United Kingdom\n",
            "2  271253    536365    84029E  ...      3.39       17850  United Kingdom\n",
            "3  322923    536365     71053  ...      3.39       17850  United Kingdom\n",
            "4  385612    536365    84029G  ...      3.39       17850  United Kingdom\n",
            "\n",
            "[5 rows x 9 columns] \n",
            "\n",
            "Shape : \n",
            " (514813, 9) \n",
            "\n",
            "Columns : \n",
            " Index(['index', 'InvoiceNo', 'StockCode', 'Description', 'Quantity',\n",
            "       'InvoiceDate', 'UnitPrice', 'CustomerID', 'Country'],\n",
            "      dtype='object') \n",
            "\n",
            "Data types : \n",
            " index                   int64\n",
            "InvoiceNo              object\n",
            "StockCode              object\n",
            "Description            object\n",
            "Quantity                int64\n",
            "InvoiceDate    datetime64[ns]\n",
            "UnitPrice             float64\n",
            "CustomerID             object\n",
            "Country              category\n",
            "dtype: object\n",
            "\n",
            "Summary of data : \n",
            "                index       Quantity      UnitPrice\n",
            "count  514813.000000  514813.000000  514813.000000\n",
            "mean   257406.000000       9.552498       4.586406\n",
            "std    148613.856403     223.529242      95.660226\n",
            "min         0.000000  -80995.000000  -11062.060000\n",
            "25%    128703.000000       1.000000       1.250000\n",
            "50%    257406.000000       3.000000       2.080000\n",
            "75%    386109.000000      10.000000       4.130000\n",
            "max    514812.000000   80995.000000   38970.000000 \n",
            "\n",
            "<class 'pandas.core.frame.DataFrame'>\n",
            "RangeIndex: 514813 entries, 0 to 514812\n",
            "Data columns (total 9 columns):\n",
            " #   Column       Non-Null Count   Dtype         \n",
            "---  ------       --------------   -----         \n",
            " 0   index        514813 non-null  int64         \n",
            " 1   InvoiceNo    514813 non-null  object        \n",
            " 2   StockCode    514813 non-null  object        \n",
            " 3   Description  513428 non-null  object        \n",
            " 4   Quantity     514813 non-null  int64         \n",
            " 5   InvoiceDate  514813 non-null  datetime64[ns]\n",
            " 6   UnitPrice    514813 non-null  float64       \n",
            " 7   CustomerID   386550 non-null  object        \n",
            " 8   Country      514813 non-null  category      \n",
            "dtypes: category(1), datetime64[ns](1), float64(1), int64(2), object(4)\n",
            "memory usage: 31.9+ MB\n",
            "data info :\n",
            "None\n",
            "\n",
            "Null objects in each column :\n",
            "index               0\n",
            "InvoiceNo           0\n",
            "StockCode           0\n",
            "Description      1385\n",
            "Quantity            0\n",
            "InvoiceDate         0\n",
            "UnitPrice           0\n",
            "CustomerID     128263\n",
            "Country             0\n",
            "dtype: int64\n",
            "\n",
            "Duplicate rows in data :\n",
            "False\n",
            "\n"
          ]
        }
      ]
    },
    {
      "cell_type": "code",
      "metadata": {
        "colab": {
          "base_uri": "https://localhost:8080/",
          "height": 142
        },
        "id": "Uon57C75G4m3",
        "outputId": "0e32113d-21d3-476e-8e86-ad011d6a3ecc"
      },
      "source": [
        "#NULL percentage\n",
        "# gives some infos on columns types and numer of null values\n",
        "tab_info=pd.DataFrame(train_df.dtypes).T.rename(index={0:'column type'})\n",
        "tab_info=tab_info.append(pd.DataFrame(train_df.isnull().sum()).T.rename(index={0:'null values (nb)'}))\n",
        "tab_info=tab_info.append(pd.DataFrame(train_df.isnull().sum()/train_df.shape[0]*100).T.\n",
        "                         rename(index={0:'null values (%)'}))\n",
        "display(tab_info)"
      ],
      "execution_count": null,
      "outputs": [
        {
          "output_type": "display_data",
          "data": {
            "text/html": [
              "<div>\n",
              "<style scoped>\n",
              "    .dataframe tbody tr th:only-of-type {\n",
              "        vertical-align: middle;\n",
              "    }\n",
              "\n",
              "    .dataframe tbody tr th {\n",
              "        vertical-align: top;\n",
              "    }\n",
              "\n",
              "    .dataframe thead th {\n",
              "        text-align: right;\n",
              "    }\n",
              "</style>\n",
              "<table border=\"1\" class=\"dataframe\">\n",
              "  <thead>\n",
              "    <tr style=\"text-align: right;\">\n",
              "      <th></th>\n",
              "      <th>index</th>\n",
              "      <th>InvoiceNo</th>\n",
              "      <th>StockCode</th>\n",
              "      <th>Description</th>\n",
              "      <th>Quantity</th>\n",
              "      <th>InvoiceDate</th>\n",
              "      <th>UnitPrice</th>\n",
              "      <th>CustomerID</th>\n",
              "      <th>Country</th>\n",
              "    </tr>\n",
              "  </thead>\n",
              "  <tbody>\n",
              "    <tr>\n",
              "      <th>column type</th>\n",
              "      <td>int64</td>\n",
              "      <td>object</td>\n",
              "      <td>object</td>\n",
              "      <td>object</td>\n",
              "      <td>int64</td>\n",
              "      <td>datetime64[ns]</td>\n",
              "      <td>float64</td>\n",
              "      <td>object</td>\n",
              "      <td>category</td>\n",
              "    </tr>\n",
              "    <tr>\n",
              "      <th>null values (nb)</th>\n",
              "      <td>0</td>\n",
              "      <td>0</td>\n",
              "      <td>0</td>\n",
              "      <td>1385</td>\n",
              "      <td>0</td>\n",
              "      <td>0</td>\n",
              "      <td>0</td>\n",
              "      <td>128263</td>\n",
              "      <td>0</td>\n",
              "    </tr>\n",
              "    <tr>\n",
              "      <th>null values (%)</th>\n",
              "      <td>0</td>\n",
              "      <td>0</td>\n",
              "      <td>0</td>\n",
              "      <td>0.26903</td>\n",
              "      <td>0</td>\n",
              "      <td>0</td>\n",
              "      <td>0</td>\n",
              "      <td>24.9145</td>\n",
              "      <td>0</td>\n",
              "    </tr>\n",
              "  </tbody>\n",
              "</table>\n",
              "</div>"
            ],
            "text/plain": [
              "                  index InvoiceNo StockCode  ... UnitPrice CustomerID   Country\n",
              "column type       int64    object    object  ...   float64     object  category\n",
              "null values (nb)      0         0         0  ...         0     128263         0\n",
              "null values (%)       0         0         0  ...         0    24.9145         0\n",
              "\n",
              "[3 rows x 9 columns]"
            ]
          },
          "metadata": {}
        }
      ]
    },
    {
      "cell_type": "markdown",
      "metadata": {
        "id": "VcCVvb_RjPxy"
      },
      "source": [
        "Explore the dataset by performing the following operations:\n",
        "\n",
        "* There is a lot of redundant data. Identify such data and take appropriate action.\n",
        "\n",
        "  **Hint:** refer to this [link](https://pandas.pydata.org/pandas-docs/stable/reference/api/pandas.DataFrame.drop_duplicates.html)\n",
        "\n",
        "* Most Invoices appear as normal transactions with positive quantity and prices, but there are some prefixed with \"C\" or \"A\" which denote different transaction types. Invoice starting with C represents cancelled order and A represents the Adjusted. Identify such data and take appropriate action.\n",
        "\n",
        "  **Hint:** Check the negative values in Quantity column for all cancelled orders\n",
        "\n",
        "* Handle the null values by dropping or filling with appropriate mean\n",
        "\n",
        "\n",
        "* Some of the transactions based on the `StockCode` variable are not actually products, but representing the costs or fees regarding to the post or bank or other tansactions. Find such data and handle it accordingly.\n",
        "\n",
        "  Hint:\n",
        "    - The transaction with `'POST' 'PADS' 'M' 'DOT' 'C2' 'BANK CHARGES'` as their `StockCodes` are considered as irrelevant transactions.\n",
        "\n",
        "* Identify the outliers in the UntiPrice and Quantity and handle them accordingly.\n",
        "\n",
        "  **Hint:** [link](https://kanoki.org/2020/04/23/how-to-remove-outliers-in-python/)\n",
        "\n",
        "* Create a DayOfWeek column using `InvoiceDate`, Hint: pd.to_datetime()\n",
        "\n",
        "**Note:** Perform all the above operations using a function to reuse and apply the same for test data."
      ]
    },
    {
      "cell_type": "code",
      "metadata": {
        "colab": {
          "base_uri": "https://localhost:8080/"
        },
        "id": "-MgDINbizLkV",
        "outputId": "f97fa5a6-57db-412c-a786-f69962f02f8b"
      },
      "source": [
        "for x in train_df.columns:\n",
        "  print(f\"Unique {x} : \\n {train_df[x].unique().shape}\")"
      ],
      "execution_count": null,
      "outputs": [
        {
          "output_type": "stream",
          "name": "stdout",
          "text": [
            "Unique index : \n",
            " (514813,)\n",
            "Unique InvoiceNo : \n",
            " (25610,)\n",
            "Unique StockCode : \n",
            " (4062,)\n",
            "Unique Description : \n",
            " (4211,)\n",
            "Unique Quantity : \n",
            " (713,)\n",
            "Unique InvoiceDate : \n",
            " (23059,)\n",
            "Unique UnitPrice : \n",
            " (1582,)\n",
            "Unique CustomerID : \n",
            " (4368,)\n",
            "Unique Country : \n",
            " (38,)\n"
          ]
        }
      ]
    },
    {
      "cell_type": "markdown",
      "metadata": {
        "id": "btOqRLWjeXZP"
      },
      "source": [
        "Only 4367 Unique customers who brought 3679 different  Products.The total number of transactions carried out is of the order of  ∼ 22.000 "
      ]
    },
    {
      "cell_type": "code",
      "metadata": {
        "colab": {
          "base_uri": "https://localhost:8080/"
        },
        "id": "n21lfUNBcivU",
        "outputId": "702d6269-7c8e-4d8a-8e7d-3da625dfd60d"
      },
      "source": [
        "train_df['InvoiceDate'].min(),train_df['InvoiceDate'].max()"
      ],
      "execution_count": null,
      "outputs": [
        {
          "output_type": "execute_result",
          "data": {
            "text/plain": [
              "(Timestamp('2010-12-01 08:26:00'), Timestamp('2011-12-09 12:50:00'))"
            ]
          },
          "metadata": {},
          "execution_count": 8
        }
      ]
    },
    {
      "cell_type": "code",
      "metadata": {
        "colab": {
          "base_uri": "https://localhost:8080/",
          "height": 204
        },
        "id": "sapOCGWghPuR",
        "outputId": "b9b4ff43-7429-457e-9d8e-46b524a6c9b3"
      },
      "source": [
        "train_df['DayOfWeek']=train_df['InvoiceDate'].dt.weekday\n",
        "train_df.tail()"
      ],
      "execution_count": null,
      "outputs": [
        {
          "output_type": "execute_result",
          "data": {
            "text/html": [
              "<div>\n",
              "<style scoped>\n",
              "    .dataframe tbody tr th:only-of-type {\n",
              "        vertical-align: middle;\n",
              "    }\n",
              "\n",
              "    .dataframe tbody tr th {\n",
              "        vertical-align: top;\n",
              "    }\n",
              "\n",
              "    .dataframe thead th {\n",
              "        text-align: right;\n",
              "    }\n",
              "</style>\n",
              "<table border=\"1\" class=\"dataframe\">\n",
              "  <thead>\n",
              "    <tr style=\"text-align: right;\">\n",
              "      <th></th>\n",
              "      <th>index</th>\n",
              "      <th>InvoiceNo</th>\n",
              "      <th>StockCode</th>\n",
              "      <th>Description</th>\n",
              "      <th>Quantity</th>\n",
              "      <th>InvoiceDate</th>\n",
              "      <th>UnitPrice</th>\n",
              "      <th>CustomerID</th>\n",
              "      <th>Country</th>\n",
              "      <th>DayOfWeek</th>\n",
              "    </tr>\n",
              "  </thead>\n",
              "  <tbody>\n",
              "    <tr>\n",
              "      <th>514808</th>\n",
              "      <td>350247</td>\n",
              "      <td>581587</td>\n",
              "      <td>22631</td>\n",
              "      <td>CIRCUS PARADE LUNCH BOX</td>\n",
              "      <td>12</td>\n",
              "      <td>2011-12-09 12:50:00</td>\n",
              "      <td>1.95</td>\n",
              "      <td>12680</td>\n",
              "      <td>France</td>\n",
              "      <td>4</td>\n",
              "    </tr>\n",
              "    <tr>\n",
              "      <th>514809</th>\n",
              "      <td>375846</td>\n",
              "      <td>581587</td>\n",
              "      <td>23254</td>\n",
              "      <td>CHILDRENS CUTLERY DOLLY GIRL</td>\n",
              "      <td>4</td>\n",
              "      <td>2011-12-09 12:50:00</td>\n",
              "      <td>4.15</td>\n",
              "      <td>12680</td>\n",
              "      <td>France</td>\n",
              "      <td>4</td>\n",
              "    </tr>\n",
              "    <tr>\n",
              "      <th>514810</th>\n",
              "      <td>399451</td>\n",
              "      <td>581587</td>\n",
              "      <td>22613</td>\n",
              "      <td>PACK OF 20 SPACEBOY NAPKINS</td>\n",
              "      <td>12</td>\n",
              "      <td>2011-12-09 12:50:00</td>\n",
              "      <td>0.85</td>\n",
              "      <td>12680</td>\n",
              "      <td>France</td>\n",
              "      <td>4</td>\n",
              "    </tr>\n",
              "    <tr>\n",
              "      <th>514811</th>\n",
              "      <td>420471</td>\n",
              "      <td>581587</td>\n",
              "      <td>22726</td>\n",
              "      <td>ALARM CLOCK BAKELIKE GREEN</td>\n",
              "      <td>4</td>\n",
              "      <td>2011-12-09 12:50:00</td>\n",
              "      <td>3.75</td>\n",
              "      <td>12680</td>\n",
              "      <td>France</td>\n",
              "      <td>4</td>\n",
              "    </tr>\n",
              "    <tr>\n",
              "      <th>514812</th>\n",
              "      <td>491871</td>\n",
              "      <td>581587</td>\n",
              "      <td>22730</td>\n",
              "      <td>ALARM CLOCK BAKELIKE IVORY</td>\n",
              "      <td>4</td>\n",
              "      <td>2011-12-09 12:50:00</td>\n",
              "      <td>3.75</td>\n",
              "      <td>12680</td>\n",
              "      <td>France</td>\n",
              "      <td>4</td>\n",
              "    </tr>\n",
              "  </tbody>\n",
              "</table>\n",
              "</div>"
            ],
            "text/plain": [
              "         index InvoiceNo StockCode  ... CustomerID  Country DayOfWeek\n",
              "514808  350247    581587     22631  ...      12680   France         4\n",
              "514809  375846    581587     23254  ...      12680   France         4\n",
              "514810  399451    581587     22613  ...      12680   France         4\n",
              "514811  420471    581587     22726  ...      12680   France         4\n",
              "514812  491871    581587     22730  ...      12680   France         4\n",
              "\n",
              "[5 rows x 10 columns]"
            ]
          },
          "metadata": {},
          "execution_count": 9
        }
      ]
    },
    {
      "cell_type": "code",
      "metadata": {
        "colab": {
          "base_uri": "https://localhost:8080/"
        },
        "id": "hmuvPDhWOsgM",
        "outputId": "0b43e98f-2c31-4e51-c874-514e8366f356"
      },
      "source": [
        "list_special_codes =  train_df[ train_df['InvoiceNo'].str.contains('^[a-zA-Z]+', regex=True)]['InvoiceNo'].unique()\n",
        "list_special_codes"
      ],
      "execution_count": null,
      "outputs": [
        {
          "output_type": "execute_result",
          "data": {
            "text/plain": [
              "array(['C536383', 'C536391', 'C536506', ..., 'C581499', 'C581568',\n",
              "       'C581569'], dtype=object)"
            ]
          },
          "metadata": {},
          "execution_count": 10
        }
      ]
    },
    {
      "cell_type": "code",
      "metadata": {
        "id": "mxY7DXFxB8js",
        "colab": {
          "base_uri": "https://localhost:8080/"
        },
        "outputId": "036e5d06-046e-454c-b2ed-08c61b5ee3b8"
      },
      "source": [
        "n1 = train_df['InvoiceNo'].apply(lambda x:int('C' in x)).sum()\n",
        "n2 = train_df.shape[0]\n",
        "print('Number of orders canceled: {}/{} ({:.2f}%) '.format(n1, n2, n1/n2*100))"
      ],
      "execution_count": null,
      "outputs": [
        {
          "output_type": "stream",
          "name": "stdout",
          "text": [
            "Number of orders canceled: 8797/514813 (1.71%) \n"
          ]
        }
      ]
    },
    {
      "cell_type": "markdown",
      "metadata": {
        "id": "JxzyPzEFIRU3"
      },
      "source": [
        "The number of cancellations is not quite large ( ∼ 1.7% of the total number of transactions)."
      ]
    },
    {
      "cell_type": "code",
      "metadata": {
        "id": "F-7wv12DC_5h",
        "colab": {
          "base_uri": "https://localhost:8080/"
        },
        "outputId": "c266118e-234e-488a-a51d-bea9c96223cf"
      },
      "source": [
        "n1 = train_df['InvoiceNo'].apply(lambda x:int('A' in x)).sum()\n",
        "n2 = train_df.shape[0]\n",
        "print('Number of orders adjusted: {}/{} ({:.2f}%) '.format(n1, n2, n1/n2*100))"
      ],
      "execution_count": null,
      "outputs": [
        {
          "output_type": "stream",
          "name": "stdout",
          "text": [
            "Number of orders adjusted: 3/514813 (0.00%) \n"
          ]
        }
      ]
    },
    {
      "cell_type": "code",
      "metadata": {
        "colab": {
          "base_uri": "https://localhost:8080/"
        },
        "id": "UIKuiM3gKFm6",
        "outputId": "fcbc3737-db1b-41d8-dbeb-6fee30346910"
      },
      "source": [
        "n1 =train_df[(train_df['Quantity']<0)].shape[0]\n",
        "n2 = train_df.shape[0]\n",
        "print('Number of orders with negative quantity : {}/{} ({:.2f}%) '.format(n1, n2, n1/n2*100))"
      ],
      "execution_count": null,
      "outputs": [
        {
          "output_type": "stream",
          "name": "stdout",
          "text": [
            "Number of orders with negative quantity : 10084/514813 (1.96%) \n"
          ]
        }
      ]
    },
    {
      "cell_type": "code",
      "metadata": {
        "id": "zOkk47WV5LDd",
        "colab": {
          "base_uri": "https://localhost:8080/"
        },
        "outputId": "19d3d46c-e903-495b-851f-bad9c3dc73bf"
      },
      "source": [
        "train_df = train_df[(train_df['Quantity']>0)]\n",
        "n1 = train_df['InvoiceNo'].apply(lambda x:int('C' in x)).sum()\n",
        "n2 = train_df.shape[0]\n",
        "print('Number of orders canceled after removing negative quantity : {}/{} ({:.2f}%) '.format(n1, n2, n1/n2*100))\n",
        "n1 = train_df['InvoiceNo'].apply(lambda x:int('A' in x)).sum()\n",
        "n2 = train_df.shape[0]\n",
        "print('Number of orders adjusted after removing negative quantity: {}/{} ({:.2f}%) '.format(n1, n2, n1/n2*100))"
      ],
      "execution_count": null,
      "outputs": [
        {
          "output_type": "stream",
          "name": "stdout",
          "text": [
            "Number of orders canceled after removing negative quantity : 0/504729 (0.00%) \n",
            "Number of orders adjusted after removing negative quantity: 3/504729 (0.00%) \n"
          ]
        }
      ]
    },
    {
      "cell_type": "code",
      "metadata": {
        "colab": {
          "base_uri": "https://localhost:8080/"
        },
        "id": "l5lsHARUPUR_",
        "outputId": "1814e218-9e96-4d97-8e9c-4c90dfdbd5cb"
      },
      "source": [
        "list_special_codes =  train_df[train_df['InvoiceNo'].str.contains('^[a-zA-Z]+', regex=True)]['InvoiceNo'].unique()\n",
        "list_special_codes"
      ],
      "execution_count": null,
      "outputs": [
        {
          "output_type": "execute_result",
          "data": {
            "text/plain": [
              "array(['A563185', 'A563186', 'A563187'], dtype=object)"
            ]
          },
          "metadata": {},
          "execution_count": 15
        }
      ]
    },
    {
      "cell_type": "code",
      "metadata": {
        "colab": {
          "base_uri": "https://localhost:8080/",
          "height": 142
        },
        "id": "FkCQgvk7YM93",
        "outputId": "354393ea-c106-4042-f402-1b18f7083d93"
      },
      "source": [
        "temp = train_df[train_df['InvoiceNo'].isin(list_special_codes)]\n",
        "temp.head()"
      ],
      "execution_count": null,
      "outputs": [
        {
          "output_type": "execute_result",
          "data": {
            "text/html": [
              "<div>\n",
              "<style scoped>\n",
              "    .dataframe tbody tr th:only-of-type {\n",
              "        vertical-align: middle;\n",
              "    }\n",
              "\n",
              "    .dataframe tbody tr th {\n",
              "        vertical-align: top;\n",
              "    }\n",
              "\n",
              "    .dataframe thead th {\n",
              "        text-align: right;\n",
              "    }\n",
              "</style>\n",
              "<table border=\"1\" class=\"dataframe\">\n",
              "  <thead>\n",
              "    <tr style=\"text-align: right;\">\n",
              "      <th></th>\n",
              "      <th>index</th>\n",
              "      <th>InvoiceNo</th>\n",
              "      <th>StockCode</th>\n",
              "      <th>Description</th>\n",
              "      <th>Quantity</th>\n",
              "      <th>InvoiceDate</th>\n",
              "      <th>UnitPrice</th>\n",
              "      <th>CustomerID</th>\n",
              "      <th>Country</th>\n",
              "      <th>DayOfWeek</th>\n",
              "    </tr>\n",
              "  </thead>\n",
              "  <tbody>\n",
              "    <tr>\n",
              "      <th>285006</th>\n",
              "      <td>279008</td>\n",
              "      <td>A563185</td>\n",
              "      <td>B</td>\n",
              "      <td>Adjust bad debt</td>\n",
              "      <td>1</td>\n",
              "      <td>2011-08-12 14:50:00</td>\n",
              "      <td>11062.06</td>\n",
              "      <td>NaN</td>\n",
              "      <td>United Kingdom</td>\n",
              "      <td>4</td>\n",
              "    </tr>\n",
              "    <tr>\n",
              "      <th>285007</th>\n",
              "      <td>405078</td>\n",
              "      <td>A563186</td>\n",
              "      <td>B</td>\n",
              "      <td>Adjust bad debt</td>\n",
              "      <td>1</td>\n",
              "      <td>2011-08-12 14:51:00</td>\n",
              "      <td>-11062.06</td>\n",
              "      <td>NaN</td>\n",
              "      <td>United Kingdom</td>\n",
              "      <td>4</td>\n",
              "    </tr>\n",
              "    <tr>\n",
              "      <th>285008</th>\n",
              "      <td>51050</td>\n",
              "      <td>A563187</td>\n",
              "      <td>B</td>\n",
              "      <td>Adjust bad debt</td>\n",
              "      <td>1</td>\n",
              "      <td>2011-08-12 14:52:00</td>\n",
              "      <td>-11062.06</td>\n",
              "      <td>NaN</td>\n",
              "      <td>United Kingdom</td>\n",
              "      <td>4</td>\n",
              "    </tr>\n",
              "  </tbody>\n",
              "</table>\n",
              "</div>"
            ],
            "text/plain": [
              "         index InvoiceNo StockCode  ... CustomerID         Country DayOfWeek\n",
              "285006  279008   A563185         B  ...        NaN  United Kingdom         4\n",
              "285007  405078   A563186         B  ...        NaN  United Kingdom         4\n",
              "285008   51050   A563187         B  ...        NaN  United Kingdom         4\n",
              "\n",
              "[3 rows x 10 columns]"
            ]
          },
          "metadata": {},
          "execution_count": 16
        }
      ]
    },
    {
      "cell_type": "code",
      "metadata": {
        "colab": {
          "base_uri": "https://localhost:8080/"
        },
        "id": "X2TW9JLHfaWJ",
        "outputId": "c3cea477-40e4-4120-a51c-99eb7678db3e"
      },
      "source": [
        "train_df[train_df[\"StockCode\"].str.contains('^[a-zA-Z]+', regex=True)][\"StockCode\"].unique()"
      ],
      "execution_count": null,
      "outputs": [
        {
          "output_type": "execute_result",
          "data": {
            "text/plain": [
              "array(['POST', 'C2', 'DOT', 'M', 'BANK CHARGES', 'DCGS0076', 'DCGS0003',\n",
              "       'gift_0001_40', 'DCGS0070', 'm', 'gift_0001_50', 'gift_0001_30',\n",
              "       'gift_0001_20', 'DCGS0069', 'DCGSSGIRL', 'DCGSSBOY',\n",
              "       'gift_0001_10', 'AMAZONFEE', 'S', 'PADS', 'DCGS0004', 'B'],\n",
              "      dtype=object)"
            ]
          },
          "metadata": {},
          "execution_count": 17
        }
      ]
    },
    {
      "cell_type": "code",
      "metadata": {
        "colab": {
          "base_uri": "https://localhost:8080/",
          "height": 142
        },
        "id": "NMA-t6YQghT5",
        "outputId": "a50399b2-d3cf-418e-f400-26adb199f12c"
      },
      "source": [
        "train_df[train_df[\"StockCode\"]=='gift_0001_50']"
      ],
      "execution_count": null,
      "outputs": [
        {
          "output_type": "execute_result",
          "data": {
            "text/html": [
              "<div>\n",
              "<style scoped>\n",
              "    .dataframe tbody tr th:only-of-type {\n",
              "        vertical-align: middle;\n",
              "    }\n",
              "\n",
              "    .dataframe tbody tr th {\n",
              "        vertical-align: top;\n",
              "    }\n",
              "\n",
              "    .dataframe thead th {\n",
              "        text-align: right;\n",
              "    }\n",
              "</style>\n",
              "<table border=\"1\" class=\"dataframe\">\n",
              "  <thead>\n",
              "    <tr style=\"text-align: right;\">\n",
              "      <th></th>\n",
              "      <th>index</th>\n",
              "      <th>InvoiceNo</th>\n",
              "      <th>StockCode</th>\n",
              "      <th>Description</th>\n",
              "      <th>Quantity</th>\n",
              "      <th>InvoiceDate</th>\n",
              "      <th>UnitPrice</th>\n",
              "      <th>CustomerID</th>\n",
              "      <th>Country</th>\n",
              "      <th>DayOfWeek</th>\n",
              "    </tr>\n",
              "  </thead>\n",
              "  <tbody>\n",
              "    <tr>\n",
              "      <th>39950</th>\n",
              "      <td>309309</td>\n",
              "      <td>539958</td>\n",
              "      <td>gift_0001_50</td>\n",
              "      <td>Dotcomgiftshop Gift Voucher Â£50.00</td>\n",
              "      <td>1</td>\n",
              "      <td>2010-12-23 13:26:00</td>\n",
              "      <td>42.55</td>\n",
              "      <td>NaN</td>\n",
              "      <td>United Kingdom</td>\n",
              "      <td>3</td>\n",
              "    </tr>\n",
              "    <tr>\n",
              "      <th>169574</th>\n",
              "      <td>341773</td>\n",
              "      <td>552232</td>\n",
              "      <td>gift_0001_50</td>\n",
              "      <td>Dotcomgiftshop Gift Voucher Â£50.00</td>\n",
              "      <td>1</td>\n",
              "      <td>2011-05-06 15:54:00</td>\n",
              "      <td>41.67</td>\n",
              "      <td>NaN</td>\n",
              "      <td>United Kingdom</td>\n",
              "      <td>4</td>\n",
              "    </tr>\n",
              "    <tr>\n",
              "      <th>233203</th>\n",
              "      <td>413408</td>\n",
              "      <td>558614</td>\n",
              "      <td>gift_0001_50</td>\n",
              "      <td>Dotcomgiftshop Gift Voucher Â£50.00</td>\n",
              "      <td>1</td>\n",
              "      <td>2011-06-30 15:56:00</td>\n",
              "      <td>41.67</td>\n",
              "      <td>NaN</td>\n",
              "      <td>United Kingdom</td>\n",
              "      <td>3</td>\n",
              "    </tr>\n",
              "  </tbody>\n",
              "</table>\n",
              "</div>"
            ],
            "text/plain": [
              "         index InvoiceNo     StockCode  ... CustomerID         Country DayOfWeek\n",
              "39950   309309    539958  gift_0001_50  ...        NaN  United Kingdom         3\n",
              "169574  341773    552232  gift_0001_50  ...        NaN  United Kingdom         4\n",
              "233203  413408    558614  gift_0001_50  ...        NaN  United Kingdom         3\n",
              "\n",
              "[3 rows x 10 columns]"
            ]
          },
          "metadata": {},
          "execution_count": 18
        }
      ]
    },
    {
      "cell_type": "markdown",
      "metadata": {
        "id": "QSQAwZ1OOU6k"
      },
      "source": [
        "Dropping negative quantity only remove cancelled orders not adjusted one's.Which can be removed by handling missing customer ID"
      ]
    },
    {
      "cell_type": "code",
      "metadata": {
        "colab": {
          "base_uri": "https://localhost:8080/"
        },
        "id": "Mu-Eed4adaWh",
        "outputId": "7ceadd44-aab0-4e07-828f-6d321debb614"
      },
      "source": [
        "#Handling missing customer ID\n",
        "print(f\"Percentage of the entries that are not assigned to a particular customer :\\n{train_df['CustomerID'].isnull().sum()/train_df['CustomerID'].shape[0]*100}\\n\")"
      ],
      "execution_count": null,
      "outputs": [
        {
          "output_type": "stream",
          "name": "stdout",
          "text": [
            "Percentage of the entries that are not assigned to a particular customer :\n",
            "25.085342827537154\n",
            "\n"
          ]
        }
      ]
    },
    {
      "cell_type": "code",
      "metadata": {
        "colab": {
          "base_uri": "https://localhost:8080/"
        },
        "id": "W6CGsFUr4G_v",
        "outputId": "eb1556e6-fb63-46f3-e661-f3d57c82d33f"
      },
      "source": [
        "#Remove those with no customer information\n",
        "print(f\"Total rows dataframe before removing missing customers :\\n{train_df.shape}\\n\")\n",
        "train_df= train_df[pd.notnull(train_df['CustomerID'])] #Remove missing customer ID rows\n",
        "print(f\"Total rows dataframe after removing missing customers :\\n{train_df.shape}\\n\")"
      ],
      "execution_count": null,
      "outputs": [
        {
          "output_type": "stream",
          "name": "stdout",
          "text": [
            "Total rows dataframe before removing missing customers :\n",
            "(504729, 10)\n",
            "\n",
            "Total rows dataframe after removing missing customers :\n",
            "(378116, 10)\n",
            "\n"
          ]
        }
      ]
    },
    {
      "cell_type": "code",
      "metadata": {
        "id": "CEmi_-JQ1HDW"
      },
      "source": [
        "#temp_desc_df=train_df.groupby(['Description','StockCode']).count().reset_index()\n",
        "#temp_desc_df.StockCode.value_counts()[temp_desc_df.StockCode.value_counts()>1].reset_index().head()"
      ],
      "execution_count": null,
      "outputs": []
    },
    {
      "cell_type": "markdown",
      "metadata": {
        "id": "hLvnS7JD0ubr"
      },
      "source": [
        "There is a mismatch between StockCode and Description i.e we have multiple descriptions for the same Stockcodes."
      ]
    },
    {
      "cell_type": "code",
      "metadata": {
        "colab": {
          "base_uri": "https://localhost:8080/"
        },
        "id": "H-TMsPZfTw1D",
        "outputId": "3e3f682a-9bf5-4d36-b39f-0ea6eec23e4b"
      },
      "source": [
        "#Handling missing Description\n",
        "print(f\"Total rows dataframe before removing missing customers :\\n{train_df.shape}\\n\")\n",
        "train_df= train_df[pd.notnull(train_df['Description'])] #Remove missing customer ID rows\n",
        "print(f\"Total rows dataframe after removing missing customers :\\n{train_df.shape}\\n\") # Already removed by missing customers"
      ],
      "execution_count": null,
      "outputs": [
        {
          "output_type": "stream",
          "name": "stdout",
          "text": [
            "Total rows dataframe before removing missing customers :\n",
            "(378116, 10)\n",
            "\n",
            "Total rows dataframe after removing missing customers :\n",
            "(378116, 10)\n",
            "\n"
          ]
        }
      ]
    },
    {
      "cell_type": "code",
      "metadata": {
        "colab": {
          "base_uri": "https://localhost:8080/"
        },
        "id": "EOXPqzC1SqL7",
        "outputId": "e4dc1d92-d7ac-4c88-8a04-8cca700591a8"
      },
      "source": [
        "irrelevant_productcode=  train_df[train_df[\"StockCode\"].str.contains('^[a-zA-Z]+', regex=True)][\"StockCode\"].unique()\n",
        "irrelevant_productcode"
      ],
      "execution_count": null,
      "outputs": [
        {
          "output_type": "execute_result",
          "data": {
            "text/plain": [
              "array(['POST', 'C2', 'M', 'BANK CHARGES', 'PADS', 'DOT'], dtype=object)"
            ]
          },
          "metadata": {},
          "execution_count": 23
        }
      ]
    },
    {
      "cell_type": "code",
      "metadata": {
        "colab": {
          "base_uri": "https://localhost:8080/",
          "height": 419
        },
        "id": "EN3G3rdmVFnd",
        "outputId": "99499951-d9a7-42a0-e10b-57e594ed0e12"
      },
      "source": [
        "train_df[train_df[\"StockCode\"].isin(irrelevant_productcode)]"
      ],
      "execution_count": null,
      "outputs": [
        {
          "output_type": "execute_result",
          "data": {
            "text/html": [
              "<div>\n",
              "<style scoped>\n",
              "    .dataframe tbody tr th:only-of-type {\n",
              "        vertical-align: middle;\n",
              "    }\n",
              "\n",
              "    .dataframe tbody tr th {\n",
              "        vertical-align: top;\n",
              "    }\n",
              "\n",
              "    .dataframe thead th {\n",
              "        text-align: right;\n",
              "    }\n",
              "</style>\n",
              "<table border=\"1\" class=\"dataframe\">\n",
              "  <thead>\n",
              "    <tr style=\"text-align: right;\">\n",
              "      <th></th>\n",
              "      <th>index</th>\n",
              "      <th>InvoiceNo</th>\n",
              "      <th>StockCode</th>\n",
              "      <th>Description</th>\n",
              "      <th>Quantity</th>\n",
              "      <th>InvoiceDate</th>\n",
              "      <th>UnitPrice</th>\n",
              "      <th>CustomerID</th>\n",
              "      <th>Country</th>\n",
              "      <th>DayOfWeek</th>\n",
              "    </tr>\n",
              "  </thead>\n",
              "  <tbody>\n",
              "    <tr>\n",
              "      <th>30</th>\n",
              "      <td>88355</td>\n",
              "      <td>536370</td>\n",
              "      <td>POST</td>\n",
              "      <td>POSTAGE</td>\n",
              "      <td>3</td>\n",
              "      <td>2010-12-01 08:45:00</td>\n",
              "      <td>18.00</td>\n",
              "      <td>12583</td>\n",
              "      <td>France</td>\n",
              "      <td>2</td>\n",
              "    </tr>\n",
              "    <tr>\n",
              "      <th>365</th>\n",
              "      <td>131378</td>\n",
              "      <td>536403</td>\n",
              "      <td>POST</td>\n",
              "      <td>POSTAGE</td>\n",
              "      <td>1</td>\n",
              "      <td>2010-12-01 11:27:00</td>\n",
              "      <td>15.00</td>\n",
              "      <td>12791</td>\n",
              "      <td>Netherlands</td>\n",
              "      <td>2</td>\n",
              "    </tr>\n",
              "    <tr>\n",
              "      <th>1063</th>\n",
              "      <td>167919</td>\n",
              "      <td>536527</td>\n",
              "      <td>POST</td>\n",
              "      <td>POSTAGE</td>\n",
              "      <td>1</td>\n",
              "      <td>2010-12-01 13:04:00</td>\n",
              "      <td>18.00</td>\n",
              "      <td>12662</td>\n",
              "      <td>Germany</td>\n",
              "      <td>2</td>\n",
              "    </tr>\n",
              "    <tr>\n",
              "      <th>1329</th>\n",
              "      <td>85158</td>\n",
              "      <td>536540</td>\n",
              "      <td>C2</td>\n",
              "      <td>CARRIAGE</td>\n",
              "      <td>1</td>\n",
              "      <td>2010-12-01 14:05:00</td>\n",
              "      <td>50.00</td>\n",
              "      <td>14911</td>\n",
              "      <td>EIRE</td>\n",
              "      <td>2</td>\n",
              "    </tr>\n",
              "    <tr>\n",
              "      <th>2087</th>\n",
              "      <td>59768</td>\n",
              "      <td>536569</td>\n",
              "      <td>M</td>\n",
              "      <td>Manual</td>\n",
              "      <td>1</td>\n",
              "      <td>2010-12-01 15:35:00</td>\n",
              "      <td>18.95</td>\n",
              "      <td>16274</td>\n",
              "      <td>United Kingdom</td>\n",
              "      <td>2</td>\n",
              "    </tr>\n",
              "    <tr>\n",
              "      <th>...</th>\n",
              "      <td>...</td>\n",
              "      <td>...</td>\n",
              "      <td>...</td>\n",
              "      <td>...</td>\n",
              "      <td>...</td>\n",
              "      <td>...</td>\n",
              "      <td>...</td>\n",
              "      <td>...</td>\n",
              "      <td>...</td>\n",
              "      <td>...</td>\n",
              "    </tr>\n",
              "    <tr>\n",
              "      <th>511505</th>\n",
              "      <td>317708</td>\n",
              "      <td>581405</td>\n",
              "      <td>M</td>\n",
              "      <td>Manual</td>\n",
              "      <td>3</td>\n",
              "      <td>2011-12-08 13:50:00</td>\n",
              "      <td>0.42</td>\n",
              "      <td>13521</td>\n",
              "      <td>United Kingdom</td>\n",
              "      <td>3</td>\n",
              "    </tr>\n",
              "    <tr>\n",
              "      <th>514128</th>\n",
              "      <td>253185</td>\n",
              "      <td>581493</td>\n",
              "      <td>POST</td>\n",
              "      <td>POSTAGE</td>\n",
              "      <td>1</td>\n",
              "      <td>2011-12-09 10:10:00</td>\n",
              "      <td>15.00</td>\n",
              "      <td>12423</td>\n",
              "      <td>Belgium</td>\n",
              "      <td>4</td>\n",
              "    </tr>\n",
              "    <tr>\n",
              "      <th>514152</th>\n",
              "      <td>424538</td>\n",
              "      <td>581494</td>\n",
              "      <td>POST</td>\n",
              "      <td>POSTAGE</td>\n",
              "      <td>2</td>\n",
              "      <td>2011-12-09 10:13:00</td>\n",
              "      <td>18.00</td>\n",
              "      <td>12518</td>\n",
              "      <td>Germany</td>\n",
              "      <td>4</td>\n",
              "    </tr>\n",
              "    <tr>\n",
              "      <th>514637</th>\n",
              "      <td>92930</td>\n",
              "      <td>581570</td>\n",
              "      <td>POST</td>\n",
              "      <td>POSTAGE</td>\n",
              "      <td>1</td>\n",
              "      <td>2011-12-09 11:59:00</td>\n",
              "      <td>18.00</td>\n",
              "      <td>12662</td>\n",
              "      <td>Germany</td>\n",
              "      <td>4</td>\n",
              "    </tr>\n",
              "    <tr>\n",
              "      <th>514678</th>\n",
              "      <td>482113</td>\n",
              "      <td>581574</td>\n",
              "      <td>POST</td>\n",
              "      <td>POSTAGE</td>\n",
              "      <td>2</td>\n",
              "      <td>2011-12-09 12:09:00</td>\n",
              "      <td>18.00</td>\n",
              "      <td>12526</td>\n",
              "      <td>Germany</td>\n",
              "      <td>4</td>\n",
              "    </tr>\n",
              "  </tbody>\n",
              "</table>\n",
              "<p>1470 rows × 10 columns</p>\n",
              "</div>"
            ],
            "text/plain": [
              "         index InvoiceNo StockCode  ... CustomerID         Country DayOfWeek\n",
              "30       88355    536370      POST  ...      12583          France         2\n",
              "365     131378    536403      POST  ...      12791     Netherlands         2\n",
              "1063    167919    536527      POST  ...      12662         Germany         2\n",
              "1329     85158    536540        C2  ...      14911            EIRE         2\n",
              "2087     59768    536569         M  ...      16274  United Kingdom         2\n",
              "...        ...       ...       ...  ...        ...             ...       ...\n",
              "511505  317708    581405         M  ...      13521  United Kingdom         3\n",
              "514128  253185    581493      POST  ...      12423         Belgium         4\n",
              "514152  424538    581494      POST  ...      12518         Germany         4\n",
              "514637   92930    581570      POST  ...      12662         Germany         4\n",
              "514678  482113    581574      POST  ...      12526         Germany         4\n",
              "\n",
              "[1470 rows x 10 columns]"
            ]
          },
          "metadata": {},
          "execution_count": 24
        }
      ]
    },
    {
      "cell_type": "code",
      "metadata": {
        "id": "Ol-Y39vQZKET"
      },
      "source": [
        "#DROP irrelevant codes data\n",
        "for code in irrelevant_productcode:\n",
        "  index = train_df[ (train_df['StockCode'] == code)].index\n",
        "  train_df.drop(index, inplace = True)"
      ],
      "execution_count": null,
      "outputs": []
    },
    {
      "cell_type": "code",
      "metadata": {
        "colab": {
          "base_uri": "https://localhost:8080/"
        },
        "id": "Ge1DZeYoaSXA",
        "outputId": "43b54ad5-30e0-4175-f38e-2eafa332e1a0"
      },
      "source": [
        "irrelevant_productcode=  train_df[train_df[\"StockCode\"].str.contains('^[a-zA-Z]+', regex=True)][\"StockCode\"].unique()\n",
        "irrelevant_productcode"
      ],
      "execution_count": null,
      "outputs": [
        {
          "output_type": "execute_result",
          "data": {
            "text/plain": [
              "array([], dtype=object)"
            ]
          },
          "metadata": {},
          "execution_count": 26
        }
      ]
    },
    {
      "cell_type": "code",
      "metadata": {
        "id": "Fk7ilEw3DIRr",
        "colab": {
          "base_uri": "https://localhost:8080/",
          "height": 314
        },
        "outputId": "d7432685-a587-4f89-8240-1a37c4bca9a0"
      },
      "source": [
        "# Checking for outliers\n",
        "train_df.boxplot()\n",
        "plt.xticks(rotation=90)\n",
        "plt.show()"
      ],
      "execution_count": null,
      "outputs": [
        {
          "output_type": "display_data",
          "data": {
            "image/png": "[encoded data removed]",
            "text/plain": [
              "<Figure size 432x288 with 1 Axes>"
            ]
          },
          "metadata": {
            "needs_background": "light"
          }
        }
      ]
    },
    {
      "cell_type": "code",
      "metadata": {
        "id": "kKE5dQj-mBXU"
      },
      "source": [
        "# Handing outliers\n",
        "from scipy import stats\n",
        "outlier_colms = [\"Quantity\"]\n",
        "df1 = train_df.copy()\n",
        "\n",
        "def handle_outliers(df, colm):\n",
        "    ''' Any absolute value of z-score above 3 is considered as an Outlier '''\n",
        "    df[colm+'_z_score']=stats.zscore(df[colm])\n",
        "    df=df.loc[df[colm+'_z_score'].abs()<=3]\n",
        "    df.drop(colm,axis=1,inplace=True)\n",
        "\n",
        "    return df\n",
        "    \n",
        "for colm in outlier_colms:\n",
        "    train_df = handle_outliers(df1, colm)"
      ],
      "execution_count": null,
      "outputs": []
    },
    {
      "cell_type": "code",
      "metadata": {
        "colab": {
          "base_uri": "https://localhost:8080/",
          "height": 340
        },
        "id": "50W6GXdJZBET",
        "outputId": "acd9de50-0dbf-4c78-f1b1-d7266241b639"
      },
      "source": [
        "# Checking for outliers\n",
        "train_df.boxplot()\n",
        "plt.xticks(rotation=90)\n",
        "plt.show()"
      ],
      "execution_count": null,
      "outputs": [
        {
          "output_type": "display_data",
          "data": {
            "image/png": "[encoded data removed]",
            "text/plain": [
              "<Figure size 432x288 with 1 Axes>"
            ]
          },
          "metadata": {
            "needs_background": "light"
          }
        }
      ]
    },
    {
      "cell_type": "code",
      "metadata": {
        "colab": {
          "base_uri": "https://localhost:8080/",
          "height": 204
        },
        "id": "LM3K_KOot27F",
        "outputId": "a0430667-c65e-458c-b5ad-e5e5b8fa9cd8"
      },
      "source": [
        "train_df[train_df.duplicated(subset=[\"InvoiceNo\",\"StockCode\",\"Description\",\"Quantity_z_score\",\"InvoiceDate\",\"CustomerID\",\"Country\"])^train_df.duplicated(subset=[\"InvoiceNo\",\"StockCode\",\"Quantity_z_score\",\"UnitPrice\",\"CustomerID\"])]"
      ],
      "execution_count": null,
      "outputs": [
        {
          "output_type": "execute_result",
          "data": {
            "text/html": [
              "<div>\n",
              "<style scoped>\n",
              "    .dataframe tbody tr th:only-of-type {\n",
              "        vertical-align: middle;\n",
              "    }\n",
              "\n",
              "    .dataframe tbody tr th {\n",
              "        vertical-align: top;\n",
              "    }\n",
              "\n",
              "    .dataframe thead th {\n",
              "        text-align: right;\n",
              "    }\n",
              "</style>\n",
              "<table border=\"1\" class=\"dataframe\">\n",
              "  <thead>\n",
              "    <tr style=\"text-align: right;\">\n",
              "      <th></th>\n",
              "      <th>index</th>\n",
              "      <th>InvoiceNo</th>\n",
              "      <th>StockCode</th>\n",
              "      <th>Description</th>\n",
              "      <th>InvoiceDate</th>\n",
              "      <th>UnitPrice</th>\n",
              "      <th>CustomerID</th>\n",
              "      <th>Country</th>\n",
              "      <th>DayOfWeek</th>\n",
              "      <th>Quantity_z_score</th>\n",
              "    </tr>\n",
              "  </thead>\n",
              "  <tbody>\n",
              "    <tr>\n",
              "      <th>189126</th>\n",
              "      <td>384488</td>\n",
              "      <td>554084</td>\n",
              "      <td>23298</td>\n",
              "      <td>SPOTTY BUNTING</td>\n",
              "      <td>2011-05-22 11:52:00</td>\n",
              "      <td>4.95</td>\n",
              "      <td>12909</td>\n",
              "      <td>United Kingdom</td>\n",
              "      <td>6</td>\n",
              "      <td>-0.054377</td>\n",
              "    </tr>\n",
              "    <tr>\n",
              "      <th>333286</th>\n",
              "      <td>244808</td>\n",
              "      <td>567656</td>\n",
              "      <td>22469</td>\n",
              "      <td>HEART OF WICKER SMALL</td>\n",
              "      <td>2011-09-21 14:40:00</td>\n",
              "      <td>1.63</td>\n",
              "      <td>14096</td>\n",
              "      <td>United Kingdom</td>\n",
              "      <td>2</td>\n",
              "      <td>-0.059778</td>\n",
              "    </tr>\n",
              "    <tr>\n",
              "      <th>370251</th>\n",
              "      <td>149561</td>\n",
              "      <td>570488</td>\n",
              "      <td>23217</td>\n",
              "      <td>LAUREL HEART ANTIQUE SILVER</td>\n",
              "      <td>2011-10-10 17:12:00</td>\n",
              "      <td>2.46</td>\n",
              "      <td>14096</td>\n",
              "      <td>United Kingdom</td>\n",
              "      <td>0</td>\n",
              "      <td>-0.065179</td>\n",
              "    </tr>\n",
              "    <tr>\n",
              "      <th>429791</th>\n",
              "      <td>290654</td>\n",
              "      <td>575335</td>\n",
              "      <td>23203</td>\n",
              "      <td>JUMBO BAG VINTAGE DOILY</td>\n",
              "      <td>2011-11-09 13:56:00</td>\n",
              "      <td>1.79</td>\n",
              "      <td>12931</td>\n",
              "      <td>United Kingdom</td>\n",
              "      <td>2</td>\n",
              "      <td>1.549758</td>\n",
              "    </tr>\n",
              "    <tr>\n",
              "      <th>456654</th>\n",
              "      <td>404439</td>\n",
              "      <td>577314</td>\n",
              "      <td>23407</td>\n",
              "      <td>SET OF 2 TRAYS HOME SWEET HOME</td>\n",
              "      <td>2011-11-18 13:23:00</td>\n",
              "      <td>0.00</td>\n",
              "      <td>12444</td>\n",
              "      <td>Norway</td>\n",
              "      <td>4</td>\n",
              "      <td>-0.059778</td>\n",
              "    </tr>\n",
              "  </tbody>\n",
              "</table>\n",
              "</div>"
            ],
            "text/plain": [
              "         index InvoiceNo StockCode  ...         Country DayOfWeek  Quantity_z_score\n",
              "189126  384488    554084     23298  ...  United Kingdom         6         -0.054377\n",
              "333286  244808    567656     22469  ...  United Kingdom         2         -0.059778\n",
              "370251  149561    570488     23217  ...  United Kingdom         0         -0.065179\n",
              "429791  290654    575335     23203  ...  United Kingdom         2          1.549758\n",
              "456654  404439    577314     23407  ...          Norway         4         -0.059778\n",
              "\n",
              "[5 rows x 10 columns]"
            ]
          },
          "metadata": {},
          "execution_count": 30
        }
      ]
    },
    {
      "cell_type": "code",
      "metadata": {
        "colab": {
          "base_uri": "https://localhost:8080/"
        },
        "id": "7mz1GdRvd5vC",
        "outputId": "af72942c-d6de-4b9b-c0bd-c2fcf0e018b7"
      },
      "source": [
        "train_df.duplicated(subset=[\"CustomerID\",\"Country\"]).value_counts()#description not included different duplicates"
      ],
      "execution_count": null,
      "outputs": [
        {
          "output_type": "execute_result",
          "data": {
            "text/plain": [
              "True     371956\n",
              "False      4327\n",
              "dtype: int64"
            ]
          },
          "metadata": {},
          "execution_count": 31
        }
      ]
    },
    {
      "cell_type": "code",
      "metadata": {
        "colab": {
          "base_uri": "https://localhost:8080/"
        },
        "id": "lMRBnjRoAes6",
        "outputId": "fc156485-e9da-4245-f6b8-18e046a6cac0"
      },
      "source": [
        "train_df.duplicated(subset=[\"CustomerID\",\"Country\",\"InvoiceDate\",\"InvoiceNo\",\"Description\",\"Quantity_z_score\"]).value_counts()#unitprice not included different duplicates"
      ],
      "execution_count": null,
      "outputs": [
        {
          "output_type": "execute_result",
          "data": {
            "text/plain": [
              "False    371533\n",
              "True       4750\n",
              "dtype: int64"
            ]
          },
          "metadata": {},
          "execution_count": 32
        }
      ]
    },
    {
      "cell_type": "code",
      "metadata": {
        "colab": {
          "base_uri": "https://localhost:8080/"
        },
        "id": "aasDf5LY_N97",
        "outputId": "418a50e8-2f36-45ba-c659-a562a1279f46"
      },
      "source": [
        "train_df.duplicated(subset=[\"CustomerID\",\"Country\",\"InvoiceDate\",\"InvoiceNo\",\"Description\",\"Quantity_z_score\",\"UnitPrice\"]).value_counts()#description not included different duplicates"
      ],
      "execution_count": null,
      "outputs": [
        {
          "output_type": "execute_result",
          "data": {
            "text/plain": [
              "False    371575\n",
              "True       4708\n",
              "dtype: int64"
            ]
          },
          "metadata": {},
          "execution_count": 33
        }
      ]
    },
    {
      "cell_type": "code",
      "metadata": {
        "colab": {
          "base_uri": "https://localhost:8080/"
        },
        "id": "3t1kpBkb4XdJ",
        "outputId": "f84a694a-b846-4aba-8819-df2e4b33aef1"
      },
      "source": [
        "def duplicate_drop(df):\n",
        "  print(f\"Duplicate objects in dataframe before :\\n{df.duplicated().value_counts()}\\n\")\n",
        "  #df.dropna(thresh=len(df)*0.9, axis=1)  #drop columns in which more than 10% of values missing\n",
        "  df=df.drop_duplicates(subset=[\"CustomerID\",\"Country\",\"InvoiceDate\",\"InvoiceNo\",\"Description\",\"Quantity_z_score\"])\n",
        "  print(f\"Duplicate objects in dataframe after :\\n{df.duplicated().value_counts()}\\n\")\n",
        "  return df\n",
        "\n",
        "train_df=duplicate_drop(train_df)"
      ],
      "execution_count": null,
      "outputs": [
        {
          "output_type": "stream",
          "name": "stdout",
          "text": [
            "Duplicate objects in dataframe before :\n",
            "False    376283\n",
            "dtype: int64\n",
            "\n",
            "Duplicate objects in dataframe after :\n",
            "False    371533\n",
            "dtype: int64\n",
            "\n"
          ]
        }
      ]
    },
    {
      "cell_type": "code",
      "metadata": {
        "id": "aryyDXgHTDmz",
        "colab": {
          "base_uri": "https://localhost:8080/",
          "height": 340
        },
        "outputId": "ce979604-0166-4856-d04c-91fb33118e6a"
      },
      "source": [
        "# Recheck for outliers\n",
        "train_df.boxplot()\n",
        "plt.xticks(rotation=90)\n",
        "plt.show()"
      ],
      "execution_count": null,
      "outputs": [
        {
          "output_type": "display_data",
          "data": {
            "image/png": "[encoded data removed]",
            "text/plain": [
              "<Figure size 432x288 with 1 Axes>"
            ]
          },
          "metadata": {
            "needs_background": "light"
          }
        }
      ]
    },
    {
      "cell_type": "code",
      "metadata": {
        "colab": {
          "base_uri": "https://localhost:8080/",
          "height": 204
        },
        "id": "O1dkZudEgIoZ",
        "outputId": "5fb519ea-2a94-4fe2-face-15e1a4c623c1"
      },
      "source": [
        "train_df.head()"
      ],
      "execution_count": null,
      "outputs": [
        {
          "output_type": "execute_result",
          "data": {
            "text/html": [
              "<div>\n",
              "<style scoped>\n",
              "    .dataframe tbody tr th:only-of-type {\n",
              "        vertical-align: middle;\n",
              "    }\n",
              "\n",
              "    .dataframe tbody tr th {\n",
              "        vertical-align: top;\n",
              "    }\n",
              "\n",
              "    .dataframe thead th {\n",
              "        text-align: right;\n",
              "    }\n",
              "</style>\n",
              "<table border=\"1\" class=\"dataframe\">\n",
              "  <thead>\n",
              "    <tr style=\"text-align: right;\">\n",
              "      <th></th>\n",
              "      <th>index</th>\n",
              "      <th>InvoiceNo</th>\n",
              "      <th>StockCode</th>\n",
              "      <th>Description</th>\n",
              "      <th>InvoiceDate</th>\n",
              "      <th>UnitPrice</th>\n",
              "      <th>CustomerID</th>\n",
              "      <th>Country</th>\n",
              "      <th>DayOfWeek</th>\n",
              "      <th>Quantity_z_score</th>\n",
              "    </tr>\n",
              "  </thead>\n",
              "  <tbody>\n",
              "    <tr>\n",
              "      <th>0</th>\n",
              "      <td>5391</td>\n",
              "      <td>536365</td>\n",
              "      <td>21730</td>\n",
              "      <td>GLASS STAR FROSTED T-LIGHT HOLDER</td>\n",
              "      <td>2010-12-01 08:26:00</td>\n",
              "      <td>4.25</td>\n",
              "      <td>17850</td>\n",
              "      <td>United Kingdom</td>\n",
              "      <td>2</td>\n",
              "      <td>-0.038173</td>\n",
              "    </tr>\n",
              "    <tr>\n",
              "      <th>1</th>\n",
              "      <td>211900</td>\n",
              "      <td>536365</td>\n",
              "      <td>85123A</td>\n",
              "      <td>WHITE HANGING HEART T-LIGHT HOLDER</td>\n",
              "      <td>2010-12-01 08:26:00</td>\n",
              "      <td>2.55</td>\n",
              "      <td>17850</td>\n",
              "      <td>United Kingdom</td>\n",
              "      <td>2</td>\n",
              "      <td>-0.038173</td>\n",
              "    </tr>\n",
              "    <tr>\n",
              "      <th>2</th>\n",
              "      <td>271253</td>\n",
              "      <td>536365</td>\n",
              "      <td>84029E</td>\n",
              "      <td>RED WOOLLY HOTTIE WHITE HEART.</td>\n",
              "      <td>2010-12-01 08:26:00</td>\n",
              "      <td>3.39</td>\n",
              "      <td>17850</td>\n",
              "      <td>United Kingdom</td>\n",
              "      <td>2</td>\n",
              "      <td>-0.038173</td>\n",
              "    </tr>\n",
              "    <tr>\n",
              "      <th>3</th>\n",
              "      <td>322923</td>\n",
              "      <td>536365</td>\n",
              "      <td>71053</td>\n",
              "      <td>WHITE METAL LANTERN</td>\n",
              "      <td>2010-12-01 08:26:00</td>\n",
              "      <td>3.39</td>\n",
              "      <td>17850</td>\n",
              "      <td>United Kingdom</td>\n",
              "      <td>2</td>\n",
              "      <td>-0.038173</td>\n",
              "    </tr>\n",
              "    <tr>\n",
              "      <th>4</th>\n",
              "      <td>385612</td>\n",
              "      <td>536365</td>\n",
              "      <td>84029G</td>\n",
              "      <td>KNITTED UNION FLAG HOT WATER BOTTLE</td>\n",
              "      <td>2010-12-01 08:26:00</td>\n",
              "      <td>3.39</td>\n",
              "      <td>17850</td>\n",
              "      <td>United Kingdom</td>\n",
              "      <td>2</td>\n",
              "      <td>-0.038173</td>\n",
              "    </tr>\n",
              "  </tbody>\n",
              "</table>\n",
              "</div>"
            ],
            "text/plain": [
              "    index InvoiceNo StockCode  ...         Country DayOfWeek  Quantity_z_score\n",
              "0    5391    536365     21730  ...  United Kingdom         2         -0.038173\n",
              "1  211900    536365    85123A  ...  United Kingdom         2         -0.038173\n",
              "2  271253    536365    84029E  ...  United Kingdom         2         -0.038173\n",
              "3  322923    536365     71053  ...  United Kingdom         2         -0.038173\n",
              "4  385612    536365    84029G  ...  United Kingdom         2         -0.038173\n",
              "\n",
              "[5 rows x 10 columns]"
            ]
          },
          "metadata": {},
          "execution_count": 36
        }
      ]
    },
    {
      "cell_type": "markdown",
      "metadata": {
        "id": "graphic-vampire"
      },
      "source": [
        "## Understanding new insights from the data (1 point)"
      ]
    },
    {
      "cell_type": "markdown",
      "metadata": {
        "id": "furnished-station"
      },
      "source": [
        "1.  Are there any free items in the data? How many are there?\n",
        "\n",
        "2.  Find the number of transactions per country and visualize using an appropriate plot\n",
        "\n",
        "3.  What is the ratio of customers who are repeat purchasers vs single-time purchasers? Visualize using an appropriate plot.\n",
        "\n",
        "4. Plot heatmap showing unit price per month and day of the week\n",
        "\n",
        "  **Hint:** Month name as index on Y-axis, Day of the week on X-axis\n",
        "\n",
        "5. Find the top 10 customers who bought the most no.of items. Also find the top 10 Items bought by most no.of customers."
      ]
    },
    {
      "cell_type": "code",
      "metadata": {
        "colab": {
          "base_uri": "https://localhost:8080/"
        },
        "id": "vkhmZ6theGKu",
        "outputId": "fe31286a-b433-4ddd-e891-48a70e87218e"
      },
      "source": [
        "#FREE item\n",
        "n1 =train_df[(train_df['UnitPrice']==0)].shape[0]\n",
        "n2 = train_df.shape[0]\n",
        "print('Number of FREE items : {}/{} ({:.2f}%) '.format(n1, n2, n1/n2*100))"
      ],
      "execution_count": null,
      "outputs": [
        {
          "output_type": "stream",
          "name": "stdout",
          "text": [
            "Number of FREE items : 29/371533 (0.01%) \n"
          ]
        }
      ]
    },
    {
      "cell_type": "code",
      "metadata": {
        "id": "M44WQ5KpUUF0",
        "colab": {
          "base_uri": "https://localhost:8080/",
          "height": 394
        },
        "outputId": "64daaa77-c0f3-4433-f2e1-ac48a40dc0b5"
      },
      "source": [
        "#Number of transactions per country and visualize using an appropriate plot\n",
        "train_df.groupby(by=\"Country\")[\"InvoiceNo\"].count().plot(kind='bar')"
      ],
      "execution_count": null,
      "outputs": [
        {
          "output_type": "execute_result",
          "data": {
            "text/plain": [
              "<matplotlib.axes._subplots.AxesSubplot at 0x7fb6a765e650>"
            ]
          },
          "metadata": {},
          "execution_count": 38
        },
        {
          "output_type": "display_data",
          "data": {
            "image/png": "[encoded data removed]",
            "text/plain": [
              "<Figure size 432x288 with 1 Axes>"
            ]
          },
          "metadata": {
            "needs_background": "light"
          }
        }
      ]
    },
    {
      "cell_type": "code",
      "metadata": {
        "colab": {
          "base_uri": "https://localhost:8080/",
          "height": 394
        },
        "id": "_Mt0TQZQBa8u",
        "outputId": "cc880300-7fc8-487f-d44b-735c1b659c83"
      },
      "source": [
        "#number of Customers per country and visualize using an appropriate plot\n",
        "train_df.groupby(by=\"Country\")[\"CustomerID\"].count().plot(kind='bar')"
      ],
      "execution_count": null,
      "outputs": [
        {
          "output_type": "execute_result",
          "data": {
            "text/plain": [
              "<matplotlib.axes._subplots.AxesSubplot at 0x7fb6a7523350>"
            ]
          },
          "metadata": {},
          "execution_count": 39
        },
        {
          "output_type": "display_data",
          "data": {
            "image/png": "[encoded data removed]",
            "text/plain": [
              "<Figure size 432x288 with 1 Axes>"
            ]
          },
          "metadata": {
            "needs_background": "light"
          }
        }
      ]
    },
    {
      "cell_type": "markdown",
      "metadata": {
        "id": "EaY53g0YCHZg"
      },
      "source": [
        "**Note:**  Most of the customers and transactions are from UK"
      ]
    },
    {
      "cell_type": "code",
      "metadata": {
        "id": "IM-BT2yojJNF"
      },
      "source": [
        "#pie chart for customer frequency \n"
      ],
      "execution_count": null,
      "outputs": []
    },
    {
      "cell_type": "markdown",
      "metadata": {
        "id": "o4qHf7jOkn7v"
      },
      "source": [
        "# Market Basket Analysis"
      ]
    },
    {
      "cell_type": "markdown",
      "metadata": {
        "id": "FuOo3s_fklnS"
      },
      "source": [
        "In market basket analysis (also called association analysis or frequent itemset mining), you analyze purchases that commonly happen together i.e Market Basket Analysis takes data at transaction level, which lists all items bought by a customer in a single purchase"
      ]
    },
    {
      "cell_type": "code",
      "metadata": {
        "colab": {
          "base_uri": "https://localhost:8080/",
          "height": 359
        },
        "id": "o97cLg1kibUC",
        "outputId": "70b73845-ed8d-4f0a-d73a-60a342070ec3"
      },
      "source": [
        "temp =train_df.groupby(by=['CustomerID', 'InvoiceNo'], as_index=False)['InvoiceDate','Quantity_z_score'].count()\n",
        "nb_products_per_basket = temp.rename(columns = {'Quantity_z_score':'Number of products'})\n",
        "nb_products_per_basket[:10].sort_values('CustomerID')"
      ],
      "execution_count": null,
      "outputs": [
        {
          "output_type": "execute_result",
          "data": {
            "text/html": [
              "<div>\n",
              "<style scoped>\n",
              "    .dataframe tbody tr th:only-of-type {\n",
              "        vertical-align: middle;\n",
              "    }\n",
              "\n",
              "    .dataframe tbody tr th {\n",
              "        vertical-align: top;\n",
              "    }\n",
              "\n",
              "    .dataframe thead th {\n",
              "        text-align: right;\n",
              "    }\n",
              "</style>\n",
              "<table border=\"1\" class=\"dataframe\">\n",
              "  <thead>\n",
              "    <tr style=\"text-align: right;\">\n",
              "      <th></th>\n",
              "      <th>CustomerID</th>\n",
              "      <th>InvoiceNo</th>\n",
              "      <th>InvoiceDate</th>\n",
              "      <th>Number of products</th>\n",
              "    </tr>\n",
              "  </thead>\n",
              "  <tbody>\n",
              "    <tr>\n",
              "      <th>0</th>\n",
              "      <td>12347</td>\n",
              "      <td>537626</td>\n",
              "      <td>27</td>\n",
              "      <td>27</td>\n",
              "    </tr>\n",
              "    <tr>\n",
              "      <th>1</th>\n",
              "      <td>12347</td>\n",
              "      <td>542237</td>\n",
              "      <td>26</td>\n",
              "      <td>26</td>\n",
              "    </tr>\n",
              "    <tr>\n",
              "      <th>2</th>\n",
              "      <td>12347</td>\n",
              "      <td>549222</td>\n",
              "      <td>23</td>\n",
              "      <td>23</td>\n",
              "    </tr>\n",
              "    <tr>\n",
              "      <th>3</th>\n",
              "      <td>12347</td>\n",
              "      <td>556201</td>\n",
              "      <td>17</td>\n",
              "      <td>17</td>\n",
              "    </tr>\n",
              "    <tr>\n",
              "      <th>4</th>\n",
              "      <td>12347</td>\n",
              "      <td>562032</td>\n",
              "      <td>22</td>\n",
              "      <td>22</td>\n",
              "    </tr>\n",
              "    <tr>\n",
              "      <th>5</th>\n",
              "      <td>12347</td>\n",
              "      <td>573511</td>\n",
              "      <td>46</td>\n",
              "      <td>46</td>\n",
              "    </tr>\n",
              "    <tr>\n",
              "      <th>6</th>\n",
              "      <td>12347</td>\n",
              "      <td>581180</td>\n",
              "      <td>10</td>\n",
              "      <td>10</td>\n",
              "    </tr>\n",
              "    <tr>\n",
              "      <th>7</th>\n",
              "      <td>12348</td>\n",
              "      <td>539318</td>\n",
              "      <td>16</td>\n",
              "      <td>16</td>\n",
              "    </tr>\n",
              "    <tr>\n",
              "      <th>8</th>\n",
              "      <td>12348</td>\n",
              "      <td>541998</td>\n",
              "      <td>4</td>\n",
              "      <td>4</td>\n",
              "    </tr>\n",
              "    <tr>\n",
              "      <th>9</th>\n",
              "      <td>12348</td>\n",
              "      <td>548955</td>\n",
              "      <td>4</td>\n",
              "      <td>4</td>\n",
              "    </tr>\n",
              "  </tbody>\n",
              "</table>\n",
              "</div>"
            ],
            "text/plain": [
              "  CustomerID InvoiceNo  InvoiceDate  Number of products\n",
              "0      12347    537626           27                  27\n",
              "1      12347    542237           26                  26\n",
              "2      12347    549222           23                  23\n",
              "3      12347    556201           17                  17\n",
              "4      12347    562032           22                  22\n",
              "5      12347    573511           46                  46\n",
              "6      12347    581180           10                  10\n",
              "7      12348    539318           16                  16\n",
              "8      12348    541998            4                   4\n",
              "9      12348    548955            4                   4"
            ]
          },
          "metadata": {},
          "execution_count": 41
        }
      ]
    },
    {
      "cell_type": "code",
      "metadata": {
        "id": "Fe-6_IuzFJJM"
      },
      "source": [
        "# YOUR CODE HERE"
      ],
      "execution_count": null,
      "outputs": []
    },
    {
      "cell_type": "markdown",
      "metadata": {
        "id": "royal-chancellor"
      },
      "source": [
        "## Feature Engineering and Transformation (2 points)"
      ]
    },
    {
      "cell_type": "markdown",
      "metadata": {
        "id": "dietary-willow"
      },
      "source": [
        "### Create new features to uncover better insights and drop the unwanted columns\n",
        "\n",
        "* Create a new column which represents Total amount spent by each customer\n",
        "\n",
        "    **Hint:** Quantity * UnitPrice\n",
        "\n",
        "* Customer IDs are seen to be repeated. Maintain unique customer IDs by grouping and summing up all possible observations per customer.\n",
        "\n",
        "    **Hint:** [pandas.groupby.agg](https://pandas.pydata.org/pandas-docs/version/0.22/generated/pandas.core.groupby.DataFrameGroupBy.agg.html)\n",
        "\n",
        "**Note:** Perform the above operations in function, to reuse and apply the same for test data"
      ]
    },
    {
      "cell_type": "code",
      "metadata": {
        "colab": {
          "base_uri": "https://localhost:8080/",
          "height": 204
        },
        "id": "s-2IZmmSj8oj",
        "outputId": "fb0f6170-946e-49f6-ec1e-2f9dc7b88ce6"
      },
      "source": [
        "train_df.head()"
      ],
      "execution_count": null,
      "outputs": [
        {
          "output_type": "execute_result",
          "data": {
            "text/html": [
              "<div>\n",
              "<style scoped>\n",
              "    .dataframe tbody tr th:only-of-type {\n",
              "        vertical-align: middle;\n",
              "    }\n",
              "\n",
              "    .dataframe tbody tr th {\n",
              "        vertical-align: top;\n",
              "    }\n",
              "\n",
              "    .dataframe thead th {\n",
              "        text-align: right;\n",
              "    }\n",
              "</style>\n",
              "<table border=\"1\" class=\"dataframe\">\n",
              "  <thead>\n",
              "    <tr style=\"text-align: right;\">\n",
              "      <th></th>\n",
              "      <th>index</th>\n",
              "      <th>InvoiceNo</th>\n",
              "      <th>StockCode</th>\n",
              "      <th>Description</th>\n",
              "      <th>InvoiceDate</th>\n",
              "      <th>UnitPrice</th>\n",
              "      <th>CustomerID</th>\n",
              "      <th>Country</th>\n",
              "      <th>DayOfWeek</th>\n",
              "      <th>Quantity_z_score</th>\n",
              "    </tr>\n",
              "  </thead>\n",
              "  <tbody>\n",
              "    <tr>\n",
              "      <th>0</th>\n",
              "      <td>5391</td>\n",
              "      <td>536365</td>\n",
              "      <td>21730</td>\n",
              "      <td>GLASS STAR FROSTED T-LIGHT HOLDER</td>\n",
              "      <td>2010-12-01 08:26:00</td>\n",
              "      <td>4.25</td>\n",
              "      <td>17850</td>\n",
              "      <td>United Kingdom</td>\n",
              "      <td>2</td>\n",
              "      <td>-0.038173</td>\n",
              "    </tr>\n",
              "    <tr>\n",
              "      <th>1</th>\n",
              "      <td>211900</td>\n",
              "      <td>536365</td>\n",
              "      <td>85123A</td>\n",
              "      <td>WHITE HANGING HEART T-LIGHT HOLDER</td>\n",
              "      <td>2010-12-01 08:26:00</td>\n",
              "      <td>2.55</td>\n",
              "      <td>17850</td>\n",
              "      <td>United Kingdom</td>\n",
              "      <td>2</td>\n",
              "      <td>-0.038173</td>\n",
              "    </tr>\n",
              "    <tr>\n",
              "      <th>2</th>\n",
              "      <td>271253</td>\n",
              "      <td>536365</td>\n",
              "      <td>84029E</td>\n",
              "      <td>RED WOOLLY HOTTIE WHITE HEART.</td>\n",
              "      <td>2010-12-01 08:26:00</td>\n",
              "      <td>3.39</td>\n",
              "      <td>17850</td>\n",
              "      <td>United Kingdom</td>\n",
              "      <td>2</td>\n",
              "      <td>-0.038173</td>\n",
              "    </tr>\n",
              "    <tr>\n",
              "      <th>3</th>\n",
              "      <td>322923</td>\n",
              "      <td>536365</td>\n",
              "      <td>71053</td>\n",
              "      <td>WHITE METAL LANTERN</td>\n",
              "      <td>2010-12-01 08:26:00</td>\n",
              "      <td>3.39</td>\n",
              "      <td>17850</td>\n",
              "      <td>United Kingdom</td>\n",
              "      <td>2</td>\n",
              "      <td>-0.038173</td>\n",
              "    </tr>\n",
              "    <tr>\n",
              "      <th>4</th>\n",
              "      <td>385612</td>\n",
              "      <td>536365</td>\n",
              "      <td>84029G</td>\n",
              "      <td>KNITTED UNION FLAG HOT WATER BOTTLE</td>\n",
              "      <td>2010-12-01 08:26:00</td>\n",
              "      <td>3.39</td>\n",
              "      <td>17850</td>\n",
              "      <td>United Kingdom</td>\n",
              "      <td>2</td>\n",
              "      <td>-0.038173</td>\n",
              "    </tr>\n",
              "  </tbody>\n",
              "</table>\n",
              "</div>"
            ],
            "text/plain": [
              "    index InvoiceNo StockCode  ...         Country DayOfWeek  Quantity_z_score\n",
              "0    5391    536365     21730  ...  United Kingdom         2         -0.038173\n",
              "1  211900    536365    85123A  ...  United Kingdom         2         -0.038173\n",
              "2  271253    536365    84029E  ...  United Kingdom         2         -0.038173\n",
              "3  322923    536365     71053  ...  United Kingdom         2         -0.038173\n",
              "4  385612    536365    84029G  ...  United Kingdom         2         -0.038173\n",
              "\n",
              "[5 rows x 10 columns]"
            ]
          },
          "metadata": {},
          "execution_count": 43
        }
      ]
    },
    {
      "cell_type": "code",
      "metadata": {
        "id": "WCRODVjAdZuu"
      },
      "source": [
        "# Train data feature engineering \n",
        "import datetime as dt\n",
        "\n",
        "def feature_engineering(df):\n",
        "  PRESENT=dt.datetime(2011,12,10)\n",
        "  df['TotalAmount']=df.Quantity_z_score*df.UnitPrice\n",
        "  rfm= df.groupby(['CustomerID']).agg({'InvoiceDate': lambda date: (PRESENT - date.max()).days,\n",
        "                                        'InvoiceNo': lambda num: len(num),\n",
        "                                        'TotalAmount': lambda price: price.sum()\n",
        "                                        })\n",
        "  return rfm"
      ],
      "execution_count": null,
      "outputs": []
    },
    {
      "cell_type": "code",
      "metadata": {
        "id": "s4IborxFhJpj"
      },
      "source": [
        "rfm=feature_engineering(train_df)"
      ],
      "execution_count": null,
      "outputs": []
    },
    {
      "cell_type": "code",
      "metadata": {
        "colab": {
          "base_uri": "https://localhost:8080/",
          "height": 235
        },
        "id": "MijGVu30iGHc",
        "outputId": "7e58bf10-0076-4880-ed8a-e0bd56664e2c"
      },
      "source": [
        "rfm.head()"
      ],
      "execution_count": null,
      "outputs": [
        {
          "output_type": "execute_result",
          "data": {
            "text/html": [
              "<div>\n",
              "<style scoped>\n",
              "    .dataframe tbody tr th:only-of-type {\n",
              "        vertical-align: middle;\n",
              "    }\n",
              "\n",
              "    .dataframe tbody tr th {\n",
              "        vertical-align: top;\n",
              "    }\n",
              "\n",
              "    .dataframe thead th {\n",
              "        text-align: right;\n",
              "    }\n",
              "</style>\n",
              "<table border=\"1\" class=\"dataframe\">\n",
              "  <thead>\n",
              "    <tr style=\"text-align: right;\">\n",
              "      <th></th>\n",
              "      <th>InvoiceDate</th>\n",
              "      <th>InvoiceNo</th>\n",
              "      <th>TotalAmount</th>\n",
              "      <th>Country</th>\n",
              "    </tr>\n",
              "    <tr>\n",
              "      <th>CustomerID</th>\n",
              "      <th></th>\n",
              "      <th></th>\n",
              "      <th></th>\n",
              "      <th></th>\n",
              "    </tr>\n",
              "  </thead>\n",
              "  <tbody>\n",
              "    <tr>\n",
              "      <th>12347</th>\n",
              "      <td>2</td>\n",
              "      <td>171</td>\n",
              "      <td>-9.663472</td>\n",
              "      <td>171</td>\n",
              "    </tr>\n",
              "    <tr>\n",
              "      <th>12348</th>\n",
              "      <td>75</td>\n",
              "      <td>26</td>\n",
              "      <td>6.237080</td>\n",
              "      <td>26</td>\n",
              "    </tr>\n",
              "    <tr>\n",
              "      <th>12349</th>\n",
              "      <td>18</td>\n",
              "      <td>67</td>\n",
              "      <td>-11.638152</td>\n",
              "      <td>67</td>\n",
              "    </tr>\n",
              "    <tr>\n",
              "      <th>12350</th>\n",
              "      <td>310</td>\n",
              "      <td>16</td>\n",
              "      <td>-0.195581</td>\n",
              "      <td>16</td>\n",
              "    </tr>\n",
              "    <tr>\n",
              "      <th>12352</th>\n",
              "      <td>36</td>\n",
              "      <td>77</td>\n",
              "      <td>-14.664136</td>\n",
              "      <td>77</td>\n",
              "    </tr>\n",
              "  </tbody>\n",
              "</table>\n",
              "</div>"
            ],
            "text/plain": [
              "            InvoiceDate  InvoiceNo  TotalAmount  Country\n",
              "CustomerID                                              \n",
              "12347                 2        171    -9.663472      171\n",
              "12348                75         26     6.237080       26\n",
              "12349                18         67   -11.638152       67\n",
              "12350               310         16    -0.195581       16\n",
              "12352                36         77   -14.664136       77"
            ]
          },
          "metadata": {},
          "execution_count": 46
        }
      ]
    },
    {
      "cell_type": "code",
      "metadata": {
        "colab": {
          "base_uri": "https://localhost:8080/"
        },
        "id": "6Gms0U2WhVlO",
        "outputId": "c161fee4-b4b4-48b1-a0ba-7932f03ea0d8"
      },
      "source": [
        "rfm.columns"
      ],
      "execution_count": null,
      "outputs": [
        {
          "output_type": "execute_result",
          "data": {
            "text/plain": [
              "Index(['InvoiceDate', 'InvoiceNo', 'TotalAmount', 'Country'], dtype='object')"
            ]
          },
          "metadata": {},
          "execution_count": 47
        }
      ]
    },
    {
      "cell_type": "code",
      "metadata": {
        "id": "uacSJqHnh1Z8"
      },
      "source": [
        "# Change the name of columns\n",
        "rfm.columns=['recency','frequency','monetary']"
      ],
      "execution_count": null,
      "outputs": []
    },
    {
      "cell_type": "code",
      "metadata": {
        "colab": {
          "base_uri": "https://localhost:8080/"
        },
        "id": "cNja4ztGlbWo",
        "outputId": "462c7da6-78b5-431f-f81e-a34bd5edd187"
      },
      "source": [
        "C=train_df.groupby('CustomerID')[\"Country\"].count()\n",
        "C #No of customers"
      ],
      "execution_count": null,
      "outputs": [
        {
          "output_type": "execute_result",
          "data": {
            "text/plain": [
              "CustomerID\n",
              "12347    171\n",
              "12348     26\n",
              "12349     67\n",
              "12350     16\n",
              "12352     77\n",
              "        ... \n",
              "18280     10\n",
              "18281      7\n",
              "18282     11\n",
              "18283    677\n",
              "18287     68\n",
              "Name: Country, Length: 4319, dtype: int64"
            ]
          },
          "metadata": {},
          "execution_count": 49
        }
      ]
    },
    {
      "cell_type": "code",
      "metadata": {
        "colab": {
          "base_uri": "https://localhost:8080/",
          "height": 235
        },
        "id": "cqsONG6picMo",
        "outputId": "f016aa7e-a6e2-4db1-e049-991b729c5768"
      },
      "source": [
        "rfm['recency'] = rfm['recency'].astype(int)\n",
        "rfm.head()"
      ],
      "execution_count": null,
      "outputs": [
        {
          "output_type": "execute_result",
          "data": {
            "text/html": [
              "<div>\n",
              "<style scoped>\n",
              "    .dataframe tbody tr th:only-of-type {\n",
              "        vertical-align: middle;\n",
              "    }\n",
              "\n",
              "    .dataframe tbody tr th {\n",
              "        vertical-align: top;\n",
              "    }\n",
              "\n",
              "    .dataframe thead th {\n",
              "        text-align: right;\n",
              "    }\n",
              "</style>\n",
              "<table border=\"1\" class=\"dataframe\">\n",
              "  <thead>\n",
              "    <tr style=\"text-align: right;\">\n",
              "      <th></th>\n",
              "      <th>recency</th>\n",
              "      <th>frequency</th>\n",
              "      <th>monetary</th>\n",
              "    </tr>\n",
              "    <tr>\n",
              "      <th>CustomerID</th>\n",
              "      <th></th>\n",
              "      <th></th>\n",
              "      <th></th>\n",
              "    </tr>\n",
              "  </thead>\n",
              "  <tbody>\n",
              "    <tr>\n",
              "      <th>12347</th>\n",
              "      <td>2</td>\n",
              "      <td>171</td>\n",
              "      <td>-9.663472</td>\n",
              "    </tr>\n",
              "    <tr>\n",
              "      <th>12348</th>\n",
              "      <td>75</td>\n",
              "      <td>26</td>\n",
              "      <td>6.237080</td>\n",
              "    </tr>\n",
              "    <tr>\n",
              "      <th>12349</th>\n",
              "      <td>18</td>\n",
              "      <td>67</td>\n",
              "      <td>-11.638152</td>\n",
              "    </tr>\n",
              "    <tr>\n",
              "      <th>12350</th>\n",
              "      <td>310</td>\n",
              "      <td>16</td>\n",
              "      <td>-0.195581</td>\n",
              "    </tr>\n",
              "    <tr>\n",
              "      <th>12352</th>\n",
              "      <td>36</td>\n",
              "      <td>77</td>\n",
              "      <td>-14.664136</td>\n",
              "    </tr>\n",
              "  </tbody>\n",
              "</table>\n",
              "</div>"
            ],
            "text/plain": [
              "            recency  frequency   monetary\n",
              "CustomerID                               \n",
              "12347             2        171  -9.663472\n",
              "12348            75         26   6.237080\n",
              "12349            18         67 -11.638152\n",
              "12350           310         16  -0.195581\n",
              "12352            36         77 -14.664136"
            ]
          },
          "metadata": {},
          "execution_count": 65
        }
      ]
    },
    {
      "cell_type": "code",
      "metadata": {
        "id": "xcR57MpyV6IJ"
      },
      "source": [
        "# Test data feature engineering \n"
      ],
      "execution_count": null,
      "outputs": []
    },
    {
      "cell_type": "code",
      "metadata": {
        "id": "YGKhaXbaiyEM"
      },
      "source": [
        ""
      ],
      "execution_count": null,
      "outputs": []
    },
    {
      "cell_type": "markdown",
      "metadata": {
        "id": "respected-empire"
      },
      "source": [
        "### Scale the data\n",
        " \n",
        "Apply `StandardScaler` on the features."
      ]
    },
    {
      "cell_type": "code",
      "metadata": {
        "id": "jEsufbR_dZuv"
      },
      "source": [
        "# YOUR CODE HERE for scaling\n",
        "scaler = StandardScaler()\n",
        "scaler.fit(rfm)\n",
        "data_norm = scaler.transform(rfm)"
      ],
      "execution_count": null,
      "outputs": []
    },
    {
      "cell_type": "markdown",
      "metadata": {
        "id": "smooth-florist"
      },
      "source": [
        "## Clustering ( 5 points)"
      ]
    },
    {
      "cell_type": "markdown",
      "metadata": {
        "id": "rn1qD44PI0H_"
      },
      "source": [
        "### Apply k-means algorithm to identify a specific number of clusters\n",
        "\n",
        "\n",
        "* Fit the k-means model\n",
        "\n",
        "* Extract and store the cluster centroids\n",
        "\n",
        "Below are the parameters for k-means, which are helpful\n",
        "\n",
        "**n_clusters** is no. of clusters specified\n",
        "\n",
        "**k-means++** is a random initialization method for centroids to avoid random initialisation trap\n",
        "\n",
        "**max_iter** is max no of iterations defined when k-means is running\n",
        "\n",
        "**n_init** is no. of times k-means will run with different initial centroids\n",
        "\n",
        "[why-is-k-means-slower-than-random-initialization-k-means](https://stats.stackexchange.com/questions/185396/why-is-k-means-slower-than-random-initialization-k-means/185422)"
      ]
    },
    {
      "cell_type": "code",
      "metadata": {
        "id": "GDjIF0_4HiIM"
      },
      "source": [
        "# Perform k-means clustering\n",
        "kmeans = KMeans(n_clusters=3,init='k-means++', n_init = 1, random_state=1,max_iter=300)\n",
        "y_predict = kmeans.fit_predict(data_norm)"
      ],
      "execution_count": null,
      "outputs": []
    },
    {
      "cell_type": "code",
      "metadata": {
        "id": "uDRTzYhEugxn"
      },
      "source": [
        ""
      ],
      "execution_count": null,
      "outputs": []
    },
    {
      "cell_type": "code",
      "metadata": {
        "id": "MLtU7SSUtFeB",
        "colab": {
          "base_uri": "https://localhost:8080/"
        },
        "outputId": "d69fa2ee-8f25-4567-f160-932bec6d1899"
      },
      "source": [
        "print(\"Cluster memberships:\\n{}\".format(kmeans.labels_)) #Set to 3 clusters numbered 0 to 2"
      ],
      "execution_count": null,
      "outputs": [
        {
          "output_type": "stream",
          "name": "stdout",
          "text": [
            "Cluster memberships:\n",
            "[0 0 0 ... 0 0 0]\n"
          ]
        }
      ]
    },
    {
      "cell_type": "markdown",
      "metadata": {
        "id": "bpmFFF3VdZux"
      },
      "source": [
        "#### Find the optimal number of clusters (K) by using the [Elbow method](https://pythonprogramminglanguage.com/kmeans-elbow-method/).\n",
        "\n",
        "Use the optimal no. of clusters and store the cluster centroids"
      ]
    },
    {
      "cell_type": "code",
      "metadata": {
        "id": "c3Db3IVBdZuy",
        "colab": {
          "base_uri": "https://localhost:8080/",
          "height": 297
        },
        "outputId": "c222650c-0c7f-4c34-9f3a-2e6a70eb162e"
      },
      "source": [
        "# YOUR CODE HERE\n",
        "# Plot inertia by varying number of clusters\n",
        "clusters = np.arange(1,10)\n",
        "inertia = {}\n",
        "for c in clusters:\n",
        "    kmeans = KMeans(n_clusters = c,init='k-means++', n_init = 1, random_state=1,max_iter=300)\n",
        "    # YOUR CODE HERE to fit 'kmeans' on (X, y)\n",
        "    kmeans.fit(data_norm)\n",
        "    inertia[c]=kmeans.inertia_\n",
        "plt.plot(list(inertia.keys()), list(inertia.values()), marker= '.')\n",
        "#plt.arrow(5, 400, -2, -252)\n",
        "#plt.text(5, 410, \"Elbow\", fontdict={'size': 12})\n",
        "plt.title('Inertia Plot')\n",
        "plt.xlabel(\"$k$\")\n",
        "plt.ylabel(\"Inertia\")\n",
        "plt.show()"
      ],
      "execution_count": null,
      "outputs": [
        {
          "output_type": "display_data",
          "data": {
            "image/png": "[encoded data removed]",
            "text/plain": [
              "<Figure size 432x288 with 1 Axes>"
            ]
          },
          "metadata": {
            "needs_background": "light"
          }
        }
      ]
    },
    {
      "cell_type": "markdown",
      "metadata": {
        "id": "0q7nKnfVK_Yj"
      },
      "source": [
        "### Apply DBSCAN algorithm for clustering\n",
        "\n",
        "- Compare the results of clusters from k-means and DBSCAN\n"
      ]
    },
    {
      "cell_type": "code",
      "metadata": {
        "id": "O8ahr6ctjp9o",
        "colab": {
          "base_uri": "https://localhost:8080/"
        },
        "outputId": "47796145-14d5-4567-d93b-2df1bc178ec6"
      },
      "source": [
        "# Perform DBSCAN on data\n",
        "dbscan = DBSCAN(eps=0.1, min_samples=5)\n",
        "dbscan.fit(data_norm)\n",
        "print(\"Unique clusters in data: \", np.unique(dbscan.labels_))"
      ],
      "execution_count": null,
      "outputs": [
        {
          "output_type": "stream",
          "name": "stdout",
          "text": [
            "Unique clusters in data:  [-1  0  1  2  3  4  5  6  7  8  9 10 11]\n"
          ]
        }
      ]
    },
    {
      "cell_type": "markdown",
      "metadata": {
        "id": "FarGC20zgjHj"
      },
      "source": [
        "### Analyze the clusters\n",
        "\n",
        "\n",
        "- consider two features and visualize the clusters with different colors using the predicted cluster centers.\n",
        "\n",
        "  **Hint:** 2D plot\n",
        "\n",
        "- consider three features and visualize the clusters with different colors using the predicted cluster centers.\n",
        "\n",
        "  **Hint:** [3D plot](https://matplotlib.org/stable/gallery/mplot3d/scatter3d.html\n",
        ")"
      ]
    },
    {
      "cell_type": "code",
      "metadata": {
        "colab": {
          "base_uri": "https://localhost:8080/"
        },
        "id": "P0L4I7A-hXx4",
        "outputId": "6ee97fde-d72a-48cd-9f17-7308332a45bc"
      },
      "source": [
        "data_norm"
      ],
      "execution_count": null,
      "outputs": [
        {
          "output_type": "execute_result",
          "data": {
            "text/plain": [
              "array([[-0.90061593,  0.39737419, -0.04287389],\n",
              "       [-0.17112975, -0.28068228,  0.32075092],\n",
              "       [-0.74072855, -0.08895597, -0.08803224],\n",
              "       ...,\n",
              "       [-0.85065112, -0.35082605,  0.10863484],\n",
              "       [-0.89062297,  2.76355745, -1.35174722],\n",
              "       [-0.50089747, -0.08427972,  0.24035997]])"
            ]
          },
          "metadata": {},
          "execution_count": 71
        }
      ]
    },
    {
      "cell_type": "code",
      "metadata": {
        "id": "07MVOFIidZuz",
        "colab": {
          "base_uri": "https://localhost:8080/",
          "height": 295
        },
        "outputId": "764cb413-fc83-473b-9f17-3a20aee456c4"
      },
      "source": [
        "# YOUR CODE HERE\n",
        "# Visualize the data using two features\n",
        "plt.scatter(data_norm[:,1], data_norm[:,2])\n",
        "plt.title(\"Scatterplot of R V/s F\")\n",
        "plt.xlabel('Recency)')\n",
        "plt.ylabel('Frequency')\n",
        "plt.show()"
      ],
      "execution_count": null,
      "outputs": [
        {
          "output_type": "display_data",
          "data": {
            "image/png": "[encoded data removed]",
            "text/plain": [
              "<Figure size 432x288 with 1 Axes>"
            ]
          },
          "metadata": {
            "needs_background": "light"
          }
        }
      ]
    },
    {
      "cell_type": "markdown",
      "metadata": {
        "id": "zef_pWaE20pP"
      },
      "source": [
        "### Train a supervised algorithm on clustered data\n",
        "\n",
        "This will allow us to predict cluster numbers (label) for each test data instance\n",
        "\n",
        "* Create labelled data with k-means cluster labels\n",
        "  \n",
        "  **Hint**: [`kmeans.labels_`](https://scikit-learn.org/stable/modules/generated/sklearn.cluster.KMeans.html\n",
        ")\n",
        "* Split the data into train and validation sets\n",
        "* Train a supervised algorithm on the train data\n",
        "* Find the accuracy of the model using validation data"
      ]
    },
    {
      "cell_type": "code",
      "metadata": {
        "id": "YLCHn9-j5ooT"
      },
      "source": [
        "# YOUR CODE HERE"
      ],
      "execution_count": null,
      "outputs": []
    },
    {
      "cell_type": "markdown",
      "metadata": {
        "id": "cUWhJeDpzh7Z"
      },
      "source": [
        "### Evaluation of Test Data\n",
        "* Use the model to predict the labels for the Test data below\n",
        "* Format the test data in the same format as the train data.\n",
        "* Predict it with trained supervised ML model"
      ]
    },
    {
      "cell_type": "code",
      "metadata": {
        "id": "B4rEobc5FSS_"
      },
      "source": [
        "# Test set provided as below\n",
        "Filepath='/content/Online_Retail_Test.csv'\n",
        "test_df=load_data(Filepath)\n",
        "test_df['CustomerID'] = test_df['CustomerID'].replace('\\.0', '', regex=True)\n",
        "test_df.head()"
      ],
      "execution_count": null,
      "outputs": []
    },
    {
      "cell_type": "code",
      "metadata": {
        "id": "2qoMrtWy-aSp"
      },
      "source": [
        "explore_data(test_df)"
      ],
      "execution_count": null,
      "outputs": []
    },
    {
      "cell_type": "code",
      "metadata": {
        "id": "6BLX-HSVrvM_"
      },
      "source": [
        "test_df['DayOfWeek']=test_df['InvoiceDate'].dt.weekday\n",
        "list_special_codes =  test_df[test_df['InvoiceNo'].str.contains('^[a-zA-Z]+', regex=True)]['InvoiceNo'].unique()\n",
        "len(list_special_codes)"
      ],
      "execution_count": null,
      "outputs": []
    },
    {
      "cell_type": "code",
      "metadata": {
        "id": "6cv3-65FsMVM"
      },
      "source": [
        "test_df = test_df[(test_df['Quantity']>0)]\n",
        "n1 = test_df['InvoiceNo'].apply(lambda x:int('C' in x)).sum()\n",
        "n2 = test_df.shape[0]\n",
        "print('Number of orders canceled after removing negative quantity : {}/{} ({:.2f}%) '.format(n1, n2, n1/n2*100))\n",
        "n1 = test_df['InvoiceNo'].apply(lambda x:int('A' in x)).sum()\n",
        "n2 = test_df.shape[0]\n",
        "print('Number of orders adjusted after removing negative quantity: {}/{} ({:.2f}%) '.format(n1, n2, n1/n2*100))"
      ],
      "execution_count": null,
      "outputs": []
    },
    {
      "cell_type": "code",
      "metadata": {
        "id": "XtfFHzC3tZcm"
      },
      "source": [
        "#Remove those with no customer information\n",
        "print(f\"Total rows dataframe before removing missing customers :\\n{test_df.shape}\\n\")\n",
        "test_df= test_df[pd.notnull(test_df['CustomerID'])] #Remove missing customer ID rows\n",
        "print(f\"Total rows dataframe after removing missing customers :\\n{test_df.shape}\\n\")"
      ],
      "execution_count": null,
      "outputs": []
    },
    {
      "cell_type": "code",
      "metadata": {
        "id": "iYz2Inxptogd"
      },
      "source": [
        ""
      ],
      "execution_count": null,
      "outputs": []
    }
  ]
}