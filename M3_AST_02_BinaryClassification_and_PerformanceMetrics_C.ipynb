{
  "nbformat": 4,
  "nbformat_minor": 0,
  "metadata": {
    "colab": {
      "name": "M3_AST_02_BinaryClassification_and_PerformanceMetrics_C.ipynb",
      "provenance": [],
      "collapsed_sections": [],
      "include_colab_link": true
    },
    "kernelspec": {
      "name": "python3",
      "display_name": "Python 3"
    },
    "language_info": {
      "name": "python"
    }
  },
  "cells": [
    {
      "cell_type": "markdown",
      "metadata": {
        "id": "view-in-github",
        "colab_type": "text"
      },
      "source": [
        "<a href=\"https://colab.research.google.com/github/srilav/machinelearning/blob/main/M3_AST_02_BinaryClassification_and_PerformanceMetrics_C.ipynb\" target=\"_parent\"><img src=\"https://colab.research.google.com/assets/colab-badge.svg\" alt=\"Open In Colab\"/></a>"
      ]
    },
    {
      "cell_type": "markdown",
      "metadata": {
        "id": "Ps9llghv8jX1"
      },
      "source": [
        "# Advanced Certification Program in Computational Data Science\n",
        "## A program by IISc and TalentSprint\n",
        "### Assignment 2: Binary Classification and Performance Metrics"
      ]
    },
    {
      "cell_type": "markdown",
      "metadata": {
        "id": "QeP1PAXf8jYD"
      },
      "source": [
        "## Learning Objectives"
      ]
    },
    {
      "cell_type": "markdown",
      "metadata": {
        "id": "AkwaW3k58jYG"
      },
      "source": [
        "At the end of the experiment, you will be able to:\n",
        "\n",
        "* learn about Classification tasks in Machine learning\n",
        "* perform Logistic Regression, Softmax Regression\n",
        "* learn the appropriate performance metrics according to use case\n",
        "* have an understanding of Decision Boundaries"
      ]
    },
    {
      "cell_type": "markdown",
      "metadata": {
        "id": "HzIWfoFc-mis"
      },
      "source": [
        "## Information"
      ]
    },
    {
      "cell_type": "markdown",
      "metadata": {
        "id": "1KfDhYd1yUIx"
      },
      "source": [
        "### Classification"
      ]
    },
    {
      "cell_type": "markdown",
      "metadata": {
        "id": "q-QzRVapVOow"
      },
      "source": [
        "**Classification** refers to a predictive modeling problem where a class label is predicted for a given example of input data.\n",
        "\n",
        "**Examples include:**\n",
        "\n",
        "* Email spam detection (spam or not).\n",
        "* Churn prediction (churn or not).\n",
        "* Conversion prediction (buy or not).\n",
        "\n",
        "**Binary classification** refers to those classification tasks that have two class labels.\n",
        "\n",
        "**Logistic Regression** is a Machine Learning classification algorithm that is used to predict the probability of a categorical dependent variable. In logistic regression, the dependent variable is a binary variable that contains data coded as 1 (yes, success, etc.) or 0 (no, failure, etc.). "
      ]
    },
    {
      "cell_type": "markdown",
      "metadata": {
        "id": "4zU4iSDHpQMB"
      },
      "source": [
        "### Implementing Binary Classification with Logistic Regression "
      ]
    },
    {
      "cell_type": "markdown",
      "metadata": {
        "id": "mg_NkkELpZKB"
      },
      "source": [
        "## Dataset"
      ]
    },
    {
      "cell_type": "markdown",
      "metadata": {
        "id": "ScK34HRop_Uf"
      },
      "source": [
        "In this example, we will be using \"Social_Network_Ads\" dataset. \n",
        "\n",
        "The variable descriptions are as follows:\n",
        "\n",
        "* Age\n",
        "* EstimatedSalary\n",
        "\n",
        "The target feature is:\n",
        "* Purchased\n",
        "\n",
        "**Problem Statement:** To predict if a person will purchase an item based on age and estimated salary. "
      ]
    },
    {
      "cell_type": "markdown",
      "metadata": {
        "id": "BNLA8HiKxQhc"
      },
      "source": [
        "### Setup Steps:"
      ]
    },
    {
      "cell_type": "code",
      "metadata": {
        "id": "2YzfoPvJDiTX"
      },
      "source": [
        "#@title Please enter your registration id to start: { run: \"auto\", display-mode: \"form\" }\n",
        "Id = \"2200183\" #@param {type:\"string\"}"
      ],
      "execution_count": 204,
      "outputs": []
    },
    {
      "cell_type": "code",
      "metadata": {
        "id": "AjoZJWGErxGf"
      },
      "source": [
        "#@title Please enter your password (your registered phone number) to continue: { run: \"auto\", display-mode: \"form\" }\n",
        "password = \"7671846954\" #@param {type:\"string\"}"
      ],
      "execution_count": 205,
      "outputs": []
    },
    {
      "cell_type": "code",
      "metadata": {
        "id": "WBPPuGmBlDIN",
        "cellView": "form",
        "colab": {
          "base_uri": "https://localhost:8080/",
          "height": 35
        },
        "outputId": "18ce8b60-fcbd-480e-e81a-39f7eaf478eb"
      },
      "source": [
        "#@title Run this cell to complete the setup for this Notebook\n",
        "from IPython import get_ipython\n",
        "\n",
        "ipython = get_ipython()\n",
        "  \n",
        "notebook= \"M3_AST_02_BinaryClassification_and_PerformanceMetrics_C\" #name of the notebook\n",
        "\n",
        "def setup():\n",
        "#  ipython.magic(\"sx pip3 install torch\")  \n",
        "    ipython.magic(\"sx wget https://cdn.iisc.talentsprint.com/CDS/Datasets/Social_Network_Ads.csv\")\n",
        "    ipython.magic(\"sx wget https://cdn.iisc.talentsprint.com/aiml/Experiment_related_data/diabetes.csv\")\n",
        "    from IPython.display import HTML, display\n",
        "    display(HTML('<script src=\"https://dashboard.talentsprint.com/aiml/record_ip.html?traineeId={0}&recordId={1}\"></script>'.format(getId(),submission_id)))\n",
        "    print(\"Setup completed successfully\")\n",
        "    return\n",
        "\n",
        "def submit_notebook():\n",
        "    ipython.magic(\"notebook -e \"+ notebook + \".ipynb\")\n",
        "    \n",
        "    import requests, json, base64, datetime\n",
        "\n",
        "    url = \"https://dashboard.talentsprint.com/xp/app/save_notebook_attempts\"\n",
        "    if not submission_id:\n",
        "      data = {\"id\" : getId(), \"notebook\" : notebook, \"mobile\" : getPassword()}\n",
        "      r = requests.post(url, data = data)\n",
        "      r = json.loads(r.text)\n",
        "\n",
        "      if r[\"status\"] == \"Success\":\n",
        "          return r[\"record_id\"]\n",
        "      elif \"err\" in r:        \n",
        "        print(r[\"err\"])\n",
        "        return None        \n",
        "      else:\n",
        "        print (\"Something is wrong, the notebook will not be submitted for grading\")\n",
        "        return None\n",
        "    \n",
        "    elif getAnswer() and getComplexity() and getAdditional() and getConcepts() and getComments() and getMentorSupport():\n",
        "      f = open(notebook + \".ipynb\", \"rb\")\n",
        "      file_hash = base64.b64encode(f.read())\n",
        "\n",
        "      data = {\"complexity\" : Complexity, \"additional\" :Additional, \n",
        "              \"concepts\" : Concepts, \"record_id\" : submission_id, \n",
        "              \"answer\" : Answer, \"id\" : Id, \"file_hash\" : file_hash,\n",
        "              \"notebook\" : notebook,\n",
        "              \"feedback_experiments_input\" : Comments,\n",
        "              \"feedback_mentor_support\": Mentor_support}\n",
        "      r = requests.post(url, data = data)\n",
        "      r = json.loads(r.text)\n",
        "      if \"err\" in r:        \n",
        "        print(r[\"err\"])\n",
        "        return None   \n",
        "      else:\n",
        "        print(\"Your submission is successful.\")\n",
        "        print(\"Ref Id:\", submission_id)\n",
        "        print(\"Date of submission: \", r[\"date\"])\n",
        "        print(\"Time of submission: \", r[\"time\"])\n",
        "        print(\"View your submissions: https://cds.iisc.talentsprint.com/notebook_submissions\")\n",
        "        #print(\"For any queries/discrepancies, please connect with mentors through the chat icon in LMS dashboard.\")\n",
        "        return submission_id\n",
        "    else: submission_id\n",
        "    \n",
        "\n",
        "def getAdditional():\n",
        "  try:\n",
        "    if not Additional: \n",
        "      raise NameError\n",
        "    else:\n",
        "      return Additional  \n",
        "  except NameError:\n",
        "    print (\"Please answer Additional Question\")\n",
        "    return None\n",
        "\n",
        "def getComplexity():\n",
        "  try:\n",
        "    if not Complexity:\n",
        "      raise NameError\n",
        "    else:\n",
        "      return Complexity\n",
        "  except NameError:\n",
        "    print (\"Please answer Complexity Question\")\n",
        "    return None\n",
        "  \n",
        "def getConcepts():\n",
        "  try:\n",
        "    if not Concepts:\n",
        "      raise NameError\n",
        "    else:\n",
        "      return Concepts\n",
        "  except NameError:\n",
        "    print (\"Please answer Concepts Question\")\n",
        "    return None\n",
        "  \n",
        "  \n",
        "# def getWalkthrough():\n",
        "#   try:\n",
        "#     if not Walkthrough:\n",
        "#       raise NameError\n",
        "#     else:\n",
        "#       return Walkthrough\n",
        "#   except NameError:\n",
        "#     print (\"Please answer Walkthrough Question\")\n",
        "#     return None\n",
        "  \n",
        "def getComments():\n",
        "  try:\n",
        "    if not Comments:\n",
        "      raise NameError\n",
        "    else:\n",
        "      return Comments\n",
        "  except NameError:\n",
        "    print (\"Please answer Comments Question\")\n",
        "    return None\n",
        "  \n",
        "\n",
        "def getMentorSupport():\n",
        "  try:\n",
        "    if not Mentor_support:\n",
        "      raise NameError\n",
        "    else:\n",
        "      return Mentor_support\n",
        "  except NameError:\n",
        "    print (\"Please answer Mentor support Question\")\n",
        "    return None\n",
        "\n",
        "def getAnswer():\n",
        "  try:\n",
        "    if not Answer:\n",
        "      raise NameError \n",
        "    else: \n",
        "      return Answer\n",
        "  except NameError:\n",
        "    print (\"Please answer Question\")\n",
        "    return None\n",
        "  \n",
        "\n",
        "def getId():\n",
        "  try: \n",
        "    return Id if Id else None\n",
        "  except NameError:\n",
        "    return None\n",
        "\n",
        "def getPassword():\n",
        "  try:\n",
        "    return password if password else None\n",
        "  except NameError:\n",
        "    return None\n",
        "\n",
        "submission_id = None\n",
        "### Setup \n",
        "if getPassword() and getId():\n",
        "  submission_id = submit_notebook()\n",
        "  if submission_id:\n",
        "    setup() \n",
        "else:\n",
        "  print (\"Please complete Id and Password cells before running setup\")\n",
        "\n"
      ],
      "execution_count": 206,
      "outputs": [
        {
          "output_type": "display_data",
          "data": {
            "text/html": [
              "<script src=\"https://dashboard.talentsprint.com/aiml/record_ip.html?traineeId=2200183&recordId=4096\"></script>"
            ],
            "text/plain": [
              "<IPython.core.display.HTML object>"
            ]
          },
          "metadata": {}
        },
        {
          "output_type": "stream",
          "name": "stdout",
          "text": [
            "Setup completed successfully\n"
          ]
        }
      ]
    },
    {
      "cell_type": "markdown",
      "metadata": {
        "id": "ZWv5Dh4iO3Pj"
      },
      "source": [
        "### Importing required packages\n"
      ]
    },
    {
      "cell_type": "code",
      "metadata": {
        "id": "3ljIHCqCO3mk"
      },
      "source": [
        "import numpy as np\n",
        "import pandas as pd\n",
        "import seaborn as sns\n",
        "import matplotlib.pyplot as plt\n",
        "from sklearn.model_selection import train_test_split\n",
        "from sklearn.linear_model import LogisticRegression\n",
        "from sklearn.metrics import classification_report, confusion_matrix"
      ],
      "execution_count": 207,
      "outputs": []
    },
    {
      "cell_type": "markdown",
      "metadata": {
        "id": "6x4tygU7rw0u"
      },
      "source": [
        "#### Importing the Dataset"
      ]
    },
    {
      "cell_type": "code",
      "metadata": {
        "id": "a_14Ruksx4zx",
        "colab": {
          "base_uri": "https://localhost:8080/",
          "height": 205
        },
        "outputId": "a73a16eb-7a7e-4769-f682-d7f1e3983eff"
      },
      "source": [
        "df = pd.read_csv('Social_Network_Ads.csv')\n",
        "X = df.iloc[:, 1].values # estimated salary\n",
        "y = df.iloc[:, -1].values\n",
        "X = X.reshape(-1, 1)\n",
        "df.head()"
      ],
      "execution_count": 208,
      "outputs": [
        {
          "output_type": "execute_result",
          "data": {
            "text/html": [
              "<div>\n",
              "<style scoped>\n",
              "    .dataframe tbody tr th:only-of-type {\n",
              "        vertical-align: middle;\n",
              "    }\n",
              "\n",
              "    .dataframe tbody tr th {\n",
              "        vertical-align: top;\n",
              "    }\n",
              "\n",
              "    .dataframe thead th {\n",
              "        text-align: right;\n",
              "    }\n",
              "</style>\n",
              "<table border=\"1\" class=\"dataframe\">\n",
              "  <thead>\n",
              "    <tr style=\"text-align: right;\">\n",
              "      <th></th>\n",
              "      <th>Age</th>\n",
              "      <th>EstimatedSalary</th>\n",
              "      <th>Purchased</th>\n",
              "    </tr>\n",
              "  </thead>\n",
              "  <tbody>\n",
              "    <tr>\n",
              "      <th>0</th>\n",
              "      <td>19</td>\n",
              "      <td>19000</td>\n",
              "      <td>0</td>\n",
              "    </tr>\n",
              "    <tr>\n",
              "      <th>1</th>\n",
              "      <td>35</td>\n",
              "      <td>20000</td>\n",
              "      <td>0</td>\n",
              "    </tr>\n",
              "    <tr>\n",
              "      <th>2</th>\n",
              "      <td>26</td>\n",
              "      <td>43000</td>\n",
              "      <td>0</td>\n",
              "    </tr>\n",
              "    <tr>\n",
              "      <th>3</th>\n",
              "      <td>27</td>\n",
              "      <td>57000</td>\n",
              "      <td>0</td>\n",
              "    </tr>\n",
              "    <tr>\n",
              "      <th>4</th>\n",
              "      <td>19</td>\n",
              "      <td>76000</td>\n",
              "      <td>0</td>\n",
              "    </tr>\n",
              "  </tbody>\n",
              "</table>\n",
              "</div>"
            ],
            "text/plain": [
              "   Age  EstimatedSalary  Purchased\n",
              "0   19            19000          0\n",
              "1   35            20000          0\n",
              "2   26            43000          0\n",
              "3   27            57000          0\n",
              "4   19            76000          0"
            ]
          },
          "metadata": {},
          "execution_count": 208
        }
      ]
    },
    {
      "cell_type": "markdown",
      "metadata": {
        "id": "nz_y_tzzrxAZ"
      },
      "source": [
        "#### Splitting the dataset into the Training set and Test set"
      ]
    },
    {
      "cell_type": "code",
      "metadata": {
        "id": "cwmIhomc-igk"
      },
      "source": [
        "X_train, X_test, y_train, y_test = train_test_split(X, y, test_size = 0.25, random_state = 0)\n"
      ],
      "execution_count": 209,
      "outputs": []
    },
    {
      "cell_type": "code",
      "metadata": {
        "id": "8j-ECM1T-i2p",
        "colab": {
          "base_uri": "https://localhost:8080/"
        },
        "outputId": "4abdfb27-3a49-4164-9816-9866bd0a7ba7"
      },
      "source": [
        "print(X_train)"
      ],
      "execution_count": 210,
      "outputs": [
        {
          "output_type": "stream",
          "name": "stdout",
          "text": [
            "[[ 39000]\n",
            " [120000]\n",
            " [ 50000]\n",
            " [135000]\n",
            " [ 21000]\n",
            " [104000]\n",
            " [ 42000]\n",
            " [ 61000]\n",
            " [ 50000]\n",
            " [ 63000]\n",
            " [ 25000]\n",
            " [ 50000]\n",
            " [ 73000]\n",
            " [ 49000]\n",
            " [ 29000]\n",
            " [ 65000]\n",
            " [131000]\n",
            " [ 89000]\n",
            " [ 82000]\n",
            " [ 51000]\n",
            " [ 15000]\n",
            " [102000]\n",
            " [112000]\n",
            " [107000]\n",
            " [ 53000]\n",
            " [ 59000]\n",
            " [ 41000]\n",
            " [134000]\n",
            " [113000]\n",
            " [148000]\n",
            " [ 15000]\n",
            " [ 42000]\n",
            " [ 19000]\n",
            " [149000]\n",
            " [ 96000]\n",
            " [ 59000]\n",
            " [ 96000]\n",
            " [ 89000]\n",
            " [ 72000]\n",
            " [ 26000]\n",
            " [ 69000]\n",
            " [ 82000]\n",
            " [ 74000]\n",
            " [ 80000]\n",
            " [ 72000]\n",
            " [149000]\n",
            " [ 71000]\n",
            " [146000]\n",
            " [ 79000]\n",
            " [ 75000]\n",
            " [ 51000]\n",
            " [ 75000]\n",
            " [ 78000]\n",
            " [ 61000]\n",
            " [108000]\n",
            " [ 82000]\n",
            " [ 74000]\n",
            " [ 65000]\n",
            " [ 80000]\n",
            " [117000]\n",
            " [ 61000]\n",
            " [ 68000]\n",
            " [ 44000]\n",
            " [ 87000]\n",
            " [ 33000]\n",
            " [ 90000]\n",
            " [ 42000]\n",
            " [123000]\n",
            " [118000]\n",
            " [ 87000]\n",
            " [ 71000]\n",
            " [ 70000]\n",
            " [ 39000]\n",
            " [ 23000]\n",
            " [147000]\n",
            " [138000]\n",
            " [ 86000]\n",
            " [ 79000]\n",
            " [138000]\n",
            " [ 23000]\n",
            " [ 60000]\n",
            " [113000]\n",
            " [107000]\n",
            " [ 33000]\n",
            " [ 80000]\n",
            " [ 96000]\n",
            " [ 18000]\n",
            " [ 71000]\n",
            " [129000]\n",
            " [ 76000]\n",
            " [ 44000]\n",
            " [118000]\n",
            " [ 90000]\n",
            " [ 30000]\n",
            " [ 43000]\n",
            " [ 78000]\n",
            " [ 59000]\n",
            " [ 42000]\n",
            " [ 74000]\n",
            " [ 91000]\n",
            " [ 59000]\n",
            " [ 57000]\n",
            " [143000]\n",
            " [ 26000]\n",
            " [ 38000]\n",
            " [113000]\n",
            " [143000]\n",
            " [ 27000]\n",
            " [101000]\n",
            " [ 45000]\n",
            " [ 82000]\n",
            " [ 23000]\n",
            " [ 65000]\n",
            " [ 84000]\n",
            " [ 59000]\n",
            " [ 84000]\n",
            " [ 28000]\n",
            " [ 71000]\n",
            " [ 55000]\n",
            " [ 35000]\n",
            " [ 28000]\n",
            " [ 65000]\n",
            " [ 17000]\n",
            " [ 28000]\n",
            " [141000]\n",
            " [ 17000]\n",
            " [ 97000]\n",
            " [ 59000]\n",
            " [ 27000]\n",
            " [ 18000]\n",
            " [ 88000]\n",
            " [ 58000]\n",
            " [ 60000]\n",
            " [ 34000]\n",
            " [ 72000]\n",
            " [100000]\n",
            " [ 21000]\n",
            " [ 90000]\n",
            " [ 88000]\n",
            " [ 32000]\n",
            " [ 20000]\n",
            " [ 59000]\n",
            " [ 44000]\n",
            " [ 72000]\n",
            " [142000]\n",
            " [ 32000]\n",
            " [ 71000]\n",
            " [ 74000]\n",
            " [ 75000]\n",
            " [ 76000]\n",
            " [ 25000]\n",
            " [ 61000]\n",
            " [112000]\n",
            " [ 80000]\n",
            " [ 75000]\n",
            " [ 47000]\n",
            " [ 75000]\n",
            " [ 25000]\n",
            " [ 80000]\n",
            " [ 60000]\n",
            " [ 52000]\n",
            " [125000]\n",
            " [ 29000]\n",
            " [126000]\n",
            " [134000]\n",
            " [ 57000]\n",
            " [ 71000]\n",
            " [ 61000]\n",
            " [ 27000]\n",
            " [ 60000]\n",
            " [ 74000]\n",
            " [ 23000]\n",
            " [ 72000]\n",
            " [117000]\n",
            " [ 70000]\n",
            " [ 80000]\n",
            " [ 95000]\n",
            " [ 52000]\n",
            " [ 79000]\n",
            " [ 55000]\n",
            " [ 75000]\n",
            " [ 28000]\n",
            " [139000]\n",
            " [ 18000]\n",
            " [ 51000]\n",
            " [133000]\n",
            " [ 32000]\n",
            " [ 22000]\n",
            " [ 55000]\n",
            " [104000]\n",
            " [119000]\n",
            " [ 53000]\n",
            " [144000]\n",
            " [ 66000]\n",
            " [137000]\n",
            " [ 58000]\n",
            " [ 41000]\n",
            " [ 22000]\n",
            " [ 15000]\n",
            " [ 19000]\n",
            " [ 74000]\n",
            " [122000]\n",
            " [ 73000]\n",
            " [ 71000]\n",
            " [ 23000]\n",
            " [ 72000]\n",
            " [ 83000]\n",
            " [ 26000]\n",
            " [ 44000]\n",
            " [ 75000]\n",
            " [ 47000]\n",
            " [ 68000]\n",
            " [ 54000]\n",
            " [135000]\n",
            " [114000]\n",
            " [ 36000]\n",
            " [133000]\n",
            " [ 61000]\n",
            " [ 89000]\n",
            " [ 16000]\n",
            " [ 31000]\n",
            " [ 72000]\n",
            " [ 33000]\n",
            " [125000]\n",
            " [131000]\n",
            " [ 71000]\n",
            " [ 62000]\n",
            " [ 72000]\n",
            " [ 63000]\n",
            " [ 47000]\n",
            " [116000]\n",
            " [ 49000]\n",
            " [ 74000]\n",
            " [ 59000]\n",
            " [ 89000]\n",
            " [ 79000]\n",
            " [ 82000]\n",
            " [ 57000]\n",
            " [ 34000]\n",
            " [108000]\n",
            " [ 72000]\n",
            " [ 71000]\n",
            " [106000]\n",
            " [ 57000]\n",
            " [ 72000]\n",
            " [ 23000]\n",
            " [108000]\n",
            " [ 17000]\n",
            " [134000]\n",
            " [ 43000]\n",
            " [ 43000]\n",
            " [ 38000]\n",
            " [ 45000]\n",
            " [ 72000]\n",
            " [134000]\n",
            " [137000]\n",
            " [ 16000]\n",
            " [ 32000]\n",
            " [ 66000]\n",
            " [ 73000]\n",
            " [ 79000]\n",
            " [ 50000]\n",
            " [ 30000]\n",
            " [ 93000]\n",
            " [ 46000]\n",
            " [ 22000]\n",
            " [ 37000]\n",
            " [ 55000]\n",
            " [ 54000]\n",
            " [ 36000]\n",
            " [104000]\n",
            " [ 57000]\n",
            " [108000]\n",
            " [ 23000]\n",
            " [ 65000]\n",
            " [ 20000]\n",
            " [ 86000]\n",
            " [ 79000]\n",
            " [ 33000]\n",
            " [ 72000]\n",
            " [ 39000]\n",
            " [ 31000]\n",
            " [ 70000]\n",
            " [ 79000]\n",
            " [ 81000]\n",
            " [ 80000]\n",
            " [ 85000]\n",
            " [ 39000]\n",
            " [ 88000]\n",
            " [ 88000]\n",
            " [150000]\n",
            " [ 65000]\n",
            " [ 54000]\n",
            " [ 43000]\n",
            " [ 52000]\n",
            " [ 30000]\n",
            " [ 43000]\n",
            " [ 52000]\n",
            " [ 54000]\n",
            " [118000]]\n"
          ]
        }
      ]
    },
    {
      "cell_type": "code",
      "metadata": {
        "id": "EyuA7_JzSN5-",
        "colab": {
          "base_uri": "https://localhost:8080/"
        },
        "outputId": "7e0915cd-3c45-4423-f8f3-8214e6e8e12d"
      },
      "source": [
        "print(y_train)"
      ],
      "execution_count": 211,
      "outputs": [
        {
          "output_type": "stream",
          "name": "stdout",
          "text": [
            "[0 1 0 1 1 1 0 0 0 0 0 0 1 1 1 0 1 0 0 1 0 1 0 1 0 0 1 1 1 1 0 1 0 1 0 0 1\n",
            " 0 0 1 0 0 0 0 0 1 1 1 1 0 0 0 1 0 1 0 1 0 0 1 0 0 0 1 0 0 0 1 1 0 0 1 0 1\n",
            " 1 1 0 0 1 1 0 0 1 1 0 1 0 0 1 1 0 1 1 1 0 0 0 0 0 1 0 0 1 1 1 1 1 0 1 1 0\n",
            " 1 0 0 0 0 0 0 0 1 1 0 0 1 0 0 1 0 0 0 1 0 1 1 0 1 0 0 0 0 1 0 0 0 1 1 0 0\n",
            " 0 0 1 0 1 0 0 0 1 0 0 0 0 1 1 1 0 0 0 0 0 0 1 1 1 1 1 0 1 0 0 0 0 0 1 0 0\n",
            " 0 0 0 0 1 1 0 1 0 1 0 0 1 0 0 0 1 0 0 0 0 0 1 0 0 0 0 0 1 0 1 1 0 0 0 0 0\n",
            " 0 1 1 0 0 0 0 1 0 0 0 0 1 0 1 0 1 0 0 0 1 0 0 0 1 0 1 0 0 0 0 0 1 1 0 0 0\n",
            " 0 0 1 0 1 1 0 0 0 0 0 1 0 1 0 0 1 0 0 1 0 1 0 0 0 0 0 0 1 1 1 1 0 0 0 0 1\n",
            " 0 0 0 0]\n"
          ]
        }
      ]
    },
    {
      "cell_type": "code",
      "metadata": {
        "id": "Lcizce69SRPe",
        "colab": {
          "base_uri": "https://localhost:8080/"
        },
        "outputId": "fddccbd6-646e-4bd5-be33-ad87fede623c"
      },
      "source": [
        "print(X_test)"
      ],
      "execution_count": 212,
      "outputs": [
        {
          "output_type": "stream",
          "name": "stdout",
          "text": [
            "[[ 87000]\n",
            " [ 50000]\n",
            " [ 75000]\n",
            " [ 79000]\n",
            " [ 50000]\n",
            " [ 20000]\n",
            " [ 15000]\n",
            " [144000]\n",
            " [ 68000]\n",
            " [ 43000]\n",
            " [ 49000]\n",
            " [ 55000]\n",
            " [ 55000]\n",
            " [ 77000]\n",
            " [ 86000]\n",
            " [117000]\n",
            " [ 77000]\n",
            " [ 85000]\n",
            " [130000]\n",
            " [ 22000]\n",
            " [ 47000]\n",
            " [144000]\n",
            " [ 51000]\n",
            " [105000]\n",
            " [ 28000]\n",
            " [141000]\n",
            " [ 87000]\n",
            " [ 80000]\n",
            " [ 62000]\n",
            " [ 86000]\n",
            " [ 88000]\n",
            " [ 79000]\n",
            " [ 60000]\n",
            " [ 53000]\n",
            " [ 58000]\n",
            " [ 52000]\n",
            " [ 81000]\n",
            " [ 43000]\n",
            " [ 34000]\n",
            " [ 36000]\n",
            " [ 88000]\n",
            " [ 52000]\n",
            " [ 84000]\n",
            " [ 20000]\n",
            " [112000]\n",
            " [ 58000]\n",
            " [ 80000]\n",
            " [ 90000]\n",
            " [ 30000]\n",
            " [ 86000]\n",
            " [122000]\n",
            " [ 25000]\n",
            " [ 57000]\n",
            " [115000]\n",
            " [ 88000]\n",
            " [ 32000]\n",
            " [ 83000]\n",
            " [ 80000]\n",
            " [ 28000]\n",
            " [ 20000]\n",
            " [ 18000]\n",
            " [ 42000]\n",
            " [ 76000]\n",
            " [ 99000]\n",
            " [ 26000]\n",
            " [ 83000]\n",
            " [ 89000]\n",
            " [ 58000]\n",
            " [ 47000]\n",
            " [ 70000]\n",
            " [150000]\n",
            " [ 77000]\n",
            " [ 63000]\n",
            " [ 22000]\n",
            " [ 89000]\n",
            " [ 82000]\n",
            " [ 79000]\n",
            " [ 60000]\n",
            " [ 34000]\n",
            " [107000]\n",
            " [144000]\n",
            " [ 83000]\n",
            " [ 55000]\n",
            " [ 35000]\n",
            " [ 38000]\n",
            " [ 80000]\n",
            " [ 75000]\n",
            " [130000]\n",
            " [ 41000]\n",
            " [ 60000]\n",
            " [ 64000]\n",
            " [146000]\n",
            " [ 48000]\n",
            " [ 33000]\n",
            " [ 84000]\n",
            " [ 96000]\n",
            " [ 63000]\n",
            " [ 33000]\n",
            " [ 90000]\n",
            " [104000]]\n"
          ]
        }
      ]
    },
    {
      "cell_type": "code",
      "metadata": {
        "id": "00b_DUmXSRYl",
        "colab": {
          "base_uri": "https://localhost:8080/"
        },
        "outputId": "f69ae227-f272-4721-f6bf-1dd1a131fba4"
      },
      "source": [
        "print(y_test)"
      ],
      "execution_count": 213,
      "outputs": [
        {
          "output_type": "stream",
          "name": "stdout",
          "text": [
            "[0 0 0 0 0 0 0 1 0 0 0 0 0 0 0 0 0 0 1 0 0 1 0 1 0 1 0 0 0 0 0 1 1 0 0 0 0\n",
            " 0 0 1 0 0 0 0 1 0 0 1 0 1 1 0 0 0 1 1 0 0 1 0 0 1 0 1 0 1 0 0 0 0 1 0 0 1\n",
            " 0 0 0 0 1 1 1 0 0 0 1 1 0 1 1 0 0 1 0 0 0 1 0 1 1 1]\n"
          ]
        }
      ]
    },
    {
      "cell_type": "markdown",
      "metadata": {
        "id": "ppSxsQ6pQbjO"
      },
      "source": [
        "#### Feature Scaling"
      ]
    },
    {
      "cell_type": "code",
      "metadata": {
        "id": "sCFtgPISPYbU"
      },
      "source": [
        "from sklearn.preprocessing import StandardScaler\n",
        "sc = StandardScaler()\n",
        "X_train = sc.fit_transform(X_train)\n",
        "X_test = sc.transform(X_test)"
      ],
      "execution_count": 214,
      "outputs": []
    },
    {
      "cell_type": "code",
      "metadata": {
        "id": "A7Qf5eY1SfVn",
        "colab": {
          "base_uri": "https://localhost:8080/"
        },
        "outputId": "2df2e060-a6ca-408d-bb58-6d1b0a0ef7a1"
      },
      "source": [
        "print(X_train)"
      ],
      "execution_count": 215,
      "outputs": [
        {
          "output_type": "stream",
          "name": "stdout",
          "text": [
            "[[-0.88670699]\n",
            " [ 1.46173768]\n",
            " [-0.5677824 ]\n",
            " [ 1.89663484]\n",
            " [-1.40858358]\n",
            " [ 0.99784738]\n",
            " [-0.79972756]\n",
            " [-0.24885782]\n",
            " [-0.5677824 ]\n",
            " [-0.19087153]\n",
            " [-1.29261101]\n",
            " [-0.5677824 ]\n",
            " [ 0.09905991]\n",
            " [-0.59677555]\n",
            " [-1.17663843]\n",
            " [-0.13288524]\n",
            " [ 1.78066227]\n",
            " [ 0.56295021]\n",
            " [ 0.35999821]\n",
            " [-0.53878926]\n",
            " [-1.58254245]\n",
            " [ 0.93986109]\n",
            " [ 1.22979253]\n",
            " [ 1.08482681]\n",
            " [-0.48080297]\n",
            " [-0.30684411]\n",
            " [-0.8287207 ]\n",
            " [ 1.8676417 ]\n",
            " [ 1.25878567]\n",
            " [ 2.27354572]\n",
            " [-1.58254245]\n",
            " [-0.79972756]\n",
            " [-1.46656987]\n",
            " [ 2.30253886]\n",
            " [ 0.76590222]\n",
            " [-0.30684411]\n",
            " [ 0.76590222]\n",
            " [ 0.56295021]\n",
            " [ 0.07006676]\n",
            " [-1.26361786]\n",
            " [-0.01691267]\n",
            " [ 0.35999821]\n",
            " [ 0.12805305]\n",
            " [ 0.30201192]\n",
            " [ 0.07006676]\n",
            " [ 2.30253886]\n",
            " [ 0.04107362]\n",
            " [ 2.21555943]\n",
            " [ 0.27301877]\n",
            " [ 0.1570462 ]\n",
            " [-0.53878926]\n",
            " [ 0.1570462 ]\n",
            " [ 0.24402563]\n",
            " [-0.24885782]\n",
            " [ 1.11381995]\n",
            " [ 0.35999821]\n",
            " [ 0.12805305]\n",
            " [-0.13288524]\n",
            " [ 0.30201192]\n",
            " [ 1.37475825]\n",
            " [-0.24885782]\n",
            " [-0.04590581]\n",
            " [-0.74174127]\n",
            " [ 0.50496393]\n",
            " [-1.06066585]\n",
            " [ 0.59194336]\n",
            " [-0.79972756]\n",
            " [ 1.54871711]\n",
            " [ 1.40375139]\n",
            " [ 0.50496393]\n",
            " [ 0.04107362]\n",
            " [ 0.01208048]\n",
            " [-0.88670699]\n",
            " [-1.3505973 ]\n",
            " [ 2.24455257]\n",
            " [ 1.98361427]\n",
            " [ 0.47597078]\n",
            " [ 0.27301877]\n",
            " [ 1.98361427]\n",
            " [-1.3505973 ]\n",
            " [-0.27785096]\n",
            " [ 1.25878567]\n",
            " [ 1.08482681]\n",
            " [-1.06066585]\n",
            " [ 0.30201192]\n",
            " [ 0.76590222]\n",
            " [-1.49556302]\n",
            " [ 0.04107362]\n",
            " [ 1.72267598]\n",
            " [ 0.18603934]\n",
            " [-0.74174127]\n",
            " [ 1.40375139]\n",
            " [ 0.59194336]\n",
            " [-1.14764529]\n",
            " [-0.77073441]\n",
            " [ 0.24402563]\n",
            " [-0.30684411]\n",
            " [-0.79972756]\n",
            " [ 0.12805305]\n",
            " [ 0.6209365 ]\n",
            " [-0.30684411]\n",
            " [-0.3648304 ]\n",
            " [ 2.12857999]\n",
            " [-1.26361786]\n",
            " [-0.91570013]\n",
            " [ 1.25878567]\n",
            " [ 2.12857999]\n",
            " [-1.23462472]\n",
            " [ 0.91086794]\n",
            " [-0.71274813]\n",
            " [ 0.35999821]\n",
            " [-1.3505973 ]\n",
            " [-0.13288524]\n",
            " [ 0.41798449]\n",
            " [-0.30684411]\n",
            " [ 0.41798449]\n",
            " [-1.20563157]\n",
            " [ 0.04107362]\n",
            " [-0.42281668]\n",
            " [-1.00267957]\n",
            " [-1.20563157]\n",
            " [-0.13288524]\n",
            " [-1.52455616]\n",
            " [-1.20563157]\n",
            " [ 2.07059371]\n",
            " [-1.52455616]\n",
            " [ 0.79489537]\n",
            " [-0.30684411]\n",
            " [-1.23462472]\n",
            " [-1.49556302]\n",
            " [ 0.53395707]\n",
            " [-0.33583725]\n",
            " [-0.27785096]\n",
            " [-1.03167271]\n",
            " [ 0.07006676]\n",
            " [ 0.8818748 ]\n",
            " [-1.40858358]\n",
            " [ 0.59194336]\n",
            " [ 0.53395707]\n",
            " [-1.089659  ]\n",
            " [-1.43757673]\n",
            " [-0.30684411]\n",
            " [-0.74174127]\n",
            " [ 0.07006676]\n",
            " [ 2.09958685]\n",
            " [-1.089659  ]\n",
            " [ 0.04107362]\n",
            " [ 0.12805305]\n",
            " [ 0.1570462 ]\n",
            " [ 0.18603934]\n",
            " [-1.29261101]\n",
            " [-0.24885782]\n",
            " [ 1.22979253]\n",
            " [ 0.30201192]\n",
            " [ 0.1570462 ]\n",
            " [-0.65476184]\n",
            " [ 0.1570462 ]\n",
            " [-1.29261101]\n",
            " [ 0.30201192]\n",
            " [-0.27785096]\n",
            " [-0.50979612]\n",
            " [ 1.6067034 ]\n",
            " [-1.17663843]\n",
            " [ 1.63569655]\n",
            " [ 1.8676417 ]\n",
            " [-0.3648304 ]\n",
            " [ 0.04107362]\n",
            " [-0.24885782]\n",
            " [-1.23462472]\n",
            " [-0.27785096]\n",
            " [ 0.12805305]\n",
            " [-1.3505973 ]\n",
            " [ 0.07006676]\n",
            " [ 1.37475825]\n",
            " [ 0.01208048]\n",
            " [ 0.30201192]\n",
            " [ 0.73690908]\n",
            " [-0.50979612]\n",
            " [ 0.27301877]\n",
            " [-0.42281668]\n",
            " [ 0.1570462 ]\n",
            " [-1.20563157]\n",
            " [ 2.01260742]\n",
            " [-1.49556302]\n",
            " [-0.53878926]\n",
            " [ 1.83864855]\n",
            " [-1.089659  ]\n",
            " [-1.37959044]\n",
            " [-0.42281668]\n",
            " [ 0.99784738]\n",
            " [ 1.43274454]\n",
            " [-0.48080297]\n",
            " [ 2.15757314]\n",
            " [-0.1038921 ]\n",
            " [ 1.95462113]\n",
            " [-0.33583725]\n",
            " [-0.8287207 ]\n",
            " [-1.37959044]\n",
            " [-1.58254245]\n",
            " [-1.46656987]\n",
            " [ 0.12805305]\n",
            " [ 1.51972397]\n",
            " [ 0.09905991]\n",
            " [ 0.04107362]\n",
            " [-1.3505973 ]\n",
            " [ 0.07006676]\n",
            " [ 0.38899135]\n",
            " [-1.26361786]\n",
            " [-0.74174127]\n",
            " [ 0.1570462 ]\n",
            " [-0.65476184]\n",
            " [-0.04590581]\n",
            " [-0.45180983]\n",
            " [ 1.89663484]\n",
            " [ 1.28777882]\n",
            " [-0.97368642]\n",
            " [ 1.83864855]\n",
            " [-0.24885782]\n",
            " [ 0.56295021]\n",
            " [-1.5535493 ]\n",
            " [-1.11865214]\n",
            " [ 0.07006676]\n",
            " [-1.06066585]\n",
            " [ 1.6067034 ]\n",
            " [ 1.78066227]\n",
            " [ 0.04107362]\n",
            " [-0.21986468]\n",
            " [ 0.07006676]\n",
            " [-0.19087153]\n",
            " [-0.65476184]\n",
            " [ 1.3457651 ]\n",
            " [-0.59677555]\n",
            " [ 0.12805305]\n",
            " [-0.30684411]\n",
            " [ 0.56295021]\n",
            " [ 0.27301877]\n",
            " [ 0.35999821]\n",
            " [-0.3648304 ]\n",
            " [-1.03167271]\n",
            " [ 1.11381995]\n",
            " [ 0.07006676]\n",
            " [ 0.04107362]\n",
            " [ 1.05583366]\n",
            " [-0.3648304 ]\n",
            " [ 0.07006676]\n",
            " [-1.3505973 ]\n",
            " [ 1.11381995]\n",
            " [-1.52455616]\n",
            " [ 1.8676417 ]\n",
            " [-0.77073441]\n",
            " [-0.77073441]\n",
            " [-0.91570013]\n",
            " [-0.71274813]\n",
            " [ 0.07006676]\n",
            " [ 1.8676417 ]\n",
            " [ 1.95462113]\n",
            " [-1.5535493 ]\n",
            " [-1.089659  ]\n",
            " [-0.1038921 ]\n",
            " [ 0.09905991]\n",
            " [ 0.27301877]\n",
            " [-0.5677824 ]\n",
            " [-1.14764529]\n",
            " [ 0.67892279]\n",
            " [-0.68375498]\n",
            " [-1.37959044]\n",
            " [-0.94469328]\n",
            " [-0.42281668]\n",
            " [-0.45180983]\n",
            " [-0.97368642]\n",
            " [ 0.99784738]\n",
            " [-0.3648304 ]\n",
            " [ 1.11381995]\n",
            " [-1.3505973 ]\n",
            " [-0.13288524]\n",
            " [-1.43757673]\n",
            " [ 0.47597078]\n",
            " [ 0.27301877]\n",
            " [-1.06066585]\n",
            " [ 0.07006676]\n",
            " [-0.88670699]\n",
            " [-1.11865214]\n",
            " [ 0.01208048]\n",
            " [ 0.27301877]\n",
            " [ 0.33100506]\n",
            " [ 0.30201192]\n",
            " [ 0.44697764]\n",
            " [-0.88670699]\n",
            " [ 0.53395707]\n",
            " [ 0.53395707]\n",
            " [ 2.331532  ]\n",
            " [-0.13288524]\n",
            " [-0.45180983]\n",
            " [-0.77073441]\n",
            " [-0.50979612]\n",
            " [-1.14764529]\n",
            " [-0.77073441]\n",
            " [-0.50979612]\n",
            " [-0.45180983]\n",
            " [ 1.40375139]]\n"
          ]
        }
      ]
    },
    {
      "cell_type": "code",
      "metadata": {
        "id": "tUrZNVyGSffd",
        "colab": {
          "base_uri": "https://localhost:8080/"
        },
        "outputId": "421cc34f-dc04-412a-ca32-fd8999c0413a"
      },
      "source": [
        "print(X_test)"
      ],
      "execution_count": 216,
      "outputs": [
        {
          "output_type": "stream",
          "name": "stdout",
          "text": [
            "[[ 0.50496393]\n",
            " [-0.5677824 ]\n",
            " [ 0.1570462 ]\n",
            " [ 0.27301877]\n",
            " [-0.5677824 ]\n",
            " [-1.43757673]\n",
            " [-1.58254245]\n",
            " [ 2.15757314]\n",
            " [-0.04590581]\n",
            " [-0.77073441]\n",
            " [-0.59677555]\n",
            " [-0.42281668]\n",
            " [-0.42281668]\n",
            " [ 0.21503249]\n",
            " [ 0.47597078]\n",
            " [ 1.37475825]\n",
            " [ 0.21503249]\n",
            " [ 0.44697764]\n",
            " [ 1.75166912]\n",
            " [-1.37959044]\n",
            " [-0.65476184]\n",
            " [ 2.15757314]\n",
            " [-0.53878926]\n",
            " [ 1.02684052]\n",
            " [-1.20563157]\n",
            " [ 2.07059371]\n",
            " [ 0.50496393]\n",
            " [ 0.30201192]\n",
            " [-0.21986468]\n",
            " [ 0.47597078]\n",
            " [ 0.53395707]\n",
            " [ 0.27301877]\n",
            " [-0.27785096]\n",
            " [-0.48080297]\n",
            " [-0.33583725]\n",
            " [-0.50979612]\n",
            " [ 0.33100506]\n",
            " [-0.77073441]\n",
            " [-1.03167271]\n",
            " [-0.97368642]\n",
            " [ 0.53395707]\n",
            " [-0.50979612]\n",
            " [ 0.41798449]\n",
            " [-1.43757673]\n",
            " [ 1.22979253]\n",
            " [-0.33583725]\n",
            " [ 0.30201192]\n",
            " [ 0.59194336]\n",
            " [-1.14764529]\n",
            " [ 0.47597078]\n",
            " [ 1.51972397]\n",
            " [-1.29261101]\n",
            " [-0.3648304 ]\n",
            " [ 1.31677196]\n",
            " [ 0.53395707]\n",
            " [-1.089659  ]\n",
            " [ 0.38899135]\n",
            " [ 0.30201192]\n",
            " [-1.20563157]\n",
            " [-1.43757673]\n",
            " [-1.49556302]\n",
            " [-0.79972756]\n",
            " [ 0.18603934]\n",
            " [ 0.85288166]\n",
            " [-1.26361786]\n",
            " [ 0.38899135]\n",
            " [ 0.56295021]\n",
            " [-0.33583725]\n",
            " [-0.65476184]\n",
            " [ 0.01208048]\n",
            " [ 2.331532  ]\n",
            " [ 0.21503249]\n",
            " [-0.19087153]\n",
            " [-1.37959044]\n",
            " [ 0.56295021]\n",
            " [ 0.35999821]\n",
            " [ 0.27301877]\n",
            " [-0.27785096]\n",
            " [-1.03167271]\n",
            " [ 1.08482681]\n",
            " [ 2.15757314]\n",
            " [ 0.38899135]\n",
            " [-0.42281668]\n",
            " [-1.00267957]\n",
            " [-0.91570013]\n",
            " [ 0.30201192]\n",
            " [ 0.1570462 ]\n",
            " [ 1.75166912]\n",
            " [-0.8287207 ]\n",
            " [-0.27785096]\n",
            " [-0.16187839]\n",
            " [ 2.21555943]\n",
            " [-0.62576869]\n",
            " [-1.06066585]\n",
            " [ 0.41798449]\n",
            " [ 0.76590222]\n",
            " [-0.19087153]\n",
            " [-1.06066585]\n",
            " [ 0.59194336]\n",
            " [ 0.99784738]]\n"
          ]
        }
      ]
    },
    {
      "cell_type": "markdown",
      "metadata": {
        "id": "CZqNg1ErQpt_"
      },
      "source": [
        "#### Training the Logistic Regression model on the Training set\n",
        "\n",
        "\n"
      ]
    },
    {
      "cell_type": "code",
      "metadata": {
        "id": "TmowAS_ePasE",
        "colab": {
          "base_uri": "https://localhost:8080/"
        },
        "outputId": "d5fa277e-a314-4aef-e948-490f657fcf12"
      },
      "source": [
        "classifier = LogisticRegression(random_state = 0)\n",
        "classifier.fit(X_train, y_train)"
      ],
      "execution_count": 217,
      "outputs": [
        {
          "output_type": "execute_result",
          "data": {
            "text/plain": [
              "LogisticRegression(C=1.0, class_weight=None, dual=False, fit_intercept=True,\n",
              "                   intercept_scaling=1, l1_ratio=None, max_iter=100,\n",
              "                   multi_class='auto', n_jobs=None, penalty='l2',\n",
              "                   random_state=0, solver='lbfgs', tol=0.0001, verbose=0,\n",
              "                   warm_start=False)"
            ]
          },
          "metadata": {},
          "execution_count": 217
        }
      ]
    },
    {
      "cell_type": "markdown",
      "metadata": {
        "id": "75AUfSTKSvFe"
      },
      "source": [
        "#### Predicting a new test instance"
      ]
    },
    {
      "cell_type": "code",
      "metadata": {
        "id": "NJQOOQpXQ2-m",
        "colab": {
          "base_uri": "https://localhost:8080/"
        },
        "outputId": "c9da2274-0bca-4ada-f528-5ed87979d84b"
      },
      "source": [
        "print(classifier.predict(sc.transform([[87000]])))"
      ],
      "execution_count": 218,
      "outputs": [
        {
          "output_type": "stream",
          "name": "stdout",
          "text": [
            "[0]\n"
          ]
        }
      ]
    },
    {
      "cell_type": "markdown",
      "metadata": {
        "id": "6dLORN2ZSytH"
      },
      "source": [
        "#### Predicting the Test set results"
      ]
    },
    {
      "cell_type": "code",
      "metadata": {
        "id": "rvKLpe0oSy4b",
        "colab": {
          "base_uri": "https://localhost:8080/"
        },
        "outputId": "34de6d8d-a679-4e6d-d4a6-184fe4e88a73"
      },
      "source": [
        "y_pred = classifier.predict(X_test)\n",
        "print(np.concatenate((y_pred.reshape(len(y_pred),1), y_test.reshape(len(y_test),1)),1))"
      ],
      "execution_count": 219,
      "outputs": [
        {
          "output_type": "stream",
          "name": "stdout",
          "text": [
            "[[0 0]\n",
            " [0 0]\n",
            " [0 0]\n",
            " [0 0]\n",
            " [0 0]\n",
            " [0 0]\n",
            " [0 0]\n",
            " [1 1]\n",
            " [0 0]\n",
            " [0 0]\n",
            " [0 0]\n",
            " [0 0]\n",
            " [0 0]\n",
            " [0 0]\n",
            " [0 0]\n",
            " [1 0]\n",
            " [0 0]\n",
            " [0 0]\n",
            " [1 1]\n",
            " [0 0]\n",
            " [0 0]\n",
            " [1 1]\n",
            " [0 0]\n",
            " [1 1]\n",
            " [0 0]\n",
            " [1 1]\n",
            " [0 0]\n",
            " [0 0]\n",
            " [0 0]\n",
            " [0 0]\n",
            " [0 0]\n",
            " [0 1]\n",
            " [0 1]\n",
            " [0 0]\n",
            " [0 0]\n",
            " [0 0]\n",
            " [0 0]\n",
            " [0 0]\n",
            " [0 0]\n",
            " [0 1]\n",
            " [0 0]\n",
            " [0 0]\n",
            " [0 0]\n",
            " [0 0]\n",
            " [1 1]\n",
            " [0 0]\n",
            " [0 0]\n",
            " [0 1]\n",
            " [0 0]\n",
            " [0 1]\n",
            " [1 1]\n",
            " [0 0]\n",
            " [0 0]\n",
            " [1 0]\n",
            " [0 1]\n",
            " [0 1]\n",
            " [0 0]\n",
            " [0 0]\n",
            " [0 1]\n",
            " [0 0]\n",
            " [0 0]\n",
            " [0 1]\n",
            " [0 0]\n",
            " [1 1]\n",
            " [0 0]\n",
            " [0 1]\n",
            " [0 0]\n",
            " [0 0]\n",
            " [0 0]\n",
            " [0 0]\n",
            " [1 1]\n",
            " [0 0]\n",
            " [0 0]\n",
            " [0 1]\n",
            " [0 0]\n",
            " [0 0]\n",
            " [0 0]\n",
            " [0 0]\n",
            " [0 1]\n",
            " [1 1]\n",
            " [1 1]\n",
            " [0 0]\n",
            " [0 0]\n",
            " [0 0]\n",
            " [0 1]\n",
            " [0 1]\n",
            " [0 0]\n",
            " [1 1]\n",
            " [0 1]\n",
            " [0 0]\n",
            " [0 0]\n",
            " [1 1]\n",
            " [0 0]\n",
            " [0 0]\n",
            " [0 0]\n",
            " [1 1]\n",
            " [0 0]\n",
            " [0 1]\n",
            " [0 1]\n",
            " [1 1]]\n"
          ]
        }
      ]
    },
    {
      "cell_type": "markdown",
      "metadata": {
        "id": "xRZhKV_8hosC"
      },
      "source": [
        "### Model Evaluation "
      ]
    },
    {
      "cell_type": "markdown",
      "metadata": {
        "id": "7gq0o0s1hrEr"
      },
      "source": [
        "To evaluate the performance of a classification model, the following metrics are used:\n",
        "\n",
        "* Confusion matrix\n",
        "  * Accuracy\n",
        "  * Precision\n",
        "  * Recall\n",
        "  * F1-Score\n",
        "* ROC curve\n",
        "* AUROC"
      ]
    },
    {
      "cell_type": "markdown",
      "metadata": {
        "id": "erCaVXheUca3"
      },
      "source": [
        "#### Confusion Matrix"
      ]
    },
    {
      "cell_type": "markdown",
      "metadata": {
        "id": "d0spQOwVdl6r"
      },
      "source": [
        "* **Confusion matrix:**  is a table that is used to describe the performance of a classification model on a set of test data for which the true values are known. \n",
        "\n",
        "  * **true positive** for correctly predicted event values.\n",
        "  * **false positive** for incorrectly predicted event values.\n",
        "  * **true negative** for correctly predicted no-event values.\n",
        "  * **false negative** for incorrectly predicted no-event values.\n",
        "* **Accuracy:** it is the ratio of the number of correct predictions to the total number of input samples.\n"
      ]
    },
    {
      "cell_type": "code",
      "metadata": {
        "id": "I4J9t7uyUbmX",
        "colab": {
          "base_uri": "https://localhost:8080/"
        },
        "outputId": "8c225cfd-0cf1-4f65-b6eb-090b35e34869"
      },
      "source": [
        "# Creating a confusion matrix\n",
        "from sklearn.metrics import confusion_matrix, accuracy_score\n",
        "cm = confusion_matrix(y_test, y_pred)\n",
        "print(cm)\n",
        "accuracy_score(y_test, y_pred)\n",
        "print(classification_report(y_test, y_pred))"
      ],
      "execution_count": 220,
      "outputs": [
        {
          "output_type": "stream",
          "name": "stdout",
          "text": [
            "[[66  2]\n",
            " [17 15]]\n",
            "              precision    recall  f1-score   support\n",
            "\n",
            "           0       0.80      0.97      0.87        68\n",
            "           1       0.88      0.47      0.61        32\n",
            "\n",
            "    accuracy                           0.81       100\n",
            "   macro avg       0.84      0.72      0.74       100\n",
            "weighted avg       0.82      0.81      0.79       100\n",
            "\n"
          ]
        }
      ]
    },
    {
      "cell_type": "markdown",
      "metadata": {
        "id": "ghMYzkSFtbix"
      },
      "source": [
        "This Confusion Matrix tells us that there were 81 correct predictions and 19 incorrect ones.\n",
        "\n",
        "* True Positive: 66\n",
        "* True Negative: 15\n",
        "* False Positive: 2\n",
        "* False Negative: 17"
      ]
    },
    {
      "cell_type": "markdown",
      "metadata": {
        "id": "JnKMEUwPiER0"
      },
      "source": [
        "#### Precision-Recall Metrics"
      ]
    },
    {
      "cell_type": "markdown",
      "metadata": {
        "id": "AZ_xgAFUiEeq"
      },
      "source": [
        "* **Precision:** summarizes the fraction of examples assigned the positive class that belongs to the positive class.\n",
        "\n",
        "    Precision = $\\mathbf{\\frac{TruePositive}{TruePositive + FalsePositive}}$\n",
        "\n",
        "* **Recall:** summarizes how well the positive class was predicted and is the same calculation as sensitivity.\n",
        "\n",
        "   Recall = $\\mathbf{\\frac{TruePositive}{TruePositive + FalseNegative}}$\n",
        "\n",
        "* **F1-score:** precision and recall can be combined into a single score that seeks to balance both concerns, called the F-score or the F-measure.\n",
        "  \n",
        "   F1-score = $\\mathbf{\\frac{2*Precision*Recall}{Precision+Recall}}$"
      ]
    },
    {
      "cell_type": "markdown",
      "metadata": {
        "id": "fV0iHWlKbU5l"
      },
      "source": [
        "##### Plotting precision-recall curve using sklearn"
      ]
    },
    {
      "cell_type": "code",
      "metadata": {
        "id": "btDWhBYCDsf2",
        "colab": {
          "base_uri": "https://localhost:8080/",
          "height": 378
        },
        "outputId": "6d67df7c-2ac1-401c-c710-699d06576a7d"
      },
      "source": [
        "# Use sklearn to plot precision-recall curves\n",
        "\n",
        "from sklearn.metrics import plot_precision_recall_curve\n",
        "\n",
        "plot_precision_recall_curve(classifier, X_test, y_test, name = 'Logistic Regression')"
      ],
      "execution_count": 221,
      "outputs": [
        {
          "output_type": "execute_result",
          "data": {
            "text/plain": [
              "<sklearn.metrics._plot.precision_recall_curve.PrecisionRecallDisplay at 0x7f225c7bfc90>"
            ]
          },
          "metadata": {},
          "execution_count": 221
        },
        {
          "output_type": "display_data",
          "data": {
            "image/png": "[encoded data removed]",
            "text/plain": [
              "<Figure size 576x396 with 1 Axes>"
            ]
          },
          "metadata": {}
        }
      ]
    },
    {
      "cell_type": "markdown",
      "metadata": {
        "id": "4qE9UERaaM8W"
      },
      "source": [
        "The above diagram shows the blue line as precision-recall curve."
      ]
    },
    {
      "cell_type": "markdown",
      "metadata": {
        "id": "Oi0Hm4JGiYPk"
      },
      "source": [
        "### ROC-AUC curve"
      ]
    },
    {
      "cell_type": "markdown",
      "metadata": {
        "id": "nyOwoo7snM4u"
      },
      "source": [
        "A ROC curve is a diagnostic plot for summarizing the behavior of a model by calculating the false positive rate and true positive rate for a set of predictions by the model under different thresholds.\n",
        "\n",
        "Area Under Curve (AUC) is one of the most widely used metrics for evaluation. It is used for binary classification problems.\n",
        "\n",
        "AUC has a range of [0, 1]. The greater the value, the better is the performance of our model."
      ]
    },
    {
      "cell_type": "markdown",
      "metadata": {
        "id": "RmcWOD9UbCFP"
      },
      "source": [
        "#### Plotting the ROC-AUC curve for Logistic Regression algorithm using matplotlib"
      ]
    },
    {
      "cell_type": "code",
      "metadata": {
        "id": "7N2-3HhtFQVm"
      },
      "source": [
        "# roc_curve() computes the ROC for the classifier and returns the FPR, TPR, and threshold values\n",
        "from sklearn.metrics import roc_curve\n",
        "\n",
        "classifier.fit(X_train, y_train)\n",
        "pred_prob1 = classifier.predict_proba(X_test)\n",
        "\n",
        "# roc curve for models\n",
        "fpr1, tpr1, thresh1 = roc_curve(y_test, pred_prob1[:,1], pos_label=1)\n",
        "\n",
        "\n",
        "# roc curve for tpr = fpr \n",
        "random_probs = [0 for i in range(len(y_test))]\n",
        "p_fpr, p_tpr, _ = roc_curve(y_test, random_probs, pos_label=1)"
      ],
      "execution_count": 222,
      "outputs": []
    },
    {
      "cell_type": "code",
      "metadata": {
        "id": "hGwFRT2bE5kq",
        "colab": {
          "base_uri": "https://localhost:8080/",
          "height": 376
        },
        "outputId": "10869c4c-765a-47fe-c92d-20ea8590e4f1"
      },
      "source": [
        "plt.style.use('seaborn')\n",
        "\n",
        "# plot roc curves\n",
        "plt.plot(fpr1, tpr1, linestyle='--',color='orange', label='Logistic Regression')\n",
        "\n",
        "plt.plot(p_fpr, p_tpr, linestyle='--', color='blue')\n",
        "# title\n",
        "plt.title('ROC curve')\n",
        "# x label\n",
        "plt.xlabel('False Positive Rate')\n",
        "# y label\n",
        "plt.ylabel('True Positive rate')\n",
        "\n",
        "plt.legend(loc='best')\n",
        "plt.savefig('ROC',dpi=300)\n",
        "plt.show();"
      ],
      "execution_count": 223,
      "outputs": [
        {
          "output_type": "display_data",
          "data": {
            "image/png": "[encoded data removed]",
            "text/plain": [
              "<Figure size 576x396 with 1 Axes>"
            ]
          },
          "metadata": {}
        }
      ]
    },
    {
      "cell_type": "markdown",
      "metadata": {
        "id": "vYmER6qRtzz1"
      },
      "source": [
        "The above diagram shows:\n",
        "\n",
        "ROC curve: is the orange dotted line\n",
        "\n",
        "AUROC: is the area under the orange dotted line\n",
        "\n",
        "The blue dotted line is the reference line."
      ]
    },
    {
      "cell_type": "markdown",
      "metadata": {
        "id": "p0biP4B7XfVi"
      },
      "source": [
        "Please refer to the given [link](https://heartbeat.fritz.ai/evaluation-metrics-for-machine-learning-models-d42138496366) for further information on Performance metrics"
      ]
    },
    {
      "cell_type": "markdown",
      "metadata": {
        "id": "ZV4AqMlfy_az"
      },
      "source": [
        "### Example: Predicting Diabetes with Logistic Regression"
      ]
    },
    {
      "cell_type": "markdown",
      "metadata": {
        "id": "GLcNsXLtIFQe"
      },
      "source": [
        "Let us now apply the above learnings to perform a logistic regression using a 'UCI PIMA Indian Diabetes' dataset.\n",
        "\n",
        " * Fit the model\n",
        " * Do the prediction\n",
        " * Plot the ROC-AUC curve for the Logistic Regression algorithm\n",
        "\n"
      ]
    },
    {
      "cell_type": "markdown",
      "metadata": {
        "id": "RLe2mZvl9gm8"
      },
      "source": [
        "#### Dataset"
      ]
    },
    {
      "cell_type": "markdown",
      "metadata": {
        "id": "88C2CvR63Luc"
      },
      "source": [
        "In this example, we will be using the \"UCI PIMA Indian Diabetes\" dataset.\n",
        "\n",
        "The datasets consist of several medical predictor variables and one target variable, Outcome. Predictor variables include the number of pregnancies the patient has had, their BMI, insulin level, age, and so on.\n",
        "\n",
        "The variable descriptions are as follows:\n",
        "\n",
        "* Pregnancies: Number of Pregnancies\n",
        "* Glucose: Plasma glucose concentration over 2 hours in an oral glucose tolerance test\n",
        "* Blood pressure: Diastolic blood pressure (mm Hg)\n",
        "* SkinThickness: Triceps skinfold thickness (mm)\n",
        "* Insulin: 2-Hour serum insulin (mu U/ml)\n",
        "* BMI: Body mass index (weight in kg/(height in m)2)\n",
        "* DiabetesPedigreeFunction: Diabetes pedigree function (a function which scores likelihood of diabetes based on family history)\n",
        "* Age: Age (years)\n",
        "* Outcome: Class variable (0 if non-diabetic, 1 if diabetic)\n",
        "\n",
        "Problem statement:\n",
        "\n",
        "We will be using this dataset to predict if a person has diabetes or not using the medical attributes provided."
      ]
    },
    {
      "cell_type": "markdown",
      "metadata": {
        "id": "bragT22u9dFV"
      },
      "source": [
        "#### Loading the dataset"
      ]
    },
    {
      "cell_type": "code",
      "metadata": {
        "id": "ygezgrUE3L9I",
        "colab": {
          "base_uri": "https://localhost:8080/"
        },
        "outputId": "fb5cb3a8-4b28-4eaa-ad88-42a3b4042d29"
      },
      "source": [
        "DF = pd.read_csv('diabetes.csv')\n",
        "print(DF.head())"
      ],
      "execution_count": 224,
      "outputs": [
        {
          "output_type": "stream",
          "name": "stdout",
          "text": [
            "   Pregnancies  Glucose  BloodPressure  ...  DiabetesPedigreeFunction  Age  Outcome\n",
            "0            6      148             72  ...                     0.627   50        1\n",
            "1            1       85             66  ...                     0.351   31        0\n",
            "2            8      183             64  ...                     0.672   32        1\n",
            "3            1       89             66  ...                     0.167   21        0\n",
            "4            0      137             40  ...                     2.288   33        1\n",
            "\n",
            "[5 rows x 9 columns]\n"
          ]
        }
      ]
    },
    {
      "cell_type": "markdown",
      "metadata": {
        "id": "qrnSNpIK9nMs"
      },
      "source": [
        "#### Finding if there are any null values"
      ]
    },
    {
      "cell_type": "code",
      "metadata": {
        "id": "o_Xk1F_O8JZD",
        "colab": {
          "base_uri": "https://localhost:8080/"
        },
        "outputId": "89131c0e-184c-4927-bd36-791901fa981e"
      },
      "source": [
        "DF.isnull().sum()"
      ],
      "execution_count": 225,
      "outputs": [
        {
          "output_type": "execute_result",
          "data": {
            "text/plain": [
              "Pregnancies                 0\n",
              "Glucose                     0\n",
              "BloodPressure               0\n",
              "SkinThickness               0\n",
              "Insulin                     0\n",
              "BMI                         0\n",
              "DiabetesPedigreeFunction    0\n",
              "Age                         0\n",
              "Outcome                     0\n",
              "dtype: int64"
            ]
          },
          "metadata": {},
          "execution_count": 225
        }
      ]
    },
    {
      "cell_type": "code",
      "metadata": {
        "id": "h6COTxZHPBjc",
        "outputId": "736a14b8-cd95-41c9-8451-9acc108ee44f",
        "colab": {
          "base_uri": "https://localhost:8080/"
        }
      },
      "source": [
        "#Checking the unique value counts in columns\n",
        "featureValues={}\n",
        "for d in DF.columns.tolist():\n",
        "    count=DF[d].nunique()\n",
        "    if count==1:\n",
        "        featureValues[d]=count\n",
        "# List of columns having same 1 unique value        \n",
        "cols_to_drop= list(featureValues.keys())\n",
        "print(\"Columns having 1 unique value are :n\",cols_to_drop)"
      ],
      "execution_count": 226,
      "outputs": [
        {
          "output_type": "stream",
          "name": "stdout",
          "text": [
            "Columns having 1 unique value are :n []\n"
          ]
        }
      ]
    },
    {
      "cell_type": "code",
      "metadata": {
        "id": "BYFYFZfOPmd5",
        "outputId": "f9f84277-3b4e-42bc-ba8b-6e8eb920aafd",
        "colab": {
          "base_uri": "https://localhost:8080/",
          "height": 225
        }
      },
      "source": [
        "#Exploratory Data Analysis before creating a Logistic Regression Model\n",
        "# cchart for distribution of target variable\n",
        "# there is a class imbalance because class 0 has more data points or observations than class 1\n",
        "fig= plt.figure(figsize=(10,3) )\n",
        "fig.add_subplot(1,2,1)\n",
        "a= DF[\"Outcome\"].value_counts(normalize=True).plot.pie()\n",
        "fig.add_subplot(1,2,2)\n",
        "churnchart=sns.countplot(x=DF[\"Outcome\"])\n",
        "plt.tight_layout()\n",
        "plt.show()"
      ],
      "execution_count": 227,
      "outputs": [
        {
          "output_type": "display_data",
          "data": {
            "image/png": "[encoded data removed]",
            "text/plain": [
              "<Figure size 720x216 with 2 Axes>"
            ]
          },
          "metadata": {}
        }
      ]
    },
    {
      "cell_type": "code",
      "metadata": {
        "id": "Eg4h4t1CQST4",
        "outputId": "498d9018-1aff-46fc-d1fb-d26429c6cb85",
        "colab": {
          "base_uri": "https://localhost:8080/",
          "height": 584
        }
      },
      "source": [
        "# Visualize relationship between Outcome and other features\n",
        "fig, axes = plt.subplots(3, 3, sharex=True, figsize=(16,8))\n",
        "ar_6=sns.boxplot(ax=axes[0, 0],x=DF[\"Outcome\"],y=DF[\"Pregnancies\"])\n",
        "\n",
        "ar_6=sns.boxplot(ax=axes[0, 1], x=DF[\"Outcome\"],y=DF[\"Glucose\"])\n",
        "\n",
        "ar_6=sns.boxplot(ax=axes[0, 2], x=DF[\"Outcome\"],y=DF[\"BloodPressure\"])\n",
        "\n",
        "ar_6=sns.boxplot(ax=axes[1, 0], x=DF[\"Outcome\"],y=DF[\"SkinThickness\"])\n",
        "\n",
        "ar_6=sns.boxplot(ax=axes[1, 1], x=DF[\"Outcome\"],y=DF[\"Insulin\"])\n",
        "\n",
        "ar_6=sns.boxplot(ax=axes[1, 2], x=DF[\"Outcome\"],y=DF[\"BMI\"])\n",
        "\n",
        "ar_6=sns.boxplot(ax=axes[2, 0], x=DF[\"Outcome\"],y=DF[\"DiabetesPedigreeFunction\"])\n",
        "\n",
        "ar_6=sns.boxplot(ax=axes[2, 1], x=DF[\"Outcome\"],y=DF[\"Age\"])\n",
        "plt.tight_layout()\n",
        "plt.show()"
      ],
      "execution_count": 228,
      "outputs": [
        {
          "output_type": "display_data",
          "data": {
            "image/png": "[encoded data removed]",
            "text/plain": [
              "<Figure size 1152x576 with 9 Axes>"
            ]
          },
          "metadata": {}
        }
      ]
    },
    {
      "cell_type": "code",
      "metadata": {
        "id": "XUVyKQYTVEuX",
        "outputId": "0a185ca1-07a2-4f73-ed7d-a5e772aa85f8",
        "colab": {
          "base_uri": "https://localhost:8080/",
          "height": 470
        }
      },
      "source": [
        "#correlation between features\n",
        "corr_plot = sns.heatmap(DF.corr(),annot = True,linewidths=3 )\n",
        "plt.title(\"Correlation plot\")\n",
        "plt.show()"
      ],
      "execution_count": 229,
      "outputs": [
        {
          "output_type": "display_data",
          "data": {
            "image/png": "[encoded data removed]",
            "text/plain": [
              "<Figure size 576x396 with 2 Axes>"
            ]
          },
          "metadata": {}
        }
      ]
    },
    {
      "cell_type": "markdown",
      "metadata": {
        "id": "EAHBKXc63MGH"
      },
      "source": [
        "#### Training our model"
      ]
    },
    {
      "cell_type": "code",
      "metadata": {
        "id": "nONFn5s7BSZo",
        "colab": {
          "base_uri": "https://localhost:8080/",
          "height": 205
        },
        "outputId": "bcce5ab0-79f5-4a2e-fac6-ae6ff92c87e1"
      },
      "source": [
        "# Separating the data into independent and dependent variables\n",
        "df = pd.read_csv('diabetes.csv')\n",
        "X = df.iloc[:, 1].values # \n",
        "y = df.iloc[:, -1].values\n",
        "X = X.reshape(-1, 1)\n",
        "df.head()"
      ],
      "execution_count": 230,
      "outputs": [
        {
          "output_type": "execute_result",
          "data": {
            "text/html": [
              "<div>\n",
              "<style scoped>\n",
              "    .dataframe tbody tr th:only-of-type {\n",
              "        vertical-align: middle;\n",
              "    }\n",
              "\n",
              "    .dataframe tbody tr th {\n",
              "        vertical-align: top;\n",
              "    }\n",
              "\n",
              "    .dataframe thead th {\n",
              "        text-align: right;\n",
              "    }\n",
              "</style>\n",
              "<table border=\"1\" class=\"dataframe\">\n",
              "  <thead>\n",
              "    <tr style=\"text-align: right;\">\n",
              "      <th></th>\n",
              "      <th>Pregnancies</th>\n",
              "      <th>Glucose</th>\n",
              "      <th>BloodPressure</th>\n",
              "      <th>SkinThickness</th>\n",
              "      <th>Insulin</th>\n",
              "      <th>BMI</th>\n",
              "      <th>DiabetesPedigreeFunction</th>\n",
              "      <th>Age</th>\n",
              "      <th>Outcome</th>\n",
              "    </tr>\n",
              "  </thead>\n",
              "  <tbody>\n",
              "    <tr>\n",
              "      <th>0</th>\n",
              "      <td>6</td>\n",
              "      <td>148</td>\n",
              "      <td>72</td>\n",
              "      <td>35</td>\n",
              "      <td>0</td>\n",
              "      <td>33.6</td>\n",
              "      <td>0.627</td>\n",
              "      <td>50</td>\n",
              "      <td>1</td>\n",
              "    </tr>\n",
              "    <tr>\n",
              "      <th>1</th>\n",
              "      <td>1</td>\n",
              "      <td>85</td>\n",
              "      <td>66</td>\n",
              "      <td>29</td>\n",
              "      <td>0</td>\n",
              "      <td>26.6</td>\n",
              "      <td>0.351</td>\n",
              "      <td>31</td>\n",
              "      <td>0</td>\n",
              "    </tr>\n",
              "    <tr>\n",
              "      <th>2</th>\n",
              "      <td>8</td>\n",
              "      <td>183</td>\n",
              "      <td>64</td>\n",
              "      <td>0</td>\n",
              "      <td>0</td>\n",
              "      <td>23.3</td>\n",
              "      <td>0.672</td>\n",
              "      <td>32</td>\n",
              "      <td>1</td>\n",
              "    </tr>\n",
              "    <tr>\n",
              "      <th>3</th>\n",
              "      <td>1</td>\n",
              "      <td>89</td>\n",
              "      <td>66</td>\n",
              "      <td>23</td>\n",
              "      <td>94</td>\n",
              "      <td>28.1</td>\n",
              "      <td>0.167</td>\n",
              "      <td>21</td>\n",
              "      <td>0</td>\n",
              "    </tr>\n",
              "    <tr>\n",
              "      <th>4</th>\n",
              "      <td>0</td>\n",
              "      <td>137</td>\n",
              "      <td>40</td>\n",
              "      <td>35</td>\n",
              "      <td>168</td>\n",
              "      <td>43.1</td>\n",
              "      <td>2.288</td>\n",
              "      <td>33</td>\n",
              "      <td>1</td>\n",
              "    </tr>\n",
              "  </tbody>\n",
              "</table>\n",
              "</div>"
            ],
            "text/plain": [
              "   Pregnancies  Glucose  BloodPressure  ...  DiabetesPedigreeFunction  Age  Outcome\n",
              "0            6      148             72  ...                     0.627   50        1\n",
              "1            1       85             66  ...                     0.351   31        0\n",
              "2            8      183             64  ...                     0.672   32        1\n",
              "3            1       89             66  ...                     0.167   21        0\n",
              "4            0      137             40  ...                     2.288   33        1\n",
              "\n",
              "[5 rows x 9 columns]"
            ]
          },
          "metadata": {},
          "execution_count": 230
        }
      ]
    },
    {
      "cell_type": "markdown",
      "metadata": {
        "id": "ohpa54Ey3MV0"
      },
      "source": [
        "#### Splitting the data into training and testing data"
      ]
    },
    {
      "cell_type": "code",
      "metadata": {
        "id": "QhLdN-k-3Mdu",
        "colab": {
          "base_uri": "https://localhost:8080/"
        },
        "outputId": "43738ed6-42a3-47f3-b8a4-2ade78474cc6"
      },
      "source": [
        "#Let’s split X and y using Train test split\n",
        "X_train,X_test,y_train,y_test = train_test_split(X,y,random_state=0,train_size=0.25)\n",
        "#get shape of train and test data\n",
        "print(\"train size X : \",X_train.shape)\n",
        "print(\"train size y : \",y_train.shape)\n",
        "print(\"test size X : \",X_test.shape)\n",
        "print(\"test size y : \",y_test.shape)"
      ],
      "execution_count": 231,
      "outputs": [
        {
          "output_type": "stream",
          "name": "stdout",
          "text": [
            "train size X :  (192, 1)\n",
            "train size y :  (192,)\n",
            "test size X :  (576, 1)\n",
            "test size y :  (576,)\n"
          ]
        }
      ]
    },
    {
      "cell_type": "markdown",
      "metadata": {
        "id": "_RQF--gm3MmN"
      },
      "source": [
        "#### Training the Logistic Regression model on the Training set"
      ]
    },
    {
      "cell_type": "markdown",
      "metadata": {
        "id": "9_WlbEhI3M8A"
      },
      "source": [
        "#### Training/Fitting the Model"
      ]
    },
    {
      "cell_type": "code",
      "metadata": {
        "id": "0gIjGO4orbma"
      },
      "source": [
        "#Feature scaling\n",
        "sc = StandardScaler()\n",
        "X_train = sc.fit_transform(X_train)\n",
        "X_test = sc.transform(X_test)"
      ],
      "execution_count": 232,
      "outputs": []
    },
    {
      "cell_type": "code",
      "metadata": {
        "id": "B8bvsir8slzK",
        "outputId": "699643e1-cebc-4fb5-eeeb-e4bee0949215",
        "colab": {
          "base_uri": "https://localhost:8080/"
        }
      },
      "source": [
        "classifier = LogisticRegression(random_state = 0)\n",
        "classifier.fit(X_train, y_train)"
      ],
      "execution_count": 233,
      "outputs": [
        {
          "output_type": "execute_result",
          "data": {
            "text/plain": [
              "LogisticRegression(C=1.0, class_weight=None, dual=False, fit_intercept=True,\n",
              "                   intercept_scaling=1, l1_ratio=None, max_iter=100,\n",
              "                   multi_class='auto', n_jobs=None, penalty='l2',\n",
              "                   random_state=0, solver='lbfgs', tol=0.0001, verbose=0,\n",
              "                   warm_start=False)"
            ]
          },
          "metadata": {},
          "execution_count": 233
        }
      ]
    },
    {
      "cell_type": "markdown",
      "metadata": {
        "id": "b_nOuS5w3NL5"
      },
      "source": [
        "#### Making Predictions"
      ]
    },
    {
      "cell_type": "code",
      "metadata": {
        "id": "HhtGGTFWqm0S",
        "outputId": "f1a09c5e-eead-4eba-8328-ee2d661d73b5",
        "colab": {
          "base_uri": "https://localhost:8080/"
        }
      },
      "source": [
        "y_pred = classifier.predict(X_test)\n",
        "print(np.concatenate((y_pred.reshape(len(y_pred),1), y_test.reshape(len(y_test),1)),1))"
      ],
      "execution_count": 234,
      "outputs": [
        {
          "output_type": "stream",
          "name": "stdout",
          "text": [
            "[[1 1]\n",
            " [0 0]\n",
            " [0 0]\n",
            " ...\n",
            " [0 1]\n",
            " [0 0]\n",
            " [0 0]]\n"
          ]
        }
      ]
    },
    {
      "cell_type": "markdown",
      "metadata": {
        "id": "iC26I6QlCV2X"
      },
      "source": [
        "#### Confusion Matrix"
      ]
    },
    {
      "cell_type": "code",
      "metadata": {
        "id": "x-qTPsK5q4QF",
        "outputId": "1d7c2c32-2f42-44a4-8eeb-709ea3f3530f",
        "colab": {
          "base_uri": "https://localhost:8080/"
        }
      },
      "source": [
        "# from sklearn.metrics import f1_score\n",
        "print(\"f1 score for base model is : \" , f1_score(y_test,y_pred))"
      ],
      "execution_count": 235,
      "outputs": [
        {
          "output_type": "stream",
          "name": "stdout",
          "text": [
            "f1 score for base model is :  0.537037037037037\n"
          ]
        }
      ]
    },
    {
      "cell_type": "code",
      "metadata": {
        "id": "--ycunMgCWCr",
        "colab": {
          "base_uri": "https://localhost:8080/"
        },
        "outputId": "c430004e-b60b-46f4-9a75-e211a9209b58"
      },
      "source": [
        "from sklearn.metrics import confusion_matrix, accuracy_score\n",
        "cm = confusion_matrix(y_test, y_pred)\n",
        "print(cm)\n",
        "accuracy_score(y_test, y_pred)\n",
        "print(classification_report(y_test, y_pred))"
      ],
      "execution_count": 236,
      "outputs": [
        {
          "output_type": "stream",
          "name": "stdout",
          "text": [
            "[[339  34]\n",
            " [116  87]]\n",
            "              precision    recall  f1-score   support\n",
            "\n",
            "           0       0.75      0.91      0.82       373\n",
            "           1       0.72      0.43      0.54       203\n",
            "\n",
            "    accuracy                           0.74       576\n",
            "   macro avg       0.73      0.67      0.68       576\n",
            "weighted avg       0.74      0.74      0.72       576\n",
            "\n"
          ]
        }
      ]
    },
    {
      "cell_type": "markdown",
      "metadata": {
        "id": "Yhq0Qh13zAob"
      },
      "source": [
        "#### Plotting the ROC curve for Logistic Regression algorithm using matplotlib"
      ]
    },
    {
      "cell_type": "code",
      "metadata": {
        "id": "rAGVagUZIsbt"
      },
      "source": [
        "#roc_curve() computes the ROC for the classifier and returns the FPR, TPR, and threshold values\n",
        "from sklearn.metrics import roc_curve\n",
        "\n",
        "classifier.fit(X_train, y_train)\n",
        "pred_prob1 = classifier.predict_proba(X_test)\n",
        "\n",
        "# roc curve for models\n",
        "fpr1, tpr1, thresh1 = roc_curve(y_test, pred_prob1[:,1], pos_label=1)\n",
        "\n",
        "\n",
        "# roc curve for tpr = fpr \n",
        "random_probs = [0 for i in range(len(y_test))]\n",
        "p_fpr, p_tpr, _ = roc_curve(y_test, random_probs, pos_label=1)"
      ],
      "execution_count": 237,
      "outputs": []
    },
    {
      "cell_type": "code",
      "metadata": {
        "id": "a2JqGgVgqbXQ",
        "outputId": "c8c04138-1311-4bdb-ed56-481f672dace5",
        "colab": {
          "base_uri": "https://localhost:8080/",
          "height": 376
        }
      },
      "source": [
        "plt.style.use('seaborn')\n",
        "\n",
        "# plot roc curves\n",
        "plt.plot(fpr1, tpr1, linestyle='--',color='orange', label='Logistic Regression')\n",
        "\n",
        "plt.plot(p_fpr, p_tpr, linestyle='--', color='blue')\n",
        "# title\n",
        "plt.title('ROC curve')\n",
        "# x label\n",
        "plt.xlabel('False Positive Rate')\n",
        "# y label\n",
        "plt.ylabel('True Positive rate')\n",
        "\n",
        "plt.legend(loc='best')\n",
        "plt.savefig('ROC',dpi=300)\n",
        "plt.show();"
      ],
      "execution_count": 238,
      "outputs": [
        {
          "output_type": "display_data",
          "data": {
            "image/png": "[encoded data removed]",
            "text/plain": [
              "<Figure size 576x396 with 1 Axes>"
            ]
          },
          "metadata": {}
        }
      ]
    },
    {
      "cell_type": "markdown",
      "metadata": {
        "id": "s0zX9rflZ95t"
      },
      "source": [
        "###  Softmax Regression"
      ]
    },
    {
      "cell_type": "markdown",
      "metadata": {
        "id": "Vd4f0fdcrwQt"
      },
      "source": [
        "The **Softmax regression** is a form of logistic regression that normalizes an input value into a vector of values that follows a probability distribution whose total sums up to 1.\n",
        "\n",
        "It is also called **multinomial logistic regression.**"
      ]
    },
    {
      "cell_type": "markdown",
      "metadata": {
        "id": "8pzGTIwxfs1T"
      },
      "source": [
        "Performing Softmax Regression on the above dataset \"Social_Network_Ads\""
      ]
    },
    {
      "cell_type": "code",
      "metadata": {
        "id": "g6sz_oUvO_ni",
        "colab": {
          "base_uri": "https://localhost:8080/",
          "height": 205
        },
        "outputId": "436a9722-d4ec-4a4d-ad7e-dafda231e739"
      },
      "source": [
        "df = pd.read_csv('Social_Network_Ads.csv')\n",
        "X = df.iloc[:, :-1].values # considering age,estimated salary\n",
        "y = df.iloc[:, -1].values\n",
        "\n",
        "df.head()"
      ],
      "execution_count": 239,
      "outputs": [
        {
          "output_type": "execute_result",
          "data": {
            "text/html": [
              "<div>\n",
              "<style scoped>\n",
              "    .dataframe tbody tr th:only-of-type {\n",
              "        vertical-align: middle;\n",
              "    }\n",
              "\n",
              "    .dataframe tbody tr th {\n",
              "        vertical-align: top;\n",
              "    }\n",
              "\n",
              "    .dataframe thead th {\n",
              "        text-align: right;\n",
              "    }\n",
              "</style>\n",
              "<table border=\"1\" class=\"dataframe\">\n",
              "  <thead>\n",
              "    <tr style=\"text-align: right;\">\n",
              "      <th></th>\n",
              "      <th>Age</th>\n",
              "      <th>EstimatedSalary</th>\n",
              "      <th>Purchased</th>\n",
              "    </tr>\n",
              "  </thead>\n",
              "  <tbody>\n",
              "    <tr>\n",
              "      <th>0</th>\n",
              "      <td>19</td>\n",
              "      <td>19000</td>\n",
              "      <td>0</td>\n",
              "    </tr>\n",
              "    <tr>\n",
              "      <th>1</th>\n",
              "      <td>35</td>\n",
              "      <td>20000</td>\n",
              "      <td>0</td>\n",
              "    </tr>\n",
              "    <tr>\n",
              "      <th>2</th>\n",
              "      <td>26</td>\n",
              "      <td>43000</td>\n",
              "      <td>0</td>\n",
              "    </tr>\n",
              "    <tr>\n",
              "      <th>3</th>\n",
              "      <td>27</td>\n",
              "      <td>57000</td>\n",
              "      <td>0</td>\n",
              "    </tr>\n",
              "    <tr>\n",
              "      <th>4</th>\n",
              "      <td>19</td>\n",
              "      <td>76000</td>\n",
              "      <td>0</td>\n",
              "    </tr>\n",
              "  </tbody>\n",
              "</table>\n",
              "</div>"
            ],
            "text/plain": [
              "   Age  EstimatedSalary  Purchased\n",
              "0   19            19000          0\n",
              "1   35            20000          0\n",
              "2   26            43000          0\n",
              "3   27            57000          0\n",
              "4   19            76000          0"
            ]
          },
          "metadata": {},
          "execution_count": 239
        }
      ]
    },
    {
      "cell_type": "markdown",
      "metadata": {
        "id": "ktJUEhjQaaZM"
      },
      "source": [
        "#### Feature Scaling"
      ]
    },
    {
      "cell_type": "code",
      "metadata": {
        "id": "BKpju6jeWWps"
      },
      "source": [
        "sc = StandardScaler()\n",
        "X_train = sc.fit_transform(X_train)\n",
        "X_test = sc.transform(X_test)"
      ],
      "execution_count": 240,
      "outputs": []
    },
    {
      "cell_type": "markdown",
      "metadata": {
        "id": "EW3_xn-zWWpu"
      },
      "source": [
        "#### Training the Softmax Regression model on the Training set"
      ]
    },
    {
      "cell_type": "code",
      "metadata": {
        "id": "F_FJ6vU1WWpv",
        "colab": {
          "base_uri": "https://localhost:8080/"
        },
        "outputId": "3c0f4826-d582-4b36-d598-845da8df2af3"
      },
      "source": [
        "softmax_reg = LogisticRegression(multi_class='multinomial', # switch to Softmax Regression\n",
        "                                     solver='lbfgs', # handle multinomial loss, L2 penalty\n",
        "                                     C=10)\n",
        "softmax_reg.fit(X, y)\n"
      ],
      "execution_count": 241,
      "outputs": [
        {
          "output_type": "execute_result",
          "data": {
            "text/plain": [
              "LogisticRegression(C=10, class_weight=None, dual=False, fit_intercept=True,\n",
              "                   intercept_scaling=1, l1_ratio=None, max_iter=100,\n",
              "                   multi_class='multinomial', n_jobs=None, penalty='l2',\n",
              "                   random_state=None, solver='lbfgs', tol=0.0001, verbose=0,\n",
              "                   warm_start=False)"
            ]
          },
          "metadata": {},
          "execution_count": 241
        }
      ]
    },
    {
      "cell_type": "markdown",
      "metadata": {
        "id": "_DLVGNOHWWpv"
      },
      "source": [
        "#### Predicting a new result"
      ]
    },
    {
      "cell_type": "code",
      "metadata": {
        "id": "5_gz1YF1fbY9",
        "colab": {
          "base_uri": "https://localhost:8080/"
        },
        "outputId": "7e285f03-ff8a-4da7-d705-17d9b8be1e1b"
      },
      "source": [
        "softmax_reg.predict(sc.transform([[30,87000]]))"
      ],
      "execution_count": 242,
      "outputs": [
        {
          "output_type": "execute_result",
          "data": {
            "text/plain": [
              "array([0])"
            ]
          },
          "metadata": {},
          "execution_count": 242
        }
      ]
    },
    {
      "cell_type": "code",
      "metadata": {
        "id": "V4Gajh2DXNj2",
        "colab": {
          "base_uri": "https://localhost:8080/"
        },
        "outputId": "fb3e664f-23fa-4d6e-8d2f-a2c5a8eaf7dd"
      },
      "source": [
        "softmax_reg.predict_proba(sc.transform([[30,87000]]))"
      ],
      "execution_count": 243,
      "outputs": [
        {
          "output_type": "execute_result",
          "data": {
            "text/plain": [
              "array([[0.5583065, 0.4416935]])"
            ]
          },
          "metadata": {},
          "execution_count": 243
        }
      ]
    },
    {
      "cell_type": "markdown",
      "metadata": {
        "id": "2AS_oGgsTWg8"
      },
      "source": [
        "### Decision Boundary"
      ]
    },
    {
      "cell_type": "markdown",
      "metadata": {
        "id": "Mi44DjJUTgvl"
      },
      "source": [
        "In classification problems with two or more classes, a decision boundary is a hypersurface that separates the underlying vector space into sets, one for each class."
      ]
    },
    {
      "cell_type": "markdown",
      "metadata": {
        "id": "NTfA1CGIT3Av"
      },
      "source": [
        "#### Creating Dummy Dataset"
      ]
    },
    {
      "cell_type": "code",
      "metadata": {
        "id": "x6Ncu968Evs0"
      },
      "source": [
        "from sklearn.datasets import make_classification\n",
        "X, y = make_classification(n_samples=200, n_features=2, n_informative=2, n_redundant=0, n_classes=2, random_state=1)"
      ],
      "execution_count": 244,
      "outputs": []
    },
    {
      "cell_type": "markdown",
      "metadata": {
        "id": "Pb4YBLrgVYh-"
      },
      "source": [
        "#### Creating Decision Boundary"
      ]
    },
    {
      "cell_type": "code",
      "metadata": {
        "id": "I7ToIkZ-Svu-",
        "colab": {
          "base_uri": "https://localhost:8080/",
          "height": 661
        },
        "outputId": "0c145ec6-81a6-4c5e-e7af-fb452d6534c5"
      },
      "source": [
        "import matplotlib.gridspec as gridspec\n",
        "from mlxtend.plotting import plot_decision_regions\n",
        "gs = gridspec.GridSpec(3, 2)\n",
        "\n",
        "fig = plt.figure(figsize=(14,10))\n",
        "\n",
        "label = 'Logistic Regression'\n",
        "clf = LogisticRegression()\n",
        "clf.fit(X, y)\n",
        "\n",
        "fig = plot_decision_regions(X=X, y=y, clf=clf, legend=2)\n",
        "plt.title(label)\n",
        "plt.show()"
      ],
      "execution_count": 245,
      "outputs": [
        {
          "output_type": "stream",
          "name": "stderr",
          "text": [
            "/usr/local/lib/python3.7/dist-packages/mlxtend/plotting/decision_regions.py:244: MatplotlibDeprecationWarning: Passing unsupported keyword arguments to axis() will raise a TypeError in 3.3.\n",
            "  ax.axis(xmin=xx.min(), xmax=xx.max(), y_min=yy.min(), y_max=yy.max())\n"
          ]
        },
        {
          "output_type": "display_data",
          "data": {
            "image/png": "[encoded data removed]",
            "text/plain": [
              "<Figure size 1008x720 with 1 Axes>"
            ]
          },
          "metadata": {}
        }
      ]
    },
    {
      "cell_type": "markdown",
      "metadata": {
        "id": "q4b7UWS0P9LA"
      },
      "source": [
        "### Theory Questions"
      ]
    },
    {
      "cell_type": "markdown",
      "metadata": {
        "id": "p9ECO2HaQE7V"
      },
      "source": [
        "1. What Linear Regression training algorithm can you use if you have a training set\n",
        "with millions of features?\n",
        "\n",
        "  You could use batch gradient descent, stochastic gradient descent, or mini-batch gradient descent. SGD and MBGD would work the best because neither of them needs to load the entire dataset into memory in order to take 1 step of gradient descent. Batch would be ok with the caveat that you have enough memory to load all the data.\n",
        "\n",
        "  The normal equations method would not be a good choice because it is computationally inefficient. The main cause of the computational complexity comes from the inverse operation on an (n x n) matrix."
      ]
    },
    {
      "cell_type": "markdown",
      "metadata": {
        "id": "vfrFcYBQRZZs"
      },
      "source": [
        "2. Is it a good idea to stop Mini-batch Gradient Descent immediately when the validation error goes up?\n",
        "\n",
        "  Both Mini-batch and Stochastic gradient descent are not guaranteed to minimize the cost function after each step because they both have a degree of randomness built into them. Mini-bath randomly chooses which training examples to perform gradient descent on while Stochastic randomly chooses a single example. A better option is to save the model at regular intervals. When the model has not improved for a long time you can revert to the saved models."
      ]
    },
    {
      "cell_type": "markdown",
      "metadata": {
        "id": "xuEk-lSwQFB7"
      },
      "source": [
        "3. Can Gradient Descent get stuck in a local minimum when training a Logistic Regression model?\n",
        "\n",
        "  Gradient descent produces a convex-shaped graph that only has one global optimum. Therefore, it cannot get stuck in a local minimum."
      ]
    },
    {
      "cell_type": "markdown",
      "metadata": {
        "id": "MBD2xCOIQFFj"
      },
      "source": [
        "4. Do all Gradient Descent algorithms lead to the same model provided you let them run long enough?\n",
        "\n",
        "  No. The issue is that stochastic gradient descent and mini-batch gradient descent have randomness built into them. This means that they can find their way to nearby the global optimum, but they generally don't converge. One way to help them converge is to gradually reduce the learning rate hyperparameter."
      ]
    },
    {
      "cell_type": "markdown",
      "metadata": {
        "id": "kjh_NvoqQFI-"
      },
      "source": [
        "5. Suppose you want to classify pictures as outdoor/indoor and daytime/nighttime, should you implement two Logistic Regression classifiers or one Softmax Regression classifier?\n",
        "\n",
        "  Softmax regression does not handle multiple output classes (i.e. [indoor, daytime]). So you'll need to use two logistic regression classifiers.\n"
      ]
    },
    {
      "cell_type": "markdown",
      "metadata": {
        "id": "VHfHdGCP_n6Y"
      },
      "source": [
        "### Please answer the questions below to complete the experiment:\n",
        "\n",
        "\n"
      ]
    },
    {
      "cell_type": "code",
      "metadata": {
        "id": "VgSwVENIPcM6"
      },
      "source": [
        "#@title We are interested in reducing the number of false negatives. Which of the following metrics should we primarily look for? { run: \"auto\", form-width: \"500px\", display-mode: \"form\" }\n",
        "Answer = \"High Recall\" #@param [\"\", \"High Accuracy\", \"High Precision\", \"High Recall\"]"
      ],
      "execution_count": 246,
      "outputs": []
    },
    {
      "cell_type": "code",
      "metadata": {
        "id": "NMzKSbLIgFzQ"
      },
      "source": [
        "#@title How was the experiment? { run: \"auto\", form-width: \"500px\", display-mode: \"form\" }\n",
        "Complexity = \"Good and Challenging for me\" #@param [\"\",\"Too Simple, I am wasting time\", \"Good, But Not Challenging for me\", \"Good and Challenging for me\", \"Was Tough, but I did it\", \"Too Difficult for me\"]\n"
      ],
      "execution_count": 247,
      "outputs": []
    },
    {
      "cell_type": "code",
      "metadata": {
        "id": "DjcH1VWSFI2l"
      },
      "source": [
        "#@title If it was too easy, what more would you have liked to be added? If it was very difficult, what would you have liked to have been removed? { run: \"auto\", display-mode: \"form\" }\n",
        "Additional = \"Good\" #@param {type:\"string\"}\n"
      ],
      "execution_count": 248,
      "outputs": []
    },
    {
      "cell_type": "code",
      "metadata": {
        "id": "4VBk_4VTAxCM"
      },
      "source": [
        "#@title Can you identify the concepts from the lecture which this experiment covered? { run: \"auto\", vertical-output: true, display-mode: \"form\" }\n",
        "Concepts = \"Yes\" #@param [\"\",\"Yes\", \"No\"]\n"
      ],
      "execution_count": 249,
      "outputs": []
    },
    {
      "cell_type": "code",
      "metadata": {
        "id": "XH91cL1JWH7m"
      },
      "source": [
        "#@title  Text and image description/explanation and code comments within the experiment: { run: \"auto\", vertical-output: true, display-mode: \"form\" }\n",
        "Comments = \"Very Useful\" #@param [\"\",\"Very Useful\", \"Somewhat Useful\", \"Not Useful\", \"Didn't use\"]\n"
      ],
      "execution_count": 250,
      "outputs": []
    },
    {
      "cell_type": "code",
      "metadata": {
        "id": "z8xLqj7VWIKW"
      },
      "source": [
        "#@title Mentor Support: { run: \"auto\", vertical-output: true, display-mode: \"form\" }\n",
        "Mentor_support = \"Very Useful\" #@param [\"\",\"Very Useful\", \"Somewhat Useful\", \"Not Useful\", \"Didn't use\"]\n"
      ],
      "execution_count": 251,
      "outputs": []
    },
    {
      "cell_type": "code",
      "metadata": {
        "id": "FzAZHt1zw-Y-",
        "cellView": "form",
        "colab": {
          "base_uri": "https://localhost:8080/"
        },
        "outputId": "6d836c6a-8b75-4930-fbf7-a07c5464de06"
      },
      "source": [
        "#@title Run this cell to submit your notebook for grading { vertical-output: true }\n",
        "try:\n",
        "  if submission_id:\n",
        "      return_id = submit_notebook()\n",
        "      if return_id : submission_id = return_id\n",
        "  else:\n",
        "      print(\"Please complete the setup first.\")\n",
        "except NameError:\n",
        "  print (\"Please complete the setup first.\")"
      ],
      "execution_count": 252,
      "outputs": [
        {
          "output_type": "stream",
          "name": "stdout",
          "text": [
            "Your submission is successful.\n",
            "Ref Id: 4096\n",
            "Date of submission:  01 Oct 2021\n",
            "Time of submission:  22:11:54\n",
            "View your submissions: https://cds.iisc.talentsprint.com/notebook_submissions\n"
          ]
        }
      ]
    }
  ]
}