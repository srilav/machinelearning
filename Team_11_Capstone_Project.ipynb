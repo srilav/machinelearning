{
  "nbformat": 4,
  "nbformat_minor": 0,
  "metadata": {
    "colab": {
      "name": "Team 11 Capstone Project.ipynb",
      "provenance": [],
      "collapsed_sections": [],
      "include_colab_link": true
    },
    "kernelspec": {
      "name": "python3",
      "display_name": "Python 3"
    },
    "language_info": {
      "name": "python"
    }
  },
  "cells": [
    {
      "cell_type": "markdown",
      "metadata": {
        "id": "view-in-github",
        "colab_type": "text"
      },
      "source": [
        "<a href=\"https://colab.research.google.com/github/srilav/machinelearning/blob/main/Team_11_Capstone_Project.ipynb\" target=\"_parent\"><img src=\"https://colab.research.google.com/assets/colab-badge.svg\" alt=\"Open In Colab\"/></a>"
      ]
    },
    {
      "cell_type": "code",
      "execution_count": null,
      "metadata": {
        "id": "Gi1XpBdAi_Mo"
      },
      "outputs": [],
      "source": [
        "import pandas as pd\n",
        "import numpy as np\n",
        "import matplotlib.pyplot as plt\n",
        "%matplotlib inline\n",
        "from matplotlib.colors import ListedColormap\n",
        "import seaborn as sns\n",
        "import warnings\n",
        "warnings.filterwarnings(\"ignore\")\n",
        "import glob"
      ]
    },
    {
      "cell_type": "code",
      "source": [
        "!pip -qq install git+https://github.com/AI4Finance-LLC/FinRL-Library.git"
      ],
      "metadata": {
        "colab": {
          "base_uri": "https://localhost:8080/"
        },
        "id": "hO_qbRyasKtZ",
        "outputId": "9f197587-e051-4f41-cbbc-702231136280"
      },
      "execution_count": null,
      "outputs": [
        {
          "output_type": "stream",
          "name": "stdout",
          "text": [
            "\u001b[31mERROR: Operation cancelled by user\u001b[0m\n"
          ]
        }
      ]
    },
    {
      "cell_type": "code",
      "source": [
        "import datetime\n",
        "import os\n",
        "from finrl import config\n",
        "from finrl.finrl_meta.preprocessor.yahoodownloader import YahooDownloader\n",
        "from finrl.finrl_meta.preprocessor.preprocessors import FeatureEngineer, data_split\n",
        "from finrl.finrl_meta.env_stock_trading.env_stocktrading import StockTradingEnv\n",
        "from finrl.agents.stablebaselines3.models import DRLAgent\n",
        "from finrl.plot import backtest_stats, backtest_plot, get_daily_return, get_baseline\n",
        "import sys\n",
        "sys.path.append(\"../FinRL-Library\")"
      ],
      "metadata": {
        "id": "trB-ho-JsDzH"
      },
      "execution_count": null,
      "outputs": []
    },
    {
      "cell_type": "code",
      "source": [
        "from sklearn.metrics import confusion_matrix, accuracy_score, mean_absolute_percentage_error\n",
        "from sklearn.svm import SVC, SVR, LinearSVC\n",
        "from sklearn.preprocessing import StandardScaler, LabelEncoder, MinMaxScaler\n",
        "from sklearn.model_selection import train_test_split\n",
        "from sklearn.pipeline import make_pipeline\n",
        "from sklearn.linear_model import SGDClassifier"
      ],
      "metadata": {
        "id": "VPpMojNhqy0O"
      },
      "execution_count": null,
      "outputs": []
    },
    {
      "cell_type": "code",
      "source": [
        "from keras.layers import Dense, LSTM, Dropout\n",
        "from keras.models import Sequential"
      ],
      "metadata": {
        "id": "IEzoANuBpfU6"
      },
      "execution_count": null,
      "outputs": []
    },
    {
      "cell_type": "code",
      "source": [
        "pd.options.display.max_rows = 25\n",
        "pd.options.display.max_columns = 25"
      ],
      "metadata": {
        "id": "VcFvNJqKnEzn"
      },
      "execution_count": null,
      "outputs": []
    },
    {
      "cell_type": "code",
      "source": [
        "path = '/content/ind_nifty50list.csv'\n",
        "df_stocks = pd.read_csv(path).fillna(0)"
      ],
      "metadata": {
        "id": "cibkEGr4H8IW"
      },
      "execution_count": null,
      "outputs": []
    },
    {
      "cell_type": "code",
      "source": [
        "df_stocks.head()"
      ],
      "metadata": {
        "id": "OjtsSxCkWsFY",
        "colab": {
          "base_uri": "https://localhost:8080/",
          "height": 206
        },
        "outputId": "1f607993-925a-4691-ed69-b3a278763006"
      },
      "execution_count": null,
      "outputs": [
        {
          "output_type": "execute_result",
          "data": {
            "text/plain": [
              "                                 Company Name                        Industry  \\\n",
              "0  Adani Ports and Special Economic Zone Ltd.                        Services   \n",
              "1            Apollo Hospitals Enterprise Ltd.                      Healthcare   \n",
              "2                           Asian Paints Ltd.               Consumer Durables   \n",
              "3                              Axis Bank Ltd.              Financial Services   \n",
              "4                             Bajaj Auto Ltd.  Automobile and Auto Components   \n",
              "\n",
              "       Symbol Series     ISIN Code  \n",
              "0  ADANIPORTS     EQ  INE742F01042  \n",
              "1  APOLLOHOSP     EQ  INE437A01024  \n",
              "2  ASIANPAINT     EQ  INE021A01026  \n",
              "3    AXISBANK     EQ  INE238A01034  \n",
              "4  BAJAJ-AUTO     EQ  INE917I01010  "
            ],
            "text/html": [
              "\n",
              "  <div id=\"df-96e44dd9-c844-407a-9da5-b2f1a6385484\">\n",
              "    <div class=\"colab-df-container\">\n",
              "      <div>\n",
              "<style scoped>\n",
              "    .dataframe tbody tr th:only-of-type {\n",
              "        vertical-align: middle;\n",
              "    }\n",
              "\n",
              "    .dataframe tbody tr th {\n",
              "        vertical-align: top;\n",
              "    }\n",
              "\n",
              "    .dataframe thead th {\n",
              "        text-align: right;\n",
              "    }\n",
              "</style>\n",
              "<table border=\"1\" class=\"dataframe\">\n",
              "  <thead>\n",
              "    <tr style=\"text-align: right;\">\n",
              "      <th></th>\n",
              "      <th>Company Name</th>\n",
              "      <th>Industry</th>\n",
              "      <th>Symbol</th>\n",
              "      <th>Series</th>\n",
              "      <th>ISIN Code</th>\n",
              "    </tr>\n",
              "  </thead>\n",
              "  <tbody>\n",
              "    <tr>\n",
              "      <th>0</th>\n",
              "      <td>Adani Ports and Special Economic Zone Ltd.</td>\n",
              "      <td>Services</td>\n",
              "      <td>ADANIPORTS</td>\n",
              "      <td>EQ</td>\n",
              "      <td>INE742F01042</td>\n",
              "    </tr>\n",
              "    <tr>\n",
              "      <th>1</th>\n",
              "      <td>Apollo Hospitals Enterprise Ltd.</td>\n",
              "      <td>Healthcare</td>\n",
              "      <td>APOLLOHOSP</td>\n",
              "      <td>EQ</td>\n",
              "      <td>INE437A01024</td>\n",
              "    </tr>\n",
              "    <tr>\n",
              "      <th>2</th>\n",
              "      <td>Asian Paints Ltd.</td>\n",
              "      <td>Consumer Durables</td>\n",
              "      <td>ASIANPAINT</td>\n",
              "      <td>EQ</td>\n",
              "      <td>INE021A01026</td>\n",
              "    </tr>\n",
              "    <tr>\n",
              "      <th>3</th>\n",
              "      <td>Axis Bank Ltd.</td>\n",
              "      <td>Financial Services</td>\n",
              "      <td>AXISBANK</td>\n",
              "      <td>EQ</td>\n",
              "      <td>INE238A01034</td>\n",
              "    </tr>\n",
              "    <tr>\n",
              "      <th>4</th>\n",
              "      <td>Bajaj Auto Ltd.</td>\n",
              "      <td>Automobile and Auto Components</td>\n",
              "      <td>BAJAJ-AUTO</td>\n",
              "      <td>EQ</td>\n",
              "      <td>INE917I01010</td>\n",
              "    </tr>\n",
              "  </tbody>\n",
              "</table>\n",
              "</div>\n",
              "      <button class=\"colab-df-convert\" onclick=\"convertToInteractive('df-96e44dd9-c844-407a-9da5-b2f1a6385484')\"\n",
              "              title=\"Convert this dataframe to an interactive table.\"\n",
              "              style=\"display:none;\">\n",
              "        \n",
              "  <svg xmlns=\"http://www.w3.org/2000/svg\" height=\"24px\"viewBox=\"0 0 24 24\"\n",
              "       width=\"24px\">\n",
              "    <path d=\"M0 0h24v24H0V0z\" fill=\"none\"/>\n",
              "    <path d=\"M18.56 5.44l.94 2.06.94-2.06 2.06-.94-2.06-.94-.94-2.06-.94 2.06-2.06.94zm-11 1L8.5 8.5l.94-2.06 2.06-.94-2.06-.94L8.5 2.5l-.94 2.06-2.06.94zm10 10l.94 2.06.94-2.06 2.06-.94-2.06-.94-.94-2.06-.94 2.06-2.06.94z\"/><path d=\"M17.41 7.96l-1.37-1.37c-.4-.4-.92-.59-1.43-.59-.52 0-1.04.2-1.43.59L10.3 9.45l-7.72 7.72c-.78.78-.78 2.05 0 2.83L4 21.41c.39.39.9.59 1.41.59.51 0 1.02-.2 1.41-.59l7.78-7.78 2.81-2.81c.8-.78.8-2.07 0-2.86zM5.41 20L4 18.59l7.72-7.72 1.47 1.35L5.41 20z\"/>\n",
              "  </svg>\n",
              "      </button>\n",
              "      \n",
              "  <style>\n",
              "    .colab-df-container {\n",
              "      display:flex;\n",
              "      flex-wrap:wrap;\n",
              "      gap: 12px;\n",
              "    }\n",
              "\n",
              "    .colab-df-convert {\n",
              "      background-color: #E8F0FE;\n",
              "      border: none;\n",
              "      border-radius: 50%;\n",
              "      cursor: pointer;\n",
              "      display: none;\n",
              "      fill: #1967D2;\n",
              "      height: 32px;\n",
              "      padding: 0 0 0 0;\n",
              "      width: 32px;\n",
              "    }\n",
              "\n",
              "    .colab-df-convert:hover {\n",
              "      background-color: #E2EBFA;\n",
              "      box-shadow: 0px 1px 2px rgba(60, 64, 67, 0.3), 0px 1px 3px 1px rgba(60, 64, 67, 0.15);\n",
              "      fill: #174EA6;\n",
              "    }\n",
              "\n",
              "    [theme=dark] .colab-df-convert {\n",
              "      background-color: #3B4455;\n",
              "      fill: #D2E3FC;\n",
              "    }\n",
              "\n",
              "    [theme=dark] .colab-df-convert:hover {\n",
              "      background-color: #434B5C;\n",
              "      box-shadow: 0px 1px 3px 1px rgba(0, 0, 0, 0.15);\n",
              "      filter: drop-shadow(0px 1px 2px rgba(0, 0, 0, 0.3));\n",
              "      fill: #FFFFFF;\n",
              "    }\n",
              "  </style>\n",
              "\n",
              "      <script>\n",
              "        const buttonEl =\n",
              "          document.querySelector('#df-96e44dd9-c844-407a-9da5-b2f1a6385484 button.colab-df-convert');\n",
              "        buttonEl.style.display =\n",
              "          google.colab.kernel.accessAllowed ? 'block' : 'none';\n",
              "\n",
              "        async function convertToInteractive(key) {\n",
              "          const element = document.querySelector('#df-96e44dd9-c844-407a-9da5-b2f1a6385484');\n",
              "          const dataTable =\n",
              "            await google.colab.kernel.invokeFunction('convertToInteractive',\n",
              "                                                     [key], {});\n",
              "          if (!dataTable) return;\n",
              "\n",
              "          const docLinkHtml = 'Like what you see? Visit the ' +\n",
              "            '<a target=\"_blank\" href=https://colab.research.google.com/notebooks/data_table.ipynb>data table notebook</a>'\n",
              "            + ' to learn more about interactive tables.';\n",
              "          element.innerHTML = '';\n",
              "          dataTable['output_type'] = 'display_data';\n",
              "          await google.colab.output.renderOutput(dataTable, element);\n",
              "          const docLink = document.createElement('div');\n",
              "          docLink.innerHTML = docLinkHtml;\n",
              "          element.appendChild(docLink);\n",
              "        }\n",
              "      </script>\n",
              "    </div>\n",
              "  </div>\n",
              "  "
            ]
          },
          "metadata": {},
          "execution_count": 8
        }
      ]
    },
    {
      "cell_type": "code",
      "source": [
        "df_stocks.groupby(by = ['Industry'])['Company Name'].count()"
      ],
      "metadata": {
        "colab": {
          "base_uri": "https://localhost:8080/"
        },
        "id": "5sNB8SOkOEbq",
        "outputId": "7cab751a-ace6-4006-d788-8b643d917847"
      },
      "execution_count": null,
      "outputs": [
        {
          "output_type": "execute_result",
          "data": {
            "text/plain": [
              "Industry\n",
              "Automobile and Auto Components     6\n",
              "Chemicals                          1\n",
              "Construction                       1\n",
              "Construction Materials             3\n",
              "Consumer Durables                  2\n",
              "Fast Moving Consumer Goods         5\n",
              "Financial Services                11\n",
              "Healthcare                         5\n",
              "Information Technology             5\n",
              "Metals & Mining                    3\n",
              "Oil Gas & Consumable Fuels         4\n",
              "Power                              2\n",
              "Services                           1\n",
              "Telecommunication                  1\n",
              "Name: Company Name, dtype: int64"
            ]
          },
          "metadata": {},
          "execution_count": 7
        }
      ]
    },
    {
      "cell_type": "code",
      "source": [
        "len(df_stocks)"
      ],
      "metadata": {
        "colab": {
          "base_uri": "https://localhost:8080/"
        },
        "id": "jX_MUAccUuK3",
        "outputId": "35958476-6503-4f67-97af-5459c51256a5"
      },
      "execution_count": null,
      "outputs": [
        {
          "output_type": "execute_result",
          "data": {
            "text/plain": [
              "50"
            ]
          },
          "metadata": {},
          "execution_count": 18
        }
      ]
    },
    {
      "cell_type": "code",
      "source": [
        "# fig = plt.figure()\n",
        "# ax = fig.add_axes([0,0,1,1])\n",
        "# ax.axis('equal')\n",
        "# Industry = ['Automobile and Auto Components', 'Chemicals', 'Construction', 'Construction Materials',  'Consumer Durables', \n",
        "#             'Fast Moving Consumer Goods', 'Fast Moving Consumer Goods', 'Healthcare', 'Information Technology', 'Metals & Mining', \n",
        "#             'Oil Gas & Consumable Fuels', 'Power', 'Services']\n",
        "# ax.pie(len(df_stocks.groupby(by = ['Industry']).count())/labels = Industry, autopct='%1.2f%%')\n",
        "# plt.show()"
      ],
      "metadata": {
        "id": "yVmk6tv2OZmz"
      },
      "execution_count": null,
      "outputs": []
    },
    {
      "cell_type": "markdown",
      "source": [
        "ANALYSIS USING DEEP REINFORCEMENT LEARNING"
      ],
      "metadata": {
        "id": "r7P5mgrWnm5X"
      }
    },
    {
      "cell_type": "code",
      "source": [
        "df_stocks['Symbol'] = df_stocks['Symbol'].astype(str) + '.NS'"
      ],
      "metadata": {
        "id": "T6ccsOmivTap"
      },
      "execution_count": null,
      "outputs": []
    },
    {
      "cell_type": "code",
      "source": [
        "stocks_list = df_stocks['Symbol'].tolist()"
      ],
      "metadata": {
        "id": "Tbsq0_kSvXJl"
      },
      "execution_count": null,
      "outputs": []
    },
    {
      "cell_type": "code",
      "source": [
        "start_date = '2014-01-01'\n",
        "end_date = '2021-12-01'\n",
        "\n",
        "df_NSE = YahooDownloader(start_date = start_date,\n",
        "                     end_date = end_date,\n",
        "                     ticker_list = stocks_list).fetch_data()"
      ],
      "metadata": {
        "id": "W4QteD8_Uapj",
        "colab": {
          "base_uri": "https://localhost:8080/"
        },
        "outputId": "efc3a069-9482-4ea9-9c86-0d5fa4d39844"
      },
      "execution_count": null,
      "outputs": [
        {
          "output_type": "stream",
          "name": "stdout",
          "text": [
            "[*********************100%***********************]  1 of 1 completed\n",
            "[*********************100%***********************]  1 of 1 completed\n",
            "[*********************100%***********************]  1 of 1 completed\n",
            "[*********************100%***********************]  1 of 1 completed\n",
            "[*********************100%***********************]  1 of 1 completed\n",
            "[*********************100%***********************]  1 of 1 completed\n",
            "[*********************100%***********************]  1 of 1 completed\n",
            "[*********************100%***********************]  1 of 1 completed\n",
            "[*********************100%***********************]  1 of 1 completed\n",
            "[*********************100%***********************]  1 of 1 completed\n",
            "[*********************100%***********************]  1 of 1 completed\n",
            "[*********************100%***********************]  1 of 1 completed\n",
            "[*********************100%***********************]  1 of 1 completed\n",
            "[*********************100%***********************]  1 of 1 completed\n",
            "[*********************100%***********************]  1 of 1 completed\n",
            "[*********************100%***********************]  1 of 1 completed\n",
            "[*********************100%***********************]  1 of 1 completed\n",
            "[*********************100%***********************]  1 of 1 completed\n",
            "[*********************100%***********************]  1 of 1 completed\n",
            "[*********************100%***********************]  1 of 1 completed\n",
            "[*********************100%***********************]  1 of 1 completed\n",
            "[*********************100%***********************]  1 of 1 completed\n",
            "[*********************100%***********************]  1 of 1 completed\n",
            "[*********************100%***********************]  1 of 1 completed\n",
            "[*********************100%***********************]  1 of 1 completed\n",
            "[*********************100%***********************]  1 of 1 completed\n",
            "[*********************100%***********************]  1 of 1 completed\n",
            "[*********************100%***********************]  1 of 1 completed\n",
            "[*********************100%***********************]  1 of 1 completed\n",
            "[*********************100%***********************]  1 of 1 completed\n",
            "[*********************100%***********************]  1 of 1 completed\n",
            "[*********************100%***********************]  1 of 1 completed\n",
            "[*********************100%***********************]  1 of 1 completed\n",
            "[*********************100%***********************]  1 of 1 completed\n",
            "[*********************100%***********************]  1 of 1 completed\n",
            "[*********************100%***********************]  1 of 1 completed\n",
            "[*********************100%***********************]  1 of 1 completed\n",
            "[*********************100%***********************]  1 of 1 completed\n",
            "[*********************100%***********************]  1 of 1 completed\n",
            "[*********************100%***********************]  1 of 1 completed\n",
            "[*********************100%***********************]  1 of 1 completed\n",
            "[*********************100%***********************]  1 of 1 completed\n",
            "[*********************100%***********************]  1 of 1 completed\n",
            "[*********************100%***********************]  1 of 1 completed\n",
            "[*********************100%***********************]  1 of 1 completed\n",
            "[*********************100%***********************]  1 of 1 completed\n",
            "[*********************100%***********************]  1 of 1 completed\n",
            "[*********************100%***********************]  1 of 1 completed\n",
            "[*********************100%***********************]  1 of 1 completed\n",
            "[*********************100%***********************]  1 of 1 completed\n",
            "Shape of DataFrame:  (95574, 8)\n"
          ]
        }
      ]
    },
    {
      "cell_type": "code",
      "source": [
        "\"\"\" Perform Feature Engineering \"\"\"\n",
        "df_NSE = FeatureEngineer(use_technical_indicator=True,\n",
        "                                      tech_indicator_list = config.INDICATORS,\n",
        "                                      use_turbulence=True,\n",
        "                                      user_defined_feature = False).preprocess_data(df_NSE.copy())"
      ],
      "metadata": {
        "colab": {
          "base_uri": "https://localhost:8080/"
        },
        "id": "4564PB2Wvas1",
        "outputId": "0b484461-2f72-495c-a25a-a3af78dc91dd"
      },
      "execution_count": null,
      "outputs": [
        {
          "output_type": "stream",
          "name": "stdout",
          "text": [
            "Successfully added technical indicators\n",
            "Successfully added turbulence index\n"
          ]
        }
      ]
    },
    {
      "cell_type": "code",
      "source": [
        "df_NSE.columns"
      ],
      "metadata": {
        "colab": {
          "base_uri": "https://localhost:8080/"
        },
        "id": "aA2z4z4ifxqR",
        "outputId": "585c5f7f-1728-4fb9-9421-47a8d0adac09"
      },
      "execution_count": null,
      "outputs": [
        {
          "output_type": "execute_result",
          "data": {
            "text/plain": [
              "Index(['date', 'open', 'high', 'low', 'close', 'volume', 'tic', 'day', 'macd',\n",
              "       'boll_ub', 'boll_lb', 'rsi_30', 'cci_30', 'dx_30', 'close_30_sma',\n",
              "       'close_60_sma', 'turbulence'],\n",
              "      dtype='object')"
            ]
          },
          "metadata": {},
          "execution_count": 13
        }
      ]
    },
    {
      "cell_type": "code",
      "source": [
        "df_NSE.head()"
      ],
      "metadata": {
        "colab": {
          "base_uri": "https://localhost:8080/",
          "height": 356
        },
        "id": "-P9bc0LLv-hd",
        "outputId": "506c8da0-adf3-4510-c8c6-8dbbdfb645bc"
      },
      "execution_count": null,
      "outputs": [
        {
          "output_type": "execute_result",
          "data": {
            "text/plain": [
              "         date         open         high          low        close   volume  \\\n",
              "0  2014-01-01   154.550003   157.750000   154.550003   150.426819   851727   \n",
              "1  2014-01-01   940.250000   987.650024   940.250000   938.716614   335988   \n",
              "2  2014-01-01   494.399994   503.899994   492.000000   471.825500  1866326   \n",
              "3  2014-01-01   260.299988   261.000000   257.640015   248.631042  2849425   \n",
              "4  2014-01-01  1915.000000  1924.400024  1890.300049  1560.954224    90587   \n",
              "\n",
              "             tic  day  macd     boll_ub     boll_lb  rsi_30     cci_30  dx_30  \\\n",
              "0  ADANIPORTS.NS    2   0.0  153.638312  143.702478     0.0 -66.666667  100.0   \n",
              "1  APOLLOHOSP.NS    2   0.0  153.638312  143.702478     0.0 -66.666667  100.0   \n",
              "2  ASIANPAINT.NS    2   0.0  153.638312  143.702478     0.0 -66.666667  100.0   \n",
              "3    AXISBANK.NS    2   0.0  153.638312  143.702478     0.0 -66.666667  100.0   \n",
              "4  BAJAJ-AUTO.NS    2   0.0  153.638312  143.702478     0.0 -66.666667  100.0   \n",
              "\n",
              "   close_30_sma  close_60_sma  turbulence  \n",
              "0    150.426819    150.426819         0.0  \n",
              "1    938.716614    938.716614         0.0  \n",
              "2    471.825500    471.825500         0.0  \n",
              "3    248.631042    248.631042         0.0  \n",
              "4   1560.954224   1560.954224         0.0  "
            ],
            "text/html": [
              "\n",
              "  <div id=\"df-0bde02cf-4550-49ca-b781-ace449d20985\">\n",
              "    <div class=\"colab-df-container\">\n",
              "      <div>\n",
              "<style scoped>\n",
              "    .dataframe tbody tr th:only-of-type {\n",
              "        vertical-align: middle;\n",
              "    }\n",
              "\n",
              "    .dataframe tbody tr th {\n",
              "        vertical-align: top;\n",
              "    }\n",
              "\n",
              "    .dataframe thead th {\n",
              "        text-align: right;\n",
              "    }\n",
              "</style>\n",
              "<table border=\"1\" class=\"dataframe\">\n",
              "  <thead>\n",
              "    <tr style=\"text-align: right;\">\n",
              "      <th></th>\n",
              "      <th>date</th>\n",
              "      <th>open</th>\n",
              "      <th>high</th>\n",
              "      <th>low</th>\n",
              "      <th>close</th>\n",
              "      <th>volume</th>\n",
              "      <th>tic</th>\n",
              "      <th>day</th>\n",
              "      <th>macd</th>\n",
              "      <th>boll_ub</th>\n",
              "      <th>boll_lb</th>\n",
              "      <th>rsi_30</th>\n",
              "      <th>cci_30</th>\n",
              "      <th>dx_30</th>\n",
              "      <th>close_30_sma</th>\n",
              "      <th>close_60_sma</th>\n",
              "      <th>turbulence</th>\n",
              "    </tr>\n",
              "  </thead>\n",
              "  <tbody>\n",
              "    <tr>\n",
              "      <th>0</th>\n",
              "      <td>2014-01-01</td>\n",
              "      <td>154.550003</td>\n",
              "      <td>157.750000</td>\n",
              "      <td>154.550003</td>\n",
              "      <td>150.426819</td>\n",
              "      <td>851727</td>\n",
              "      <td>ADANIPORTS.NS</td>\n",
              "      <td>2</td>\n",
              "      <td>0.0</td>\n",
              "      <td>153.638312</td>\n",
              "      <td>143.702478</td>\n",
              "      <td>0.0</td>\n",
              "      <td>-66.666667</td>\n",
              "      <td>100.0</td>\n",
              "      <td>150.426819</td>\n",
              "      <td>150.426819</td>\n",
              "      <td>0.0</td>\n",
              "    </tr>\n",
              "    <tr>\n",
              "      <th>1</th>\n",
              "      <td>2014-01-01</td>\n",
              "      <td>940.250000</td>\n",
              "      <td>987.650024</td>\n",
              "      <td>940.250000</td>\n",
              "      <td>938.716614</td>\n",
              "      <td>335988</td>\n",
              "      <td>APOLLOHOSP.NS</td>\n",
              "      <td>2</td>\n",
              "      <td>0.0</td>\n",
              "      <td>153.638312</td>\n",
              "      <td>143.702478</td>\n",
              "      <td>0.0</td>\n",
              "      <td>-66.666667</td>\n",
              "      <td>100.0</td>\n",
              "      <td>938.716614</td>\n",
              "      <td>938.716614</td>\n",
              "      <td>0.0</td>\n",
              "    </tr>\n",
              "    <tr>\n",
              "      <th>2</th>\n",
              "      <td>2014-01-01</td>\n",
              "      <td>494.399994</td>\n",
              "      <td>503.899994</td>\n",
              "      <td>492.000000</td>\n",
              "      <td>471.825500</td>\n",
              "      <td>1866326</td>\n",
              "      <td>ASIANPAINT.NS</td>\n",
              "      <td>2</td>\n",
              "      <td>0.0</td>\n",
              "      <td>153.638312</td>\n",
              "      <td>143.702478</td>\n",
              "      <td>0.0</td>\n",
              "      <td>-66.666667</td>\n",
              "      <td>100.0</td>\n",
              "      <td>471.825500</td>\n",
              "      <td>471.825500</td>\n",
              "      <td>0.0</td>\n",
              "    </tr>\n",
              "    <tr>\n",
              "      <th>3</th>\n",
              "      <td>2014-01-01</td>\n",
              "      <td>260.299988</td>\n",
              "      <td>261.000000</td>\n",
              "      <td>257.640015</td>\n",
              "      <td>248.631042</td>\n",
              "      <td>2849425</td>\n",
              "      <td>AXISBANK.NS</td>\n",
              "      <td>2</td>\n",
              "      <td>0.0</td>\n",
              "      <td>153.638312</td>\n",
              "      <td>143.702478</td>\n",
              "      <td>0.0</td>\n",
              "      <td>-66.666667</td>\n",
              "      <td>100.0</td>\n",
              "      <td>248.631042</td>\n",
              "      <td>248.631042</td>\n",
              "      <td>0.0</td>\n",
              "    </tr>\n",
              "    <tr>\n",
              "      <th>4</th>\n",
              "      <td>2014-01-01</td>\n",
              "      <td>1915.000000</td>\n",
              "      <td>1924.400024</td>\n",
              "      <td>1890.300049</td>\n",
              "      <td>1560.954224</td>\n",
              "      <td>90587</td>\n",
              "      <td>BAJAJ-AUTO.NS</td>\n",
              "      <td>2</td>\n",
              "      <td>0.0</td>\n",
              "      <td>153.638312</td>\n",
              "      <td>143.702478</td>\n",
              "      <td>0.0</td>\n",
              "      <td>-66.666667</td>\n",
              "      <td>100.0</td>\n",
              "      <td>1560.954224</td>\n",
              "      <td>1560.954224</td>\n",
              "      <td>0.0</td>\n",
              "    </tr>\n",
              "  </tbody>\n",
              "</table>\n",
              "</div>\n",
              "      <button class=\"colab-df-convert\" onclick=\"convertToInteractive('df-0bde02cf-4550-49ca-b781-ace449d20985')\"\n",
              "              title=\"Convert this dataframe to an interactive table.\"\n",
              "              style=\"display:none;\">\n",
              "        \n",
              "  <svg xmlns=\"http://www.w3.org/2000/svg\" height=\"24px\"viewBox=\"0 0 24 24\"\n",
              "       width=\"24px\">\n",
              "    <path d=\"M0 0h24v24H0V0z\" fill=\"none\"/>\n",
              "    <path d=\"M18.56 5.44l.94 2.06.94-2.06 2.06-.94-2.06-.94-.94-2.06-.94 2.06-2.06.94zm-11 1L8.5 8.5l.94-2.06 2.06-.94-2.06-.94L8.5 2.5l-.94 2.06-2.06.94zm10 10l.94 2.06.94-2.06 2.06-.94-2.06-.94-.94-2.06-.94 2.06-2.06.94z\"/><path d=\"M17.41 7.96l-1.37-1.37c-.4-.4-.92-.59-1.43-.59-.52 0-1.04.2-1.43.59L10.3 9.45l-7.72 7.72c-.78.78-.78 2.05 0 2.83L4 21.41c.39.39.9.59 1.41.59.51 0 1.02-.2 1.41-.59l7.78-7.78 2.81-2.81c.8-.78.8-2.07 0-2.86zM5.41 20L4 18.59l7.72-7.72 1.47 1.35L5.41 20z\"/>\n",
              "  </svg>\n",
              "      </button>\n",
              "      \n",
              "  <style>\n",
              "    .colab-df-container {\n",
              "      display:flex;\n",
              "      flex-wrap:wrap;\n",
              "      gap: 12px;\n",
              "    }\n",
              "\n",
              "    .colab-df-convert {\n",
              "      background-color: #E8F0FE;\n",
              "      border: none;\n",
              "      border-radius: 50%;\n",
              "      cursor: pointer;\n",
              "      display: none;\n",
              "      fill: #1967D2;\n",
              "      height: 32px;\n",
              "      padding: 0 0 0 0;\n",
              "      width: 32px;\n",
              "    }\n",
              "\n",
              "    .colab-df-convert:hover {\n",
              "      background-color: #E2EBFA;\n",
              "      box-shadow: 0px 1px 2px rgba(60, 64, 67, 0.3), 0px 1px 3px 1px rgba(60, 64, 67, 0.15);\n",
              "      fill: #174EA6;\n",
              "    }\n",
              "\n",
              "    [theme=dark] .colab-df-convert {\n",
              "      background-color: #3B4455;\n",
              "      fill: #D2E3FC;\n",
              "    }\n",
              "\n",
              "    [theme=dark] .colab-df-convert:hover {\n",
              "      background-color: #434B5C;\n",
              "      box-shadow: 0px 1px 3px 1px rgba(0, 0, 0, 0.15);\n",
              "      filter: drop-shadow(0px 1px 2px rgba(0, 0, 0, 0.3));\n",
              "      fill: #FFFFFF;\n",
              "    }\n",
              "  </style>\n",
              "\n",
              "      <script>\n",
              "        const buttonEl =\n",
              "          document.querySelector('#df-0bde02cf-4550-49ca-b781-ace449d20985 button.colab-df-convert');\n",
              "        buttonEl.style.display =\n",
              "          google.colab.kernel.accessAllowed ? 'block' : 'none';\n",
              "\n",
              "        async function convertToInteractive(key) {\n",
              "          const element = document.querySelector('#df-0bde02cf-4550-49ca-b781-ace449d20985');\n",
              "          const dataTable =\n",
              "            await google.colab.kernel.invokeFunction('convertToInteractive',\n",
              "                                                     [key], {});\n",
              "          if (!dataTable) return;\n",
              "\n",
              "          const docLinkHtml = 'Like what you see? Visit the ' +\n",
              "            '<a target=\"_blank\" href=https://colab.research.google.com/notebooks/data_table.ipynb>data table notebook</a>'\n",
              "            + ' to learn more about interactive tables.';\n",
              "          element.innerHTML = '';\n",
              "          dataTable['output_type'] = 'display_data';\n",
              "          await google.colab.output.renderOutput(dataTable, element);\n",
              "          const docLink = document.createElement('div');\n",
              "          docLink.innerHTML = docLinkHtml;\n",
              "          element.appendChild(docLink);\n",
              "        }\n",
              "      </script>\n",
              "    </div>\n",
              "  </div>\n",
              "  "
            ]
          },
          "metadata": {},
          "execution_count": 33
        }
      ]
    },
    {
      "cell_type": "code",
      "source": [
        "df_NSE['close'].groupby(df_NSE['tic']).mean()"
      ],
      "metadata": {
        "id": "FUNHq7hyr-LN",
        "colab": {
          "base_uri": "https://localhost:8080/"
        },
        "outputId": "af818530-3508-4f31-bccb-0d2fe0439a2c"
      },
      "execution_count": null,
      "outputs": [
        {
          "output_type": "execute_result",
          "data": {
            "text/plain": [
              "tic\n",
              "ADANIPORTS.NS     359.620345\n",
              "APOLLOHOSP.NS    1547.908139\n",
              "ASIANPAINT.NS    1340.821980\n",
              "AXISBANK.NS       547.310524\n",
              "BAJAJ-AUTO.NS    2530.525631\n",
              "                    ...     \n",
              "TECHM.NS          599.818804\n",
              "TITAN.NS          796.532043\n",
              "ULTRACEMCO.NS    3904.574742\n",
              "UPL.NS            432.897489\n",
              "WIPRO.NS          255.302200\n",
              "Name: close, Length: 48, dtype: float64"
            ]
          },
          "metadata": {},
          "execution_count": 26
        }
      ]
    },
    {
      "cell_type": "code",
      "source": [
        "# plt.figure(figsize=(24,20))\n",
        "# plt.bar(df_NSE['tic'], df_NSE['close'].mean())\n",
        "# plt.tight_layout()\n",
        "# plt.show()"
      ],
      "metadata": {
        "id": "Pb2dgIxfgZWK"
      },
      "execution_count": null,
      "outputs": []
    },
    {
      "cell_type": "markdown",
      "source": [
        "**STOCK PRICE PREDICTION USING ARIMA**"
      ],
      "metadata": {
        "id": "9LUZlPjat3fQ"
      }
    },
    {
      "cell_type": "code",
      "source": [
        "from pandas.plotting import lag_plot\n",
        "from statsmodels.tsa.arima_model import ARIMA\n",
        "import statsmodels.api as sm\n",
        "from statsmodels.tsa.stattools import adfuller"
      ],
      "metadata": {
        "id": "NMwqI8Jpt8af"
      },
      "execution_count": null,
      "outputs": []
    },
    {
      "cell_type": "code",
      "source": [
        "print(df_NSE.shape)\n",
        "print(df_NSE.columns)"
      ],
      "metadata": {
        "colab": {
          "base_uri": "https://localhost:8080/"
        },
        "id": "Usi4SNhauCq8",
        "outputId": "b4e6054b-3a3e-49c4-a236-d7b16a8f9d3e"
      },
      "execution_count": null,
      "outputs": [
        {
          "output_type": "stream",
          "name": "stdout",
          "text": [
            "(93552, 17)\n",
            "Index(['date', 'open', 'high', 'low', 'close', 'volume', 'tic', 'day', 'macd',\n",
            "       'boll_ub', 'boll_lb', 'rsi_30', 'cci_30', 'dx_30', 'close_30_sma',\n",
            "       'close_60_sma', 'turbulence'],\n",
            "      dtype='object')\n"
          ]
        }
      ]
    },
    {
      "cell_type": "code",
      "source": [
        "df_NSE.isna().sum()"
      ],
      "metadata": {
        "colab": {
          "base_uri": "https://localhost:8080/"
        },
        "id": "2gPEXMrOqhew",
        "outputId": "b659b1b8-f6a4-4ec7-d4b4-8a1992604791"
      },
      "execution_count": null,
      "outputs": [
        {
          "output_type": "execute_result",
          "data": {
            "text/plain": [
              "date            0\n",
              "open            0\n",
              "high            0\n",
              "low             0\n",
              "close           0\n",
              "volume          0\n",
              "tic             0\n",
              "day             0\n",
              "macd            0\n",
              "boll_ub         0\n",
              "boll_lb         0\n",
              "rsi_30          0\n",
              "cci_30          0\n",
              "dx_30           0\n",
              "close_30_sma    0\n",
              "close_60_sma    0\n",
              "turbulence      0\n",
              "dtype: int64"
            ]
          },
          "metadata": {},
          "execution_count": 84
        }
      ]
    },
    {
      "cell_type": "code",
      "source": [
        "df_NSE['date'] = pd.to_datetime(df_NSE['date'])\n",
        "df_NSE.set_index('date')\n",
        "df_NSE.head()"
      ],
      "metadata": {
        "colab": {
          "base_uri": "https://localhost:8080/",
          "height": 356
        },
        "id": "e-M39cc1sTI2",
        "outputId": "f5924094-6e67-44d5-9610-1a6912608c83"
      },
      "execution_count": null,
      "outputs": [
        {
          "output_type": "execute_result",
          "data": {
            "text/plain": [
              "        date         open         high          low        close   volume  \\\n",
              "0 2014-01-01   154.550003   157.750000   154.550003   150.426804   851727   \n",
              "1 2014-01-01   940.250000   987.650024   940.250000   938.716553   335988   \n",
              "2 2014-01-01   494.399994   503.899994   492.000000   471.825562  1866326   \n",
              "3 2014-01-01   260.299988   261.000000   257.640015   248.631027  2849425   \n",
              "4 2014-01-01  1915.000000  1924.400024  1890.300049  1560.954346    90587   \n",
              "\n",
              "             tic  day  macd     boll_ub     boll_lb  rsi_30     cci_30  dx_30  \\\n",
              "0  ADANIPORTS.NS    2   0.0  153.638297  143.702462     0.0 -66.666667  100.0   \n",
              "1  APOLLOHOSP.NS    2   0.0  153.638297  143.702462     0.0 -66.666667  100.0   \n",
              "2  ASIANPAINT.NS    2   0.0  153.638297  143.702462     0.0 -66.666667  100.0   \n",
              "3    AXISBANK.NS    2   0.0  153.638297  143.702462     0.0 -66.666667  100.0   \n",
              "4  BAJAJ-AUTO.NS    2   0.0  153.638297  143.702462     0.0 -66.666667  100.0   \n",
              "\n",
              "   close_30_sma  close_60_sma  turbulence  \n",
              "0    150.426804    150.426804         0.0  \n",
              "1    938.716553    938.716553         0.0  \n",
              "2    471.825562    471.825562         0.0  \n",
              "3    248.631027    248.631027         0.0  \n",
              "4   1560.954346   1560.954346         0.0  "
            ],
            "text/html": [
              "\n",
              "  <div id=\"df-32205f6b-ffa7-47e5-b8f7-5f47c60bd6c4\">\n",
              "    <div class=\"colab-df-container\">\n",
              "      <div>\n",
              "<style scoped>\n",
              "    .dataframe tbody tr th:only-of-type {\n",
              "        vertical-align: middle;\n",
              "    }\n",
              "\n",
              "    .dataframe tbody tr th {\n",
              "        vertical-align: top;\n",
              "    }\n",
              "\n",
              "    .dataframe thead th {\n",
              "        text-align: right;\n",
              "    }\n",
              "</style>\n",
              "<table border=\"1\" class=\"dataframe\">\n",
              "  <thead>\n",
              "    <tr style=\"text-align: right;\">\n",
              "      <th></th>\n",
              "      <th>date</th>\n",
              "      <th>open</th>\n",
              "      <th>high</th>\n",
              "      <th>low</th>\n",
              "      <th>close</th>\n",
              "      <th>volume</th>\n",
              "      <th>tic</th>\n",
              "      <th>day</th>\n",
              "      <th>macd</th>\n",
              "      <th>boll_ub</th>\n",
              "      <th>boll_lb</th>\n",
              "      <th>rsi_30</th>\n",
              "      <th>cci_30</th>\n",
              "      <th>dx_30</th>\n",
              "      <th>close_30_sma</th>\n",
              "      <th>close_60_sma</th>\n",
              "      <th>turbulence</th>\n",
              "    </tr>\n",
              "  </thead>\n",
              "  <tbody>\n",
              "    <tr>\n",
              "      <th>0</th>\n",
              "      <td>2014-01-01</td>\n",
              "      <td>154.550003</td>\n",
              "      <td>157.750000</td>\n",
              "      <td>154.550003</td>\n",
              "      <td>150.426804</td>\n",
              "      <td>851727</td>\n",
              "      <td>ADANIPORTS.NS</td>\n",
              "      <td>2</td>\n",
              "      <td>0.0</td>\n",
              "      <td>153.638297</td>\n",
              "      <td>143.702462</td>\n",
              "      <td>0.0</td>\n",
              "      <td>-66.666667</td>\n",
              "      <td>100.0</td>\n",
              "      <td>150.426804</td>\n",
              "      <td>150.426804</td>\n",
              "      <td>0.0</td>\n",
              "    </tr>\n",
              "    <tr>\n",
              "      <th>1</th>\n",
              "      <td>2014-01-01</td>\n",
              "      <td>940.250000</td>\n",
              "      <td>987.650024</td>\n",
              "      <td>940.250000</td>\n",
              "      <td>938.716553</td>\n",
              "      <td>335988</td>\n",
              "      <td>APOLLOHOSP.NS</td>\n",
              "      <td>2</td>\n",
              "      <td>0.0</td>\n",
              "      <td>153.638297</td>\n",
              "      <td>143.702462</td>\n",
              "      <td>0.0</td>\n",
              "      <td>-66.666667</td>\n",
              "      <td>100.0</td>\n",
              "      <td>938.716553</td>\n",
              "      <td>938.716553</td>\n",
              "      <td>0.0</td>\n",
              "    </tr>\n",
              "    <tr>\n",
              "      <th>2</th>\n",
              "      <td>2014-01-01</td>\n",
              "      <td>494.399994</td>\n",
              "      <td>503.899994</td>\n",
              "      <td>492.000000</td>\n",
              "      <td>471.825562</td>\n",
              "      <td>1866326</td>\n",
              "      <td>ASIANPAINT.NS</td>\n",
              "      <td>2</td>\n",
              "      <td>0.0</td>\n",
              "      <td>153.638297</td>\n",
              "      <td>143.702462</td>\n",
              "      <td>0.0</td>\n",
              "      <td>-66.666667</td>\n",
              "      <td>100.0</td>\n",
              "      <td>471.825562</td>\n",
              "      <td>471.825562</td>\n",
              "      <td>0.0</td>\n",
              "    </tr>\n",
              "    <tr>\n",
              "      <th>3</th>\n",
              "      <td>2014-01-01</td>\n",
              "      <td>260.299988</td>\n",
              "      <td>261.000000</td>\n",
              "      <td>257.640015</td>\n",
              "      <td>248.631027</td>\n",
              "      <td>2849425</td>\n",
              "      <td>AXISBANK.NS</td>\n",
              "      <td>2</td>\n",
              "      <td>0.0</td>\n",
              "      <td>153.638297</td>\n",
              "      <td>143.702462</td>\n",
              "      <td>0.0</td>\n",
              "      <td>-66.666667</td>\n",
              "      <td>100.0</td>\n",
              "      <td>248.631027</td>\n",
              "      <td>248.631027</td>\n",
              "      <td>0.0</td>\n",
              "    </tr>\n",
              "    <tr>\n",
              "      <th>4</th>\n",
              "      <td>2014-01-01</td>\n",
              "      <td>1915.000000</td>\n",
              "      <td>1924.400024</td>\n",
              "      <td>1890.300049</td>\n",
              "      <td>1560.954346</td>\n",
              "      <td>90587</td>\n",
              "      <td>BAJAJ-AUTO.NS</td>\n",
              "      <td>2</td>\n",
              "      <td>0.0</td>\n",
              "      <td>153.638297</td>\n",
              "      <td>143.702462</td>\n",
              "      <td>0.0</td>\n",
              "      <td>-66.666667</td>\n",
              "      <td>100.0</td>\n",
              "      <td>1560.954346</td>\n",
              "      <td>1560.954346</td>\n",
              "      <td>0.0</td>\n",
              "    </tr>\n",
              "  </tbody>\n",
              "</table>\n",
              "</div>\n",
              "      <button class=\"colab-df-convert\" onclick=\"convertToInteractive('df-32205f6b-ffa7-47e5-b8f7-5f47c60bd6c4')\"\n",
              "              title=\"Convert this dataframe to an interactive table.\"\n",
              "              style=\"display:none;\">\n",
              "        \n",
              "  <svg xmlns=\"http://www.w3.org/2000/svg\" height=\"24px\"viewBox=\"0 0 24 24\"\n",
              "       width=\"24px\">\n",
              "    <path d=\"M0 0h24v24H0V0z\" fill=\"none\"/>\n",
              "    <path d=\"M18.56 5.44l.94 2.06.94-2.06 2.06-.94-2.06-.94-.94-2.06-.94 2.06-2.06.94zm-11 1L8.5 8.5l.94-2.06 2.06-.94-2.06-.94L8.5 2.5l-.94 2.06-2.06.94zm10 10l.94 2.06.94-2.06 2.06-.94-2.06-.94-.94-2.06-.94 2.06-2.06.94z\"/><path d=\"M17.41 7.96l-1.37-1.37c-.4-.4-.92-.59-1.43-.59-.52 0-1.04.2-1.43.59L10.3 9.45l-7.72 7.72c-.78.78-.78 2.05 0 2.83L4 21.41c.39.39.9.59 1.41.59.51 0 1.02-.2 1.41-.59l7.78-7.78 2.81-2.81c.8-.78.8-2.07 0-2.86zM5.41 20L4 18.59l7.72-7.72 1.47 1.35L5.41 20z\"/>\n",
              "  </svg>\n",
              "      </button>\n",
              "      \n",
              "  <style>\n",
              "    .colab-df-container {\n",
              "      display:flex;\n",
              "      flex-wrap:wrap;\n",
              "      gap: 12px;\n",
              "    }\n",
              "\n",
              "    .colab-df-convert {\n",
              "      background-color: #E8F0FE;\n",
              "      border: none;\n",
              "      border-radius: 50%;\n",
              "      cursor: pointer;\n",
              "      display: none;\n",
              "      fill: #1967D2;\n",
              "      height: 32px;\n",
              "      padding: 0 0 0 0;\n",
              "      width: 32px;\n",
              "    }\n",
              "\n",
              "    .colab-df-convert:hover {\n",
              "      background-color: #E2EBFA;\n",
              "      box-shadow: 0px 1px 2px rgba(60, 64, 67, 0.3), 0px 1px 3px 1px rgba(60, 64, 67, 0.15);\n",
              "      fill: #174EA6;\n",
              "    }\n",
              "\n",
              "    [theme=dark] .colab-df-convert {\n",
              "      background-color: #3B4455;\n",
              "      fill: #D2E3FC;\n",
              "    }\n",
              "\n",
              "    [theme=dark] .colab-df-convert:hover {\n",
              "      background-color: #434B5C;\n",
              "      box-shadow: 0px 1px 3px 1px rgba(0, 0, 0, 0.15);\n",
              "      filter: drop-shadow(0px 1px 2px rgba(0, 0, 0, 0.3));\n",
              "      fill: #FFFFFF;\n",
              "    }\n",
              "  </style>\n",
              "\n",
              "      <script>\n",
              "        const buttonEl =\n",
              "          document.querySelector('#df-32205f6b-ffa7-47e5-b8f7-5f47c60bd6c4 button.colab-df-convert');\n",
              "        buttonEl.style.display =\n",
              "          google.colab.kernel.accessAllowed ? 'block' : 'none';\n",
              "\n",
              "        async function convertToInteractive(key) {\n",
              "          const element = document.querySelector('#df-32205f6b-ffa7-47e5-b8f7-5f47c60bd6c4');\n",
              "          const dataTable =\n",
              "            await google.colab.kernel.invokeFunction('convertToInteractive',\n",
              "                                                     [key], {});\n",
              "          if (!dataTable) return;\n",
              "\n",
              "          const docLinkHtml = 'Like what you see? Visit the ' +\n",
              "            '<a target=\"_blank\" href=https://colab.research.google.com/notebooks/data_table.ipynb>data table notebook</a>'\n",
              "            + ' to learn more about interactive tables.';\n",
              "          element.innerHTML = '';\n",
              "          dataTable['output_type'] = 'display_data';\n",
              "          await google.colab.output.renderOutput(dataTable, element);\n",
              "          const docLink = document.createElement('div');\n",
              "          docLink.innerHTML = docLinkHtml;\n",
              "          element.appendChild(docLink);\n",
              "        }\n",
              "      </script>\n",
              "    </div>\n",
              "  </div>\n",
              "  "
            ]
          },
          "metadata": {},
          "execution_count": 19
        }
      ]
    },
    {
      "cell_type": "code",
      "source": [
        "type(df_NSE)"
      ],
      "metadata": {
        "colab": {
          "base_uri": "https://localhost:8080/"
        },
        "id": "qSL5pFb-p5y6",
        "outputId": "53d85f44-d54b-43e5-a789-d5b2f32f89b5"
      },
      "execution_count": null,
      "outputs": [
        {
          "output_type": "execute_result",
          "data": {
            "text/plain": [
              "pandas.core.frame.DataFrame"
            ]
          },
          "metadata": {},
          "execution_count": 78
        }
      ]
    },
    {
      "cell_type": "code",
      "source": [
        "df_NSE['date'][::-1]"
      ],
      "metadata": {
        "colab": {
          "base_uri": "https://localhost:8080/"
        },
        "id": "OySyxTKB3QFQ",
        "outputId": "4317663f-1a01-4840-f179-f1ebfb432a99"
      },
      "execution_count": null,
      "outputs": [
        {
          "output_type": "execute_result",
          "data": {
            "text/plain": [
              "93551   2021-11-30\n",
              "93550   2021-11-30\n",
              "93549   2021-11-30\n",
              "93548   2021-11-30\n",
              "93547   2021-11-30\n",
              "           ...    \n",
              "4       2014-01-01\n",
              "3       2014-01-01\n",
              "2       2014-01-01\n",
              "1       2014-01-01\n",
              "0       2014-01-01\n",
              "Name: date, Length: 93552, dtype: datetime64[ns]"
            ]
          },
          "metadata": {},
          "execution_count": 102
        }
      ]
    },
    {
      "cell_type": "code",
      "source": [
        "tictic = df_NSE['close'].loc[df_NSE['tic'] == 'ASIANPAINT.NS']"
      ],
      "metadata": {
        "id": "c5UgRG7GpJOU"
      },
      "execution_count": null,
      "outputs": []
    },
    {
      "cell_type": "code",
      "source": [
        "print(tictic)"
      ],
      "metadata": {
        "colab": {
          "base_uri": "https://localhost:8080/"
        },
        "id": "bWJ5WWAJyuuI",
        "outputId": "b9907078-0df8-4ec8-c41d-590026d59e19"
      },
      "execution_count": null,
      "outputs": [
        {
          "output_type": "stream",
          "name": "stdout",
          "text": [
            "2         471.825562\n",
            "50        458.418945\n",
            "98        462.148224\n",
            "146       463.234039\n",
            "194       462.573151\n",
            "            ...     \n",
            "93314    3157.000000\n",
            "93362    3144.250000\n",
            "93410    3143.100098\n",
            "93458    3144.300049\n",
            "93506    3143.649902\n",
            "Name: close, Length: 1949, dtype: float64\n"
          ]
        }
      ]
    },
    {
      "cell_type": "code",
      "source": [
        "plt.figure(figsize=(24,16))\n",
        "plt.plot(tictic)\n",
        "plt.title('Closing Values of %.tic')\n",
        "plt.xlabel('Dates')\n",
        "plt.ylabel('Close')\n",
        "plt.xticks(np.arange(100,5000, 2500), df_NSE['date'][100:5000:2500])\n",
        "plt.show()"
      ],
      "metadata": {
        "colab": {
          "base_uri": "https://localhost:8080/",
          "height": 763
        },
        "id": "0pvrvZHyCw-6",
        "outputId": "0c978377-cd6e-4291-85d5-cdd029b8ed62"
      },
      "execution_count": null,
      "outputs": [
        {
          "output_type": "display_data",
          "data": {
            "text/plain": [
              "<Figure size 1728x1152 with 1 Axes>"
            ],
            "image/png": "[encoded data removed]"
          },
          "metadata": {
            "needs_background": "light"
          }
        }
      ]
    },
    {
      "cell_type": "code",
      "source": [
        "# Perform Dickey-Fuller test:\n",
        "print('Results of Dickey-Fuller Test:')\n",
        "dftest = adfuller(df_NSE.close, autolag='AIC', maxlag = 20)\n",
        "dfoutput = pd.Series(dftest[0:4], index=['Test Statistic','p-value','#Lags Used','Number of Observations Used'])\n",
        "for key,value in dftest[4].items():\n",
        "    dfoutput['Critical Value (%s)'%key] = value\n",
        "pvalue = dftest[1]\n",
        "if pvalue < 0.01:\n",
        "    print('p-value = %.4f. The series is likely stationary.' % pvalue)\n",
        "else:\n",
        "    print('p-value = %.4f. The series is likely non-stationary.' % pvalue)\n",
        "\n",
        "print(dfoutput)"
      ],
      "metadata": {
        "id": "2pSzP05aujLa",
        "colab": {
          "base_uri": "https://localhost:8080/"
        },
        "outputId": "3b35eb9f-a5d2-4d94-8e58-db160be4c5a3"
      },
      "execution_count": null,
      "outputs": [
        {
          "output_type": "stream",
          "name": "stdout",
          "text": [
            "Results of Dickey-Fuller Test:\n",
            "p-value = 0.0000. The series is likely stationary.\n",
            "Test Statistic                   -45.328338\n",
            "p-value                            0.000000\n",
            "#Lags Used                        20.000000\n",
            "Number of Observations Used    93531.000000\n",
            "Critical Value (1%)               -3.430420\n",
            "Critical Value (5%)               -2.861571\n",
            "Critical Value (10%)              -2.566786\n",
            "dtype: float64\n"
          ]
        }
      ]
    },
    {
      "cell_type": "markdown",
      "source": [
        "The stock price series of Asian Paints is stationary and reflects a random walk model (similar to a drunk man!) \n",
        "\n"
      ],
      "metadata": {
        "id": "K3P3IAOSwndC"
      }
    },
    {
      "cell_type": "code",
      "source": [
        "# plt.figure(figsize=(17,7))\n",
        "# lag_plot(tictic, lag=1)\n",
        "# plt.title(' Autocorrelation plot of Asian Paints stock')"
      ],
      "metadata": {
        "colab": {
          "base_uri": "https://localhost:8080/",
          "height": 475
        },
        "id": "I1f1GbjOTY1e",
        "outputId": "6eac1fd4-ec2d-4d97-8047-971ca2e269df"
      },
      "execution_count": null,
      "outputs": [
        {
          "output_type": "execute_result",
          "data": {
            "text/plain": [
              "Text(0.5, 1.0, ' Autocorrelation plot of Asian Paints stock')"
            ]
          },
          "metadata": {},
          "execution_count": 101
        },
        {
          "output_type": "display_data",
          "data": {
            "text/plain": [
              "<Figure size 1224x504 with 1 Axes>"
            ],
            "image/png": "[encoded data removed]"
          },
          "metadata": {
            "needs_background": "light"
          }
        }
      ]
    },
    {
      "cell_type": "markdown",
      "source": [
        "Divide the data into train, test and split"
      ],
      "metadata": {
        "id": "E4YF34y28wLV"
      }
    },
    {
      "cell_type": "code",
      "source": [
        "train_data, test_data = df_NSE[0:int(len(df_NSE)*0.8)], df_NSE[int(len(df_NSE)*0.8):]"
      ],
      "metadata": {
        "id": "F1DSJjwpx_w-"
      },
      "execution_count": null,
      "outputs": []
    },
    {
      "cell_type": "code",
      "source": [
        "plt.figure(figsize=(17,7))\n",
        "plt.title(\"Prices of Asian Paint stock\")\n",
        "plt.xlabel(\"Dates\")\n",
        "plt.ylabel(\"Prices\")\n",
        "plt.plot(train_data['close'], 'blue', label = \"Training Data\")\n",
        "plt.plot(test_data['close'], 'red', label = \"Test Data\")\n",
        "plt.legend()\n",
        "plt.show()"
      ],
      "metadata": {
        "colab": {
          "base_uri": "https://localhost:8080/",
          "height": 458
        },
        "id": "dwf3k-229HCT",
        "outputId": "d6222990-e9c1-47d1-e08c-dbf914598d48"
      },
      "execution_count": null,
      "outputs": [
        {
          "output_type": "display_data",
          "data": {
            "text/plain": [
              "<Figure size 1224x504 with 1 Axes>"
            ],
            "image/png": "[encoded data removed]"
          },
          "metadata": {
            "needs_background": "light"
          }
        }
      ]
    },
    {
      "cell_type": "markdown",
      "source": [
        "Plotting ACF and PACF plots to check ARIMA model order"
      ],
      "metadata": {
        "id": "Dd9vFymPAja5"
      }
    },
    {
      "cell_type": "code",
      "source": [
        "fig = plt.figure(fgsize=(15,7))\n",
        "ax1 = fig.subplot(211)\n",
        "fig = sm.graphics.tsa.plot_acf(diff, )"
      ],
      "metadata": {
        "id": "gveKilbt9oql"
      },
      "execution_count": null,
      "outputs": []
    }
  ]
}