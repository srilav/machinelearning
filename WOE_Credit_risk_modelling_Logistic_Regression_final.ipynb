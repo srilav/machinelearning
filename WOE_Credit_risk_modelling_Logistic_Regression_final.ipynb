{
  "nbformat": 4,
  "nbformat_minor": 5,
  "metadata": {
    "kernelspec": {
      "display_name": "Python 3",
      "language": "python",
      "name": "python3"
    },
    "language_info": {
      "codemirror_mode": {
        "name": "ipython",
        "version": 3
      },
      "file_extension": ".py",
      "mimetype": "text/x-python",
      "name": "python",
      "nbconvert_exporter": "python",
      "pygments_lexer": "ipython3",
      "version": "3.9.2"
    },
    "colab": {
      "name": "WOE_Credit_risk_modelling_Logistic_Regression.ipynb",
      "provenance": [],
      "collapsed_sections": [],
      "include_colab_link": true
    }
  },
  "cells": [
    {
      "cell_type": "markdown",
      "metadata": {
        "id": "view-in-github",
        "colab_type": "text"
      },
      "source": [
        "<a href=\"https://colab.research.google.com/github/srilav/machinelearning/blob/main/WOE_Credit_risk_modelling_Logistic_Regression_final.ipynb\" target=\"_parent\"><img src=\"https://colab.research.google.com/assets/colab-badge.svg\" alt=\"Open In Colab\"/></a>"
      ]
    },
    {
      "cell_type": "markdown",
      "metadata": {
        "id": "associate-sunset"
      },
      "source": [
        "# Advanced Certification Program in Computational Data Science\n",
        "## A program by IISc and TalentSprint\n",
        "### Mini-Project: Credit risk modelling using Logistic Regression"
      ],
      "id": "associate-sunset"
    },
    {
      "cell_type": "markdown",
      "metadata": {
        "id": "handled-tooth"
      },
      "source": [
        "## Problem Statement"
      ],
      "id": "handled-tooth"
    },
    {
      "cell_type": "markdown",
      "metadata": {
        "id": "accessory-watts"
      },
      "source": [
        "Predict the loan defaulters using a Logistic Regression model on the credit risk data and calculate credit scores"
      ],
      "id": "accessory-watts"
    },
    {
      "cell_type": "markdown",
      "metadata": {
        "id": "twenty-indonesia"
      },
      "source": [
        "## Learning Objectives"
      ],
      "id": "twenty-indonesia"
    },
    {
      "cell_type": "markdown",
      "metadata": {
        "id": "honest-friendship"
      },
      "source": [
        "At the end of the mini-project, you will be able to :\n",
        "\n",
        "* perform data exploration, preprocessing and visualization\n",
        "* implement Logistic Regression using manual code or using sklearn library\n",
        "* evaluate the model using appropriate performance metrics\n",
        "* develop a credit scoring system"
      ],
      "id": "honest-friendship"
    },
    {
      "cell_type": "markdown",
      "metadata": {
        "id": "lesbian-bottom"
      },
      "source": [
        "## Dataset"
      ],
      "id": "lesbian-bottom"
    },
    {
      "cell_type": "markdown",
      "metadata": {
        "id": "fixed-trainer"
      },
      "source": [
        "The dataset chosen for this mini-project is the [Give Me Some Credit](https://bigml.com/user/jbosca/gallery/dataset/5a7def3d2a83476e09000456#info) dataset which can be used to build models for predicting loan repayment defaulters\n",
        "#### Datafields\n",
        "\n",
        "- **SeriousDlqin2yrs:** Person experienced 90 days past due delinquency or worse\n",
        "- **RevolvingUtilizationOfUnsecuredLines:** Total balance on credit cards and personal lines of credit except real estate and no installment debt like car loans divided by the sum of credit limits\n",
        "- **age:** Age of borrower in years\n",
        "- **NumberOfTime30-59DaysPastDueNotWorse:** Number of times borrower has been 30-59 days past due but no worse in the last 2 years.\n",
        "- **DebtRatio:** Monthly debt payments, alimony,living costs divided by monthy gross income\n",
        "- **MonthlyIncome:** Monthly income\n",
        "- **NumberOfOpenCreditLinesAndLoans:** Number of Open loans (installment like car loan or mortgage) and Lines of credit (e.g. credit cards)\n",
        "- **NumberOfTimes90DaysLate:** Number of times borrower has been 90 days or more past due.\n",
        "- **NumberRealEstateLoansOrLines:**\tNumber of mortgage and real estate loans including home equity lines of credit\n",
        "- **NumberOfTime60-89DaysPastDueNotWorse:**\tNumber of times borrower has been 60-89 days past due but no worse in the last 2 years.\n",
        "- **NumberOfDependents:** Number of dependents in family excluding themselves (spouse, children etc.)"
      ],
      "id": "fixed-trainer"
    },
    {
      "cell_type": "markdown",
      "metadata": {
        "id": "rapid-hierarchy"
      },
      "source": [
        "## Information"
      ],
      "id": "rapid-hierarchy"
    },
    {
      "cell_type": "markdown",
      "metadata": {
        "id": "prescribed-matter"
      },
      "source": [
        "Credit risk arises when a corporate or individual borrower fails to meet their debt obligations. From the lender's perspective, credit risk could disrupt its cash flows or increase collection costs, since the lender may be forced to hire a debt collection agency to enforce the collection. The loss may be partial or complete, where the lender incurs a loss of part of the loan or the entire loan extended to the borrower.\n",
        "\n",
        "Credit scoring algorithms, which calculate the probability of default, are the best methods that banks use to determine whether or not a loan should be granted. \n",
        "\n",
        "In order to build a credit scoring system, the following feature transformations are performed:\n",
        "\n",
        "#### Weight of Evidence and Information value\n",
        "\n",
        "Logistic regression is a commonly used technique in credit scoring for solving binary classification problems. Prior to model fitting, another iteration of variable selection is valuable to check if the newly WOE transformed variables are still good model candidates. Preferred candidate variables are those with higher information value having a linear relationship with the dependent variable, have good coverage across all categories, have a normal distribution, contain a notable overall contribution, and are relevant to the business.\n",
        "\n",
        "**Weight of evidence** (WOE) is a powerful tool for feature representation and evaluation in data science. WOE can provide interpret able transformation to both categorical and numerical features. The weight of evidence tells the predictive power of an independent variable in relation to the dependent variable. Since it evolved from credit scoring world, it is generally described as a measure of the separation of good and bad customers. \"Bad Customers\" refers to the customers who defaulted on a loan. and \"Good Customers\" refers to the customers who paid back loan. WOE can be calculated using the below formula:\n",
        "\n",
        "$$WOE = ln \\left( \\frac{\\%   of  Non\\_Events}{\\%   of  Events} \\right)$$\n",
        "\n",
        "Steps to calculate WOE\n",
        "* For a continuous variable, split data into 10 parts (or lesser depending on the distribution).\n",
        "* Calculate the number of events and non-events in each group (bin)\n",
        "* Calculate the % of events and % of non-events in each group.\n",
        "* Calculate WOE by taking natural log of division of % of non-events and % of events\n",
        "\n",
        "**Information value** is one of the most useful technique to select important variables in a predictive model. It helps to rank variables on the basis of their importance. The IV is calculated using the following formula :\n",
        "$$IV = ∑ (\\% of Non\\_Events - \\% of Events) * WOE$$\n",
        "\n",
        "Read more about `WOE` and `IV` from the following [link](https://medium.com/@yanhuiliu104/credit-scoring-scorecard-development-process-8554c3492b2b)"
      ],
      "id": "prescribed-matter"
    },
    {
      "cell_type": "markdown",
      "metadata": {
        "id": "operating-latter"
      },
      "source": [
        "## Grading = 10 Points"
      ],
      "id": "operating-latter"
    },
    {
      "cell_type": "markdown",
      "metadata": {
        "id": "caring-syndrome"
      },
      "source": [
        "### Download the dataset"
      ],
      "id": "caring-syndrome"
    },
    {
      "cell_type": "code",
      "metadata": {
        "id": "comparable-delay",
        "cellView": "form",
        "colab": {
          "base_uri": "https://localhost:8080/"
        },
        "outputId": "38ff9bc7-c5e5-4fdb-8af7-1c97a78cf9cb"
      },
      "source": [
        "#@title Download Dataset\n",
        "!wget -qq https://cdn.iisc.talentsprint.com/CDS/MiniProjects/GiveMeSomeCredit.csv\n",
        "!pip -qq install xverse\n",
        "print(\"Data Downloaded Successfully!\")"
      ],
      "id": "comparable-delay",
      "execution_count": null,
      "outputs": [
        {
          "output_type": "stream",
          "name": "stdout",
          "text": [
            "Data Downloaded Successfully!\n"
          ]
        }
      ]
    },
    {
      "cell_type": "markdown",
      "metadata": {
        "id": "appreciated-pattern"
      },
      "source": [
        "### Import Neccesary Packages"
      ],
      "id": "appreciated-pattern"
    },
    {
      "cell_type": "code",
      "metadata": {
        "id": "loose-marsh"
      },
      "source": [
        "import pandas as pd\n",
        "import numpy as np\n",
        "from sklearn.model_selection import train_test_split\n",
        "from sklearn.linear_model import LogisticRegression\n",
        "from sklearn import metrics\n",
        "import seaborn as sns\n",
        "from matplotlib import pyplot as plt\n",
        "import math\n",
        "from xverse.transformer import MonotonicBinning,WOE\n",
        "%matplotlib inline\n",
        "import warnings\n",
        "warnings.filterwarnings('ignore') #To ignore the warnings"
      ],
      "id": "loose-marsh",
      "execution_count": null,
      "outputs": []
    },
    {
      "cell_type": "code",
      "metadata": {
        "id": "tM_ELwYCmx-l"
      },
      "source": [
        "#to make notebook run stable across runs\n",
        "np.random.seed(45)\n",
        "#multiple cell outputs\n",
        "from IPython.core.interactiveshell import InteractiveShell\n",
        "InteractiveShell.ast_node_interactivity = \"all\""
      ],
      "id": "tM_ELwYCmx-l",
      "execution_count": null,
      "outputs": []
    },
    {
      "cell_type": "code",
      "metadata": {
        "id": "6pk_YI8RzPwR"
      },
      "source": [
        "def pd_set_df_view_options(max_rows=1000, max_columns=350, display_width=320):\n",
        "    # Show more than 10 or 20 rows when a dataframe comes back.\n",
        "    pd.set_option('display.max_rows', max_rows)\n",
        "    # Columns displayed in debug view\n",
        "    pd.set_option('display.max_columns', max_columns)\n",
        "\n",
        "    pd.set_option('display.width', display_width)\n",
        "pd_set_df_view_options()"
      ],
      "id": "6pk_YI8RzPwR",
      "execution_count": null,
      "outputs": []
    },
    {
      "cell_type": "markdown",
      "metadata": {
        "id": "compressed-reflection"
      },
      "source": [
        "### Load the dataset"
      ],
      "id": "compressed-reflection"
    },
    {
      "cell_type": "code",
      "metadata": {
        "id": "fatty-graph",
        "colab": {
          "base_uri": "https://localhost:8080/",
          "height": 241
        },
        "outputId": "be779f14-a95d-4120-e74b-b032702f37ce"
      },
      "source": [
        "#Load data\n",
        "def load_data(Filepath):\n",
        "  data = pd.read_csv(\n",
        "    Filepath,      # relative python path to subdirectory\n",
        "    sep=',',           # Comma-separated value file.\n",
        "    encoding='utf8',        # encoding\n",
        "    header=0,                  # specify a row as header\n",
        "    usecols=[1,2,3,4,5,6,7,8,9,10,11],   # Only load the  columns specified.\n",
        "    dtype={\"age\": int,\"NumberOfTime30-59DaysPastDueNotWorse\":int,\"NumberOfOpenCreditLinesAndLoans\":int,\"NumberOfTimes90DaysLate\":int},             # Parse the agecolumn as an integer     \n",
        "    parse_dates=None,     # Intepret the date column as a date\n",
        "    skiprows=None,         # Skip the first few rows of the file\n",
        "    na_values=['.', 'na','NA','NAN','NaN']       # Take any '.' or 'na' values as NA\n",
        "    )\n",
        "  return data\n",
        "\n",
        "Filepath='/content/GiveMeSomeCredit.csv'\n",
        "df=load_data(Filepath)\n",
        "df.head()"
      ],
      "id": "fatty-graph",
      "execution_count": null,
      "outputs": [
        {
          "output_type": "execute_result",
          "data": {
            "text/html": [
              "<div>\n",
              "<style scoped>\n",
              "    .dataframe tbody tr th:only-of-type {\n",
              "        vertical-align: middle;\n",
              "    }\n",
              "\n",
              "    .dataframe tbody tr th {\n",
              "        vertical-align: top;\n",
              "    }\n",
              "\n",
              "    .dataframe thead th {\n",
              "        text-align: right;\n",
              "    }\n",
              "</style>\n",
              "<table border=\"1\" class=\"dataframe\">\n",
              "  <thead>\n",
              "    <tr style=\"text-align: right;\">\n",
              "      <th></th>\n",
              "      <th>SeriousDlqin2yrs</th>\n",
              "      <th>RevolvingUtilizationOfUnsecuredLines</th>\n",
              "      <th>age</th>\n",
              "      <th>NumberOfTime30-59DaysPastDueNotWorse</th>\n",
              "      <th>DebtRatio</th>\n",
              "      <th>MonthlyIncome</th>\n",
              "      <th>NumberOfOpenCreditLinesAndLoans</th>\n",
              "      <th>NumberOfTimes90DaysLate</th>\n",
              "      <th>NumberRealEstateLoansOrLines</th>\n",
              "      <th>NumberOfTime60-89DaysPastDueNotWorse</th>\n",
              "      <th>NumberOfDependents</th>\n",
              "    </tr>\n",
              "  </thead>\n",
              "  <tbody>\n",
              "    <tr>\n",
              "      <th>0</th>\n",
              "      <td>1</td>\n",
              "      <td>0.766127</td>\n",
              "      <td>45</td>\n",
              "      <td>2</td>\n",
              "      <td>0.802982</td>\n",
              "      <td>9120.0</td>\n",
              "      <td>13</td>\n",
              "      <td>0</td>\n",
              "      <td>6</td>\n",
              "      <td>0</td>\n",
              "      <td>2.0</td>\n",
              "    </tr>\n",
              "    <tr>\n",
              "      <th>1</th>\n",
              "      <td>0</td>\n",
              "      <td>0.957151</td>\n",
              "      <td>40</td>\n",
              "      <td>0</td>\n",
              "      <td>0.121876</td>\n",
              "      <td>2600.0</td>\n",
              "      <td>4</td>\n",
              "      <td>0</td>\n",
              "      <td>0</td>\n",
              "      <td>0</td>\n",
              "      <td>1.0</td>\n",
              "    </tr>\n",
              "    <tr>\n",
              "      <th>2</th>\n",
              "      <td>0</td>\n",
              "      <td>0.658180</td>\n",
              "      <td>38</td>\n",
              "      <td>1</td>\n",
              "      <td>0.085113</td>\n",
              "      <td>3042.0</td>\n",
              "      <td>2</td>\n",
              "      <td>1</td>\n",
              "      <td>0</td>\n",
              "      <td>0</td>\n",
              "      <td>0.0</td>\n",
              "    </tr>\n",
              "    <tr>\n",
              "      <th>3</th>\n",
              "      <td>0</td>\n",
              "      <td>0.233810</td>\n",
              "      <td>30</td>\n",
              "      <td>0</td>\n",
              "      <td>0.036050</td>\n",
              "      <td>3300.0</td>\n",
              "      <td>5</td>\n",
              "      <td>0</td>\n",
              "      <td>0</td>\n",
              "      <td>0</td>\n",
              "      <td>0.0</td>\n",
              "    </tr>\n",
              "    <tr>\n",
              "      <th>4</th>\n",
              "      <td>0</td>\n",
              "      <td>0.907239</td>\n",
              "      <td>49</td>\n",
              "      <td>1</td>\n",
              "      <td>0.024926</td>\n",
              "      <td>63588.0</td>\n",
              "      <td>7</td>\n",
              "      <td>0</td>\n",
              "      <td>1</td>\n",
              "      <td>0</td>\n",
              "      <td>0.0</td>\n",
              "    </tr>\n",
              "  </tbody>\n",
              "</table>\n",
              "</div>"
            ],
            "text/plain": [
              "   SeriousDlqin2yrs  RevolvingUtilizationOfUnsecuredLines  age  NumberOfTime30-59DaysPastDueNotWorse  DebtRatio  MonthlyIncome  NumberOfOpenCreditLinesAndLoans  NumberOfTimes90DaysLate  NumberRealEstateLoansOrLines  NumberOfTime60-89DaysPastDueNotWorse  NumberOfDependents\n",
              "0                 1                              0.766127   45                                     2   0.802982         9120.0                               13                        0                             6                                     0                 2.0\n",
              "1                 0                              0.957151   40                                     0   0.121876         2600.0                                4                        0                             0                                     0                 1.0\n",
              "2                 0                              0.658180   38                                     1   0.085113         3042.0                                2                        1                             0                                     0                 0.0\n",
              "3                 0                              0.233810   30                                     0   0.036050         3300.0                                5                        0                             0                                     0                 0.0\n",
              "4                 0                              0.907239   49                                     1   0.024926        63588.0                                7                        0                             1                                     0                 0.0"
            ]
          },
          "metadata": {},
          "execution_count": 66
        }
      ]
    },
    {
      "cell_type": "markdown",
      "metadata": {
        "id": "experienced-sleeping"
      },
      "source": [
        "#### Describe the all statistical properties of the train dataset"
      ],
      "id": "experienced-sleeping"
    },
    {
      "cell_type": "code",
      "metadata": {
        "id": "greek-methodology",
        "colab": {
          "base_uri": "https://localhost:8080/"
        },
        "outputId": "f667ff49-5215-4c26-b2bf-e5e87c83626f"
      },
      "source": [
        "#data exploration\n",
        "def explore_data(df):\n",
        "    print(f\"First 5 rows : \\n {df.head()} \\n\")\n",
        "    print(f\"Shape : \\n {df.shape} \\n\")\n",
        "    print(f\"Columns : \\n {df.columns} \\n\")\n",
        "    print(f\"Data types : \\n {df.dtypes}\\n\")\n",
        "    print(f\"Summary of data : \\n {df.describe()} \\n\")\n",
        "    print(f\"data info :\\n{df.info()}\\n\")\n",
        "    print(f\"Null objects in each column :\\n{df.isnull().sum()}\\n\")\n",
        "    print(f\"Duplicate rows in data :\\n{np.any(df.duplicated())}\\n\")\n",
        "\n",
        "  \n",
        "explore_data(df)"
      ],
      "id": "greek-methodology",
      "execution_count": null,
      "outputs": [
        {
          "output_type": "stream",
          "name": "stdout",
          "text": [
            "First 5 rows : \n",
            "    SeriousDlqin2yrs  RevolvingUtilizationOfUnsecuredLines  age  NumberOfTime30-59DaysPastDueNotWorse  DebtRatio  MonthlyIncome  NumberOfOpenCreditLinesAndLoans  NumberOfTimes90DaysLate  NumberRealEstateLoansOrLines  NumberOfTime60-89DaysPastDueNotWorse  NumberOfDependents\n",
            "0                 1                              0.766127   45                                     2   0.802982         9120.0                               13                        0                             6                                     0                 2.0\n",
            "1                 0                              0.957151   40                                     0   0.121876         2600.0                                4                        0                             0                                     0                 1.0\n",
            "2                 0                              0.658180   38                                     1   0.085113         3042.0                                2                        1                             0                                     0                 0.0\n",
            "3                 0                              0.233810   30                                     0   0.036050         3300.0                                5                        0                             0                                     0                 0.0\n",
            "4                 0                              0.907239   49                                     1   0.024926        63588.0                                7                        0                             1                                     0                 0.0 \n",
            "\n",
            "Shape : \n",
            " (150000, 11) \n",
            "\n",
            "Columns : \n",
            " Index(['SeriousDlqin2yrs', 'RevolvingUtilizationOfUnsecuredLines', 'age', 'NumberOfTime30-59DaysPastDueNotWorse', 'DebtRatio', 'MonthlyIncome', 'NumberOfOpenCreditLinesAndLoans', 'NumberOfTimes90DaysLate', 'NumberRealEstateLoansOrLines', 'NumberOfTime60-89DaysPastDueNotWorse', 'NumberOfDependents'], dtype='object') \n",
            "\n",
            "Data types : \n",
            " SeriousDlqin2yrs                          int64\n",
            "RevolvingUtilizationOfUnsecuredLines    float64\n",
            "age                                       int64\n",
            "NumberOfTime30-59DaysPastDueNotWorse      int64\n",
            "DebtRatio                               float64\n",
            "MonthlyIncome                           float64\n",
            "NumberOfOpenCreditLinesAndLoans           int64\n",
            "NumberOfTimes90DaysLate                   int64\n",
            "NumberRealEstateLoansOrLines              int64\n",
            "NumberOfTime60-89DaysPastDueNotWorse      int64\n",
            "NumberOfDependents                      float64\n",
            "dtype: object\n",
            "\n",
            "Summary of data : \n",
            "        SeriousDlqin2yrs  RevolvingUtilizationOfUnsecuredLines            age  NumberOfTime30-59DaysPastDueNotWorse      DebtRatio  MonthlyIncome  NumberOfOpenCreditLinesAndLoans  NumberOfTimes90DaysLate  NumberRealEstateLoansOrLines  NumberOfTime60-89DaysPastDueNotWorse  NumberOfDependents\n",
            "count     150000.000000                         150000.000000  150000.000000                         150000.000000  150000.000000   1.202690e+05                    150000.000000            150000.000000                 150000.000000                         150000.000000       146076.000000\n",
            "mean           0.066840                              6.048438      52.295207                              0.421033     353.005076   6.670221e+03                         8.452760                 0.265973                      1.018240                              0.240387            0.757222\n",
            "std            0.249746                            249.755371      14.771866                              4.192781    2037.818523   1.438467e+04                         5.145951                 4.169304                      1.129771                              4.155179            1.115086\n",
            "min            0.000000                              0.000000       0.000000                              0.000000       0.000000   0.000000e+00                         0.000000                 0.000000                      0.000000                              0.000000            0.000000\n",
            "25%            0.000000                              0.029867      41.000000                              0.000000       0.175074   3.400000e+03                         5.000000                 0.000000                      0.000000                              0.000000            0.000000\n",
            "50%            0.000000                              0.154181      52.000000                              0.000000       0.366508   5.400000e+03                         8.000000                 0.000000                      1.000000                              0.000000            0.000000\n",
            "75%            0.000000                              0.559046      63.000000                              0.000000       0.868254   8.249000e+03                        11.000000                 0.000000                      2.000000                              0.000000            1.000000\n",
            "max            1.000000                          50708.000000     109.000000                             98.000000  329664.000000   3.008750e+06                        58.000000                98.000000                     54.000000                             98.000000           20.000000 \n",
            "\n",
            "<class 'pandas.core.frame.DataFrame'>\n",
            "RangeIndex: 150000 entries, 0 to 149999\n",
            "Data columns (total 11 columns):\n",
            " #   Column                                Non-Null Count   Dtype  \n",
            "---  ------                                --------------   -----  \n",
            " 0   SeriousDlqin2yrs                      150000 non-null  int64  \n",
            " 1   RevolvingUtilizationOfUnsecuredLines  150000 non-null  float64\n",
            " 2   age                                   150000 non-null  int64  \n",
            " 3   NumberOfTime30-59DaysPastDueNotWorse  150000 non-null  int64  \n",
            " 4   DebtRatio                             150000 non-null  float64\n",
            " 5   MonthlyIncome                         120269 non-null  float64\n",
            " 6   NumberOfOpenCreditLinesAndLoans       150000 non-null  int64  \n",
            " 7   NumberOfTimes90DaysLate               150000 non-null  int64  \n",
            " 8   NumberRealEstateLoansOrLines          150000 non-null  int64  \n",
            " 9   NumberOfTime60-89DaysPastDueNotWorse  150000 non-null  int64  \n",
            " 10  NumberOfDependents                    146076 non-null  float64\n",
            "dtypes: float64(4), int64(7)\n",
            "memory usage: 12.6 MB\n",
            "data info :\n",
            "None\n",
            "\n",
            "Null objects in each column :\n",
            "SeriousDlqin2yrs                            0\n",
            "RevolvingUtilizationOfUnsecuredLines        0\n",
            "age                                         0\n",
            "NumberOfTime30-59DaysPastDueNotWorse        0\n",
            "DebtRatio                                   0\n",
            "MonthlyIncome                           29731\n",
            "NumberOfOpenCreditLinesAndLoans             0\n",
            "NumberOfTimes90DaysLate                     0\n",
            "NumberRealEstateLoansOrLines                0\n",
            "NumberOfTime60-89DaysPastDueNotWorse        0\n",
            "NumberOfDependents                       3924\n",
            "dtype: int64\n",
            "\n",
            "Duplicate rows in data :\n",
            "True\n",
            "\n"
          ]
        }
      ]
    },
    {
      "cell_type": "markdown",
      "metadata": {
        "id": "christian-hamilton"
      },
      "source": [
        "### Pre-processing (1 point)"
      ],
      "id": "christian-hamilton"
    },
    {
      "cell_type": "code",
      "metadata": {
        "colab": {
          "base_uri": "https://localhost:8080/",
          "height": 334
        },
        "id": "Wb-aVkDv9VI6",
        "outputId": "25aff31b-db9e-427f-b765-0aa6776f1c3e"
      },
      "source": [
        "df.describe()"
      ],
      "id": "Wb-aVkDv9VI6",
      "execution_count": null,
      "outputs": [
        {
          "output_type": "execute_result",
          "data": {
            "text/html": [
              "<div>\n",
              "<style scoped>\n",
              "    .dataframe tbody tr th:only-of-type {\n",
              "        vertical-align: middle;\n",
              "    }\n",
              "\n",
              "    .dataframe tbody tr th {\n",
              "        vertical-align: top;\n",
              "    }\n",
              "\n",
              "    .dataframe thead th {\n",
              "        text-align: right;\n",
              "    }\n",
              "</style>\n",
              "<table border=\"1\" class=\"dataframe\">\n",
              "  <thead>\n",
              "    <tr style=\"text-align: right;\">\n",
              "      <th></th>\n",
              "      <th>SeriousDlqin2yrs</th>\n",
              "      <th>RevolvingUtilizationOfUnsecuredLines</th>\n",
              "      <th>age</th>\n",
              "      <th>NumberOfTime30-59DaysPastDueNotWorse</th>\n",
              "      <th>DebtRatio</th>\n",
              "      <th>MonthlyIncome</th>\n",
              "      <th>NumberOfOpenCreditLinesAndLoans</th>\n",
              "      <th>NumberOfTimes90DaysLate</th>\n",
              "      <th>NumberRealEstateLoansOrLines</th>\n",
              "      <th>NumberOfTime60-89DaysPastDueNotWorse</th>\n",
              "      <th>NumberOfDependents</th>\n",
              "    </tr>\n",
              "  </thead>\n",
              "  <tbody>\n",
              "    <tr>\n",
              "      <th>count</th>\n",
              "      <td>150000.000000</td>\n",
              "      <td>150000.000000</td>\n",
              "      <td>150000.000000</td>\n",
              "      <td>150000.000000</td>\n",
              "      <td>150000.000000</td>\n",
              "      <td>1.202690e+05</td>\n",
              "      <td>150000.000000</td>\n",
              "      <td>150000.000000</td>\n",
              "      <td>150000.000000</td>\n",
              "      <td>150000.000000</td>\n",
              "      <td>146076.000000</td>\n",
              "    </tr>\n",
              "    <tr>\n",
              "      <th>mean</th>\n",
              "      <td>0.066840</td>\n",
              "      <td>6.048438</td>\n",
              "      <td>52.295207</td>\n",
              "      <td>0.421033</td>\n",
              "      <td>353.005076</td>\n",
              "      <td>6.670221e+03</td>\n",
              "      <td>8.452760</td>\n",
              "      <td>0.265973</td>\n",
              "      <td>1.018240</td>\n",
              "      <td>0.240387</td>\n",
              "      <td>0.757222</td>\n",
              "    </tr>\n",
              "    <tr>\n",
              "      <th>std</th>\n",
              "      <td>0.249746</td>\n",
              "      <td>249.755371</td>\n",
              "      <td>14.771866</td>\n",
              "      <td>4.192781</td>\n",
              "      <td>2037.818523</td>\n",
              "      <td>1.438467e+04</td>\n",
              "      <td>5.145951</td>\n",
              "      <td>4.169304</td>\n",
              "      <td>1.129771</td>\n",
              "      <td>4.155179</td>\n",
              "      <td>1.115086</td>\n",
              "    </tr>\n",
              "    <tr>\n",
              "      <th>min</th>\n",
              "      <td>0.000000</td>\n",
              "      <td>0.000000</td>\n",
              "      <td>0.000000</td>\n",
              "      <td>0.000000</td>\n",
              "      <td>0.000000</td>\n",
              "      <td>0.000000e+00</td>\n",
              "      <td>0.000000</td>\n",
              "      <td>0.000000</td>\n",
              "      <td>0.000000</td>\n",
              "      <td>0.000000</td>\n",
              "      <td>0.000000</td>\n",
              "    </tr>\n",
              "    <tr>\n",
              "      <th>25%</th>\n",
              "      <td>0.000000</td>\n",
              "      <td>0.029867</td>\n",
              "      <td>41.000000</td>\n",
              "      <td>0.000000</td>\n",
              "      <td>0.175074</td>\n",
              "      <td>3.400000e+03</td>\n",
              "      <td>5.000000</td>\n",
              "      <td>0.000000</td>\n",
              "      <td>0.000000</td>\n",
              "      <td>0.000000</td>\n",
              "      <td>0.000000</td>\n",
              "    </tr>\n",
              "    <tr>\n",
              "      <th>50%</th>\n",
              "      <td>0.000000</td>\n",
              "      <td>0.154181</td>\n",
              "      <td>52.000000</td>\n",
              "      <td>0.000000</td>\n",
              "      <td>0.366508</td>\n",
              "      <td>5.400000e+03</td>\n",
              "      <td>8.000000</td>\n",
              "      <td>0.000000</td>\n",
              "      <td>1.000000</td>\n",
              "      <td>0.000000</td>\n",
              "      <td>0.000000</td>\n",
              "    </tr>\n",
              "    <tr>\n",
              "      <th>75%</th>\n",
              "      <td>0.000000</td>\n",
              "      <td>0.559046</td>\n",
              "      <td>63.000000</td>\n",
              "      <td>0.000000</td>\n",
              "      <td>0.868254</td>\n",
              "      <td>8.249000e+03</td>\n",
              "      <td>11.000000</td>\n",
              "      <td>0.000000</td>\n",
              "      <td>2.000000</td>\n",
              "      <td>0.000000</td>\n",
              "      <td>1.000000</td>\n",
              "    </tr>\n",
              "    <tr>\n",
              "      <th>max</th>\n",
              "      <td>1.000000</td>\n",
              "      <td>50708.000000</td>\n",
              "      <td>109.000000</td>\n",
              "      <td>98.000000</td>\n",
              "      <td>329664.000000</td>\n",
              "      <td>3.008750e+06</td>\n",
              "      <td>58.000000</td>\n",
              "      <td>98.000000</td>\n",
              "      <td>54.000000</td>\n",
              "      <td>98.000000</td>\n",
              "      <td>20.000000</td>\n",
              "    </tr>\n",
              "  </tbody>\n",
              "</table>\n",
              "</div>"
            ],
            "text/plain": [
              "       SeriousDlqin2yrs  RevolvingUtilizationOfUnsecuredLines            age  NumberOfTime30-59DaysPastDueNotWorse      DebtRatio  MonthlyIncome  NumberOfOpenCreditLinesAndLoans  NumberOfTimes90DaysLate  NumberRealEstateLoansOrLines  NumberOfTime60-89DaysPastDueNotWorse  NumberOfDependents\n",
              "count     150000.000000                         150000.000000  150000.000000                         150000.000000  150000.000000   1.202690e+05                    150000.000000            150000.000000                 150000.000000                         150000.000000       146076.000000\n",
              "mean           0.066840                              6.048438      52.295207                              0.421033     353.005076   6.670221e+03                         8.452760                 0.265973                      1.018240                              0.240387            0.757222\n",
              "std            0.249746                            249.755371      14.771866                              4.192781    2037.818523   1.438467e+04                         5.145951                 4.169304                      1.129771                              4.155179            1.115086\n",
              "min            0.000000                              0.000000       0.000000                              0.000000       0.000000   0.000000e+00                         0.000000                 0.000000                      0.000000                              0.000000            0.000000\n",
              "25%            0.000000                              0.029867      41.000000                              0.000000       0.175074   3.400000e+03                         5.000000                 0.000000                      0.000000                              0.000000            0.000000\n",
              "50%            0.000000                              0.154181      52.000000                              0.000000       0.366508   5.400000e+03                         8.000000                 0.000000                      1.000000                              0.000000            0.000000\n",
              "75%            0.000000                              0.559046      63.000000                              0.000000       0.868254   8.249000e+03                        11.000000                 0.000000                      2.000000                              0.000000            1.000000\n",
              "max            1.000000                          50708.000000     109.000000                             98.000000  329664.000000   3.008750e+06                        58.000000                98.000000                     54.000000                             98.000000           20.000000"
            ]
          },
          "metadata": {},
          "execution_count": 68
        }
      ]
    },
    {
      "cell_type": "code",
      "metadata": {
        "colab": {
          "base_uri": "https://localhost:8080/"
        },
        "id": "Q4YLgM5o3FoL",
        "outputId": "a685b830-e3de-44d8-8a79-642429f0874e"
      },
      "source": [
        "df = df[df['age']>18]   # Legal age for a person to be a borrower \n",
        "df=df[df[\"RevolvingUtilizationOfUnsecuredLines\"]<100] # percentage can't be more than 100 \n",
        "df.shape"
      ],
      "id": "Q4YLgM5o3FoL",
      "execution_count": null,
      "outputs": [
        {
          "output_type": "execute_result",
          "data": {
            "text/plain": [
              "(149776, 11)"
            ]
          },
          "metadata": {},
          "execution_count": 69
        }
      ]
    },
    {
      "cell_type": "markdown",
      "metadata": {
        "id": "global-decision"
      },
      "source": [
        "#### Remove unwanted columns"
      ],
      "id": "global-decision"
    },
    {
      "cell_type": "code",
      "metadata": {
        "colab": {
          "base_uri": "https://localhost:8080/"
        },
        "id": "x_4sRblt2_s0",
        "outputId": "05541817-117b-4f10-a343-a744b9a2cf78"
      },
      "source": [
        "def duplicate_drop(df):\n",
        "  print(f\"Duplicate objects in dataframe before :\\n{df.duplicated().value_counts()}\\n\")\n",
        "  #df.dropna(thresh=len(df)*0.9, axis=1)  #drop columns in which more than 10% of values missing\n",
        "  df=df.drop_duplicates()\n",
        "  print(f\"Duplicate objects in dataframe after :\\n{df.duplicated().value_counts()}\\n\")\n",
        "  return df\n",
        "\n",
        "df=duplicate_drop(df)"
      ],
      "id": "x_4sRblt2_s0",
      "execution_count": null,
      "outputs": [
        {
          "output_type": "stream",
          "name": "stdout",
          "text": [
            "Duplicate objects in dataframe before :\n",
            "False    149167\n",
            "True        609\n",
            "dtype: int64\n",
            "\n",
            "Duplicate objects in dataframe after :\n",
            "False    149167\n",
            "dtype: int64\n",
            "\n"
          ]
        }
      ]
    },
    {
      "cell_type": "markdown",
      "metadata": {
        "id": "usual-elimination"
      },
      "source": [
        "#### Handle the missing data\n",
        "\n",
        "Find how many null values in the dataset and fill with mean or remove them"
      ],
      "id": "usual-elimination"
    },
    {
      "cell_type": "code",
      "metadata": {
        "id": "heated-findings",
        "colab": {
          "base_uri": "https://localhost:8080/"
        },
        "outputId": "3750bd72-38a9-4f46-e6fa-3fb5df63c9e7"
      },
      "source": [
        "#Handling  missing value by column\n",
        "def miss_column(df):\n",
        "  print(f\"Missing objects in dataframe before :\\n{np.any(df.isna())}\\n\")\n",
        "  #df.dropna(thresh=len(df)*0.9, axis=1)  #drop columns in which more than 10% of values missing\n",
        "  miss_col=list(df.columns[df.isnull().any()])\n",
        "  print(f\"Missing columns in dataframe are :\\n{miss_col}\\n\")  \n",
        "  for col in miss_col:\n",
        "    df[col].fillna(df[col].median(),inplace=True)\n",
        "    #df.dropna(subset=[col],inplace=True) # or use fill \n",
        "  print(f\"Missing objects in dataframe after :\\n{np.any(df.isna())}\\n\")\n",
        "  return df\n",
        "\n",
        "df=miss_column(df)\n"
      ],
      "id": "heated-findings",
      "execution_count": null,
      "outputs": [
        {
          "output_type": "stream",
          "name": "stdout",
          "text": [
            "Missing objects in dataframe before :\n",
            "True\n",
            "\n",
            "Missing columns in dataframe are :\n",
            "['MonthlyIncome', 'NumberOfDependents']\n",
            "\n",
            "Missing objects in dataframe after :\n",
            "False\n",
            "\n"
          ]
        }
      ]
    },
    {
      "cell_type": "markdown",
      "metadata": {
        "id": "RQu7--27XaJb"
      },
      "source": [
        "**Note:** Real world plot data to see the data behaviour and then decide on strategy. Read about impact of skewness of distribution on  mean and median "
      ],
      "id": "RQu7--27XaJb"
    },
    {
      "cell_type": "code",
      "metadata": {
        "colab": {
          "base_uri": "https://localhost:8080/"
        },
        "id": "cmfITelzXn3N",
        "outputId": "0d615efd-ad37-4321-bdbf-25188318d934"
      },
      "source": [
        "df[\"NumberOfDependents\"]=df[\"NumberOfDependents\"].astype('int') #only after handling missing value \n",
        "df.shape"
      ],
      "id": "cmfITelzXn3N",
      "execution_count": null,
      "outputs": [
        {
          "output_type": "execute_result",
          "data": {
            "text/plain": [
              "(149167, 11)"
            ]
          },
          "metadata": {},
          "execution_count": 72
        }
      ]
    },
    {
      "cell_type": "markdown",
      "metadata": {
        "id": "hispanic-reply"
      },
      "source": [
        "### EDA &  Visualization ( 1 point)"
      ],
      "id": "hispanic-reply"
    },
    {
      "cell_type": "code",
      "metadata": {
        "id": "gISeFyitGs7O",
        "colab": {
          "base_uri": "https://localhost:8080/",
          "height": 1000
        },
        "outputId": "e7e134f4-c1f8-4832-d4c2-cdadbcadd4ad"
      },
      "source": [
        "numeric_cols = list(df.select_dtypes(['float64','int']).columns)\n",
        "df[numeric_cols].hist(figsize=(16, 20), bins=50, xlabelsize=8, ylabelsize=8)"
      ],
      "id": "gISeFyitGs7O",
      "execution_count": null,
      "outputs": [
        {
          "output_type": "execute_result",
          "data": {
            "text/plain": [
              "array([[<matplotlib.axes._subplots.AxesSubplot object at 0x7f213f46b850>,\n",
              "        <matplotlib.axes._subplots.AxesSubplot object at 0x7f213f458d90>],\n",
              "       [<matplotlib.axes._subplots.AxesSubplot object at 0x7f213cb29e10>,\n",
              "        <matplotlib.axes._subplots.AxesSubplot object at 0x7f213f417450>],\n",
              "       [<matplotlib.axes._subplots.AxesSubplot object at 0x7f213ca3e310>,\n",
              "        <matplotlib.axes._subplots.AxesSubplot object at 0x7f212bc197d0>]],\n",
              "      dtype=object)"
            ]
          },
          "metadata": {},
          "execution_count": 107
        },
        {
          "output_type": "display_data",
          "data": {
            "image/png": "[encoded data removed]",
            "text/plain": [
              "<Figure size 1152x1440 with 6 Axes>"
            ]
          },
          "metadata": {
            "needs_background": "light"
          }
        }
      ]
    },
    {
      "cell_type": "markdown",
      "metadata": {
        "id": "standing-cheese"
      },
      "source": [
        "#### Calculate the percentage of the target lebels and visualize with a graph"
      ],
      "id": "standing-cheese"
    },
    {
      "cell_type": "code",
      "metadata": {
        "id": "attractive-hands",
        "colab": {
          "base_uri": "https://localhost:8080/",
          "height": 397
        },
        "outputId": "1af6eb8f-1b6f-4508-9beb-dbda5d670f64"
      },
      "source": [
        "print(f\"Percentage of the target labels :\\n{(df.SeriousDlqin2yrs.value_counts() / len(df) ) * 100}\\n\")\n",
        "# Target count plot\n",
        "plt.figure()\n",
        "sns.countplot('SeriousDlqin2yrs',data=df)\n",
        "plt.xlabel(\"Target Label\")\n",
        "plt.ylabel(\"Count \")\n",
        "plt.title(\"Imbalance Plotting\")\n",
        "plt.show()"
      ],
      "id": "attractive-hands",
      "execution_count": null,
      "outputs": [
        {
          "output_type": "stream",
          "name": "stdout",
          "text": [
            "Percentage of the target labels :\n",
            "0    93.297445\n",
            "1     6.702555\n",
            "Name: SeriousDlqin2yrs, dtype: float64\n",
            "\n"
          ]
        },
        {
          "output_type": "execute_result",
          "data": {
            "text/plain": [
              "<Figure size 432x288 with 0 Axes>"
            ]
          },
          "metadata": {},
          "execution_count": 73
        },
        {
          "output_type": "execute_result",
          "data": {
            "text/plain": [
              "<matplotlib.axes._subplots.AxesSubplot at 0x7f213cd65bd0>"
            ]
          },
          "metadata": {},
          "execution_count": 73
        },
        {
          "output_type": "execute_result",
          "data": {
            "text/plain": [
              "Text(0.5, 0, 'Target Label')"
            ]
          },
          "metadata": {},
          "execution_count": 73
        },
        {
          "output_type": "execute_result",
          "data": {
            "text/plain": [
              "Text(0, 0.5, 'Count ')"
            ]
          },
          "metadata": {},
          "execution_count": 73
        },
        {
          "output_type": "execute_result",
          "data": {
            "text/plain": [
              "Text(0.5, 1.0, 'Imbalance Plotting')"
            ]
          },
          "metadata": {},
          "execution_count": 73
        },
        {
          "output_type": "display_data",
          "data": {
            "image/png": "[encoded data removed]",
            "text/plain": [
              "<Figure size 432x288 with 1 Axes>"
            ]
          },
          "metadata": {
            "needs_background": "light"
          }
        }
      ]
    },
    {
      "cell_type": "code",
      "metadata": {
        "colab": {
          "base_uri": "https://localhost:8080/",
          "height": 366
        },
        "id": "qCZ3nk2KFTP4",
        "outputId": "74b2a3fe-c16a-4e76-c794-535a37df4e93"
      },
      "source": [
        "plt.pie(df['SeriousDlqin2yrs'].value_counts(normalize=True)*100,labels=['REPAYER (TARGET=0)','DEFAULTER (TARGET=1)'],explode=(0,0.05),autopct='%1.f%%')\n",
        "plt.title('TARGET Variable - DEFAULTER Vs REPAYER')\n",
        "plt.show()"
      ],
      "id": "qCZ3nk2KFTP4",
      "execution_count": null,
      "outputs": [
        {
          "output_type": "execute_result",
          "data": {
            "text/plain": [
              "([<matplotlib.patches.Wedge at 0x7f213ccf9710>,\n",
              "  <matplotlib.patches.Wedge at 0x7f213ccf9f10>],\n",
              " [Text(-1.075703828057672, 0.22991579828726566, 'REPAYER (TARGET=0)'),\n",
              "  Text(1.124599462231932, -0.24036649006808258, 'DEFAULTER (TARGET=1)')],\n",
              " [Text(-0.586747542576912, 0.12540861724759944, '93%'),\n",
              "  Text(0.6356431743050049, -0.13585932047326407, '7%')])"
            ]
          },
          "metadata": {},
          "execution_count": 74
        },
        {
          "output_type": "execute_result",
          "data": {
            "text/plain": [
              "Text(0.5, 1.0, 'TARGET Variable - DEFAULTER Vs REPAYER')"
            ]
          },
          "metadata": {},
          "execution_count": 74
        },
        {
          "output_type": "display_data",
          "data": {
            "image/png": "[encoded data removed]",
            "text/plain": [
              "<Figure size 432x288 with 1 Axes>"
            ]
          },
          "metadata": {}
        }
      ]
    },
    {
      "cell_type": "markdown",
      "metadata": {
        "id": "98tVe_Eso5Tp"
      },
      "source": [
        "**Inference:** \n",
        " In credit scoring,Target has a binary value of either 1 or 0. A value of 1 means that the borrower is delinquent and has defaulted on his loans for the last 2 years, while a value of 0 means that the borrower is a good customer and repays his debts on time for the last two years.i.e Person experienced 90 days past due delinquency or worse (Type: Y/N).\n",
        " \n",
        "  Very few i.e approx 7% of borrowers experienced financial distress"
      ],
      "id": "98tVe_Eso5Tp"
    },
    {
      "cell_type": "markdown",
      "metadata": {
        "id": "satisfactory-stopping"
      },
      "source": [
        "#### Plot the distribution of SeriousDlqin2yrs by age"
      ],
      "id": "satisfactory-stopping"
    },
    {
      "cell_type": "code",
      "metadata": {
        "colab": {
          "base_uri": "https://localhost:8080/"
        },
        "id": "irgB_zX3L7Nz",
        "outputId": "bb29633f-6ac0-4b6e-c16a-d5f50d220afa"
      },
      "source": [
        "df['MonthlyIncome'].quantile([0,0.2,0.3,0.7,0.92,1])"
      ],
      "id": "irgB_zX3L7Nz",
      "execution_count": null,
      "outputs": [
        {
          "output_type": "execute_result",
          "data": {
            "text/plain": [
              "0.00          0.0\n",
              "0.20       3400.0\n",
              "0.30       4333.0\n",
              "0.70       6640.0\n",
              "0.92      11666.0\n",
              "1.00    3008750.0\n",
              "Name: MonthlyIncome, dtype: float64"
            ]
          },
          "metadata": {},
          "execution_count": 75
        }
      ]
    },
    {
      "cell_type": "code",
      "metadata": {
        "id": "v7uxd9MVMS5l"
      },
      "source": [
        "#binning income"
      ],
      "id": "v7uxd9MVMS5l",
      "execution_count": null,
      "outputs": []
    },
    {
      "cell_type": "code",
      "metadata": {
        "colab": {
          "base_uri": "https://localhost:8080/"
        },
        "id": "xr-G8BRW_vSR",
        "outputId": "780ad8e5-036c-4a76-e0fb-bc2638e861e2"
      },
      "source": [
        "df['age'].quantile([0,0.2,0.3,0.7,0.92,1])"
      ],
      "id": "xr-G8BRW_vSR",
      "execution_count": null,
      "outputs": [
        {
          "output_type": "execute_result",
          "data": {
            "text/plain": [
              "0.00     21.0\n",
              "0.20     39.0\n",
              "0.30     44.0\n",
              "0.70     61.0\n",
              "0.92     74.0\n",
              "1.00    109.0\n",
              "Name: age, dtype: float64"
            ]
          },
          "metadata": {},
          "execution_count": 77
        }
      ]
    },
    {
      "cell_type": "code",
      "metadata": {
        "id": "multiple-series",
        "colab": {
          "base_uri": "https://localhost:8080/",
          "height": 324
        },
        "outputId": "ae9550e5-1034-4aff-b761-243914ce9b98"
      },
      "source": [
        "#Binning of Borrowers Age into Age group\n",
        "bin_labels=['Too young \\n(21-39)','young \\n(39-44)','Adult \\n(44-61)','Veteran \\n(61-74)','Senior Citizen \\n(74-109)']\n",
        "df['age_group']=pd.qcut(df['age'],\n",
        "                         q=[0,0.2,0.3,0.7,0.92,1],\n",
        "                         labels=bin_labels)\n",
        "# Target v/s age group plot\n",
        "plt.figure()\n",
        "sns.barplot(x='age_group',y='SeriousDlqin2yrs',data=df)\n",
        "plt.xlabel(\"Age Group\")\n",
        "plt.ylabel(\"Target  \")\n",
        "plt.title(\"Distribution of Target by age group\")\n",
        "plt.show()"
      ],
      "id": "multiple-series",
      "execution_count": null,
      "outputs": [
        {
          "output_type": "execute_result",
          "data": {
            "text/plain": [
              "<Figure size 432x288 with 0 Axes>"
            ]
          },
          "metadata": {},
          "execution_count": 78
        },
        {
          "output_type": "execute_result",
          "data": {
            "text/plain": [
              "<matplotlib.axes._subplots.AxesSubplot at 0x7f213f357710>"
            ]
          },
          "metadata": {},
          "execution_count": 78
        },
        {
          "output_type": "execute_result",
          "data": {
            "text/plain": [
              "Text(0.5, 0, 'Age Group')"
            ]
          },
          "metadata": {},
          "execution_count": 78
        },
        {
          "output_type": "execute_result",
          "data": {
            "text/plain": [
              "Text(0, 0.5, 'Target  ')"
            ]
          },
          "metadata": {},
          "execution_count": 78
        },
        {
          "output_type": "execute_result",
          "data": {
            "text/plain": [
              "Text(0.5, 1.0, 'Distribution of Target by age group')"
            ]
          },
          "metadata": {},
          "execution_count": 78
        },
        {
          "output_type": "display_data",
          "data": {
            "image/png": "[encoded data removed]",
            "text/plain": [
              "<Figure size 432x288 with 1 Axes>"
            ]
          },
          "metadata": {
            "needs_background": "light"
          }
        }
      ]
    },
    {
      "cell_type": "code",
      "metadata": {
        "id": "e7f3dHGSpegN",
        "colab": {
          "base_uri": "https://localhost:8080/",
          "height": 626
        },
        "outputId": "978be55e-43a6-415f-a9a2-bf0c20da75e6"
      },
      "source": [
        "#dropping age column and label encoding age_group column\n",
        "df.drop(['age'],axis=1) \n",
        "from sklearn.preprocessing import LabelEncoder\n",
        "encoder = LabelEncoder()\n",
        "df_cat = df[\"age_group\"]\n",
        "df[\"age_group\"] = encoder.fit_transform(df_cat)"
      ],
      "id": "e7f3dHGSpegN",
      "execution_count": null,
      "outputs": [
        {
          "output_type": "execute_result",
          "data": {
            "text/html": [
              "<div>\n",
              "<style scoped>\n",
              "    .dataframe tbody tr th:only-of-type {\n",
              "        vertical-align: middle;\n",
              "    }\n",
              "\n",
              "    .dataframe tbody tr th {\n",
              "        vertical-align: top;\n",
              "    }\n",
              "\n",
              "    .dataframe thead th {\n",
              "        text-align: right;\n",
              "    }\n",
              "</style>\n",
              "<table border=\"1\" class=\"dataframe\">\n",
              "  <thead>\n",
              "    <tr style=\"text-align: right;\">\n",
              "      <th></th>\n",
              "      <th>SeriousDlqin2yrs</th>\n",
              "      <th>RevolvingUtilizationOfUnsecuredLines</th>\n",
              "      <th>NumberOfTime30-59DaysPastDueNotWorse</th>\n",
              "      <th>DebtRatio</th>\n",
              "      <th>MonthlyIncome</th>\n",
              "      <th>NumberOfOpenCreditLinesAndLoans</th>\n",
              "      <th>NumberOfTimes90DaysLate</th>\n",
              "      <th>NumberRealEstateLoansOrLines</th>\n",
              "      <th>NumberOfTime60-89DaysPastDueNotWorse</th>\n",
              "      <th>NumberOfDependents</th>\n",
              "      <th>age_group</th>\n",
              "    </tr>\n",
              "  </thead>\n",
              "  <tbody>\n",
              "    <tr>\n",
              "      <th>0</th>\n",
              "      <td>1</td>\n",
              "      <td>0.766127</td>\n",
              "      <td>2</td>\n",
              "      <td>0.802982</td>\n",
              "      <td>9120.0</td>\n",
              "      <td>13</td>\n",
              "      <td>0</td>\n",
              "      <td>6</td>\n",
              "      <td>0</td>\n",
              "      <td>2</td>\n",
              "      <td>Adult \\n(44-61)</td>\n",
              "    </tr>\n",
              "    <tr>\n",
              "      <th>1</th>\n",
              "      <td>0</td>\n",
              "      <td>0.957151</td>\n",
              "      <td>0</td>\n",
              "      <td>0.121876</td>\n",
              "      <td>2600.0</td>\n",
              "      <td>4</td>\n",
              "      <td>0</td>\n",
              "      <td>0</td>\n",
              "      <td>0</td>\n",
              "      <td>1</td>\n",
              "      <td>young \\n(39-44)</td>\n",
              "    </tr>\n",
              "    <tr>\n",
              "      <th>2</th>\n",
              "      <td>0</td>\n",
              "      <td>0.658180</td>\n",
              "      <td>1</td>\n",
              "      <td>0.085113</td>\n",
              "      <td>3042.0</td>\n",
              "      <td>2</td>\n",
              "      <td>1</td>\n",
              "      <td>0</td>\n",
              "      <td>0</td>\n",
              "      <td>0</td>\n",
              "      <td>Too young \\n(21-39)</td>\n",
              "    </tr>\n",
              "    <tr>\n",
              "      <th>3</th>\n",
              "      <td>0</td>\n",
              "      <td>0.233810</td>\n",
              "      <td>0</td>\n",
              "      <td>0.036050</td>\n",
              "      <td>3300.0</td>\n",
              "      <td>5</td>\n",
              "      <td>0</td>\n",
              "      <td>0</td>\n",
              "      <td>0</td>\n",
              "      <td>0</td>\n",
              "      <td>Too young \\n(21-39)</td>\n",
              "    </tr>\n",
              "    <tr>\n",
              "      <th>4</th>\n",
              "      <td>0</td>\n",
              "      <td>0.907239</td>\n",
              "      <td>1</td>\n",
              "      <td>0.024926</td>\n",
              "      <td>63588.0</td>\n",
              "      <td>7</td>\n",
              "      <td>0</td>\n",
              "      <td>1</td>\n",
              "      <td>0</td>\n",
              "      <td>0</td>\n",
              "      <td>Adult \\n(44-61)</td>\n",
              "    </tr>\n",
              "    <tr>\n",
              "      <th>...</th>\n",
              "      <td>...</td>\n",
              "      <td>...</td>\n",
              "      <td>...</td>\n",
              "      <td>...</td>\n",
              "      <td>...</td>\n",
              "      <td>...</td>\n",
              "      <td>...</td>\n",
              "      <td>...</td>\n",
              "      <td>...</td>\n",
              "      <td>...</td>\n",
              "      <td>...</td>\n",
              "    </tr>\n",
              "    <tr>\n",
              "      <th>149995</th>\n",
              "      <td>0</td>\n",
              "      <td>0.040674</td>\n",
              "      <td>0</td>\n",
              "      <td>0.225131</td>\n",
              "      <td>2100.0</td>\n",
              "      <td>4</td>\n",
              "      <td>0</td>\n",
              "      <td>1</td>\n",
              "      <td>0</td>\n",
              "      <td>0</td>\n",
              "      <td>Veteran \\n(61-74)</td>\n",
              "    </tr>\n",
              "    <tr>\n",
              "      <th>149996</th>\n",
              "      <td>0</td>\n",
              "      <td>0.299745</td>\n",
              "      <td>0</td>\n",
              "      <td>0.716562</td>\n",
              "      <td>5584.0</td>\n",
              "      <td>4</td>\n",
              "      <td>0</td>\n",
              "      <td>1</td>\n",
              "      <td>0</td>\n",
              "      <td>2</td>\n",
              "      <td>young \\n(39-44)</td>\n",
              "    </tr>\n",
              "    <tr>\n",
              "      <th>149997</th>\n",
              "      <td>0</td>\n",
              "      <td>0.246044</td>\n",
              "      <td>0</td>\n",
              "      <td>3870.000000</td>\n",
              "      <td>5400.0</td>\n",
              "      <td>18</td>\n",
              "      <td>0</td>\n",
              "      <td>1</td>\n",
              "      <td>0</td>\n",
              "      <td>0</td>\n",
              "      <td>Adult \\n(44-61)</td>\n",
              "    </tr>\n",
              "    <tr>\n",
              "      <th>149998</th>\n",
              "      <td>0</td>\n",
              "      <td>0.000000</td>\n",
              "      <td>0</td>\n",
              "      <td>0.000000</td>\n",
              "      <td>5716.0</td>\n",
              "      <td>4</td>\n",
              "      <td>0</td>\n",
              "      <td>0</td>\n",
              "      <td>0</td>\n",
              "      <td>0</td>\n",
              "      <td>Too young \\n(21-39)</td>\n",
              "    </tr>\n",
              "    <tr>\n",
              "      <th>149999</th>\n",
              "      <td>0</td>\n",
              "      <td>0.850283</td>\n",
              "      <td>0</td>\n",
              "      <td>0.249908</td>\n",
              "      <td>8158.0</td>\n",
              "      <td>8</td>\n",
              "      <td>0</td>\n",
              "      <td>2</td>\n",
              "      <td>0</td>\n",
              "      <td>0</td>\n",
              "      <td>Veteran \\n(61-74)</td>\n",
              "    </tr>\n",
              "  </tbody>\n",
              "</table>\n",
              "<p>149167 rows × 11 columns</p>\n",
              "</div>"
            ],
            "text/plain": [
              "        SeriousDlqin2yrs  RevolvingUtilizationOfUnsecuredLines  NumberOfTime30-59DaysPastDueNotWorse    DebtRatio  MonthlyIncome  NumberOfOpenCreditLinesAndLoans  NumberOfTimes90DaysLate  NumberRealEstateLoansOrLines  NumberOfTime60-89DaysPastDueNotWorse  NumberOfDependents            age_group\n",
              "0                      1                              0.766127                                     2     0.802982         9120.0                               13                        0                             6                                     0                   2      Adult \\n(44-61)\n",
              "1                      0                              0.957151                                     0     0.121876         2600.0                                4                        0                             0                                     0                   1      young \\n(39-44)\n",
              "2                      0                              0.658180                                     1     0.085113         3042.0                                2                        1                             0                                     0                   0  Too young \\n(21-39)\n",
              "3                      0                              0.233810                                     0     0.036050         3300.0                                5                        0                             0                                     0                   0  Too young \\n(21-39)\n",
              "4                      0                              0.907239                                     1     0.024926        63588.0                                7                        0                             1                                     0                   0      Adult \\n(44-61)\n",
              "...                  ...                                   ...                                   ...          ...            ...                              ...                      ...                           ...                                   ...                 ...                  ...\n",
              "149995                 0                              0.040674                                     0     0.225131         2100.0                                4                        0                             1                                     0                   0    Veteran \\n(61-74)\n",
              "149996                 0                              0.299745                                     0     0.716562         5584.0                                4                        0                             1                                     0                   2      young \\n(39-44)\n",
              "149997                 0                              0.246044                                     0  3870.000000         5400.0                               18                        0                             1                                     0                   0      Adult \\n(44-61)\n",
              "149998                 0                              0.000000                                     0     0.000000         5716.0                                4                        0                             0                                     0                   0  Too young \\n(21-39)\n",
              "149999                 0                              0.850283                                     0     0.249908         8158.0                                8                        0                             2                                     0                   0    Veteran \\n(61-74)\n",
              "\n",
              "[149167 rows x 11 columns]"
            ]
          },
          "metadata": {},
          "execution_count": 79
        }
      ]
    },
    {
      "cell_type": "markdown",
      "metadata": {
        "id": "promotional-rolling"
      },
      "source": [
        "#### Calculate the correlation and plot the heatmap"
      ],
      "id": "promotional-rolling"
    },
    {
      "cell_type": "code",
      "metadata": {
        "id": "studied-candidate",
        "colab": {
          "base_uri": "https://localhost:8080/",
          "height": 725
        },
        "outputId": "a9243685-206d-49f8-d2ad-fac7c6d66018"
      },
      "source": [
        "# YOUR CODE HERE\n",
        "def Correlation(df, bar=0.9):\n",
        "  # Creates correlation matrix\n",
        "  Corr = df.corr()\n",
        "  # Set Up Mask To Hide Upper Triangle\n",
        "  mask = np.triu(np.ones_like(Corr, dtype=bool))\n",
        "  tri_df = Corr.mask(mask)\n",
        "  # Finding features with correlation value more than specified threshold value (bar=0.9)\n",
        "  highly_cor_col = [col for col in tri_df.columns if any(tri_df[col] > bar )]\n",
        "  print(\"Highly correlated columns\",highly_cor_col)\n",
        "  #Heat map for correlation matrix of attributes\n",
        "  fig,ax=plt.subplots(figsize=(15,8))\n",
        "  sns.heatmap(Corr,mask=mask,vmax=1.00,vmin=-1.00,square=True,annot=True,ax=ax)\n",
        "  ax.set_title('Correlation matrix of attributes')\n",
        "  plt.show()\n",
        "\n",
        "  # Drop the highly correlated columns\n",
        "  #reduced_df = df.drop(highly_cor_col, axis = 1)\n",
        "  #print(\"shape of total data\",df.shape,\"shape of reduced data\",reduced_df.shape)\n",
        "  return df\n",
        "  \n",
        "df=Correlation(df)"
      ],
      "id": "studied-candidate",
      "execution_count": null,
      "outputs": [
        {
          "output_type": "stream",
          "name": "stdout",
          "text": [
            "Highly correlated columns ['NumberOfTime30-59DaysPastDueNotWorse', 'NumberOfTimes90DaysLate']\n"
          ]
        },
        {
          "output_type": "display_data",
          "data": {
            "image/png": "[encoded data removed]",
            "text/plain": [
              "<Figure size 1080x576 with 2 Axes>"
            ]
          },
          "metadata": {
            "needs_background": "light"
          }
        }
      ]
    },
    {
      "cell_type": "markdown",
      "metadata": {
        "id": "operational-minute"
      },
      "source": [
        "### Data Engineering (2 points)"
      ],
      "id": "operational-minute"
    },
    {
      "cell_type": "code",
      "metadata": {
        "colab": {
          "base_uri": "https://localhost:8080/"
        },
        "id": "g4eu6iDs-gCE",
        "outputId": "6bb91a6a-f536-4271-efe3-83f279acab38"
      },
      "source": [
        "features = df.iloc[:, 1:]\n",
        "labels = df.iloc[:, 0]\n",
        "labels.value_counts()"
      ],
      "id": "g4eu6iDs-gCE",
      "execution_count": null,
      "outputs": [
        {
          "output_type": "execute_result",
          "data": {
            "text/plain": [
              "0    139169\n",
              "1      9998\n",
              "Name: SeriousDlqin2yrs, dtype: int64"
            ]
          },
          "metadata": {},
          "execution_count": 81
        }
      ]
    },
    {
      "cell_type": "markdown",
      "metadata": {
        "id": "outer-telephone"
      },
      "source": [
        "#### Weight of Evidence and Information value\n",
        "\n",
        "* Arrange the binning for each variable with different bins\n",
        "    * For eg. Age = 49, Age_quantile_range = (48, 56)\n",
        "* Calculate information value and chooose the best features based on the rules given below\n",
        "\n",
        "| Information Value |\tVariable Predictiveness |\n",
        "| --- | --- |\n",
        "| Less than 0.02\t|  Not useful for prediction |\n",
        "| 0.02 to 0.1\t| Weak predictive Power |\n",
        "|  0.1 to 0.3 | Medium predictive Power |\n",
        "| 0.3 to 0.5 | Strong predictive Power |\n",
        "| >0.5 | Suspicious Predictive Power |\n",
        "\n",
        "* Calculate Weight of evidence for the selected variables\n",
        "\n",
        "Hint: Use [xverse](https://towardsdatascience.com/introducing-xverse-a-python-package-for-feature-selection-and-transformation-17193cdcd067). It is a machine learning Python module in the space of feature engineering, feature transformation and feature selection. It provides pre-built functions for the above steps, such as binning and conversion to WoE."
      ],
      "id": "outer-telephone"
    },
    {
      "cell_type": "code",
      "metadata": {
        "id": "ordered-knock",
        "colab": {
          "base_uri": "https://localhost:8080/",
          "height": 628
        },
        "outputId": "e9c35493-fae2-4bf5-f1c2-0443de8e2a0a"
      },
      "source": [
        "# YOUR CODE HERE\n",
        "clf = WOE()\n",
        "clf.fit(features, labels)\n",
        "#clf.woe_df # weight of evidence transformation dataset. This dataset will be used in making bivariate charts as well. \n",
        "clf.iv_df #information value dataset\n"
      ],
      "id": "ordered-knock",
      "execution_count": null,
      "outputs": [
        {
          "output_type": "execute_result",
          "data": {
            "text/plain": [
              "WOE(exclude_features=None, feature_names='all', mono_cardinality_cutoff=5,\n",
              "    mono_custom_binning={'DebtRatio': array([0.0000000e+00, 2.4010132e-01, 5.7252133e-01, 3.2966400e+05]),\n",
              "                         'MonthlyIncome': array([      0.,    4679.,    6176., 3008750.]),\n",
              "                         'NumberOfDependents': array([ 0.,  1., 20.]),\n",
              "                         'NumberOfOpenCreditLinesAndLoans': array([ 0.,  6., 10., 58.]),\n",
              "                         'NumberOfTime30-59DaysPastDueNotWo...\n",
              "                                                       Interval(0.377, 95.0, closed='right'): 0.9180835576760321},\n",
              "              'age': {Interval(20.999, 45.0, closed='right'): 0.41548866197131173,\n",
              "                      Interval(45.0, 59.0, closed='right'): 0.041944834917882236,\n",
              "                      Interval(59.0, 109.0, closed='right'): -0.8022540097044343},\n",
              "              'age_group': {0: 0.014985033673204919, 1: -1.2396240996014194,\n",
              "                            2: 0.4991675085506473, 3: -0.7941694678828374,\n",
              "                            4: 0.27551617940471906}},\n",
              "    woe_prefix=None)"
            ]
          },
          "metadata": {},
          "execution_count": 82
        },
        {
          "output_type": "execute_result",
          "data": {
            "text/html": [
              "<div>\n",
              "<style scoped>\n",
              "    .dataframe tbody tr th:only-of-type {\n",
              "        vertical-align: middle;\n",
              "    }\n",
              "\n",
              "    .dataframe tbody tr th {\n",
              "        vertical-align: top;\n",
              "    }\n",
              "\n",
              "    .dataframe thead th {\n",
              "        text-align: right;\n",
              "    }\n",
              "</style>\n",
              "<table border=\"1\" class=\"dataframe\">\n",
              "  <thead>\n",
              "    <tr style=\"text-align: right;\">\n",
              "      <th></th>\n",
              "      <th>Variable_Name</th>\n",
              "      <th>Information_Value</th>\n",
              "    </tr>\n",
              "  </thead>\n",
              "  <tbody>\n",
              "    <tr>\n",
              "      <th>8</th>\n",
              "      <td>RevolvingUtilizationOfUnsecuredLines</td>\n",
              "      <td>0.938911</td>\n",
              "    </tr>\n",
              "    <tr>\n",
              "      <th>6</th>\n",
              "      <td>NumberOfTimes90DaysLate</td>\n",
              "      <td>0.484693</td>\n",
              "    </tr>\n",
              "    <tr>\n",
              "      <th>4</th>\n",
              "      <td>NumberOfTime30-59DaysPastDueNotWorse</td>\n",
              "      <td>0.470383</td>\n",
              "    </tr>\n",
              "    <tr>\n",
              "      <th>5</th>\n",
              "      <td>NumberOfTime60-89DaysPastDueNotWorse</td>\n",
              "      <td>0.265204</td>\n",
              "    </tr>\n",
              "    <tr>\n",
              "      <th>10</th>\n",
              "      <td>age_group</td>\n",
              "      <td>0.235526</td>\n",
              "    </tr>\n",
              "    <tr>\n",
              "      <th>9</th>\n",
              "      <td>age</td>\n",
              "      <td>0.219148</td>\n",
              "    </tr>\n",
              "    <tr>\n",
              "      <th>1</th>\n",
              "      <td>MonthlyIncome</td>\n",
              "      <td>0.062309</td>\n",
              "    </tr>\n",
              "    <tr>\n",
              "      <th>3</th>\n",
              "      <td>NumberOfOpenCreditLinesAndLoans</td>\n",
              "      <td>0.024575</td>\n",
              "    </tr>\n",
              "    <tr>\n",
              "      <th>2</th>\n",
              "      <td>NumberOfDependents</td>\n",
              "      <td>0.023445</td>\n",
              "    </tr>\n",
              "    <tr>\n",
              "      <th>0</th>\n",
              "      <td>DebtRatio</td>\n",
              "      <td>0.011900</td>\n",
              "    </tr>\n",
              "    <tr>\n",
              "      <th>7</th>\n",
              "      <td>NumberRealEstateLoansOrLines</td>\n",
              "      <td>0.001761</td>\n",
              "    </tr>\n",
              "  </tbody>\n",
              "</table>\n",
              "</div>"
            ],
            "text/plain": [
              "                           Variable_Name  Information_Value\n",
              "8   RevolvingUtilizationOfUnsecuredLines           0.938911\n",
              "6                NumberOfTimes90DaysLate           0.484693\n",
              "4   NumberOfTime30-59DaysPastDueNotWorse           0.470383\n",
              "5   NumberOfTime60-89DaysPastDueNotWorse           0.265204\n",
              "10                             age_group           0.235526\n",
              "9                                    age           0.219148\n",
              "1                          MonthlyIncome           0.062309\n",
              "3        NumberOfOpenCreditLinesAndLoans           0.024575\n",
              "2                     NumberOfDependents           0.023445\n",
              "0                              DebtRatio           0.011900\n",
              "7           NumberRealEstateLoansOrLines           0.001761"
            ]
          },
          "metadata": {},
          "execution_count": 82
        }
      ]
    },
    {
      "cell_type": "markdown",
      "metadata": {
        "id": "conservative-rebel"
      },
      "source": [
        "### Identify features,  target and split it into train and test"
      ],
      "id": "conservative-rebel"
    },
    {
      "cell_type": "code",
      "metadata": {
        "colab": {
          "base_uri": "https://localhost:8080/",
          "height": 204
        },
        "id": "ZT4F9RXQUbfC",
        "outputId": "d5676e74-19ac-47cb-9fb9-c6bdf8479bf0"
      },
      "source": [
        "#drop_columns = ['NumberRealEstateLoansOrLines', 'DebtRatio', 'NumberOfDependents', 'NumberOfOpenCreditLinesAndLoans', 'MonthlyIncome', 'age', 'NumberOfTime30-59DaysPastDueNotWorse']\n",
        "drop_columns = ['NumberRealEstateLoansOrLines', 'DebtRatio', 'NumberOfOpenCreditLinesAndLoans', 'MonthlyIncome', 'age', 'NumberOfTime30-59DaysPastDueNotWorse']\n",
        "df = df.drop(drop_columns, axis=1)\n",
        "df.head()"
      ],
      "id": "ZT4F9RXQUbfC",
      "execution_count": null,
      "outputs": [
        {
          "output_type": "execute_result",
          "data": {
            "text/html": [
              "<div>\n",
              "<style scoped>\n",
              "    .dataframe tbody tr th:only-of-type {\n",
              "        vertical-align: middle;\n",
              "    }\n",
              "\n",
              "    .dataframe tbody tr th {\n",
              "        vertical-align: top;\n",
              "    }\n",
              "\n",
              "    .dataframe thead th {\n",
              "        text-align: right;\n",
              "    }\n",
              "</style>\n",
              "<table border=\"1\" class=\"dataframe\">\n",
              "  <thead>\n",
              "    <tr style=\"text-align: right;\">\n",
              "      <th></th>\n",
              "      <th>SeriousDlqin2yrs</th>\n",
              "      <th>RevolvingUtilizationOfUnsecuredLines</th>\n",
              "      <th>NumberOfTimes90DaysLate</th>\n",
              "      <th>NumberOfTime60-89DaysPastDueNotWorse</th>\n",
              "      <th>NumberOfDependents</th>\n",
              "      <th>age_group</th>\n",
              "    </tr>\n",
              "  </thead>\n",
              "  <tbody>\n",
              "    <tr>\n",
              "      <th>0</th>\n",
              "      <td>1</td>\n",
              "      <td>0.766127</td>\n",
              "      <td>0</td>\n",
              "      <td>0</td>\n",
              "      <td>2</td>\n",
              "      <td>0</td>\n",
              "    </tr>\n",
              "    <tr>\n",
              "      <th>1</th>\n",
              "      <td>0</td>\n",
              "      <td>0.957151</td>\n",
              "      <td>0</td>\n",
              "      <td>0</td>\n",
              "      <td>1</td>\n",
              "      <td>4</td>\n",
              "    </tr>\n",
              "    <tr>\n",
              "      <th>2</th>\n",
              "      <td>0</td>\n",
              "      <td>0.658180</td>\n",
              "      <td>1</td>\n",
              "      <td>0</td>\n",
              "      <td>0</td>\n",
              "      <td>2</td>\n",
              "    </tr>\n",
              "    <tr>\n",
              "      <th>3</th>\n",
              "      <td>0</td>\n",
              "      <td>0.233810</td>\n",
              "      <td>0</td>\n",
              "      <td>0</td>\n",
              "      <td>0</td>\n",
              "      <td>2</td>\n",
              "    </tr>\n",
              "    <tr>\n",
              "      <th>4</th>\n",
              "      <td>0</td>\n",
              "      <td>0.907239</td>\n",
              "      <td>0</td>\n",
              "      <td>0</td>\n",
              "      <td>0</td>\n",
              "      <td>0</td>\n",
              "    </tr>\n",
              "  </tbody>\n",
              "</table>\n",
              "</div>"
            ],
            "text/plain": [
              "   SeriousDlqin2yrs  RevolvingUtilizationOfUnsecuredLines  NumberOfTimes90DaysLate  NumberOfTime60-89DaysPastDueNotWorse  NumberOfDependents  age_group\n",
              "0                 1                              0.766127                        0                                     0                   2          0\n",
              "1                 0                              0.957151                        0                                     0                   1          4\n",
              "2                 0                              0.658180                        1                                     0                   0          2\n",
              "3                 0                              0.233810                        0                                     0                   0          2\n",
              "4                 0                              0.907239                        0                                     0                   0          0"
            ]
          },
          "metadata": {},
          "execution_count": 83
        }
      ]
    },
    {
      "cell_type": "code",
      "metadata": {
        "id": "e5uSKUhbVXCT"
      },
      "source": [
        "    features = df.iloc[:, 1:]\n",
        "    labels = df.iloc[:, 0]\n"
      ],
      "id": "e5uSKUhbVXCT",
      "execution_count": null,
      "outputs": []
    },
    {
      "cell_type": "code",
      "metadata": {
        "colab": {
          "base_uri": "https://localhost:8080/",
          "height": 204
        },
        "id": "M9JiITUjVa42",
        "outputId": "3e8e3728-f767-45c3-8037-d6444bfe3246"
      },
      "source": [
        "features.head()"
      ],
      "id": "M9JiITUjVa42",
      "execution_count": null,
      "outputs": [
        {
          "output_type": "execute_result",
          "data": {
            "text/html": [
              "<div>\n",
              "<style scoped>\n",
              "    .dataframe tbody tr th:only-of-type {\n",
              "        vertical-align: middle;\n",
              "    }\n",
              "\n",
              "    .dataframe tbody tr th {\n",
              "        vertical-align: top;\n",
              "    }\n",
              "\n",
              "    .dataframe thead th {\n",
              "        text-align: right;\n",
              "    }\n",
              "</style>\n",
              "<table border=\"1\" class=\"dataframe\">\n",
              "  <thead>\n",
              "    <tr style=\"text-align: right;\">\n",
              "      <th></th>\n",
              "      <th>RevolvingUtilizationOfUnsecuredLines</th>\n",
              "      <th>NumberOfTimes90DaysLate</th>\n",
              "      <th>NumberOfTime60-89DaysPastDueNotWorse</th>\n",
              "      <th>NumberOfDependents</th>\n",
              "      <th>age_group</th>\n",
              "    </tr>\n",
              "  </thead>\n",
              "  <tbody>\n",
              "    <tr>\n",
              "      <th>0</th>\n",
              "      <td>0.766127</td>\n",
              "      <td>0</td>\n",
              "      <td>0</td>\n",
              "      <td>2</td>\n",
              "      <td>0</td>\n",
              "    </tr>\n",
              "    <tr>\n",
              "      <th>1</th>\n",
              "      <td>0.957151</td>\n",
              "      <td>0</td>\n",
              "      <td>0</td>\n",
              "      <td>1</td>\n",
              "      <td>4</td>\n",
              "    </tr>\n",
              "    <tr>\n",
              "      <th>2</th>\n",
              "      <td>0.658180</td>\n",
              "      <td>1</td>\n",
              "      <td>0</td>\n",
              "      <td>0</td>\n",
              "      <td>2</td>\n",
              "    </tr>\n",
              "    <tr>\n",
              "      <th>3</th>\n",
              "      <td>0.233810</td>\n",
              "      <td>0</td>\n",
              "      <td>0</td>\n",
              "      <td>0</td>\n",
              "      <td>2</td>\n",
              "    </tr>\n",
              "    <tr>\n",
              "      <th>4</th>\n",
              "      <td>0.907239</td>\n",
              "      <td>0</td>\n",
              "      <td>0</td>\n",
              "      <td>0</td>\n",
              "      <td>0</td>\n",
              "    </tr>\n",
              "  </tbody>\n",
              "</table>\n",
              "</div>"
            ],
            "text/plain": [
              "   RevolvingUtilizationOfUnsecuredLines  NumberOfTimes90DaysLate  NumberOfTime60-89DaysPastDueNotWorse  NumberOfDependents  age_group\n",
              "0                              0.766127                        0                                     0                   2          0\n",
              "1                              0.957151                        0                                     0                   1          4\n",
              "2                              0.658180                        1                                     0                   0          2\n",
              "3                              0.233810                        0                                     0                   0          2\n",
              "4                              0.907239                        0                                     0                   0          0"
            ]
          },
          "metadata": {},
          "execution_count": 85
        }
      ]
    },
    {
      "cell_type": "code",
      "metadata": {
        "colab": {
          "base_uri": "https://localhost:8080/"
        },
        "id": "Fwo3RAnhVdDB",
        "outputId": "100a0838-e1c0-499e-851c-924ccb7e4dad"
      },
      "source": [
        "labels.head()"
      ],
      "id": "Fwo3RAnhVdDB",
      "execution_count": null,
      "outputs": [
        {
          "output_type": "execute_result",
          "data": {
            "text/plain": [
              "0    1\n",
              "1    0\n",
              "2    0\n",
              "3    0\n",
              "4    0\n",
              "Name: SeriousDlqin2yrs, dtype: int64"
            ]
          },
          "metadata": {},
          "execution_count": 86
        }
      ]
    },
    {
      "cell_type": "code",
      "metadata": {
        "id": "ambient-dress"
      },
      "source": [
        "# Features and target\n",
        "def split_data(df, test_sz):\n",
        "    X_train, X_test, y_train, y_test = train_test_split(features, labels, random_state=42, test_size=test_sz)\n",
        "    return X_train, X_test, y_train, y_test\n",
        "\n",
        "X_train, X_test, y_train, y_test =split_data(df,0.30)"
      ],
      "id": "ambient-dress",
      "execution_count": null,
      "outputs": []
    },
    {
      "cell_type": "code",
      "metadata": {
        "id": "qjUDqqFr_8g8",
        "colab": {
          "base_uri": "https://localhost:8080/"
        },
        "outputId": "7bcc54be-6700-4cfd-b120-cd4d8b83a224"
      },
      "source": [
        "print(\"X_train:\", X_train.shape) # X_train\n",
        "print(\"X_test:\",X_test.shape) # X_test\n",
        "print(\"y_train:\",y_train.shape) # y_train\n",
        "print(\"y_test:\",y_test.shape) # y_test"
      ],
      "id": "qjUDqqFr_8g8",
      "execution_count": null,
      "outputs": [
        {
          "output_type": "stream",
          "name": "stdout",
          "text": [
            "X_train: (104416, 5)\n",
            "X_test: (44751, 5)\n",
            "y_train: (104416,)\n",
            "y_test: (44751,)\n"
          ]
        }
      ]
    },
    {
      "cell_type": "markdown",
      "metadata": {
        "id": "decreased-sucking"
      },
      "source": [
        "### Logistic Regression from scratch using gradient method (2 points)\n",
        "\n",
        "For Linear Regression, we had the hypothesis $yhat = w.X +b$ , whose output range was the set of all Real Numbers.\n",
        "Now, for Logistic Regression our hypothesis is  $yhat = sigmoid(w.X + b)$ , whose output range is between 0 and 1 because by applying a sigmoid function, we always output a number between 0 and 1.\n",
        "\n",
        "$yhat = \\frac{1}{1 +e^{-(w.x+b)}}$\n",
        "\n",
        "Hint: [logistic-regression-with-python](\n",
        "https://medium.com/@ODSC/logistic-regression-with-python-ede39f8573c7)"
      ],
      "id": "decreased-sucking"
    },
    {
      "cell_type": "code",
      "metadata": {
        "id": "precious-business"
      },
      "source": [
        "from scipy.special import expit, logit #expit is the sigmoid fn and logit is the logit fn\n",
        "epsilon = 1e-7 #to stop overflowing\n",
        "def cost_function(x, y,theta):\n",
        "  y = y.to_numpy()\n",
        "  t = expit(x.dot(theta)) #sigmoid fn\n",
        "  return -np.average(y * np.log(t+epsilon) + (1-y) * np.log(1-t+epsilon))"
      ],
      "id": "precious-business",
      "execution_count": null,
      "outputs": []
    },
    {
      "cell_type": "code",
      "metadata": {
        "colab": {
          "base_uri": "https://localhost:8080/"
        },
        "id": "aSAFNMOn1eKS",
        "outputId": "ba241f88-e716-4acb-f55f-3458984834a4"
      },
      "source": [
        "theta = np.linspace(0,1,num=X_train.shape[1])\n",
        "cost_function(X_train,y_train,theta)"
      ],
      "id": "aSAFNMOn1eKS",
      "execution_count": null,
      "outputs": [
        {
          "output_type": "execute_result",
          "data": {
            "text/plain": [
              "2.2129018351290095"
            ]
          },
          "metadata": {},
          "execution_count": 90
        }
      ]
    },
    {
      "cell_type": "code",
      "metadata": {
        "id": "MN_wjjby1hQH"
      },
      "source": [
        "def gradient_cost_function(x, y, theta):\n",
        "  y = y.to_numpy()\n",
        "  t = expit(x.dot(theta))\n",
        "  return x.T.dot(y-t) / x.shape[0]"
      ],
      "id": "MN_wjjby1hQH",
      "execution_count": null,
      "outputs": []
    },
    {
      "cell_type": "code",
      "metadata": {
        "id": "yjYtyYfy1j1i"
      },
      "source": [
        "def update_theta(x, y, theta, learning_rate):\n",
        "  return theta + learning_rate * gradient_cost_function(x, y, theta)"
      ],
      "id": "yjYtyYfy1j1i",
      "execution_count": null,
      "outputs": []
    },
    {
      "cell_type": "code",
      "metadata": {
        "id": "GdEiNj651n-s"
      },
      "source": [
        "def descent(x, y, learning_rate, iterations=500, threshold=0.00005):\n",
        "  theta = np.zeros(x.shape[1])\n",
        "  costs = []\n",
        "  for i in range(iterations):\n",
        "    theta = update_theta(x, y, theta, learning_rate)\n",
        "    cost = cost_function(x, y, theta)\n",
        "    costs.append({'cost': cost, 'weights':theta})\n",
        "    if i >  15 and abs(costs[-2]['cost']-costs[-1]['cost']) < threshold: #stopping condition\n",
        "      break\n",
        "  return theta, costs"
      ],
      "id": "GdEiNj651n-s",
      "execution_count": null,
      "outputs": []
    },
    {
      "cell_type": "code",
      "metadata": {
        "id": "1ZhpJvG71wOE"
      },
      "source": [
        "Theta, costs = descent(X_train, y_train, learning_rate=0.00001)"
      ],
      "id": "1ZhpJvG71wOE",
      "execution_count": null,
      "outputs": []
    },
    {
      "cell_type": "code",
      "metadata": {
        "id": "hxaEJr3S19x4"
      },
      "source": [
        "def predict(x, theta):\n",
        "  return (expit(x.dot(theta)) >= 0.5).astype(int)"
      ],
      "id": "hxaEJr3S19x4",
      "execution_count": null,
      "outputs": []
    },
    {
      "cell_type": "code",
      "metadata": {
        "colab": {
          "base_uri": "https://localhost:8080/"
        },
        "id": "WX3VLI7W2AR5",
        "outputId": "e4913d68-daeb-4315-9fbf-719ceedfda3c"
      },
      "source": [
        "def get_accuracy(x, y, theta):\n",
        "  y_pred = predict(x, theta)\n",
        "  return (y_pred == y).sum() / y.shape[0]\n",
        "print(f'Accuracy on the training set: {get_accuracy(X_train, y_train, Theta)}')\n",
        "print(f'Accuracy on the test set: {get_accuracy(X_test, y_test, Theta)}')"
      ],
      "id": "WX3VLI7W2AR5",
      "execution_count": null,
      "outputs": [
        {
          "output_type": "stream",
          "name": "stdout",
          "text": [
            "Accuracy on the training set: 0.9173785626723874\n",
            "Accuracy on the test set: 0.9175660879086501\n"
          ]
        }
      ]
    },
    {
      "cell_type": "code",
      "metadata": {
        "id": "L5yQvXVp4UX6"
      },
      "source": [
        "# Visualize the updates of theta\n",
        "#plt.figure(figsize=(8, 6))\n",
        "#plt.plot(theta_values, loss_values1, 'x', linestyle='-')\n",
        "#plt.plot(theta_updates, loss_value, '.', markersize=12)  #costs as nested dict \n",
        "#plt.show()"
      ],
      "id": "L5yQvXVp4UX6",
      "execution_count": null,
      "outputs": []
    },
    {
      "cell_type": "markdown",
      "metadata": {
        "id": "reliable-black"
      },
      "source": [
        "### Implement the Logistic regression using sklearn (2 points)\n",
        "\n",
        "As there is imbalance in the class distribution, add weightage to the Logistic regression.\n",
        "\n",
        "* Find the accuracy with class weightage in Logistic regression\n",
        "* Find the accuracy without class weightage in Logistic regression\n",
        "\n",
        "Hint: [LogisticRegression](https://scikit-learn.org/stable/modules/generated/sklearn.linear_model.LogisticRegression.html)"
      ],
      "id": "reliable-black"
    },
    {
      "cell_type": "code",
      "metadata": {
        "id": "pvET_tfR7il8"
      },
      "source": [
        "from sklearn.metrics import accuracy_score, \\\n",
        "confusion_matrix,roc_curve, \\\n",
        "roc_auc_score, precision_score, recall_score, precision_recall_curve, \\\n",
        "classification_report"
      ],
      "id": "pvET_tfR7il8",
      "execution_count": null,
      "outputs": []
    },
    {
      "cell_type": "code",
      "metadata": {
        "id": "impressive-assistant",
        "colab": {
          "base_uri": "https://localhost:8080/"
        },
        "outputId": "d79631be-ba0d-47d3-8020-f92b7a06de18"
      },
      "source": [
        "# With weights inferred from given data\n",
        "weights = {0:0.07, 1:0.93}\n",
        "\n",
        "log_reg_with_weights_custom = LogisticRegression(class_weight=weights)\n",
        "X_test = np.nan_to_num(X_test)\n",
        "X_train = np.nan_to_num(X_train)\n",
        "\n",
        "log_reg_with_weights_custom.fit(X_train, y_train)\n",
        "y_pred_observedw = log_reg_with_weights_custom.predict(X_test)"
      ],
      "id": "impressive-assistant",
      "execution_count": null,
      "outputs": [
        {
          "output_type": "execute_result",
          "data": {
            "text/plain": [
              "LogisticRegression(C=1.0, class_weight={0: 0.07, 1: 0.93}, dual=False,\n",
              "                   fit_intercept=True, intercept_scaling=1, l1_ratio=None,\n",
              "                   max_iter=100, multi_class='auto', n_jobs=None, penalty='l2',\n",
              "                   random_state=None, solver='lbfgs', tol=0.0001, verbose=0,\n",
              "                   warm_start=False)"
            ]
          },
          "metadata": {},
          "execution_count": 146
        }
      ]
    },
    {
      "cell_type": "code",
      "metadata": {
        "colab": {
          "base_uri": "https://localhost:8080/"
        },
        "id": "eqsTeT8laI7k",
        "outputId": "9ba3fa9b-be04-420c-9acf-416edac22286"
      },
      "source": [
        "print(f'Accuracy Score with weights = {accuracy_score(y_test, y_pred_observedw)}')"
      ],
      "id": "eqsTeT8laI7k",
      "execution_count": null,
      "outputs": [
        {
          "output_type": "stream",
          "name": "stdout",
          "text": [
            "Accuracy Score with weights = 0.7796920739201358\n"
          ]
        }
      ]
    },
    {
      "cell_type": "code",
      "metadata": {
        "colab": {
          "base_uri": "https://localhost:8080/"
        },
        "id": "26ALuc6UaKvL",
        "outputId": "1a26a0f6-dcb4-4d0e-c4e1-4fa680597565"
      },
      "source": [
        "# With balanced weightage\n",
        "log_reg_with_weights_balanced = LogisticRegression(class_weight='balanced')\n",
        "X_test = np.nan_to_num(X_test)\n",
        "X_train = np.nan_to_num(X_train)\n",
        "\n",
        "log_reg_with_weights_balanced.fit(X_train, y_train)\n",
        "y_pred_balancew = log_reg_with_weights_balanced.predict(X_test)"
      ],
      "id": "26ALuc6UaKvL",
      "execution_count": null,
      "outputs": [
        {
          "output_type": "execute_result",
          "data": {
            "text/plain": [
              "LogisticRegression(C=1.0, class_weight='balanced', dual=False,\n",
              "                   fit_intercept=True, intercept_scaling=1, l1_ratio=None,\n",
              "                   max_iter=100, multi_class='auto', n_jobs=None, penalty='l2',\n",
              "                   random_state=None, solver='lbfgs', tol=0.0001, verbose=0,\n",
              "                   warm_start=False)"
            ]
          },
          "metadata": {},
          "execution_count": 144
        }
      ]
    },
    {
      "cell_type": "code",
      "metadata": {
        "colab": {
          "base_uri": "https://localhost:8080/"
        },
        "id": "AIk5xqkMZ-RF",
        "outputId": "7886fd94-cedd-4764-d3eb-73296e965335"
      },
      "source": [
        "print(f'Accuracy Score with weights = {accuracy_score(y_test, y_pred_balancew)}')"
      ],
      "id": "AIk5xqkMZ-RF",
      "execution_count": null,
      "outputs": [
        {
          "output_type": "stream",
          "name": "stdout",
          "text": [
            "Accuracy Score with weights = 0.7748206743983375\n"
          ]
        }
      ]
    },
    {
      "cell_type": "code",
      "metadata": {
        "id": "similar-flower",
        "colab": {
          "base_uri": "https://localhost:8080/"
        },
        "outputId": "76c1e29e-a7e4-486d-9921-577245e04e5e"
      },
      "source": [
        "# Without weightage\n",
        "log_reg = LogisticRegression()\n",
        "X_test = np.nan_to_num(X_test)\n",
        "X_train = np.nan_to_num(X_train)\n",
        "log_reg.fit(X_train, y_train)\n",
        "y_pred_default = log_reg.predict(X_test)"
      ],
      "id": "similar-flower",
      "execution_count": null,
      "outputs": [
        {
          "output_type": "execute_result",
          "data": {
            "text/plain": [
              "LogisticRegression(C=1.0, class_weight=None, dual=False, fit_intercept=True,\n",
              "                   intercept_scaling=1, l1_ratio=None, max_iter=100,\n",
              "                   multi_class='auto', n_jobs=None, penalty='l2',\n",
              "                   random_state=None, solver='lbfgs', tol=0.0001, verbose=0,\n",
              "                   warm_start=False)"
            ]
          },
          "metadata": {},
          "execution_count": 121
        }
      ]
    },
    {
      "cell_type": "code",
      "metadata": {
        "colab": {
          "base_uri": "https://localhost:8080/"
        },
        "id": "1rX3QHnmaDtk",
        "outputId": "7847a0fa-7b44-46d0-e2c1-534d55fdf1d5"
      },
      "source": [
        "print(f'Accuracy Score without weights = {accuracy_score(y_test, y_pred_default)}')"
      ],
      "id": "1rX3QHnmaDtk",
      "execution_count": null,
      "outputs": [
        {
          "output_type": "stream",
          "name": "stdout",
          "text": [
            "Accuracy Score without weights = 0.9336104221134723\n"
          ]
        }
      ]
    },
    {
      "cell_type": "markdown",
      "metadata": {
        "id": "BW0MLmXKjjto"
      },
      "source": [
        "\" A credit score is a numerical expression based on a level analysis of a person's credit files, to represent the creditworthiness of an individual. A credit score is primarily based on a credit report, information typically sourced from credit bureaus.Lenders, such as banks and credit card companies, use credit scores to evaluate the potential risk posed by lending money to consumers and to mitigate losses due to bad debt. Lenders use credit scores to determine who qualifies for a loan, at what interest rate, and what credit limits. Lenders also use credit scores to determine which customers are likely to bring in the most revenue. The use of credit or identity scoring prior to authorizing access or granting credit is an implementation of a trusted system.Credit scoring is not limited to banks. Other organizations, such as mobile phone companies, insurance companies, landlords, and government departments employ the same techniques. Digital finance companies such as online lenders also use alternative data sources to calculate the creditworthiness of borrowers"
      ],
      "id": "BW0MLmXKjjto"
    },
    {
      "cell_type": "markdown",
      "metadata": {
        "id": "signal-error"
      },
      "source": [
        "### Credit scoring (1 point)\n",
        "\n",
        "When scaling the model into a scorecard, we will need both the Logistic Regression coefficients from model fitting as well as the transformed WoE values. We will also need to convert the score from the model from the log-odds unit to a points system.\n",
        "For each independent variable Xi, its corresponding score is:\n",
        "\n",
        "$Score = \\sum_{i=1}^{n} (-(β_i × WoE_i + \\frac{α}{n}) × Factor + \\frac{Offset}{n})$\n",
        "\n",
        "Where:\n",
        "\n",
        "βi — logistic regression coefficient for the variable Xi\n",
        "\n",
        "α — logistic regression intercept\n",
        "\n",
        "WoE — Weight of Evidence value for variable Xi\n",
        "\n",
        "n — number of independent variable Xi in the model\n",
        "\n",
        "Factor(B), Offset(A) — known as scaling parameter\n",
        "\n",
        "  - Factor = pdo / ln(2); pdo is points to double the odds\n",
        "  - Offset = Round_of_Score - {Factor * ln(Odds)}"
      ],
      "id": "signal-error"
    },
    {
      "cell_type": "code",
      "metadata": {
        "id": "worst-spare",
        "colab": {
          "base_uri": "https://localhost:8080/"
        },
        "outputId": "85bca05f-393b-4b78-d8d5-64a4f98745b0"
      },
      "source": [
        "# Scaling factors\n",
        "factor = 20/np.log(2)\n",
        "offset = 600 - ( factor * np.log(50))\n",
        "factor, offset"
      ],
      "id": "worst-spare",
      "execution_count": null,
      "outputs": [
        {
          "output_type": "execute_result",
          "data": {
            "text/plain": [
              "(28.85390081777927, 487.1228762045055)"
            ]
          },
          "metadata": {},
          "execution_count": 101
        }
      ]
    },
    {
      "cell_type": "code",
      "metadata": {
        "id": "XwwnwQKMU_Nx"
      },
      "source": [
        "beta = clf.iv_df[\"Information_Value\"].values\n",
        "def credit_score(x,beta,coefficients,intercept):\n",
        "  return -np.sum(coefficients*beta)*factor-(intercept*factor-offset)*(x.shape[1]+1)/2 #credit scoring"
      ],
      "id": "XwwnwQKMU_Nx",
      "execution_count": null,
      "outputs": []
    },
    {
      "cell_type": "code",
      "metadata": {
        "id": "n5UQkWQVhxdx"
      },
      "source": [
        "credit_score(X_train,beta,coefficients=Theta.values[0:11],intercept=Theta.values[11]) #score for descent assisted logistic regression"
      ],
      "id": "n5UQkWQVhxdx",
      "execution_count": null,
      "outputs": []
    },
    {
      "cell_type": "markdown",
      "metadata": {
        "id": "intelligent-internship"
      },
      "source": [
        "### Performance Metrics (1 point)"
      ],
      "id": "intelligent-internship"
    },
    {
      "cell_type": "markdown",
      "metadata": {
        "id": "innocent-hygiene"
      },
      "source": [
        "#### Precision"
      ],
      "id": "innocent-hygiene"
    },
    {
      "cell_type": "code",
      "metadata": {
        "id": "optimum-listening",
        "colab": {
          "base_uri": "https://localhost:8080/"
        },
        "outputId": "2bb14ad8-627e-4740-dbed-0bbff174b5ab"
      },
      "source": [
        "# Precision for various LR\n",
        "print(f'Precision score for custom weight implementation : {precision_score(y_test,y_pred_observedw)} \\n')\n",
        "print(f'Precision score for balanced weight implementation : {precision_score(y_test,y_pred_balancew)} \\n')\n",
        "print(f'Precision score for default implementation : {precision_score(y_test,y_pred_default)} \\n')"
      ],
      "id": "optimum-listening",
      "execution_count": null,
      "outputs": [
        {
          "output_type": "stream",
          "name": "stdout",
          "text": [
            "Precision score for custom weight implementation : 0.1877614111656665 \n",
            "\n",
            "Precision score for balanced weight implementation : 0.18603208366569174 \n",
            "\n",
            "Precision score for default implementation : 0.5475113122171946 \n",
            "\n"
          ]
        }
      ]
    },
    {
      "cell_type": "markdown",
      "metadata": {
        "id": "accessory-keyboard"
      },
      "source": [
        "#### Recall"
      ],
      "id": "accessory-keyboard"
    },
    {
      "cell_type": "code",
      "metadata": {
        "id": "civic-corner",
        "colab": {
          "base_uri": "https://localhost:8080/"
        },
        "outputId": "2fb09432-c7cc-44b6-a834-1b361d3a59ce"
      },
      "source": [
        "# Recall for various LR\n",
        "print(f'Recall score for custom weight implementation : {recall_score(y_test,y_pred_observedw)} \\n')\n",
        "print(f'Recall score for balanced weight implementation : {recall_score(y_test,y_pred_balancew)} \\n')\n",
        "print(f'Recall score for default implementation : {recall_score(y_test,y_pred_default)} \\n')"
      ],
      "id": "civic-corner",
      "execution_count": null,
      "outputs": [
        {
          "output_type": "stream",
          "name": "stdout",
          "text": [
            "Recall score for custom weight implementation : 0.6901737967914439 \n",
            "\n",
            "Recall score for balanced weight implementation : 0.7015374331550802 \n",
            "\n",
            "Recall score for default implementation : 0.04044117647058824 \n",
            "\n"
          ]
        }
      ]
    },
    {
      "cell_type": "markdown",
      "metadata": {
        "id": "wired-amendment"
      },
      "source": [
        "#### Classification Report"
      ],
      "id": "wired-amendment"
    },
    {
      "cell_type": "code",
      "metadata": {
        "id": "impossible-machinery",
        "colab": {
          "base_uri": "https://localhost:8080/"
        },
        "outputId": "366ecb29-9809-4466-ca65-6125a875db1a"
      },
      "source": [
        "# Classification Report for various LR\n",
        "print(f'Classification Report for custom weight implementation : \\n {classification_report(y_test,y_pred_observedw,labels=[0, 1])} \\n')\n",
        "print(f'Classification Report for balanced weight implementation : \\n{classification_report(y_test,y_pred_balancew,labels=[0, 1])} \\n')\n",
        "print(f'Classification Report for default implementation : \\n {classification_report(y_test,y_pred_default,labels=[0, 1])} \\n')"
      ],
      "id": "impossible-machinery",
      "execution_count": null,
      "outputs": [
        {
          "output_type": "stream",
          "name": "stdout",
          "text": [
            "Classification Report for custom weight implementation : \n",
            "               precision    recall  f1-score   support\n",
            "\n",
            "           0       0.97      0.79      0.87     41759\n",
            "           1       0.19      0.69      0.30      2992\n",
            "\n",
            "    accuracy                           0.78     44751\n",
            "   macro avg       0.58      0.74      0.58     44751\n",
            "weighted avg       0.92      0.78      0.83     44751\n",
            " \n",
            "\n",
            "Classification Report for balanced weight implementation : \n",
            "              precision    recall  f1-score   support\n",
            "\n",
            "           0       0.97      0.78      0.87     41759\n",
            "           1       0.19      0.70      0.29      2992\n",
            "\n",
            "    accuracy                           0.77     44751\n",
            "   macro avg       0.58      0.74      0.58     44751\n",
            "weighted avg       0.92      0.77      0.83     44751\n",
            " \n",
            "\n",
            "Classification Report for default implementation : \n",
            "               precision    recall  f1-score   support\n",
            "\n",
            "           0       0.94      1.00      0.97     41759\n",
            "           1       0.55      0.04      0.08      2992\n",
            "\n",
            "    accuracy                           0.93     44751\n",
            "   macro avg       0.74      0.52      0.52     44751\n",
            "weighted avg       0.91      0.93      0.91     44751\n",
            " \n",
            "\n"
          ]
        }
      ]
    },
    {
      "cell_type": "markdown",
      "metadata": {
        "id": "dense-feelings"
      },
      "source": [
        "#### Confusion matrix"
      ],
      "id": "dense-feelings"
    },
    {
      "cell_type": "code",
      "metadata": {
        "id": "PVdLvQ4qfO2f"
      },
      "source": [
        "from sklearn.metrics import confusion_matrix"
      ],
      "id": "PVdLvQ4qfO2f",
      "execution_count": null,
      "outputs": []
    },
    {
      "cell_type": "code",
      "metadata": {
        "id": "running-remains",
        "colab": {
          "base_uri": "https://localhost:8080/"
        },
        "outputId": "88125bed-14f2-4eeb-e78c-09697132fe25"
      },
      "source": [
        "# Confustion Matrix for various LR\n",
        "print(f'Confustion Matrixt for custom weight implementation : \\n {confusion_matrix(y_test,y_pred_observedw,labels=[0, 1])} \\n')\n",
        "print(f'Confustion Matrix for balanced weight implementation : \\n{confusion_matrix(y_test,y_pred_balancew,labels=[0, 1])} \\n')\n",
        "print(f'Confustion Matrix for default implementation : \\n {confusion_matrix(y_test,y_pred_default,labels=[0, 1])} \\n')"
      ],
      "id": "running-remains",
      "execution_count": null,
      "outputs": [
        {
          "output_type": "stream",
          "name": "stdout",
          "text": [
            "Confustion Matrixt for custom weight implementation : \n",
            " [[32826  8933]\n",
            " [  927  2065]] \n",
            "\n",
            "Confustion Matrix for balanced weight implementation : \n",
            "[[32575  9184]\n",
            " [  893  2099]] \n",
            "\n",
            "Confustion Matrix for default implementation : \n",
            " [[41659   100]\n",
            " [ 2871   121]] \n",
            "\n"
          ]
        }
      ]
    },
    {
      "cell_type": "markdown",
      "metadata": {
        "id": "RR-ivkGyqJXs"
      },
      "source": [
        "### Report Analysis\n",
        "\n",
        "* Comment on the performance of the model with weightage and without weightage\n",
        "* Have you tried implementing Logistic regression with normal features instead of WOE ?\n",
        "  - Compare the classification report for both implementations"
      ],
      "id": "RR-ivkGyqJXs"
    },
    {
      "cell_type": "code",
      "metadata": {
        "id": "RpuXVGMblO7a"
      },
      "source": [
        "# Validation of model\n",
        "print(\"confusion_matrix = \\n\", confusion_matrix(y_true=y_test, y_pred=y_pred))\n",
        "\n",
        "print(\"*accuracy_train = %.3f\" % accuracy_score(y_true=y_train, y_pred=y_pred_train))\n",
        "print(\"accuracy = %.3f\" % accuracy_score(y_true=y_test, y_pred=y_pred))\n",
        "\n",
        "print(\"*precision_train = %.3f\" % precision_score(y_true=y_train, y_pred=y_pred_train))\n",
        "print(\"precision = %.3f\" % precision_score(y_true=y_test, y_pred=y_pred))\n",
        "\n",
        "print(\"*recall_train = %.3f\" % recall_score(y_true=y_train, y_pred=y_pred_train))\n",
        "print(\"recall = %.3f\" % recall_score(y_true=y_test, y_pred=y_pred))\n",
        "\n",
        "print(\"*f1_score_train = %.3f\" % f1_score(y_true=y_train, y_pred=y_pred_train))\n",
        "print(\"f1_score = %.3f\" % f1_score(y_true=y_test, y_pred=y_pred))"
      ],
      "id": "RpuXVGMblO7a",
      "execution_count": null,
      "outputs": []
    },
    {
      "cell_type": "code",
      "metadata": {
        "id": "R2IGpDOSes92"
      },
      "source": [
        "#roc_curve\n",
        "import scikitplot as skplt\n",
        "vali_proba_df = pd.DataFrame(lr.predict_proba(X_test))\n",
        "skplt.metrics.plot_roc(y_test, vali_proba_df,\n",
        "                      plot_micro=False,figsize=(6,6),\n",
        "                      plot_macro=False)"
      ],
      "id": "R2IGpDOSes92",
      "execution_count": null,
      "outputs": []
    }
  ]
}