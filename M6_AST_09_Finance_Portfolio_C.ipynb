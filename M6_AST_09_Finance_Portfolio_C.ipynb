{
  "nbformat": 4,
  "nbformat_minor": 0,
  "metadata": {
    "colab": {
      "name": "M6_AST_09_Finance_Portfolio_C.ipynb",
      "provenance": [],
      "collapsed_sections": [],
      "include_colab_link": true
    },
    "kernelspec": {
      "display_name": "Python 3",
      "language": "python",
      "name": "python3"
    },
    "language_info": {
      "codemirror_mode": {
        "name": "ipython",
        "version": 3
      },
      "file_extension": ".py",
      "mimetype": "text/x-python",
      "name": "python",
      "nbconvert_exporter": "python",
      "pygments_lexer": "ipython3",
      "version": "3.8.5"
    }
  },
  "cells": [
    {
      "cell_type": "markdown",
      "metadata": {
        "id": "view-in-github",
        "colab_type": "text"
      },
      "source": [
        "<a href=\"https://colab.research.google.com/github/srilav/machinelearning/blob/main/M6_AST_09_Finance_Portfolio_C.ipynb\" target=\"_parent\"><img src=\"https://colab.research.google.com/assets/colab-badge.svg\" alt=\"Open In Colab\"/></a>"
      ]
    },
    {
      "cell_type": "markdown",
      "metadata": {
        "id": "MZQMVE4gmAlY"
      },
      "source": [
        "# Advanced Certification Program in Computational Data Science\n",
        "## A program by IISc and TalentSprint\n",
        "### Assignment 09: Finance Portfolio"
      ]
    },
    {
      "cell_type": "markdown",
      "metadata": {
        "id": "UpgCEb9kmJ2Y"
      },
      "source": [
        "## Learning Objectives"
      ]
    },
    {
      "cell_type": "markdown",
      "metadata": {
        "id": "rZkwoKfWmNJj"
      },
      "source": [
        "At the end of the experiment, you will be able to\n",
        "\n",
        "* understand portfolio optimization\n",
        "* compute volatility, covariance, correlation, and expected returns for a portfolio of two company stocks\n",
        "* optimize a portfolio comprised of four company stocks"
      ]
    },
    {
      "cell_type": "markdown",
      "metadata": {
        "id": "jtdSVLWombeQ"
      },
      "source": [
        "## Information"
      ]
    },
    {
      "cell_type": "markdown",
      "metadata": {
        "id": "AGBBHiVwjalQ"
      },
      "source": [
        "**Portfolio optimization** is the process of creating a portfolio of assets, for which the investment has the maximum return and minimum risk.\n",
        "\n",
        "A **portfolio** is the investment in different kinds of assets from different companies. For example, if we have investments in 3 companies, say, Google, Amazon and Tesla, then these 3 companies make up our investment portfolio.\n",
        "\n",
        "Usually, when we build a portfolio of assets from different companies, for all assets, we will get a profit after a specified period of time. However, the profit may not be the same for each investment we make. This profit is termed as **returns**.\n",
        "\n",
        "When the company whose stocks we have purchased goes bankrupt, instead of gaining profits, we will also lose the capital investment. This is termed as a **risk** of investment.\n",
        "\n",
        "Modern Portfolio Theory is a mathematical process that allows us to maximize returns for a given risk level.\n",
        "\n",
        "**Efficient frontier** is a graph with ‘returns’ on the Y-axis and ‘volatility’ on the X-axis. It shows the set of optimal portfolios that offer the highest expected return for a given risk level or the lowest risk for a given level of expected return."
      ]
    },
    {
      "cell_type": "markdown",
      "metadata": {
        "id": "BNLA8HiKxQhc"
      },
      "source": [
        "### Setup Steps:"
      ]
    },
    {
      "cell_type": "code",
      "metadata": {
        "id": "2YzfoPvJDiTX"
      },
      "source": [
        "#@title Please enter your registration id to start: { run: \"auto\", display-mode: \"form\" }\n",
        "Id = \"2200183\" #@param {type:\"string\"}"
      ],
      "execution_count": 2,
      "outputs": []
    },
    {
      "cell_type": "code",
      "metadata": {
        "id": "AjoZJWGErxGf"
      },
      "source": [
        "#@title Please enter your password (your registered phone number) to continue: { run: \"auto\", display-mode: \"form\" }\n",
        "password = \"7671846954\" #@param {type:\"string\"}"
      ],
      "execution_count": 3,
      "outputs": []
    },
    {
      "cell_type": "code",
      "metadata": {
        "id": "WBPPuGmBlDIN",
        "cellView": "form",
        "outputId": "88fa2a4c-7c9f-4567-cede-adec55758438",
        "colab": {
          "base_uri": "https://localhost:8080/",
          "height": 35
        }
      },
      "source": [
        "#@title Run this cell to complete the setup for this Notebook\n",
        "from IPython import get_ipython\n",
        "\n",
        "ipython = get_ipython()\n",
        "  \n",
        "notebook= \"M6_AST_09_Finance_Portfolio_C\" #name of the notebook\n",
        "\n",
        "def setup():\n",
        "#  ipython.magic(\"sx pip3 install torch\")  \n",
        "    ipython.magic(\"sx pip -qq install yfinance --upgrade --no-cache-dir\")\n",
        "    ipython.magic(\"sx pip -qq install pandas_datareader\")\n",
        "    ipython.magic(\"sx pip -qq install yfinance\")\n",
        "    \n",
        "    from IPython.display import HTML, display\n",
        "    display(HTML('<script src=\"https://dashboard.talentsprint.com/aiml/record_ip.html?traineeId={0}&recordId={1}\"></script>'.format(getId(),submission_id)))\n",
        "    print(\"Setup completed successfully\")\n",
        "    return\n",
        "\n",
        "def submit_notebook():\n",
        "    ipython.magic(\"notebook -e \"+ notebook + \".ipynb\")\n",
        "    \n",
        "    import requests, json, base64, datetime\n",
        "\n",
        "    url = \"https://dashboard.talentsprint.com/xp/app/save_notebook_attempts\"\n",
        "    if not submission_id:\n",
        "      data = {\"id\" : getId(), \"notebook\" : notebook, \"mobile\" : getPassword()}\n",
        "      r = requests.post(url, data = data)\n",
        "      r = json.loads(r.text)\n",
        "\n",
        "      if r[\"status\"] == \"Success\":\n",
        "          return r[\"record_id\"]\n",
        "      elif \"err\" in r:        \n",
        "        print(r[\"err\"])\n",
        "        return None        \n",
        "      else:\n",
        "        print (\"Something is wrong, the notebook will not be submitted for grading\")\n",
        "        return None\n",
        "    \n",
        "    elif getAnswer() and getComplexity() and getAdditional() and getConcepts() and getComments() and getMentorSupport():\n",
        "      f = open(notebook + \".ipynb\", \"rb\")\n",
        "      file_hash = base64.b64encode(f.read())\n",
        "\n",
        "      data = {\"complexity\" : Complexity, \"additional\" :Additional, \n",
        "              \"concepts\" : Concepts, \"record_id\" : submission_id, \n",
        "              \"answer\" : Answer, \"id\" : Id, \"file_hash\" : file_hash,\n",
        "              \"notebook\" : notebook,\n",
        "              \"feedback_experiments_input\" : Comments,\n",
        "              \"feedback_mentor_support\": Mentor_support}\n",
        "      r = requests.post(url, data = data)\n",
        "      r = json.loads(r.text)\n",
        "      if \"err\" in r:        \n",
        "        print(r[\"err\"])\n",
        "        return None   \n",
        "      else:\n",
        "        print(\"Your submission is successful.\")\n",
        "        print(\"Ref Id:\", submission_id)\n",
        "        print(\"Date of submission: \", r[\"date\"])\n",
        "        print(\"Time of submission: \", r[\"time\"])\n",
        "        print(\"View your submissions: https://cds.iisc.talentsprint.com/notebook_submissions\")\n",
        "        #print(\"For any queries/discrepancies, please connect with mentors through the chat icon in LMS dashboard.\")\n",
        "        return submission_id\n",
        "    else: submission_id\n",
        "    \n",
        "\n",
        "def getAdditional():\n",
        "  try:\n",
        "    if not Additional: \n",
        "      raise NameError\n",
        "    else:\n",
        "      return Additional  \n",
        "  except NameError:\n",
        "    print (\"Please answer Additional Question\")\n",
        "    return None\n",
        "\n",
        "def getComplexity():\n",
        "  try:\n",
        "    if not Complexity:\n",
        "      raise NameError\n",
        "    else:\n",
        "      return Complexity\n",
        "  except NameError:\n",
        "    print (\"Please answer Complexity Question\")\n",
        "    return None\n",
        "  \n",
        "def getConcepts():\n",
        "  try:\n",
        "    if not Concepts:\n",
        "      raise NameError\n",
        "    else:\n",
        "      return Concepts\n",
        "  except NameError:\n",
        "    print (\"Please answer Concepts Question\")\n",
        "    return None\n",
        "  \n",
        "  \n",
        "# def getWalkthrough():\n",
        "#   try:\n",
        "#     if not Walkthrough:\n",
        "#       raise NameError\n",
        "#     else:\n",
        "#       return Walkthrough\n",
        "#   except NameError:\n",
        "#     print (\"Please answer Walkthrough Question\")\n",
        "#     return None\n",
        "  \n",
        "def getComments():\n",
        "  try:\n",
        "    if not Comments:\n",
        "      raise NameError\n",
        "    else:\n",
        "      return Comments\n",
        "  except NameError:\n",
        "    print (\"Please answer Comments Question\")\n",
        "    return None\n",
        "  \n",
        "\n",
        "def getMentorSupport():\n",
        "  try:\n",
        "    if not Mentor_support:\n",
        "      raise NameError\n",
        "    else:\n",
        "      return Mentor_support\n",
        "  except NameError:\n",
        "    print (\"Please answer Mentor support Question\")\n",
        "    return None\n",
        "\n",
        "def getAnswer():\n",
        "  try:\n",
        "    if not Answer:\n",
        "      raise NameError \n",
        "    else: \n",
        "      return Answer\n",
        "  except NameError:\n",
        "    print (\"Please answer Question\")\n",
        "    return None\n",
        "  \n",
        "\n",
        "def getId():\n",
        "  try: \n",
        "    return Id if Id else None\n",
        "  except NameError:\n",
        "    return None\n",
        "\n",
        "def getPassword():\n",
        "  try:\n",
        "    return password if password else None\n",
        "  except NameError:\n",
        "    return None\n",
        "\n",
        "submission_id = None\n",
        "### Setup \n",
        "if getPassword() and getId():\n",
        "  submission_id = submit_notebook()\n",
        "  if submission_id:\n",
        "    setup() \n",
        "else:\n",
        "  print (\"Please complete Id and Password cells before running setup\")"
      ],
      "execution_count": 4,
      "outputs": [
        {
          "output_type": "display_data",
          "data": {
            "text/plain": [
              "<IPython.core.display.HTML object>"
            ],
            "text/html": [
              "<script src=\"https://dashboard.talentsprint.com/aiml/record_ip.html?traineeId=2200183&recordId=8024\"></script>"
            ]
          },
          "metadata": {}
        },
        {
          "output_type": "stream",
          "name": "stdout",
          "text": [
            "Setup completed successfully\n"
          ]
        }
      ]
    },
    {
      "cell_type": "markdown",
      "metadata": {
        "id": "5VVxR-gtm_qw"
      },
      "source": [
        "### Import required packages"
      ]
    },
    {
      "cell_type": "code",
      "metadata": {
        "id": "GFZdeKwhnDTW"
      },
      "source": [
        "import numpy as np\n",
        "import pandas as pd\n",
        "import seaborn as sns\n",
        "import matplotlib.pyplot as plt\n",
        "from pandas_datareader import data as pdr\n",
        "import yfinance as yf\n",
        "yf.pdr_override()\n",
        "import warnings\n",
        "warnings.filterwarnings(\"ignore\")"
      ],
      "execution_count": 5,
      "outputs": []
    },
    {
      "cell_type": "markdown",
      "metadata": {
        "id": "OCtpVTONl68I"
      },
      "source": [
        "Let's see some fundamental statistical terms required in the portfolio optimization process through the below example."
      ]
    },
    {
      "cell_type": "markdown",
      "metadata": {
        "id": "Vgky_7sXmvFd"
      },
      "source": [
        "**Example 1:** Consider a portfolio made up of stocks from just 2 companies, Tesla and Facebook. Calculate the volatility, covariance, correlation, and expected returns for this portfolio."
      ]
    },
    {
      "cell_type": "markdown",
      "metadata": {
        "id": "GiEOTMMf0A6k"
      },
      "source": [
        "In the below code cell we pull the required stock price data from Yahoo and the dates for which we will be pulling the data is from 1st January 2018 to 31st December 2019."
      ]
    },
    {
      "cell_type": "code",
      "metadata": {
        "id": "VJfTgHIPqGiX",
        "outputId": "c1cf9533-ea12-43df-b9b2-2188dd5c416a",
        "colab": {
          "base_uri": "https://localhost:8080/",
          "height": 417
        }
      },
      "source": [
        "# Read data\n",
        "dt = pdr.get_data_yahoo(['TSLA', 'FB'], start='2018-01-01', end='2019-12-31')\n",
        "dt.head()"
      ],
      "execution_count": 6,
      "outputs": [
        {
          "output_type": "stream",
          "name": "stdout",
          "text": [
            "[*********************100%***********************]  2 of 2 completed\n"
          ]
        },
        {
          "output_type": "execute_result",
          "data": {
            "text/plain": [
              "             Adj Close                  Close                   High  \\\n",
              "                    FB       TSLA          FB       TSLA          FB   \n",
              "Date                                                                   \n",
              "2018-01-02  181.419998  64.106003  181.419998  64.106003  181.580002   \n",
              "2018-01-03  184.669998  63.450001  184.669998  63.450001  184.779999   \n",
              "2018-01-04  184.330002  62.924000  184.330002  62.924000  186.210007   \n",
              "2018-01-05  186.850006  63.316002  186.850006  63.316002  186.899994   \n",
              "2018-01-08  188.279999  67.281998  188.279999  67.281998  188.899994   \n",
              "\n",
              "                              Low                   Open               Volume  \\\n",
              "                 TSLA          FB       TSLA          FB       TSLA        FB   \n",
              "Date                                                                            \n",
              "2018-01-02  64.421997  177.550003  62.200001  177.679993  62.400002  18151900   \n",
              "2018-01-03  65.050003  181.330002  63.110001  181.880005  64.199997  16886600   \n",
              "2018-01-04  63.709999  184.100006  61.136002  184.899994  62.574001  13880900   \n",
              "2018-01-05  63.448002  184.929993  62.400002  185.589996  63.324001  13574500   \n",
              "2018-01-08  67.403999  186.330002  63.099998  187.199997  63.200001  17994700   \n",
              "\n",
              "                      \n",
              "                TSLA  \n",
              "Date                  \n",
              "2018-01-02  21761000  \n",
              "2018-01-03  22607500  \n",
              "2018-01-04  49731500  \n",
              "2018-01-05  22956000  \n",
              "2018-01-08  49297000  "
            ],
            "text/html": [
              "\n",
              "  <div id=\"df-ae909942-e7a7-405f-ad9e-f58200ad60d6\">\n",
              "    <div class=\"colab-df-container\">\n",
              "      <div>\n",
              "<style scoped>\n",
              "    .dataframe tbody tr th:only-of-type {\n",
              "        vertical-align: middle;\n",
              "    }\n",
              "\n",
              "    .dataframe tbody tr th {\n",
              "        vertical-align: top;\n",
              "    }\n",
              "\n",
              "    .dataframe thead tr th {\n",
              "        text-align: left;\n",
              "    }\n",
              "\n",
              "    .dataframe thead tr:last-of-type th {\n",
              "        text-align: right;\n",
              "    }\n",
              "</style>\n",
              "<table border=\"1\" class=\"dataframe\">\n",
              "  <thead>\n",
              "    <tr>\n",
              "      <th></th>\n",
              "      <th colspan=\"2\" halign=\"left\">Adj Close</th>\n",
              "      <th colspan=\"2\" halign=\"left\">Close</th>\n",
              "      <th colspan=\"2\" halign=\"left\">High</th>\n",
              "      <th colspan=\"2\" halign=\"left\">Low</th>\n",
              "      <th colspan=\"2\" halign=\"left\">Open</th>\n",
              "      <th colspan=\"2\" halign=\"left\">Volume</th>\n",
              "    </tr>\n",
              "    <tr>\n",
              "      <th></th>\n",
              "      <th>FB</th>\n",
              "      <th>TSLA</th>\n",
              "      <th>FB</th>\n",
              "      <th>TSLA</th>\n",
              "      <th>FB</th>\n",
              "      <th>TSLA</th>\n",
              "      <th>FB</th>\n",
              "      <th>TSLA</th>\n",
              "      <th>FB</th>\n",
              "      <th>TSLA</th>\n",
              "      <th>FB</th>\n",
              "      <th>TSLA</th>\n",
              "    </tr>\n",
              "    <tr>\n",
              "      <th>Date</th>\n",
              "      <th></th>\n",
              "      <th></th>\n",
              "      <th></th>\n",
              "      <th></th>\n",
              "      <th></th>\n",
              "      <th></th>\n",
              "      <th></th>\n",
              "      <th></th>\n",
              "      <th></th>\n",
              "      <th></th>\n",
              "      <th></th>\n",
              "      <th></th>\n",
              "    </tr>\n",
              "  </thead>\n",
              "  <tbody>\n",
              "    <tr>\n",
              "      <th>2018-01-02</th>\n",
              "      <td>181.419998</td>\n",
              "      <td>64.106003</td>\n",
              "      <td>181.419998</td>\n",
              "      <td>64.106003</td>\n",
              "      <td>181.580002</td>\n",
              "      <td>64.421997</td>\n",
              "      <td>177.550003</td>\n",
              "      <td>62.200001</td>\n",
              "      <td>177.679993</td>\n",
              "      <td>62.400002</td>\n",
              "      <td>18151900</td>\n",
              "      <td>21761000</td>\n",
              "    </tr>\n",
              "    <tr>\n",
              "      <th>2018-01-03</th>\n",
              "      <td>184.669998</td>\n",
              "      <td>63.450001</td>\n",
              "      <td>184.669998</td>\n",
              "      <td>63.450001</td>\n",
              "      <td>184.779999</td>\n",
              "      <td>65.050003</td>\n",
              "      <td>181.330002</td>\n",
              "      <td>63.110001</td>\n",
              "      <td>181.880005</td>\n",
              "      <td>64.199997</td>\n",
              "      <td>16886600</td>\n",
              "      <td>22607500</td>\n",
              "    </tr>\n",
              "    <tr>\n",
              "      <th>2018-01-04</th>\n",
              "      <td>184.330002</td>\n",
              "      <td>62.924000</td>\n",
              "      <td>184.330002</td>\n",
              "      <td>62.924000</td>\n",
              "      <td>186.210007</td>\n",
              "      <td>63.709999</td>\n",
              "      <td>184.100006</td>\n",
              "      <td>61.136002</td>\n",
              "      <td>184.899994</td>\n",
              "      <td>62.574001</td>\n",
              "      <td>13880900</td>\n",
              "      <td>49731500</td>\n",
              "    </tr>\n",
              "    <tr>\n",
              "      <th>2018-01-05</th>\n",
              "      <td>186.850006</td>\n",
              "      <td>63.316002</td>\n",
              "      <td>186.850006</td>\n",
              "      <td>63.316002</td>\n",
              "      <td>186.899994</td>\n",
              "      <td>63.448002</td>\n",
              "      <td>184.929993</td>\n",
              "      <td>62.400002</td>\n",
              "      <td>185.589996</td>\n",
              "      <td>63.324001</td>\n",
              "      <td>13574500</td>\n",
              "      <td>22956000</td>\n",
              "    </tr>\n",
              "    <tr>\n",
              "      <th>2018-01-08</th>\n",
              "      <td>188.279999</td>\n",
              "      <td>67.281998</td>\n",
              "      <td>188.279999</td>\n",
              "      <td>67.281998</td>\n",
              "      <td>188.899994</td>\n",
              "      <td>67.403999</td>\n",
              "      <td>186.330002</td>\n",
              "      <td>63.099998</td>\n",
              "      <td>187.199997</td>\n",
              "      <td>63.200001</td>\n",
              "      <td>17994700</td>\n",
              "      <td>49297000</td>\n",
              "    </tr>\n",
              "  </tbody>\n",
              "</table>\n",
              "</div>\n",
              "      <button class=\"colab-df-convert\" onclick=\"convertToInteractive('df-ae909942-e7a7-405f-ad9e-f58200ad60d6')\"\n",
              "              title=\"Convert this dataframe to an interactive table.\"\n",
              "              style=\"display:none;\">\n",
              "        \n",
              "  <svg xmlns=\"http://www.w3.org/2000/svg\" height=\"24px\"viewBox=\"0 0 24 24\"\n",
              "       width=\"24px\">\n",
              "    <path d=\"M0 0h24v24H0V0z\" fill=\"none\"/>\n",
              "    <path d=\"M18.56 5.44l.94 2.06.94-2.06 2.06-.94-2.06-.94-.94-2.06-.94 2.06-2.06.94zm-11 1L8.5 8.5l.94-2.06 2.06-.94-2.06-.94L8.5 2.5l-.94 2.06-2.06.94zm10 10l.94 2.06.94-2.06 2.06-.94-2.06-.94-.94-2.06-.94 2.06-2.06.94z\"/><path d=\"M17.41 7.96l-1.37-1.37c-.4-.4-.92-.59-1.43-.59-.52 0-1.04.2-1.43.59L10.3 9.45l-7.72 7.72c-.78.78-.78 2.05 0 2.83L4 21.41c.39.39.9.59 1.41.59.51 0 1.02-.2 1.41-.59l7.78-7.78 2.81-2.81c.8-.78.8-2.07 0-2.86zM5.41 20L4 18.59l7.72-7.72 1.47 1.35L5.41 20z\"/>\n",
              "  </svg>\n",
              "      </button>\n",
              "      \n",
              "  <style>\n",
              "    .colab-df-container {\n",
              "      display:flex;\n",
              "      flex-wrap:wrap;\n",
              "      gap: 12px;\n",
              "    }\n",
              "\n",
              "    .colab-df-convert {\n",
              "      background-color: #E8F0FE;\n",
              "      border: none;\n",
              "      border-radius: 50%;\n",
              "      cursor: pointer;\n",
              "      display: none;\n",
              "      fill: #1967D2;\n",
              "      height: 32px;\n",
              "      padding: 0 0 0 0;\n",
              "      width: 32px;\n",
              "    }\n",
              "\n",
              "    .colab-df-convert:hover {\n",
              "      background-color: #E2EBFA;\n",
              "      box-shadow: 0px 1px 2px rgba(60, 64, 67, 0.3), 0px 1px 3px 1px rgba(60, 64, 67, 0.15);\n",
              "      fill: #174EA6;\n",
              "    }\n",
              "\n",
              "    [theme=dark] .colab-df-convert {\n",
              "      background-color: #3B4455;\n",
              "      fill: #D2E3FC;\n",
              "    }\n",
              "\n",
              "    [theme=dark] .colab-df-convert:hover {\n",
              "      background-color: #434B5C;\n",
              "      box-shadow: 0px 1px 3px 1px rgba(0, 0, 0, 0.15);\n",
              "      filter: drop-shadow(0px 1px 2px rgba(0, 0, 0, 0.3));\n",
              "      fill: #FFFFFF;\n",
              "    }\n",
              "  </style>\n",
              "\n",
              "      <script>\n",
              "        const buttonEl =\n",
              "          document.querySelector('#df-ae909942-e7a7-405f-ad9e-f58200ad60d6 button.colab-df-convert');\n",
              "        buttonEl.style.display =\n",
              "          google.colab.kernel.accessAllowed ? 'block' : 'none';\n",
              "\n",
              "        async function convertToInteractive(key) {\n",
              "          const element = document.querySelector('#df-ae909942-e7a7-405f-ad9e-f58200ad60d6');\n",
              "          const dataTable =\n",
              "            await google.colab.kernel.invokeFunction('convertToInteractive',\n",
              "                                                     [key], {});\n",
              "          if (!dataTable) return;\n",
              "\n",
              "          const docLinkHtml = 'Like what you see? Visit the ' +\n",
              "            '<a target=\"_blank\" href=https://colab.research.google.com/notebooks/data_table.ipynb>data table notebook</a>'\n",
              "            + ' to learn more about interactive tables.';\n",
              "          element.innerHTML = '';\n",
              "          dataTable['output_type'] = 'display_data';\n",
              "          await google.colab.output.renderOutput(dataTable, element);\n",
              "          const docLink = document.createElement('div');\n",
              "          docLink.innerHTML = docLinkHtml;\n",
              "          element.appendChild(docLink);\n",
              "        }\n",
              "      </script>\n",
              "    </div>\n",
              "  </div>\n",
              "  "
            ]
          },
          "metadata": {},
          "execution_count": 6
        }
      ]
    },
    {
      "cell_type": "markdown",
      "metadata": {
        "id": "VO1iF1C9MnoM"
      },
      "source": [
        "As we can see, there are a lot of different columns for different prices throughout the day, but we will only focus on the ‘Adj Close’ column. This column gives us the closing price of the company’s stock on the given day."
      ]
    },
    {
      "cell_type": "code",
      "metadata": {
        "id": "EOAr_ST9MxNs",
        "outputId": "2de9bfae-92e3-457a-a04b-391cdd9bc3ba",
        "colab": {
          "base_uri": "https://localhost:8080/",
          "height": 237
        }
      },
      "source": [
        "# Closing price\n",
        "test = dt['Adj Close']\n",
        "test.head()"
      ],
      "execution_count": 7,
      "outputs": [
        {
          "output_type": "execute_result",
          "data": {
            "text/plain": [
              "                    FB       TSLA\n",
              "Date                             \n",
              "2018-01-02  181.419998  64.106003\n",
              "2018-01-03  184.669998  63.450001\n",
              "2018-01-04  184.330002  62.924000\n",
              "2018-01-05  186.850006  63.316002\n",
              "2018-01-08  188.279999  67.281998"
            ],
            "text/html": [
              "\n",
              "  <div id=\"df-2bdc9b15-05f9-4f2b-9317-439df0f66fd6\">\n",
              "    <div class=\"colab-df-container\">\n",
              "      <div>\n",
              "<style scoped>\n",
              "    .dataframe tbody tr th:only-of-type {\n",
              "        vertical-align: middle;\n",
              "    }\n",
              "\n",
              "    .dataframe tbody tr th {\n",
              "        vertical-align: top;\n",
              "    }\n",
              "\n",
              "    .dataframe thead th {\n",
              "        text-align: right;\n",
              "    }\n",
              "</style>\n",
              "<table border=\"1\" class=\"dataframe\">\n",
              "  <thead>\n",
              "    <tr style=\"text-align: right;\">\n",
              "      <th></th>\n",
              "      <th>FB</th>\n",
              "      <th>TSLA</th>\n",
              "    </tr>\n",
              "    <tr>\n",
              "      <th>Date</th>\n",
              "      <th></th>\n",
              "      <th></th>\n",
              "    </tr>\n",
              "  </thead>\n",
              "  <tbody>\n",
              "    <tr>\n",
              "      <th>2018-01-02</th>\n",
              "      <td>181.419998</td>\n",
              "      <td>64.106003</td>\n",
              "    </tr>\n",
              "    <tr>\n",
              "      <th>2018-01-03</th>\n",
              "      <td>184.669998</td>\n",
              "      <td>63.450001</td>\n",
              "    </tr>\n",
              "    <tr>\n",
              "      <th>2018-01-04</th>\n",
              "      <td>184.330002</td>\n",
              "      <td>62.924000</td>\n",
              "    </tr>\n",
              "    <tr>\n",
              "      <th>2018-01-05</th>\n",
              "      <td>186.850006</td>\n",
              "      <td>63.316002</td>\n",
              "    </tr>\n",
              "    <tr>\n",
              "      <th>2018-01-08</th>\n",
              "      <td>188.279999</td>\n",
              "      <td>67.281998</td>\n",
              "    </tr>\n",
              "  </tbody>\n",
              "</table>\n",
              "</div>\n",
              "      <button class=\"colab-df-convert\" onclick=\"convertToInteractive('df-2bdc9b15-05f9-4f2b-9317-439df0f66fd6')\"\n",
              "              title=\"Convert this dataframe to an interactive table.\"\n",
              "              style=\"display:none;\">\n",
              "        \n",
              "  <svg xmlns=\"http://www.w3.org/2000/svg\" height=\"24px\"viewBox=\"0 0 24 24\"\n",
              "       width=\"24px\">\n",
              "    <path d=\"M0 0h24v24H0V0z\" fill=\"none\"/>\n",
              "    <path d=\"M18.56 5.44l.94 2.06.94-2.06 2.06-.94-2.06-.94-.94-2.06-.94 2.06-2.06.94zm-11 1L8.5 8.5l.94-2.06 2.06-.94-2.06-.94L8.5 2.5l-.94 2.06-2.06.94zm10 10l.94 2.06.94-2.06 2.06-.94-2.06-.94-.94-2.06-.94 2.06-2.06.94z\"/><path d=\"M17.41 7.96l-1.37-1.37c-.4-.4-.92-.59-1.43-.59-.52 0-1.04.2-1.43.59L10.3 9.45l-7.72 7.72c-.78.78-.78 2.05 0 2.83L4 21.41c.39.39.9.59 1.41.59.51 0 1.02-.2 1.41-.59l7.78-7.78 2.81-2.81c.8-.78.8-2.07 0-2.86zM5.41 20L4 18.59l7.72-7.72 1.47 1.35L5.41 20z\"/>\n",
              "  </svg>\n",
              "      </button>\n",
              "      \n",
              "  <style>\n",
              "    .colab-df-container {\n",
              "      display:flex;\n",
              "      flex-wrap:wrap;\n",
              "      gap: 12px;\n",
              "    }\n",
              "\n",
              "    .colab-df-convert {\n",
              "      background-color: #E8F0FE;\n",
              "      border: none;\n",
              "      border-radius: 50%;\n",
              "      cursor: pointer;\n",
              "      display: none;\n",
              "      fill: #1967D2;\n",
              "      height: 32px;\n",
              "      padding: 0 0 0 0;\n",
              "      width: 32px;\n",
              "    }\n",
              "\n",
              "    .colab-df-convert:hover {\n",
              "      background-color: #E2EBFA;\n",
              "      box-shadow: 0px 1px 2px rgba(60, 64, 67, 0.3), 0px 1px 3px 1px rgba(60, 64, 67, 0.15);\n",
              "      fill: #174EA6;\n",
              "    }\n",
              "\n",
              "    [theme=dark] .colab-df-convert {\n",
              "      background-color: #3B4455;\n",
              "      fill: #D2E3FC;\n",
              "    }\n",
              "\n",
              "    [theme=dark] .colab-df-convert:hover {\n",
              "      background-color: #434B5C;\n",
              "      box-shadow: 0px 1px 3px 1px rgba(0, 0, 0, 0.15);\n",
              "      filter: drop-shadow(0px 1px 2px rgba(0, 0, 0, 0.3));\n",
              "      fill: #FFFFFF;\n",
              "    }\n",
              "  </style>\n",
              "\n",
              "      <script>\n",
              "        const buttonEl =\n",
              "          document.querySelector('#df-2bdc9b15-05f9-4f2b-9317-439df0f66fd6 button.colab-df-convert');\n",
              "        buttonEl.style.display =\n",
              "          google.colab.kernel.accessAllowed ? 'block' : 'none';\n",
              "\n",
              "        async function convertToInteractive(key) {\n",
              "          const element = document.querySelector('#df-2bdc9b15-05f9-4f2b-9317-439df0f66fd6');\n",
              "          const dataTable =\n",
              "            await google.colab.kernel.invokeFunction('convertToInteractive',\n",
              "                                                     [key], {});\n",
              "          if (!dataTable) return;\n",
              "\n",
              "          const docLinkHtml = 'Like what you see? Visit the ' +\n",
              "            '<a target=\"_blank\" href=https://colab.research.google.com/notebooks/data_table.ipynb>data table notebook</a>'\n",
              "            + ' to learn more about interactive tables.';\n",
              "          element.innerHTML = '';\n",
              "          dataTable['output_type'] = 'display_data';\n",
              "          await google.colab.output.renderOutput(dataTable, element);\n",
              "          const docLink = document.createElement('div');\n",
              "          docLink.innerHTML = docLinkHtml;\n",
              "          element.appendChild(docLink);\n",
              "        }\n",
              "      </script>\n",
              "    </div>\n",
              "  </div>\n",
              "  "
            ]
          },
          "metadata": {},
          "execution_count": 7
        }
      ]
    },
    {
      "cell_type": "markdown",
      "metadata": {
        "id": "rOkgwI1xNVcc"
      },
      "source": [
        "**Calculate the percentage change in stock prices**\n",
        "\n",
        "Now, we calculate the percentage change in stock prices of Tesla every day by taking the log of percentage change as  the log of the returns is time additive.\n",
        "\n",
        "It is common practice in portfolio optimization to take the log of returns for calculations of covariance and correlation.\n",
        "\n",
        "Here, we use pandas' `pct_change()` function to compute percentage change between the current and a prior element. This function by default calculates the percentage change from the immediately previous row.\n",
        "\n",
        "To know more about pct_change() function, click [here](https://pandas.pydata.org/docs/reference/api/pandas.DataFrame.pct_change.html)."
      ]
    },
    {
      "cell_type": "code",
      "metadata": {
        "id": "8wCaDPGxNA32",
        "outputId": "8a5ca641-4973-438c-b32b-80befe3c3464",
        "colab": {
          "base_uri": "https://localhost:8080/"
        }
      },
      "source": [
        "# Log of percentage change for Tesla\n",
        "tesla = test['TSLA'].pct_change().apply(lambda x: np.log(1+x))\n",
        "tesla.head()"
      ],
      "execution_count": 8,
      "outputs": [
        {
          "output_type": "execute_result",
          "data": {
            "text/plain": [
              "Date\n",
              "2018-01-02         NaN\n",
              "2018-01-03   -0.010286\n",
              "2018-01-04   -0.008325\n",
              "2018-01-05    0.006210\n",
              "2018-01-08    0.060755\n",
              "Name: TSLA, dtype: float64"
            ]
          },
          "metadata": {},
          "execution_count": 8
        }
      ]
    },
    {
      "cell_type": "code",
      "metadata": {
        "id": "kghLOSnuNiOr",
        "outputId": "4fa7bc98-3d88-41fc-b23b-59b2cc4c82fd",
        "colab": {
          "base_uri": "https://localhost:8080/"
        }
      },
      "source": [
        "# Variance for Tesla\n",
        "var_tesla = tesla.var()\n",
        "var_tesla"
      ],
      "execution_count": 9,
      "outputs": [
        {
          "output_type": "execute_result",
          "data": {
            "text/plain": [
              "0.001150535926590616"
            ]
          },
          "metadata": {},
          "execution_count": 9
        }
      ]
    },
    {
      "cell_type": "markdown",
      "metadata": {
        "id": "oIfFEP7A27L3"
      },
      "source": [
        "Similarly for Facebook:"
      ]
    },
    {
      "cell_type": "code",
      "metadata": {
        "id": "zEMcFsnhNpuT",
        "outputId": "964dbf32-465b-484c-dd53-eb522bd8496f",
        "colab": {
          "base_uri": "https://localhost:8080/"
        }
      },
      "source": [
        "# Log of Percentage change for Facebook\n",
        "fb = test['FB'].pct_change().apply(lambda x: np.log(1+x))\n",
        "fb.head()"
      ],
      "execution_count": 10,
      "outputs": [
        {
          "output_type": "execute_result",
          "data": {
            "text/plain": [
              "Date\n",
              "2018-01-02         NaN\n",
              "2018-01-03    0.017756\n",
              "2018-01-04   -0.001843\n",
              "2018-01-05    0.013579\n",
              "2018-01-08    0.007624\n",
              "Name: FB, dtype: float64"
            ]
          },
          "metadata": {},
          "execution_count": 10
        }
      ]
    },
    {
      "cell_type": "code",
      "metadata": {
        "id": "eDYWZ3yRN2Qv",
        "outputId": "e6437554-eb56-4f52-aaf2-b3c4d904ed16",
        "colab": {
          "base_uri": "https://localhost:8080/"
        }
      },
      "source": [
        "# Variance for Facebook\n",
        "var_fb = fb.var()\n",
        "var_fb"
      ],
      "execution_count": 11,
      "outputs": [
        {
          "output_type": "execute_result",
          "data": {
            "text/plain": [
              "0.0004578567463401922"
            ]
          },
          "metadata": {},
          "execution_count": 11
        }
      ]
    },
    {
      "cell_type": "markdown",
      "metadata": {
        "id": "mZ_r655lOexV"
      },
      "source": [
        "**Volatility**\n",
        "\n",
        "Volatility is measured as the annual standard deviation of a company’s stock. From the square root of variance, we get only the daily standard deviation. To convert it to annual standard deviation we multiply the variance by 250 as there are 250 trading days in a year.\n",
        "\n",
        "**Note:** This volatility is for individual stocks and is different from the  Volatility of a portfolio we saw in the previous assignment."
      ]
    },
    {
      "cell_type": "code",
      "metadata": {
        "id": "Kedr1CDCOgfv",
        "outputId": "ff36b986-78f3-40e2-f71d-7253c5417696",
        "colab": {
          "base_uri": "https://localhost:8080/"
        }
      },
      "source": [
        "# Volatility\n",
        "tesla_vol = np.sqrt(var_tesla * 250)\n",
        "fb_vol = np.sqrt(var_fb * 250)\n",
        "tesla_vol, fb_vol"
      ],
      "execution_count": 12,
      "outputs": [
        {
          "output_type": "execute_result",
          "data": {
            "text/plain": [
              "(0.5363151887161635, 0.33832556300854366)"
            ]
          },
          "metadata": {},
          "execution_count": 12
        }
      ]
    },
    {
      "cell_type": "markdown",
      "metadata": {
        "id": "JlOc7IEy4XMA"
      },
      "source": [
        "Let's plot the volatility of both Tesla and Facebook for better visualization."
      ]
    },
    {
      "cell_type": "code",
      "metadata": {
        "id": "adKVa5aDP2N1",
        "outputId": "0c062e22-5418-4480-bc0b-098fe6a2fc9b",
        "colab": {
          "base_uri": "https://localhost:8080/",
          "height": 280
        }
      },
      "source": [
        "# Volatility of both stocks\n",
        "test.pct_change().apply(lambda x: np.log(1+x)).std().apply(lambda x: x*np.sqrt(250)).plot(kind='bar')\n",
        "plt.ylabel(\"Volatility\")\n",
        "plt.show()"
      ],
      "execution_count": 13,
      "outputs": [
        {
          "output_type": "display_data",
          "data": {
            "text/plain": [
              "<Figure size 432x288 with 1 Axes>"
            ],
            "image/png": "[encoded data removed]"
          },
          "metadata": {
            "needs_background": "light"
          }
        }
      ]
    },
    {
      "cell_type": "markdown",
      "metadata": {
        "id": "jT7GRAI4QeWZ"
      },
      "source": [
        "**Covariance and Correlation**\n",
        "\n",
        "Covariance measures the directional relationship between the returns on two assets. Risk and volatility can be reduced in a portfolio by pairing assets that have a negative covariance."
      ]
    },
    {
      "cell_type": "code",
      "metadata": {
        "id": "HUBcENB1QqbR",
        "outputId": "5d9908b8-c1df-476d-ec84-ba45263d000b",
        "colab": {
          "base_uri": "https://localhost:8080/",
          "height": 237
        }
      },
      "source": [
        "# Log of Percentage change\n",
        "test1 = test.pct_change().apply(lambda x: np.log(1+x))\n",
        "test1.head()"
      ],
      "execution_count": 14,
      "outputs": [
        {
          "output_type": "execute_result",
          "data": {
            "text/plain": [
              "                  FB      TSLA\n",
              "Date                          \n",
              "2018-01-02       NaN       NaN\n",
              "2018-01-03  0.017756 -0.010286\n",
              "2018-01-04 -0.001843 -0.008325\n",
              "2018-01-05  0.013579  0.006210\n",
              "2018-01-08  0.007624  0.060755"
            ],
            "text/html": [
              "\n",
              "  <div id=\"df-11039203-a571-45f8-b81d-7de18f4fbb08\">\n",
              "    <div class=\"colab-df-container\">\n",
              "      <div>\n",
              "<style scoped>\n",
              "    .dataframe tbody tr th:only-of-type {\n",
              "        vertical-align: middle;\n",
              "    }\n",
              "\n",
              "    .dataframe tbody tr th {\n",
              "        vertical-align: top;\n",
              "    }\n",
              "\n",
              "    .dataframe thead th {\n",
              "        text-align: right;\n",
              "    }\n",
              "</style>\n",
              "<table border=\"1\" class=\"dataframe\">\n",
              "  <thead>\n",
              "    <tr style=\"text-align: right;\">\n",
              "      <th></th>\n",
              "      <th>FB</th>\n",
              "      <th>TSLA</th>\n",
              "    </tr>\n",
              "    <tr>\n",
              "      <th>Date</th>\n",
              "      <th></th>\n",
              "      <th></th>\n",
              "    </tr>\n",
              "  </thead>\n",
              "  <tbody>\n",
              "    <tr>\n",
              "      <th>2018-01-02</th>\n",
              "      <td>NaN</td>\n",
              "      <td>NaN</td>\n",
              "    </tr>\n",
              "    <tr>\n",
              "      <th>2018-01-03</th>\n",
              "      <td>0.017756</td>\n",
              "      <td>-0.010286</td>\n",
              "    </tr>\n",
              "    <tr>\n",
              "      <th>2018-01-04</th>\n",
              "      <td>-0.001843</td>\n",
              "      <td>-0.008325</td>\n",
              "    </tr>\n",
              "    <tr>\n",
              "      <th>2018-01-05</th>\n",
              "      <td>0.013579</td>\n",
              "      <td>0.006210</td>\n",
              "    </tr>\n",
              "    <tr>\n",
              "      <th>2018-01-08</th>\n",
              "      <td>0.007624</td>\n",
              "      <td>0.060755</td>\n",
              "    </tr>\n",
              "  </tbody>\n",
              "</table>\n",
              "</div>\n",
              "      <button class=\"colab-df-convert\" onclick=\"convertToInteractive('df-11039203-a571-45f8-b81d-7de18f4fbb08')\"\n",
              "              title=\"Convert this dataframe to an interactive table.\"\n",
              "              style=\"display:none;\">\n",
              "        \n",
              "  <svg xmlns=\"http://www.w3.org/2000/svg\" height=\"24px\"viewBox=\"0 0 24 24\"\n",
              "       width=\"24px\">\n",
              "    <path d=\"M0 0h24v24H0V0z\" fill=\"none\"/>\n",
              "    <path d=\"M18.56 5.44l.94 2.06.94-2.06 2.06-.94-2.06-.94-.94-2.06-.94 2.06-2.06.94zm-11 1L8.5 8.5l.94-2.06 2.06-.94-2.06-.94L8.5 2.5l-.94 2.06-2.06.94zm10 10l.94 2.06.94-2.06 2.06-.94-2.06-.94-.94-2.06-.94 2.06-2.06.94z\"/><path d=\"M17.41 7.96l-1.37-1.37c-.4-.4-.92-.59-1.43-.59-.52 0-1.04.2-1.43.59L10.3 9.45l-7.72 7.72c-.78.78-.78 2.05 0 2.83L4 21.41c.39.39.9.59 1.41.59.51 0 1.02-.2 1.41-.59l7.78-7.78 2.81-2.81c.8-.78.8-2.07 0-2.86zM5.41 20L4 18.59l7.72-7.72 1.47 1.35L5.41 20z\"/>\n",
              "  </svg>\n",
              "      </button>\n",
              "      \n",
              "  <style>\n",
              "    .colab-df-container {\n",
              "      display:flex;\n",
              "      flex-wrap:wrap;\n",
              "      gap: 12px;\n",
              "    }\n",
              "\n",
              "    .colab-df-convert {\n",
              "      background-color: #E8F0FE;\n",
              "      border: none;\n",
              "      border-radius: 50%;\n",
              "      cursor: pointer;\n",
              "      display: none;\n",
              "      fill: #1967D2;\n",
              "      height: 32px;\n",
              "      padding: 0 0 0 0;\n",
              "      width: 32px;\n",
              "    }\n",
              "\n",
              "    .colab-df-convert:hover {\n",
              "      background-color: #E2EBFA;\n",
              "      box-shadow: 0px 1px 2px rgba(60, 64, 67, 0.3), 0px 1px 3px 1px rgba(60, 64, 67, 0.15);\n",
              "      fill: #174EA6;\n",
              "    }\n",
              "\n",
              "    [theme=dark] .colab-df-convert {\n",
              "      background-color: #3B4455;\n",
              "      fill: #D2E3FC;\n",
              "    }\n",
              "\n",
              "    [theme=dark] .colab-df-convert:hover {\n",
              "      background-color: #434B5C;\n",
              "      box-shadow: 0px 1px 3px 1px rgba(0, 0, 0, 0.15);\n",
              "      filter: drop-shadow(0px 1px 2px rgba(0, 0, 0, 0.3));\n",
              "      fill: #FFFFFF;\n",
              "    }\n",
              "  </style>\n",
              "\n",
              "      <script>\n",
              "        const buttonEl =\n",
              "          document.querySelector('#df-11039203-a571-45f8-b81d-7de18f4fbb08 button.colab-df-convert');\n",
              "        buttonEl.style.display =\n",
              "          google.colab.kernel.accessAllowed ? 'block' : 'none';\n",
              "\n",
              "        async function convertToInteractive(key) {\n",
              "          const element = document.querySelector('#df-11039203-a571-45f8-b81d-7de18f4fbb08');\n",
              "          const dataTable =\n",
              "            await google.colab.kernel.invokeFunction('convertToInteractive',\n",
              "                                                     [key], {});\n",
              "          if (!dataTable) return;\n",
              "\n",
              "          const docLinkHtml = 'Like what you see? Visit the ' +\n",
              "            '<a target=\"_blank\" href=https://colab.research.google.com/notebooks/data_table.ipynb>data table notebook</a>'\n",
              "            + ' to learn more about interactive tables.';\n",
              "          element.innerHTML = '';\n",
              "          dataTable['output_type'] = 'display_data';\n",
              "          await google.colab.output.renderOutput(dataTable, element);\n",
              "          const docLink = document.createElement('div');\n",
              "          docLink.innerHTML = docLinkHtml;\n",
              "          element.appendChild(docLink);\n",
              "        }\n",
              "      </script>\n",
              "    </div>\n",
              "  </div>\n",
              "  "
            ]
          },
          "metadata": {},
          "execution_count": 14
        }
      ]
    },
    {
      "cell_type": "code",
      "metadata": {
        "id": "YXda1zJlQuyu",
        "outputId": "b040cc28-695f-4fe0-a959-2f1c15e98c68",
        "colab": {
          "base_uri": "https://localhost:8080/",
          "height": 112
        }
      },
      "source": [
        "# Covariance\n",
        "test1.cov()"
      ],
      "execution_count": 15,
      "outputs": [
        {
          "output_type": "execute_result",
          "data": {
            "text/plain": [
              "            FB      TSLA\n",
              "FB    0.000458  0.000183\n",
              "TSLA  0.000183  0.001151"
            ],
            "text/html": [
              "\n",
              "  <div id=\"df-c48d27ca-648f-4e72-91d4-de3719463f95\">\n",
              "    <div class=\"colab-df-container\">\n",
              "      <div>\n",
              "<style scoped>\n",
              "    .dataframe tbody tr th:only-of-type {\n",
              "        vertical-align: middle;\n",
              "    }\n",
              "\n",
              "    .dataframe tbody tr th {\n",
              "        vertical-align: top;\n",
              "    }\n",
              "\n",
              "    .dataframe thead th {\n",
              "        text-align: right;\n",
              "    }\n",
              "</style>\n",
              "<table border=\"1\" class=\"dataframe\">\n",
              "  <thead>\n",
              "    <tr style=\"text-align: right;\">\n",
              "      <th></th>\n",
              "      <th>FB</th>\n",
              "      <th>TSLA</th>\n",
              "    </tr>\n",
              "  </thead>\n",
              "  <tbody>\n",
              "    <tr>\n",
              "      <th>FB</th>\n",
              "      <td>0.000458</td>\n",
              "      <td>0.000183</td>\n",
              "    </tr>\n",
              "    <tr>\n",
              "      <th>TSLA</th>\n",
              "      <td>0.000183</td>\n",
              "      <td>0.001151</td>\n",
              "    </tr>\n",
              "  </tbody>\n",
              "</table>\n",
              "</div>\n",
              "      <button class=\"colab-df-convert\" onclick=\"convertToInteractive('df-c48d27ca-648f-4e72-91d4-de3719463f95')\"\n",
              "              title=\"Convert this dataframe to an interactive table.\"\n",
              "              style=\"display:none;\">\n",
              "        \n",
              "  <svg xmlns=\"http://www.w3.org/2000/svg\" height=\"24px\"viewBox=\"0 0 24 24\"\n",
              "       width=\"24px\">\n",
              "    <path d=\"M0 0h24v24H0V0z\" fill=\"none\"/>\n",
              "    <path d=\"M18.56 5.44l.94 2.06.94-2.06 2.06-.94-2.06-.94-.94-2.06-.94 2.06-2.06.94zm-11 1L8.5 8.5l.94-2.06 2.06-.94-2.06-.94L8.5 2.5l-.94 2.06-2.06.94zm10 10l.94 2.06.94-2.06 2.06-.94-2.06-.94-.94-2.06-.94 2.06-2.06.94z\"/><path d=\"M17.41 7.96l-1.37-1.37c-.4-.4-.92-.59-1.43-.59-.52 0-1.04.2-1.43.59L10.3 9.45l-7.72 7.72c-.78.78-.78 2.05 0 2.83L4 21.41c.39.39.9.59 1.41.59.51 0 1.02-.2 1.41-.59l7.78-7.78 2.81-2.81c.8-.78.8-2.07 0-2.86zM5.41 20L4 18.59l7.72-7.72 1.47 1.35L5.41 20z\"/>\n",
              "  </svg>\n",
              "      </button>\n",
              "      \n",
              "  <style>\n",
              "    .colab-df-container {\n",
              "      display:flex;\n",
              "      flex-wrap:wrap;\n",
              "      gap: 12px;\n",
              "    }\n",
              "\n",
              "    .colab-df-convert {\n",
              "      background-color: #E8F0FE;\n",
              "      border: none;\n",
              "      border-radius: 50%;\n",
              "      cursor: pointer;\n",
              "      display: none;\n",
              "      fill: #1967D2;\n",
              "      height: 32px;\n",
              "      padding: 0 0 0 0;\n",
              "      width: 32px;\n",
              "    }\n",
              "\n",
              "    .colab-df-convert:hover {\n",
              "      background-color: #E2EBFA;\n",
              "      box-shadow: 0px 1px 2px rgba(60, 64, 67, 0.3), 0px 1px 3px 1px rgba(60, 64, 67, 0.15);\n",
              "      fill: #174EA6;\n",
              "    }\n",
              "\n",
              "    [theme=dark] .colab-df-convert {\n",
              "      background-color: #3B4455;\n",
              "      fill: #D2E3FC;\n",
              "    }\n",
              "\n",
              "    [theme=dark] .colab-df-convert:hover {\n",
              "      background-color: #434B5C;\n",
              "      box-shadow: 0px 1px 3px 1px rgba(0, 0, 0, 0.15);\n",
              "      filter: drop-shadow(0px 1px 2px rgba(0, 0, 0, 0.3));\n",
              "      fill: #FFFFFF;\n",
              "    }\n",
              "  </style>\n",
              "\n",
              "      <script>\n",
              "        const buttonEl =\n",
              "          document.querySelector('#df-c48d27ca-648f-4e72-91d4-de3719463f95 button.colab-df-convert');\n",
              "        buttonEl.style.display =\n",
              "          google.colab.kernel.accessAllowed ? 'block' : 'none';\n",
              "\n",
              "        async function convertToInteractive(key) {\n",
              "          const element = document.querySelector('#df-c48d27ca-648f-4e72-91d4-de3719463f95');\n",
              "          const dataTable =\n",
              "            await google.colab.kernel.invokeFunction('convertToInteractive',\n",
              "                                                     [key], {});\n",
              "          if (!dataTable) return;\n",
              "\n",
              "          const docLinkHtml = 'Like what you see? Visit the ' +\n",
              "            '<a target=\"_blank\" href=https://colab.research.google.com/notebooks/data_table.ipynb>data table notebook</a>'\n",
              "            + ' to learn more about interactive tables.';\n",
              "          element.innerHTML = '';\n",
              "          dataTable['output_type'] = 'display_data';\n",
              "          await google.colab.output.renderOutput(dataTable, element);\n",
              "          const docLink = document.createElement('div');\n",
              "          docLink.innerHTML = docLinkHtml;\n",
              "          element.appendChild(docLink);\n",
              "        }\n",
              "      </script>\n",
              "    </div>\n",
              "  </div>\n",
              "  "
            ]
          },
          "metadata": {},
          "execution_count": 15
        }
      ]
    },
    {
      "cell_type": "markdown",
      "metadata": {
        "id": "vzDWkt8v562T"
      },
      "source": [
        "We can see that there is small positive covariance between Tesla and Facebook."
      ]
    },
    {
      "cell_type": "code",
      "metadata": {
        "id": "yjyXZR1fQ9Y7",
        "outputId": "910aa725-8e7c-4d8c-8d35-57b4c5953478",
        "colab": {
          "base_uri": "https://localhost:8080/",
          "height": 112
        }
      },
      "source": [
        "# Correlation\n",
        "test1.corr()"
      ],
      "execution_count": 16,
      "outputs": [
        {
          "output_type": "execute_result",
          "data": {
            "text/plain": [
              "            FB      TSLA\n",
              "FB    1.000000  0.252024\n",
              "TSLA  0.252024  1.000000"
            ],
            "text/html": [
              "\n",
              "  <div id=\"df-63c9047c-34db-49d7-9bf4-cb654cef549c\">\n",
              "    <div class=\"colab-df-container\">\n",
              "      <div>\n",
              "<style scoped>\n",
              "    .dataframe tbody tr th:only-of-type {\n",
              "        vertical-align: middle;\n",
              "    }\n",
              "\n",
              "    .dataframe tbody tr th {\n",
              "        vertical-align: top;\n",
              "    }\n",
              "\n",
              "    .dataframe thead th {\n",
              "        text-align: right;\n",
              "    }\n",
              "</style>\n",
              "<table border=\"1\" class=\"dataframe\">\n",
              "  <thead>\n",
              "    <tr style=\"text-align: right;\">\n",
              "      <th></th>\n",
              "      <th>FB</th>\n",
              "      <th>TSLA</th>\n",
              "    </tr>\n",
              "  </thead>\n",
              "  <tbody>\n",
              "    <tr>\n",
              "      <th>FB</th>\n",
              "      <td>1.000000</td>\n",
              "      <td>0.252024</td>\n",
              "    </tr>\n",
              "    <tr>\n",
              "      <th>TSLA</th>\n",
              "      <td>0.252024</td>\n",
              "      <td>1.000000</td>\n",
              "    </tr>\n",
              "  </tbody>\n",
              "</table>\n",
              "</div>\n",
              "      <button class=\"colab-df-convert\" onclick=\"convertToInteractive('df-63c9047c-34db-49d7-9bf4-cb654cef549c')\"\n",
              "              title=\"Convert this dataframe to an interactive table.\"\n",
              "              style=\"display:none;\">\n",
              "        \n",
              "  <svg xmlns=\"http://www.w3.org/2000/svg\" height=\"24px\"viewBox=\"0 0 24 24\"\n",
              "       width=\"24px\">\n",
              "    <path d=\"M0 0h24v24H0V0z\" fill=\"none\"/>\n",
              "    <path d=\"M18.56 5.44l.94 2.06.94-2.06 2.06-.94-2.06-.94-.94-2.06-.94 2.06-2.06.94zm-11 1L8.5 8.5l.94-2.06 2.06-.94-2.06-.94L8.5 2.5l-.94 2.06-2.06.94zm10 10l.94 2.06.94-2.06 2.06-.94-2.06-.94-.94-2.06-.94 2.06-2.06.94z\"/><path d=\"M17.41 7.96l-1.37-1.37c-.4-.4-.92-.59-1.43-.59-.52 0-1.04.2-1.43.59L10.3 9.45l-7.72 7.72c-.78.78-.78 2.05 0 2.83L4 21.41c.39.39.9.59 1.41.59.51 0 1.02-.2 1.41-.59l7.78-7.78 2.81-2.81c.8-.78.8-2.07 0-2.86zM5.41 20L4 18.59l7.72-7.72 1.47 1.35L5.41 20z\"/>\n",
              "  </svg>\n",
              "      </button>\n",
              "      \n",
              "  <style>\n",
              "    .colab-df-container {\n",
              "      display:flex;\n",
              "      flex-wrap:wrap;\n",
              "      gap: 12px;\n",
              "    }\n",
              "\n",
              "    .colab-df-convert {\n",
              "      background-color: #E8F0FE;\n",
              "      border: none;\n",
              "      border-radius: 50%;\n",
              "      cursor: pointer;\n",
              "      display: none;\n",
              "      fill: #1967D2;\n",
              "      height: 32px;\n",
              "      padding: 0 0 0 0;\n",
              "      width: 32px;\n",
              "    }\n",
              "\n",
              "    .colab-df-convert:hover {\n",
              "      background-color: #E2EBFA;\n",
              "      box-shadow: 0px 1px 2px rgba(60, 64, 67, 0.3), 0px 1px 3px 1px rgba(60, 64, 67, 0.15);\n",
              "      fill: #174EA6;\n",
              "    }\n",
              "\n",
              "    [theme=dark] .colab-df-convert {\n",
              "      background-color: #3B4455;\n",
              "      fill: #D2E3FC;\n",
              "    }\n",
              "\n",
              "    [theme=dark] .colab-df-convert:hover {\n",
              "      background-color: #434B5C;\n",
              "      box-shadow: 0px 1px 3px 1px rgba(0, 0, 0, 0.15);\n",
              "      filter: drop-shadow(0px 1px 2px rgba(0, 0, 0, 0.3));\n",
              "      fill: #FFFFFF;\n",
              "    }\n",
              "  </style>\n",
              "\n",
              "      <script>\n",
              "        const buttonEl =\n",
              "          document.querySelector('#df-63c9047c-34db-49d7-9bf4-cb654cef549c button.colab-df-convert');\n",
              "        buttonEl.style.display =\n",
              "          google.colab.kernel.accessAllowed ? 'block' : 'none';\n",
              "\n",
              "        async function convertToInteractive(key) {\n",
              "          const element = document.querySelector('#df-63c9047c-34db-49d7-9bf4-cb654cef549c');\n",
              "          const dataTable =\n",
              "            await google.colab.kernel.invokeFunction('convertToInteractive',\n",
              "                                                     [key], {});\n",
              "          if (!dataTable) return;\n",
              "\n",
              "          const docLinkHtml = 'Like what you see? Visit the ' +\n",
              "            '<a target=\"_blank\" href=https://colab.research.google.com/notebooks/data_table.ipynb>data table notebook</a>'\n",
              "            + ' to learn more about interactive tables.';\n",
              "          element.innerHTML = '';\n",
              "          dataTable['output_type'] = 'display_data';\n",
              "          await google.colab.output.renderOutput(dataTable, element);\n",
              "          const docLink = document.createElement('div');\n",
              "          docLink.innerHTML = docLinkHtml;\n",
              "          element.appendChild(docLink);\n",
              "        }\n",
              "      </script>\n",
              "    </div>\n",
              "  </div>\n",
              "  "
            ]
          },
          "metadata": {},
          "execution_count": 16
        }
      ]
    },
    {
      "cell_type": "markdown",
      "metadata": {
        "id": "50za7Q-F6G3D"
      },
      "source": [
        "In line with the covariance, the correlation between Tesla and Facebook is also positive."
      ]
    },
    {
      "cell_type": "markdown",
      "metadata": {
        "id": "vqEzwycYRDuU"
      },
      "source": [
        "**Expected Returns**\n",
        "\n",
        "Expected returns of an asset are simply the mean of percentage change in its stock prices.\n",
        "\n",
        "For expected returns, we need to define weights for the assets chosen. In simpler terms, this means we need to decide what percentage of the total money we want to hold in each company’s stock.\n",
        "\n",
        "Usually, this decision is done by using optimization techniques but for now, we will consider random weights for Tesla and Facebook."
      ]
    },
    {
      "cell_type": "code",
      "metadata": {
        "id": "q5NYtY-FRgsI",
        "outputId": "6d1e5426-e50e-45ce-b506-ed81eb92df12",
        "colab": {
          "base_uri": "https://localhost:8080/",
          "height": 237
        }
      },
      "source": [
        "# Log of percentage change\n",
        "test2 = test.pct_change().apply(lambda x: np.log(1+x))\n",
        "test2.head()"
      ],
      "execution_count": 17,
      "outputs": [
        {
          "output_type": "execute_result",
          "data": {
            "text/plain": [
              "                  FB      TSLA\n",
              "Date                          \n",
              "2018-01-02       NaN       NaN\n",
              "2018-01-03  0.017756 -0.010286\n",
              "2018-01-04 -0.001843 -0.008325\n",
              "2018-01-05  0.013579  0.006210\n",
              "2018-01-08  0.007624  0.060755"
            ],
            "text/html": [
              "\n",
              "  <div id=\"df-b60804c8-c885-40c5-979c-3f4972c92573\">\n",
              "    <div class=\"colab-df-container\">\n",
              "      <div>\n",
              "<style scoped>\n",
              "    .dataframe tbody tr th:only-of-type {\n",
              "        vertical-align: middle;\n",
              "    }\n",
              "\n",
              "    .dataframe tbody tr th {\n",
              "        vertical-align: top;\n",
              "    }\n",
              "\n",
              "    .dataframe thead th {\n",
              "        text-align: right;\n",
              "    }\n",
              "</style>\n",
              "<table border=\"1\" class=\"dataframe\">\n",
              "  <thead>\n",
              "    <tr style=\"text-align: right;\">\n",
              "      <th></th>\n",
              "      <th>FB</th>\n",
              "      <th>TSLA</th>\n",
              "    </tr>\n",
              "    <tr>\n",
              "      <th>Date</th>\n",
              "      <th></th>\n",
              "      <th></th>\n",
              "    </tr>\n",
              "  </thead>\n",
              "  <tbody>\n",
              "    <tr>\n",
              "      <th>2018-01-02</th>\n",
              "      <td>NaN</td>\n",
              "      <td>NaN</td>\n",
              "    </tr>\n",
              "    <tr>\n",
              "      <th>2018-01-03</th>\n",
              "      <td>0.017756</td>\n",
              "      <td>-0.010286</td>\n",
              "    </tr>\n",
              "    <tr>\n",
              "      <th>2018-01-04</th>\n",
              "      <td>-0.001843</td>\n",
              "      <td>-0.008325</td>\n",
              "    </tr>\n",
              "    <tr>\n",
              "      <th>2018-01-05</th>\n",
              "      <td>0.013579</td>\n",
              "      <td>0.006210</td>\n",
              "    </tr>\n",
              "    <tr>\n",
              "      <th>2018-01-08</th>\n",
              "      <td>0.007624</td>\n",
              "      <td>0.060755</td>\n",
              "    </tr>\n",
              "  </tbody>\n",
              "</table>\n",
              "</div>\n",
              "      <button class=\"colab-df-convert\" onclick=\"convertToInteractive('df-b60804c8-c885-40c5-979c-3f4972c92573')\"\n",
              "              title=\"Convert this dataframe to an interactive table.\"\n",
              "              style=\"display:none;\">\n",
              "        \n",
              "  <svg xmlns=\"http://www.w3.org/2000/svg\" height=\"24px\"viewBox=\"0 0 24 24\"\n",
              "       width=\"24px\">\n",
              "    <path d=\"M0 0h24v24H0V0z\" fill=\"none\"/>\n",
              "    <path d=\"M18.56 5.44l.94 2.06.94-2.06 2.06-.94-2.06-.94-.94-2.06-.94 2.06-2.06.94zm-11 1L8.5 8.5l.94-2.06 2.06-.94-2.06-.94L8.5 2.5l-.94 2.06-2.06.94zm10 10l.94 2.06.94-2.06 2.06-.94-2.06-.94-.94-2.06-.94 2.06-2.06.94z\"/><path d=\"M17.41 7.96l-1.37-1.37c-.4-.4-.92-.59-1.43-.59-.52 0-1.04.2-1.43.59L10.3 9.45l-7.72 7.72c-.78.78-.78 2.05 0 2.83L4 21.41c.39.39.9.59 1.41.59.51 0 1.02-.2 1.41-.59l7.78-7.78 2.81-2.81c.8-.78.8-2.07 0-2.86zM5.41 20L4 18.59l7.72-7.72 1.47 1.35L5.41 20z\"/>\n",
              "  </svg>\n",
              "      </button>\n",
              "      \n",
              "  <style>\n",
              "    .colab-df-container {\n",
              "      display:flex;\n",
              "      flex-wrap:wrap;\n",
              "      gap: 12px;\n",
              "    }\n",
              "\n",
              "    .colab-df-convert {\n",
              "      background-color: #E8F0FE;\n",
              "      border: none;\n",
              "      border-radius: 50%;\n",
              "      cursor: pointer;\n",
              "      display: none;\n",
              "      fill: #1967D2;\n",
              "      height: 32px;\n",
              "      padding: 0 0 0 0;\n",
              "      width: 32px;\n",
              "    }\n",
              "\n",
              "    .colab-df-convert:hover {\n",
              "      background-color: #E2EBFA;\n",
              "      box-shadow: 0px 1px 2px rgba(60, 64, 67, 0.3), 0px 1px 3px 1px rgba(60, 64, 67, 0.15);\n",
              "      fill: #174EA6;\n",
              "    }\n",
              "\n",
              "    [theme=dark] .colab-df-convert {\n",
              "      background-color: #3B4455;\n",
              "      fill: #D2E3FC;\n",
              "    }\n",
              "\n",
              "    [theme=dark] .colab-df-convert:hover {\n",
              "      background-color: #434B5C;\n",
              "      box-shadow: 0px 1px 3px 1px rgba(0, 0, 0, 0.15);\n",
              "      filter: drop-shadow(0px 1px 2px rgba(0, 0, 0, 0.3));\n",
              "      fill: #FFFFFF;\n",
              "    }\n",
              "  </style>\n",
              "\n",
              "      <script>\n",
              "        const buttonEl =\n",
              "          document.querySelector('#df-b60804c8-c885-40c5-979c-3f4972c92573 button.colab-df-convert');\n",
              "        buttonEl.style.display =\n",
              "          google.colab.kernel.accessAllowed ? 'block' : 'none';\n",
              "\n",
              "        async function convertToInteractive(key) {\n",
              "          const element = document.querySelector('#df-b60804c8-c885-40c5-979c-3f4972c92573');\n",
              "          const dataTable =\n",
              "            await google.colab.kernel.invokeFunction('convertToInteractive',\n",
              "                                                     [key], {});\n",
              "          if (!dataTable) return;\n",
              "\n",
              "          const docLinkHtml = 'Like what you see? Visit the ' +\n",
              "            '<a target=\"_blank\" href=https://colab.research.google.com/notebooks/data_table.ipynb>data table notebook</a>'\n",
              "            + ' to learn more about interactive tables.';\n",
              "          element.innerHTML = '';\n",
              "          dataTable['output_type'] = 'display_data';\n",
              "          await google.colab.output.renderOutput(dataTable, element);\n",
              "          const docLink = document.createElement('div');\n",
              "          docLink.innerHTML = docLinkHtml;\n",
              "          element.appendChild(docLink);\n",
              "        }\n",
              "      </script>\n",
              "    </div>\n",
              "  </div>\n",
              "  "
            ]
          },
          "metadata": {},
          "execution_count": 17
        }
      ]
    },
    {
      "cell_type": "markdown",
      "metadata": {
        "id": "kvjxtz3L7cWQ"
      },
      "source": [
        "Let’s define an array of random weights for the purpose of calculation that will represent the percentage allocation of investments between these two stocks. They must add up to 1."
      ]
    },
    {
      "cell_type": "code",
      "metadata": {
        "id": "eIUcY5zXRWIC",
        "outputId": "eb799f48-2b59-4eb5-efbc-6fb758138fad",
        "colab": {
          "base_uri": "https://localhost:8080/"
        }
      },
      "source": [
        "# Define weights for allocation\n",
        "w = [0.2, 0.8]\n",
        "e_r_ind = test2.mean()\n",
        "e_r_ind"
      ],
      "execution_count": 18,
      "outputs": [
        {
          "output_type": "execute_result",
          "data": {
            "text/plain": [
              "FB      0.000238\n",
              "TSLA    0.000514\n",
              "dtype: float64"
            ]
          },
          "metadata": {},
          "execution_count": 18
        }
      ]
    },
    {
      "cell_type": "markdown",
      "metadata": {
        "id": "AVSG6Gh18NT6"
      },
      "source": [
        "The formula for the expected return on a portfolio is given by:\n",
        "\n",
        "$$E(r) = (w_a * r_a) + (w_b * r_b)$$\n",
        "\n",
        "where, $w$ is the weight of asset and \n",
        "\n",
        "$r$ is the return of asset."
      ]
    },
    {
      "cell_type": "code",
      "metadata": {
        "id": "b_EeC3iASNIy",
        "outputId": "78848721-bfa2-41de-9119-4973697bf188",
        "colab": {
          "base_uri": "https://localhost:8080/"
        }
      },
      "source": [
        "# Total expected return\n",
        "e_r = (e_r_ind * w).sum()\n",
        "e_r"
      ],
      "execution_count": 19,
      "outputs": [
        {
          "output_type": "execute_result",
          "data": {
            "text/plain": [
              "0.00045893450391333476"
            ]
          },
          "metadata": {},
          "execution_count": 19
        }
      ]
    },
    {
      "cell_type": "markdown",
      "metadata": {
        "id": "gEnwOBbLSpkF"
      },
      "source": [
        "### Building an Optimal Risk Portfolio"
      ]
    },
    {
      "cell_type": "markdown",
      "metadata": {
        "id": "5saHxPxWW5g7"
      },
      "source": [
        "Now we create an optimal portfolio using the above concepts."
      ]
    },
    {
      "cell_type": "markdown",
      "metadata": {
        "id": "FC4lUYnu9Tfg"
      },
      "source": [
        "**Example 2:** Consider stocks from 4 companies, namely, Apple, Nike, Google and Amazon for a period of 5 years, \n",
        "\n",
        "* calculate the weights of each asset\n",
        "* calculate the expected returns, minimum variance portfolio, optimal risk portfolio and efficient frontier \n",
        "* calculate the highest Sharpe ratio\n",
        "\n",
        "Let’s start by pulling the required asset data from Yahoo."
      ]
    },
    {
      "cell_type": "code",
      "metadata": {
        "id": "0PzYmJ-cXXlq",
        "outputId": "d73bc20f-33b3-4403-ac9e-80cdf62546f7",
        "colab": {
          "base_uri": "https://localhost:8080/",
          "height": 466
        }
      },
      "source": [
        "# Read the required asset data from Yahoo\n",
        "df_ = pdr.get_data_yahoo(['AAPL', 'NKE', 'GOOGL', 'AMZN'], start='2015-01-01', end='2019-12-31')\n",
        "df_.head()"
      ],
      "execution_count": 20,
      "outputs": [
        {
          "output_type": "stream",
          "name": "stdout",
          "text": [
            "[*********************100%***********************]  4 of 4 completed\n"
          ]
        },
        {
          "output_type": "execute_result",
          "data": {
            "text/plain": [
              "            Adj Close                                         Close  \\\n",
              "                 AAPL        AMZN       GOOGL        NKE       AAPL   \n",
              "Date                                                                  \n",
              "2015-01-02  24.714502  308.519989  529.549988  44.005417  27.332500   \n",
              "2015-01-05  24.018257  302.190002  519.460022  43.296913  26.562500   \n",
              "2015-01-06  24.020521  295.290009  506.640015  43.042213  26.565001   \n",
              "2015-01-07  24.357346  298.420013  505.149994  43.931316  26.937500   \n",
              "2015-01-08  25.293213  300.459991  506.910004  44.945435  27.972500   \n",
              "\n",
              "                                                    High              ...  \\\n",
              "                  AMZN       GOOGL        NKE       AAPL        AMZN  ...   \n",
              "Date                                                                  ...   \n",
              "2015-01-02  308.519989  529.549988  47.514999  27.860001  314.750000  ...   \n",
              "2015-01-05  302.190002  519.460022  46.750000  27.162500  308.380005  ...   \n",
              "2015-01-06  295.290009  506.640015  46.474998  26.857500  303.000000  ...   \n",
              "2015-01-07  298.420013  505.149994  47.435001  27.049999  301.279999  ...   \n",
              "2015-01-08  300.459991  506.910004  48.529999  28.037500  303.140015  ...   \n",
              "\n",
              "                   Low                  Open                          \\\n",
              "                 GOOGL        NKE       AAPL        AMZN       GOOGL   \n",
              "Date                                                                   \n",
              "2015-01-02  527.880005  47.055000  27.847500  312.579987  532.599976   \n",
              "2015-01-05  517.750000  46.564999  27.072500  307.010010  527.150024   \n",
              "2015-01-06  505.549988  46.035000  26.635000  302.239990  520.500000   \n",
              "2015-01-07  503.649994  46.549999  26.799999  297.500000  510.950012   \n",
              "2015-01-08  495.019989  47.810001  27.307501  300.320007  501.510010   \n",
              "\n",
              "                          Volume                             \n",
              "                  NKE       AAPL     AMZN    GOOGL      NKE  \n",
              "Date                                                         \n",
              "2015-01-02  48.275002  212818400  2783200  1324000  4985800  \n",
              "2015-01-05  47.255001  257142000  2774200  2059100  6889200  \n",
              "2015-01-06  46.945000  263188400  3519000  2722800  7576000  \n",
              "2015-01-07  46.805000  160423600  2640300  2345900  7256000  \n",
              "2015-01-08  47.830002  237458000  3088400  3652700  5978200  \n",
              "\n",
              "[5 rows x 24 columns]"
            ],
            "text/html": [
              "\n",
              "  <div id=\"df-932baa57-537a-421c-8cb9-cb00faf5ad35\">\n",
              "    <div class=\"colab-df-container\">\n",
              "      <div>\n",
              "<style scoped>\n",
              "    .dataframe tbody tr th:only-of-type {\n",
              "        vertical-align: middle;\n",
              "    }\n",
              "\n",
              "    .dataframe tbody tr th {\n",
              "        vertical-align: top;\n",
              "    }\n",
              "\n",
              "    .dataframe thead tr th {\n",
              "        text-align: left;\n",
              "    }\n",
              "\n",
              "    .dataframe thead tr:last-of-type th {\n",
              "        text-align: right;\n",
              "    }\n",
              "</style>\n",
              "<table border=\"1\" class=\"dataframe\">\n",
              "  <thead>\n",
              "    <tr>\n",
              "      <th></th>\n",
              "      <th colspan=\"4\" halign=\"left\">Adj Close</th>\n",
              "      <th colspan=\"4\" halign=\"left\">Close</th>\n",
              "      <th colspan=\"2\" halign=\"left\">High</th>\n",
              "      <th>...</th>\n",
              "      <th colspan=\"2\" halign=\"left\">Low</th>\n",
              "      <th colspan=\"4\" halign=\"left\">Open</th>\n",
              "      <th colspan=\"4\" halign=\"left\">Volume</th>\n",
              "    </tr>\n",
              "    <tr>\n",
              "      <th></th>\n",
              "      <th>AAPL</th>\n",
              "      <th>AMZN</th>\n",
              "      <th>GOOGL</th>\n",
              "      <th>NKE</th>\n",
              "      <th>AAPL</th>\n",
              "      <th>AMZN</th>\n",
              "      <th>GOOGL</th>\n",
              "      <th>NKE</th>\n",
              "      <th>AAPL</th>\n",
              "      <th>AMZN</th>\n",
              "      <th>...</th>\n",
              "      <th>GOOGL</th>\n",
              "      <th>NKE</th>\n",
              "      <th>AAPL</th>\n",
              "      <th>AMZN</th>\n",
              "      <th>GOOGL</th>\n",
              "      <th>NKE</th>\n",
              "      <th>AAPL</th>\n",
              "      <th>AMZN</th>\n",
              "      <th>GOOGL</th>\n",
              "      <th>NKE</th>\n",
              "    </tr>\n",
              "    <tr>\n",
              "      <th>Date</th>\n",
              "      <th></th>\n",
              "      <th></th>\n",
              "      <th></th>\n",
              "      <th></th>\n",
              "      <th></th>\n",
              "      <th></th>\n",
              "      <th></th>\n",
              "      <th></th>\n",
              "      <th></th>\n",
              "      <th></th>\n",
              "      <th></th>\n",
              "      <th></th>\n",
              "      <th></th>\n",
              "      <th></th>\n",
              "      <th></th>\n",
              "      <th></th>\n",
              "      <th></th>\n",
              "      <th></th>\n",
              "      <th></th>\n",
              "      <th></th>\n",
              "      <th></th>\n",
              "    </tr>\n",
              "  </thead>\n",
              "  <tbody>\n",
              "    <tr>\n",
              "      <th>2015-01-02</th>\n",
              "      <td>24.714502</td>\n",
              "      <td>308.519989</td>\n",
              "      <td>529.549988</td>\n",
              "      <td>44.005417</td>\n",
              "      <td>27.332500</td>\n",
              "      <td>308.519989</td>\n",
              "      <td>529.549988</td>\n",
              "      <td>47.514999</td>\n",
              "      <td>27.860001</td>\n",
              "      <td>314.750000</td>\n",
              "      <td>...</td>\n",
              "      <td>527.880005</td>\n",
              "      <td>47.055000</td>\n",
              "      <td>27.847500</td>\n",
              "      <td>312.579987</td>\n",
              "      <td>532.599976</td>\n",
              "      <td>48.275002</td>\n",
              "      <td>212818400</td>\n",
              "      <td>2783200</td>\n",
              "      <td>1324000</td>\n",
              "      <td>4985800</td>\n",
              "    </tr>\n",
              "    <tr>\n",
              "      <th>2015-01-05</th>\n",
              "      <td>24.018257</td>\n",
              "      <td>302.190002</td>\n",
              "      <td>519.460022</td>\n",
              "      <td>43.296913</td>\n",
              "      <td>26.562500</td>\n",
              "      <td>302.190002</td>\n",
              "      <td>519.460022</td>\n",
              "      <td>46.750000</td>\n",
              "      <td>27.162500</td>\n",
              "      <td>308.380005</td>\n",
              "      <td>...</td>\n",
              "      <td>517.750000</td>\n",
              "      <td>46.564999</td>\n",
              "      <td>27.072500</td>\n",
              "      <td>307.010010</td>\n",
              "      <td>527.150024</td>\n",
              "      <td>47.255001</td>\n",
              "      <td>257142000</td>\n",
              "      <td>2774200</td>\n",
              "      <td>2059100</td>\n",
              "      <td>6889200</td>\n",
              "    </tr>\n",
              "    <tr>\n",
              "      <th>2015-01-06</th>\n",
              "      <td>24.020521</td>\n",
              "      <td>295.290009</td>\n",
              "      <td>506.640015</td>\n",
              "      <td>43.042213</td>\n",
              "      <td>26.565001</td>\n",
              "      <td>295.290009</td>\n",
              "      <td>506.640015</td>\n",
              "      <td>46.474998</td>\n",
              "      <td>26.857500</td>\n",
              "      <td>303.000000</td>\n",
              "      <td>...</td>\n",
              "      <td>505.549988</td>\n",
              "      <td>46.035000</td>\n",
              "      <td>26.635000</td>\n",
              "      <td>302.239990</td>\n",
              "      <td>520.500000</td>\n",
              "      <td>46.945000</td>\n",
              "      <td>263188400</td>\n",
              "      <td>3519000</td>\n",
              "      <td>2722800</td>\n",
              "      <td>7576000</td>\n",
              "    </tr>\n",
              "    <tr>\n",
              "      <th>2015-01-07</th>\n",
              "      <td>24.357346</td>\n",
              "      <td>298.420013</td>\n",
              "      <td>505.149994</td>\n",
              "      <td>43.931316</td>\n",
              "      <td>26.937500</td>\n",
              "      <td>298.420013</td>\n",
              "      <td>505.149994</td>\n",
              "      <td>47.435001</td>\n",
              "      <td>27.049999</td>\n",
              "      <td>301.279999</td>\n",
              "      <td>...</td>\n",
              "      <td>503.649994</td>\n",
              "      <td>46.549999</td>\n",
              "      <td>26.799999</td>\n",
              "      <td>297.500000</td>\n",
              "      <td>510.950012</td>\n",
              "      <td>46.805000</td>\n",
              "      <td>160423600</td>\n",
              "      <td>2640300</td>\n",
              "      <td>2345900</td>\n",
              "      <td>7256000</td>\n",
              "    </tr>\n",
              "    <tr>\n",
              "      <th>2015-01-08</th>\n",
              "      <td>25.293213</td>\n",
              "      <td>300.459991</td>\n",
              "      <td>506.910004</td>\n",
              "      <td>44.945435</td>\n",
              "      <td>27.972500</td>\n",
              "      <td>300.459991</td>\n",
              "      <td>506.910004</td>\n",
              "      <td>48.529999</td>\n",
              "      <td>28.037500</td>\n",
              "      <td>303.140015</td>\n",
              "      <td>...</td>\n",
              "      <td>495.019989</td>\n",
              "      <td>47.810001</td>\n",
              "      <td>27.307501</td>\n",
              "      <td>300.320007</td>\n",
              "      <td>501.510010</td>\n",
              "      <td>47.830002</td>\n",
              "      <td>237458000</td>\n",
              "      <td>3088400</td>\n",
              "      <td>3652700</td>\n",
              "      <td>5978200</td>\n",
              "    </tr>\n",
              "  </tbody>\n",
              "</table>\n",
              "<p>5 rows × 24 columns</p>\n",
              "</div>\n",
              "      <button class=\"colab-df-convert\" onclick=\"convertToInteractive('df-932baa57-537a-421c-8cb9-cb00faf5ad35')\"\n",
              "              title=\"Convert this dataframe to an interactive table.\"\n",
              "              style=\"display:none;\">\n",
              "        \n",
              "  <svg xmlns=\"http://www.w3.org/2000/svg\" height=\"24px\"viewBox=\"0 0 24 24\"\n",
              "       width=\"24px\">\n",
              "    <path d=\"M0 0h24v24H0V0z\" fill=\"none\"/>\n",
              "    <path d=\"M18.56 5.44l.94 2.06.94-2.06 2.06-.94-2.06-.94-.94-2.06-.94 2.06-2.06.94zm-11 1L8.5 8.5l.94-2.06 2.06-.94-2.06-.94L8.5 2.5l-.94 2.06-2.06.94zm10 10l.94 2.06.94-2.06 2.06-.94-2.06-.94-.94-2.06-.94 2.06-2.06.94z\"/><path d=\"M17.41 7.96l-1.37-1.37c-.4-.4-.92-.59-1.43-.59-.52 0-1.04.2-1.43.59L10.3 9.45l-7.72 7.72c-.78.78-.78 2.05 0 2.83L4 21.41c.39.39.9.59 1.41.59.51 0 1.02-.2 1.41-.59l7.78-7.78 2.81-2.81c.8-.78.8-2.07 0-2.86zM5.41 20L4 18.59l7.72-7.72 1.47 1.35L5.41 20z\"/>\n",
              "  </svg>\n",
              "      </button>\n",
              "      \n",
              "  <style>\n",
              "    .colab-df-container {\n",
              "      display:flex;\n",
              "      flex-wrap:wrap;\n",
              "      gap: 12px;\n",
              "    }\n",
              "\n",
              "    .colab-df-convert {\n",
              "      background-color: #E8F0FE;\n",
              "      border: none;\n",
              "      border-radius: 50%;\n",
              "      cursor: pointer;\n",
              "      display: none;\n",
              "      fill: #1967D2;\n",
              "      height: 32px;\n",
              "      padding: 0 0 0 0;\n",
              "      width: 32px;\n",
              "    }\n",
              "\n",
              "    .colab-df-convert:hover {\n",
              "      background-color: #E2EBFA;\n",
              "      box-shadow: 0px 1px 2px rgba(60, 64, 67, 0.3), 0px 1px 3px 1px rgba(60, 64, 67, 0.15);\n",
              "      fill: #174EA6;\n",
              "    }\n",
              "\n",
              "    [theme=dark] .colab-df-convert {\n",
              "      background-color: #3B4455;\n",
              "      fill: #D2E3FC;\n",
              "    }\n",
              "\n",
              "    [theme=dark] .colab-df-convert:hover {\n",
              "      background-color: #434B5C;\n",
              "      box-shadow: 0px 1px 3px 1px rgba(0, 0, 0, 0.15);\n",
              "      filter: drop-shadow(0px 1px 2px rgba(0, 0, 0, 0.3));\n",
              "      fill: #FFFFFF;\n",
              "    }\n",
              "  </style>\n",
              "\n",
              "      <script>\n",
              "        const buttonEl =\n",
              "          document.querySelector('#df-932baa57-537a-421c-8cb9-cb00faf5ad35 button.colab-df-convert');\n",
              "        buttonEl.style.display =\n",
              "          google.colab.kernel.accessAllowed ? 'block' : 'none';\n",
              "\n",
              "        async function convertToInteractive(key) {\n",
              "          const element = document.querySelector('#df-932baa57-537a-421c-8cb9-cb00faf5ad35');\n",
              "          const dataTable =\n",
              "            await google.colab.kernel.invokeFunction('convertToInteractive',\n",
              "                                                     [key], {});\n",
              "          if (!dataTable) return;\n",
              "\n",
              "          const docLinkHtml = 'Like what you see? Visit the ' +\n",
              "            '<a target=\"_blank\" href=https://colab.research.google.com/notebooks/data_table.ipynb>data table notebook</a>'\n",
              "            + ' to learn more about interactive tables.';\n",
              "          element.innerHTML = '';\n",
              "          dataTable['output_type'] = 'display_data';\n",
              "          await google.colab.output.renderOutput(dataTable, element);\n",
              "          const docLink = document.createElement('div');\n",
              "          docLink.innerHTML = docLinkHtml;\n",
              "          element.appendChild(docLink);\n",
              "        }\n",
              "      </script>\n",
              "    </div>\n",
              "  </div>\n",
              "  "
            ]
          },
          "metadata": {},
          "execution_count": 20
        }
      ]
    },
    {
      "cell_type": "code",
      "metadata": {
        "id": "ES1OezrzXfAi",
        "outputId": "f85b1b11-f8dc-4e74-bf1f-4ec9c59221c2",
        "colab": {
          "base_uri": "https://localhost:8080/",
          "height": 237
        }
      },
      "source": [
        "# Keep the ‘Adj Close’ column to perform calculations\n",
        "df = df_['Adj Close']\n",
        "df.head()"
      ],
      "execution_count": 21,
      "outputs": [
        {
          "output_type": "execute_result",
          "data": {
            "text/plain": [
              "                 AAPL        AMZN       GOOGL        NKE\n",
              "Date                                                    \n",
              "2015-01-02  24.714502  308.519989  529.549988  44.005417\n",
              "2015-01-05  24.018257  302.190002  519.460022  43.296913\n",
              "2015-01-06  24.020521  295.290009  506.640015  43.042213\n",
              "2015-01-07  24.357346  298.420013  505.149994  43.931316\n",
              "2015-01-08  25.293213  300.459991  506.910004  44.945435"
            ],
            "text/html": [
              "\n",
              "  <div id=\"df-4a8ed688-dd1d-4499-ad47-717881d18b07\">\n",
              "    <div class=\"colab-df-container\">\n",
              "      <div>\n",
              "<style scoped>\n",
              "    .dataframe tbody tr th:only-of-type {\n",
              "        vertical-align: middle;\n",
              "    }\n",
              "\n",
              "    .dataframe tbody tr th {\n",
              "        vertical-align: top;\n",
              "    }\n",
              "\n",
              "    .dataframe thead th {\n",
              "        text-align: right;\n",
              "    }\n",
              "</style>\n",
              "<table border=\"1\" class=\"dataframe\">\n",
              "  <thead>\n",
              "    <tr style=\"text-align: right;\">\n",
              "      <th></th>\n",
              "      <th>AAPL</th>\n",
              "      <th>AMZN</th>\n",
              "      <th>GOOGL</th>\n",
              "      <th>NKE</th>\n",
              "    </tr>\n",
              "    <tr>\n",
              "      <th>Date</th>\n",
              "      <th></th>\n",
              "      <th></th>\n",
              "      <th></th>\n",
              "      <th></th>\n",
              "    </tr>\n",
              "  </thead>\n",
              "  <tbody>\n",
              "    <tr>\n",
              "      <th>2015-01-02</th>\n",
              "      <td>24.714502</td>\n",
              "      <td>308.519989</td>\n",
              "      <td>529.549988</td>\n",
              "      <td>44.005417</td>\n",
              "    </tr>\n",
              "    <tr>\n",
              "      <th>2015-01-05</th>\n",
              "      <td>24.018257</td>\n",
              "      <td>302.190002</td>\n",
              "      <td>519.460022</td>\n",
              "      <td>43.296913</td>\n",
              "    </tr>\n",
              "    <tr>\n",
              "      <th>2015-01-06</th>\n",
              "      <td>24.020521</td>\n",
              "      <td>295.290009</td>\n",
              "      <td>506.640015</td>\n",
              "      <td>43.042213</td>\n",
              "    </tr>\n",
              "    <tr>\n",
              "      <th>2015-01-07</th>\n",
              "      <td>24.357346</td>\n",
              "      <td>298.420013</td>\n",
              "      <td>505.149994</td>\n",
              "      <td>43.931316</td>\n",
              "    </tr>\n",
              "    <tr>\n",
              "      <th>2015-01-08</th>\n",
              "      <td>25.293213</td>\n",
              "      <td>300.459991</td>\n",
              "      <td>506.910004</td>\n",
              "      <td>44.945435</td>\n",
              "    </tr>\n",
              "  </tbody>\n",
              "</table>\n",
              "</div>\n",
              "      <button class=\"colab-df-convert\" onclick=\"convertToInteractive('df-4a8ed688-dd1d-4499-ad47-717881d18b07')\"\n",
              "              title=\"Convert this dataframe to an interactive table.\"\n",
              "              style=\"display:none;\">\n",
              "        \n",
              "  <svg xmlns=\"http://www.w3.org/2000/svg\" height=\"24px\"viewBox=\"0 0 24 24\"\n",
              "       width=\"24px\">\n",
              "    <path d=\"M0 0h24v24H0V0z\" fill=\"none\"/>\n",
              "    <path d=\"M18.56 5.44l.94 2.06.94-2.06 2.06-.94-2.06-.94-.94-2.06-.94 2.06-2.06.94zm-11 1L8.5 8.5l.94-2.06 2.06-.94-2.06-.94L8.5 2.5l-.94 2.06-2.06.94zm10 10l.94 2.06.94-2.06 2.06-.94-2.06-.94-.94-2.06-.94 2.06-2.06.94z\"/><path d=\"M17.41 7.96l-1.37-1.37c-.4-.4-.92-.59-1.43-.59-.52 0-1.04.2-1.43.59L10.3 9.45l-7.72 7.72c-.78.78-.78 2.05 0 2.83L4 21.41c.39.39.9.59 1.41.59.51 0 1.02-.2 1.41-.59l7.78-7.78 2.81-2.81c.8-.78.8-2.07 0-2.86zM5.41 20L4 18.59l7.72-7.72 1.47 1.35L5.41 20z\"/>\n",
              "  </svg>\n",
              "      </button>\n",
              "      \n",
              "  <style>\n",
              "    .colab-df-container {\n",
              "      display:flex;\n",
              "      flex-wrap:wrap;\n",
              "      gap: 12px;\n",
              "    }\n",
              "\n",
              "    .colab-df-convert {\n",
              "      background-color: #E8F0FE;\n",
              "      border: none;\n",
              "      border-radius: 50%;\n",
              "      cursor: pointer;\n",
              "      display: none;\n",
              "      fill: #1967D2;\n",
              "      height: 32px;\n",
              "      padding: 0 0 0 0;\n",
              "      width: 32px;\n",
              "    }\n",
              "\n",
              "    .colab-df-convert:hover {\n",
              "      background-color: #E2EBFA;\n",
              "      box-shadow: 0px 1px 2px rgba(60, 64, 67, 0.3), 0px 1px 3px 1px rgba(60, 64, 67, 0.15);\n",
              "      fill: #174EA6;\n",
              "    }\n",
              "\n",
              "    [theme=dark] .colab-df-convert {\n",
              "      background-color: #3B4455;\n",
              "      fill: #D2E3FC;\n",
              "    }\n",
              "\n",
              "    [theme=dark] .colab-df-convert:hover {\n",
              "      background-color: #434B5C;\n",
              "      box-shadow: 0px 1px 3px 1px rgba(0, 0, 0, 0.15);\n",
              "      filter: drop-shadow(0px 1px 2px rgba(0, 0, 0, 0.3));\n",
              "      fill: #FFFFFF;\n",
              "    }\n",
              "  </style>\n",
              "\n",
              "      <script>\n",
              "        const buttonEl =\n",
              "          document.querySelector('#df-4a8ed688-dd1d-4499-ad47-717881d18b07 button.colab-df-convert');\n",
              "        buttonEl.style.display =\n",
              "          google.colab.kernel.accessAllowed ? 'block' : 'none';\n",
              "\n",
              "        async function convertToInteractive(key) {\n",
              "          const element = document.querySelector('#df-4a8ed688-dd1d-4499-ad47-717881d18b07');\n",
              "          const dataTable =\n",
              "            await google.colab.kernel.invokeFunction('convertToInteractive',\n",
              "                                                     [key], {});\n",
              "          if (!dataTable) return;\n",
              "\n",
              "          const docLinkHtml = 'Like what you see? Visit the ' +\n",
              "            '<a target=\"_blank\" href=https://colab.research.google.com/notebooks/data_table.ipynb>data table notebook</a>'\n",
              "            + ' to learn more about interactive tables.';\n",
              "          element.innerHTML = '';\n",
              "          dataTable['output_type'] = 'display_data';\n",
              "          await google.colab.output.renderOutput(dataTable, element);\n",
              "          const docLink = document.createElement('div');\n",
              "          docLink.innerHTML = docLinkHtml;\n",
              "          element.appendChild(docLink);\n",
              "        }\n",
              "      </script>\n",
              "    </div>\n",
              "  </div>\n",
              "  "
            ]
          },
          "metadata": {},
          "execution_count": 21
        }
      ]
    },
    {
      "cell_type": "markdown",
      "metadata": {
        "id": "zwIpq9QrYUFE"
      },
      "source": [
        "Covariance and Correlation matrix"
      ]
    },
    {
      "cell_type": "code",
      "metadata": {
        "id": "MHbRZYtqYYh4",
        "outputId": "fd026600-ced2-4ca8-ee4b-cb3522f5a63f",
        "colab": {
          "base_uri": "https://localhost:8080/",
          "height": 175
        }
      },
      "source": [
        "# Log of percentage change\n",
        "cov_matrix = df.pct_change().apply(lambda x: np.log(1+x)).cov()\n",
        "cov_matrix"
      ],
      "execution_count": 22,
      "outputs": [
        {
          "output_type": "execute_result",
          "data": {
            "text/plain": [
              "           AAPL      AMZN     GOOGL       NKE\n",
              "AAPL   0.000246  0.000142  0.000122  0.000084\n",
              "AMZN   0.000142  0.000334  0.000176  0.000092\n",
              "GOOGL  0.000122  0.000176  0.000222  0.000085\n",
              "NKE    0.000084  0.000092  0.000085  0.000219"
            ],
            "text/html": [
              "\n",
              "  <div id=\"df-12bb9d8a-28fa-4cae-991c-d05093ee5959\">\n",
              "    <div class=\"colab-df-container\">\n",
              "      <div>\n",
              "<style scoped>\n",
              "    .dataframe tbody tr th:only-of-type {\n",
              "        vertical-align: middle;\n",
              "    }\n",
              "\n",
              "    .dataframe tbody tr th {\n",
              "        vertical-align: top;\n",
              "    }\n",
              "\n",
              "    .dataframe thead th {\n",
              "        text-align: right;\n",
              "    }\n",
              "</style>\n",
              "<table border=\"1\" class=\"dataframe\">\n",
              "  <thead>\n",
              "    <tr style=\"text-align: right;\">\n",
              "      <th></th>\n",
              "      <th>AAPL</th>\n",
              "      <th>AMZN</th>\n",
              "      <th>GOOGL</th>\n",
              "      <th>NKE</th>\n",
              "    </tr>\n",
              "  </thead>\n",
              "  <tbody>\n",
              "    <tr>\n",
              "      <th>AAPL</th>\n",
              "      <td>0.000246</td>\n",
              "      <td>0.000142</td>\n",
              "      <td>0.000122</td>\n",
              "      <td>0.000084</td>\n",
              "    </tr>\n",
              "    <tr>\n",
              "      <th>AMZN</th>\n",
              "      <td>0.000142</td>\n",
              "      <td>0.000334</td>\n",
              "      <td>0.000176</td>\n",
              "      <td>0.000092</td>\n",
              "    </tr>\n",
              "    <tr>\n",
              "      <th>GOOGL</th>\n",
              "      <td>0.000122</td>\n",
              "      <td>0.000176</td>\n",
              "      <td>0.000222</td>\n",
              "      <td>0.000085</td>\n",
              "    </tr>\n",
              "    <tr>\n",
              "      <th>NKE</th>\n",
              "      <td>0.000084</td>\n",
              "      <td>0.000092</td>\n",
              "      <td>0.000085</td>\n",
              "      <td>0.000219</td>\n",
              "    </tr>\n",
              "  </tbody>\n",
              "</table>\n",
              "</div>\n",
              "      <button class=\"colab-df-convert\" onclick=\"convertToInteractive('df-12bb9d8a-28fa-4cae-991c-d05093ee5959')\"\n",
              "              title=\"Convert this dataframe to an interactive table.\"\n",
              "              style=\"display:none;\">\n",
              "        \n",
              "  <svg xmlns=\"http://www.w3.org/2000/svg\" height=\"24px\"viewBox=\"0 0 24 24\"\n",
              "       width=\"24px\">\n",
              "    <path d=\"M0 0h24v24H0V0z\" fill=\"none\"/>\n",
              "    <path d=\"M18.56 5.44l.94 2.06.94-2.06 2.06-.94-2.06-.94-.94-2.06-.94 2.06-2.06.94zm-11 1L8.5 8.5l.94-2.06 2.06-.94-2.06-.94L8.5 2.5l-.94 2.06-2.06.94zm10 10l.94 2.06.94-2.06 2.06-.94-2.06-.94-.94-2.06-.94 2.06-2.06.94z\"/><path d=\"M17.41 7.96l-1.37-1.37c-.4-.4-.92-.59-1.43-.59-.52 0-1.04.2-1.43.59L10.3 9.45l-7.72 7.72c-.78.78-.78 2.05 0 2.83L4 21.41c.39.39.9.59 1.41.59.51 0 1.02-.2 1.41-.59l7.78-7.78 2.81-2.81c.8-.78.8-2.07 0-2.86zM5.41 20L4 18.59l7.72-7.72 1.47 1.35L5.41 20z\"/>\n",
              "  </svg>\n",
              "      </button>\n",
              "      \n",
              "  <style>\n",
              "    .colab-df-container {\n",
              "      display:flex;\n",
              "      flex-wrap:wrap;\n",
              "      gap: 12px;\n",
              "    }\n",
              "\n",
              "    .colab-df-convert {\n",
              "      background-color: #E8F0FE;\n",
              "      border: none;\n",
              "      border-radius: 50%;\n",
              "      cursor: pointer;\n",
              "      display: none;\n",
              "      fill: #1967D2;\n",
              "      height: 32px;\n",
              "      padding: 0 0 0 0;\n",
              "      width: 32px;\n",
              "    }\n",
              "\n",
              "    .colab-df-convert:hover {\n",
              "      background-color: #E2EBFA;\n",
              "      box-shadow: 0px 1px 2px rgba(60, 64, 67, 0.3), 0px 1px 3px 1px rgba(60, 64, 67, 0.15);\n",
              "      fill: #174EA6;\n",
              "    }\n",
              "\n",
              "    [theme=dark] .colab-df-convert {\n",
              "      background-color: #3B4455;\n",
              "      fill: #D2E3FC;\n",
              "    }\n",
              "\n",
              "    [theme=dark] .colab-df-convert:hover {\n",
              "      background-color: #434B5C;\n",
              "      box-shadow: 0px 1px 3px 1px rgba(0, 0, 0, 0.15);\n",
              "      filter: drop-shadow(0px 1px 2px rgba(0, 0, 0, 0.3));\n",
              "      fill: #FFFFFF;\n",
              "    }\n",
              "  </style>\n",
              "\n",
              "      <script>\n",
              "        const buttonEl =\n",
              "          document.querySelector('#df-12bb9d8a-28fa-4cae-991c-d05093ee5959 button.colab-df-convert');\n",
              "        buttonEl.style.display =\n",
              "          google.colab.kernel.accessAllowed ? 'block' : 'none';\n",
              "\n",
              "        async function convertToInteractive(key) {\n",
              "          const element = document.querySelector('#df-12bb9d8a-28fa-4cae-991c-d05093ee5959');\n",
              "          const dataTable =\n",
              "            await google.colab.kernel.invokeFunction('convertToInteractive',\n",
              "                                                     [key], {});\n",
              "          if (!dataTable) return;\n",
              "\n",
              "          const docLinkHtml = 'Like what you see? Visit the ' +\n",
              "            '<a target=\"_blank\" href=https://colab.research.google.com/notebooks/data_table.ipynb>data table notebook</a>'\n",
              "            + ' to learn more about interactive tables.';\n",
              "          element.innerHTML = '';\n",
              "          dataTable['output_type'] = 'display_data';\n",
              "          await google.colab.output.renderOutput(dataTable, element);\n",
              "          const docLink = document.createElement('div');\n",
              "          docLink.innerHTML = docLinkHtml;\n",
              "          element.appendChild(docLink);\n",
              "        }\n",
              "      </script>\n",
              "    </div>\n",
              "  </div>\n",
              "  "
            ]
          },
          "metadata": {},
          "execution_count": 22
        }
      ]
    },
    {
      "cell_type": "code",
      "metadata": {
        "id": "dtImS8_NYbj9",
        "outputId": "e8f92c27-44a6-4d91-97c8-7e425f303565",
        "colab": {
          "base_uri": "https://localhost:8080/",
          "height": 175
        }
      },
      "source": [
        "# Correlation matrix\n",
        "corr_matrix = df.pct_change().apply(lambda x: np.log(1+x)).corr()\n",
        "corr_matrix"
      ],
      "execution_count": 23,
      "outputs": [
        {
          "output_type": "execute_result",
          "data": {
            "text/plain": [
              "           AAPL      AMZN     GOOGL       NKE\n",
              "AAPL   1.000000  0.496660  0.524875  0.360850\n",
              "AMZN   0.496660  1.000000  0.647941  0.341554\n",
              "GOOGL  0.524875  0.647941  1.000000  0.387465\n",
              "NKE    0.360850  0.341554  0.387465  1.000000"
            ],
            "text/html": [
              "\n",
              "  <div id=\"df-283f5720-6724-4992-9a3d-cd91479f4168\">\n",
              "    <div class=\"colab-df-container\">\n",
              "      <div>\n",
              "<style scoped>\n",
              "    .dataframe tbody tr th:only-of-type {\n",
              "        vertical-align: middle;\n",
              "    }\n",
              "\n",
              "    .dataframe tbody tr th {\n",
              "        vertical-align: top;\n",
              "    }\n",
              "\n",
              "    .dataframe thead th {\n",
              "        text-align: right;\n",
              "    }\n",
              "</style>\n",
              "<table border=\"1\" class=\"dataframe\">\n",
              "  <thead>\n",
              "    <tr style=\"text-align: right;\">\n",
              "      <th></th>\n",
              "      <th>AAPL</th>\n",
              "      <th>AMZN</th>\n",
              "      <th>GOOGL</th>\n",
              "      <th>NKE</th>\n",
              "    </tr>\n",
              "  </thead>\n",
              "  <tbody>\n",
              "    <tr>\n",
              "      <th>AAPL</th>\n",
              "      <td>1.000000</td>\n",
              "      <td>0.496660</td>\n",
              "      <td>0.524875</td>\n",
              "      <td>0.360850</td>\n",
              "    </tr>\n",
              "    <tr>\n",
              "      <th>AMZN</th>\n",
              "      <td>0.496660</td>\n",
              "      <td>1.000000</td>\n",
              "      <td>0.647941</td>\n",
              "      <td>0.341554</td>\n",
              "    </tr>\n",
              "    <tr>\n",
              "      <th>GOOGL</th>\n",
              "      <td>0.524875</td>\n",
              "      <td>0.647941</td>\n",
              "      <td>1.000000</td>\n",
              "      <td>0.387465</td>\n",
              "    </tr>\n",
              "    <tr>\n",
              "      <th>NKE</th>\n",
              "      <td>0.360850</td>\n",
              "      <td>0.341554</td>\n",
              "      <td>0.387465</td>\n",
              "      <td>1.000000</td>\n",
              "    </tr>\n",
              "  </tbody>\n",
              "</table>\n",
              "</div>\n",
              "      <button class=\"colab-df-convert\" onclick=\"convertToInteractive('df-283f5720-6724-4992-9a3d-cd91479f4168')\"\n",
              "              title=\"Convert this dataframe to an interactive table.\"\n",
              "              style=\"display:none;\">\n",
              "        \n",
              "  <svg xmlns=\"http://www.w3.org/2000/svg\" height=\"24px\"viewBox=\"0 0 24 24\"\n",
              "       width=\"24px\">\n",
              "    <path d=\"M0 0h24v24H0V0z\" fill=\"none\"/>\n",
              "    <path d=\"M18.56 5.44l.94 2.06.94-2.06 2.06-.94-2.06-.94-.94-2.06-.94 2.06-2.06.94zm-11 1L8.5 8.5l.94-2.06 2.06-.94-2.06-.94L8.5 2.5l-.94 2.06-2.06.94zm10 10l.94 2.06.94-2.06 2.06-.94-2.06-.94-.94-2.06-.94 2.06-2.06.94z\"/><path d=\"M17.41 7.96l-1.37-1.37c-.4-.4-.92-.59-1.43-.59-.52 0-1.04.2-1.43.59L10.3 9.45l-7.72 7.72c-.78.78-.78 2.05 0 2.83L4 21.41c.39.39.9.59 1.41.59.51 0 1.02-.2 1.41-.59l7.78-7.78 2.81-2.81c.8-.78.8-2.07 0-2.86zM5.41 20L4 18.59l7.72-7.72 1.47 1.35L5.41 20z\"/>\n",
              "  </svg>\n",
              "      </button>\n",
              "      \n",
              "  <style>\n",
              "    .colab-df-container {\n",
              "      display:flex;\n",
              "      flex-wrap:wrap;\n",
              "      gap: 12px;\n",
              "    }\n",
              "\n",
              "    .colab-df-convert {\n",
              "      background-color: #E8F0FE;\n",
              "      border: none;\n",
              "      border-radius: 50%;\n",
              "      cursor: pointer;\n",
              "      display: none;\n",
              "      fill: #1967D2;\n",
              "      height: 32px;\n",
              "      padding: 0 0 0 0;\n",
              "      width: 32px;\n",
              "    }\n",
              "\n",
              "    .colab-df-convert:hover {\n",
              "      background-color: #E2EBFA;\n",
              "      box-shadow: 0px 1px 2px rgba(60, 64, 67, 0.3), 0px 1px 3px 1px rgba(60, 64, 67, 0.15);\n",
              "      fill: #174EA6;\n",
              "    }\n",
              "\n",
              "    [theme=dark] .colab-df-convert {\n",
              "      background-color: #3B4455;\n",
              "      fill: #D2E3FC;\n",
              "    }\n",
              "\n",
              "    [theme=dark] .colab-df-convert:hover {\n",
              "      background-color: #434B5C;\n",
              "      box-shadow: 0px 1px 3px 1px rgba(0, 0, 0, 0.15);\n",
              "      filter: drop-shadow(0px 1px 2px rgba(0, 0, 0, 0.3));\n",
              "      fill: #FFFFFF;\n",
              "    }\n",
              "  </style>\n",
              "\n",
              "      <script>\n",
              "        const buttonEl =\n",
              "          document.querySelector('#df-283f5720-6724-4992-9a3d-cd91479f4168 button.colab-df-convert');\n",
              "        buttonEl.style.display =\n",
              "          google.colab.kernel.accessAllowed ? 'block' : 'none';\n",
              "\n",
              "        async function convertToInteractive(key) {\n",
              "          const element = document.querySelector('#df-283f5720-6724-4992-9a3d-cd91479f4168');\n",
              "          const dataTable =\n",
              "            await google.colab.kernel.invokeFunction('convertToInteractive',\n",
              "                                                     [key], {});\n",
              "          if (!dataTable) return;\n",
              "\n",
              "          const docLinkHtml = 'Like what you see? Visit the ' +\n",
              "            '<a target=\"_blank\" href=https://colab.research.google.com/notebooks/data_table.ipynb>data table notebook</a>'\n",
              "            + ' to learn more about interactive tables.';\n",
              "          element.innerHTML = '';\n",
              "          dataTable['output_type'] = 'display_data';\n",
              "          await google.colab.output.renderOutput(dataTable, element);\n",
              "          const docLink = document.createElement('div');\n",
              "          docLink.innerHTML = docLinkHtml;\n",
              "          element.appendChild(docLink);\n",
              "        }\n",
              "      </script>\n",
              "    </div>\n",
              "  </div>\n",
              "  "
            ]
          },
          "metadata": {},
          "execution_count": 23
        }
      ]
    },
    {
      "cell_type": "markdown",
      "metadata": {
        "id": "Zxa1Ch5jYfFQ"
      },
      "source": [
        "**Portfolio Variance**\n",
        "\n",
        "The formula for calculating portfolio variance is given as,\n",
        "\n",
        "$$\\sigma^2(r_p) = \\sum_{i=1}^{n} \\sum_{j=1}^{n} w_i w_j Cov(r_i, r_j) $$\n",
        "\n",
        "Here, $w_i$ and $w_j$ denote weights of all assets from $1$ to $n$ (in this case from 1 to 4) and $Cov(r_i, r_j)$ is the covariance of the two assets denoted by $i$ and $j$.\n",
        "\n",
        "The simplest way to do this complex calculation is by defining a list of weights and multiplying this list horizontally and vertically with our covariance matrix.\n",
        "\n",
        "Let’s define a random list of weights for all 4 assets."
      ]
    },
    {
      "cell_type": "code",
      "metadata": {
        "id": "_I87HVhVZc6l",
        "outputId": "1b5c2c20-7360-44d8-fafe-74553e034580",
        "colab": {
          "base_uri": "https://localhost:8080/"
        }
      },
      "source": [
        "# Randomly weighted portfolio's variance\n",
        "w = {'AAPL': 0.1, 'NKE': 0.2, 'GOOGL': 0.5, 'AMZN': 0.2}\n",
        "port_var = cov_matrix.mul(w, axis=0).mul(w, axis=1).sum().sum()\n",
        "port_var"
      ],
      "execution_count": 24,
      "outputs": [
        {
          "output_type": "execute_result",
          "data": {
            "text/plain": [
              "0.00016092121743135714"
            ]
          },
          "metadata": {},
          "execution_count": 24
        }
      ]
    },
    {
      "cell_type": "markdown",
      "metadata": {
        "id": "GunOEcd2ZnZo"
      },
      "source": [
        "Thus we have found the portfolio variance. But for truly optimizing the portfolio, the random weights won't work. We need to calculate it according to what gives us maximum expected returns."
      ]
    },
    {
      "cell_type": "markdown",
      "metadata": {
        "id": "MyGh1y8dZr0Q"
      },
      "source": [
        "**Portfolio expected returns**\n",
        "\n",
        "The mean of returns (given by the change in prices of asset stock prices) gives us the expected returns of that asset.\n",
        "The sum of all individual expected returns further multiplied by the weight of assets give us the expected return for the portfolio.\n",
        "\n",
        "Note that we use the `resample()` function to get yearly returns. The argument to the function, ‘Y’, denotes yearly. If we don't perform resampling, we will get daily returns."
      ]
    },
    {
      "cell_type": "code",
      "metadata": {
        "id": "nCMR4m8QZyzg",
        "outputId": "5be28b5b-3547-4ca2-85f5-47960caa82fb",
        "colab": {
          "base_uri": "https://localhost:8080/"
        }
      },
      "source": [
        "# Yearly returns for individual companies\n",
        "ind_er = df.resample('Y').last().pct_change().mean()\n",
        "ind_er"
      ],
      "execution_count": 26,
      "outputs": [
        {
          "output_type": "execute_result",
          "data": {
            "text/plain": [
              "AAPL     0.357854\n",
              "AMZN     0.295745\n",
              "GOOGL    0.155478\n",
              "NKE      0.160666\n",
              "dtype: float64"
            ]
          },
          "metadata": {},
          "execution_count": 26
        }
      ]
    },
    {
      "cell_type": "code",
      "metadata": {
        "id": "Ect_6lIaZ4A0",
        "outputId": "1dd0dee9-fbda-468a-8b75-fbf5e6808cf7",
        "colab": {
          "base_uri": "https://localhost:8080/"
        }
      },
      "source": [
        "# Portfolio returns\n",
        "w = [0.1, 0.2, 0.5, 0.2]\n",
        "port_er = (w*ind_er).sum()\n",
        "port_er"
      ],
      "execution_count": 27,
      "outputs": [
        {
          "output_type": "execute_result",
          "data": {
            "text/plain": [
              "0.20480655070177836"
            ]
          },
          "metadata": {},
          "execution_count": 27
        }
      ]
    },
    {
      "cell_type": "markdown",
      "metadata": {
        "id": "PIJAuS3mZ8FS"
      },
      "source": [
        "**Plotting the efficient frontier**\n",
        "\n",
        "Below, we can see the calculations and code for finding the optimal weights of assets and plotting the efficient frontier for given portfolio.\n",
        "But first, let's take a look at the volatility and returns of individual assets."
      ]
    },
    {
      "cell_type": "code",
      "metadata": {
        "id": "DUBc8U9DaNQn",
        "outputId": "01e21dc8-eab1-4852-9004-e947b7bcc210",
        "colab": {
          "base_uri": "https://localhost:8080/"
        }
      },
      "source": [
        "# Volatility is given by the annual standard deviation\n",
        "ann_sd = df.pct_change().apply(lambda x: np.log(1+x)).std().apply(lambda x: x*np.sqrt(250))\n",
        "ann_sd"
      ],
      "execution_count": 28,
      "outputs": [
        {
          "output_type": "execute_result",
          "data": {
            "text/plain": [
              "AAPL     0.247871\n",
              "AMZN     0.288770\n",
              "GOOGL    0.235375\n",
              "NKE      0.233916\n",
              "dtype: float64"
            ]
          },
          "metadata": {},
          "execution_count": 28
        }
      ]
    },
    {
      "cell_type": "code",
      "metadata": {
        "id": "GXncUQOub6xT",
        "outputId": "d20373f8-e3a5-44fa-e19d-ab9b08e49e8f",
        "colab": {
          "base_uri": "https://localhost:8080/",
          "height": 175
        }
      },
      "source": [
        "# Creating a table for visualising returns and volatility of assets\n",
        "assets = pd.concat([ind_er, ann_sd], axis=1)\n",
        "assets.columns = ['Returns', 'Volatility']\n",
        "assets"
      ],
      "execution_count": 29,
      "outputs": [
        {
          "output_type": "execute_result",
          "data": {
            "text/plain": [
              "        Returns  Volatility\n",
              "AAPL   0.357854    0.247871\n",
              "AMZN   0.295745    0.288770\n",
              "GOOGL  0.155478    0.235375\n",
              "NKE    0.160666    0.233916"
            ],
            "text/html": [
              "\n",
              "  <div id=\"df-49098a91-4b32-4d01-8bff-c6385572bdb6\">\n",
              "    <div class=\"colab-df-container\">\n",
              "      <div>\n",
              "<style scoped>\n",
              "    .dataframe tbody tr th:only-of-type {\n",
              "        vertical-align: middle;\n",
              "    }\n",
              "\n",
              "    .dataframe tbody tr th {\n",
              "        vertical-align: top;\n",
              "    }\n",
              "\n",
              "    .dataframe thead th {\n",
              "        text-align: right;\n",
              "    }\n",
              "</style>\n",
              "<table border=\"1\" class=\"dataframe\">\n",
              "  <thead>\n",
              "    <tr style=\"text-align: right;\">\n",
              "      <th></th>\n",
              "      <th>Returns</th>\n",
              "      <th>Volatility</th>\n",
              "    </tr>\n",
              "  </thead>\n",
              "  <tbody>\n",
              "    <tr>\n",
              "      <th>AAPL</th>\n",
              "      <td>0.357854</td>\n",
              "      <td>0.247871</td>\n",
              "    </tr>\n",
              "    <tr>\n",
              "      <th>AMZN</th>\n",
              "      <td>0.295745</td>\n",
              "      <td>0.288770</td>\n",
              "    </tr>\n",
              "    <tr>\n",
              "      <th>GOOGL</th>\n",
              "      <td>0.155478</td>\n",
              "      <td>0.235375</td>\n",
              "    </tr>\n",
              "    <tr>\n",
              "      <th>NKE</th>\n",
              "      <td>0.160666</td>\n",
              "      <td>0.233916</td>\n",
              "    </tr>\n",
              "  </tbody>\n",
              "</table>\n",
              "</div>\n",
              "      <button class=\"colab-df-convert\" onclick=\"convertToInteractive('df-49098a91-4b32-4d01-8bff-c6385572bdb6')\"\n",
              "              title=\"Convert this dataframe to an interactive table.\"\n",
              "              style=\"display:none;\">\n",
              "        \n",
              "  <svg xmlns=\"http://www.w3.org/2000/svg\" height=\"24px\"viewBox=\"0 0 24 24\"\n",
              "       width=\"24px\">\n",
              "    <path d=\"M0 0h24v24H0V0z\" fill=\"none\"/>\n",
              "    <path d=\"M18.56 5.44l.94 2.06.94-2.06 2.06-.94-2.06-.94-.94-2.06-.94 2.06-2.06.94zm-11 1L8.5 8.5l.94-2.06 2.06-.94-2.06-.94L8.5 2.5l-.94 2.06-2.06.94zm10 10l.94 2.06.94-2.06 2.06-.94-2.06-.94-.94-2.06-.94 2.06-2.06.94z\"/><path d=\"M17.41 7.96l-1.37-1.37c-.4-.4-.92-.59-1.43-.59-.52 0-1.04.2-1.43.59L10.3 9.45l-7.72 7.72c-.78.78-.78 2.05 0 2.83L4 21.41c.39.39.9.59 1.41.59.51 0 1.02-.2 1.41-.59l7.78-7.78 2.81-2.81c.8-.78.8-2.07 0-2.86zM5.41 20L4 18.59l7.72-7.72 1.47 1.35L5.41 20z\"/>\n",
              "  </svg>\n",
              "      </button>\n",
              "      \n",
              "  <style>\n",
              "    .colab-df-container {\n",
              "      display:flex;\n",
              "      flex-wrap:wrap;\n",
              "      gap: 12px;\n",
              "    }\n",
              "\n",
              "    .colab-df-convert {\n",
              "      background-color: #E8F0FE;\n",
              "      border: none;\n",
              "      border-radius: 50%;\n",
              "      cursor: pointer;\n",
              "      display: none;\n",
              "      fill: #1967D2;\n",
              "      height: 32px;\n",
              "      padding: 0 0 0 0;\n",
              "      width: 32px;\n",
              "    }\n",
              "\n",
              "    .colab-df-convert:hover {\n",
              "      background-color: #E2EBFA;\n",
              "      box-shadow: 0px 1px 2px rgba(60, 64, 67, 0.3), 0px 1px 3px 1px rgba(60, 64, 67, 0.15);\n",
              "      fill: #174EA6;\n",
              "    }\n",
              "\n",
              "    [theme=dark] .colab-df-convert {\n",
              "      background-color: #3B4455;\n",
              "      fill: #D2E3FC;\n",
              "    }\n",
              "\n",
              "    [theme=dark] .colab-df-convert:hover {\n",
              "      background-color: #434B5C;\n",
              "      box-shadow: 0px 1px 3px 1px rgba(0, 0, 0, 0.15);\n",
              "      filter: drop-shadow(0px 1px 2px rgba(0, 0, 0, 0.3));\n",
              "      fill: #FFFFFF;\n",
              "    }\n",
              "  </style>\n",
              "\n",
              "      <script>\n",
              "        const buttonEl =\n",
              "          document.querySelector('#df-49098a91-4b32-4d01-8bff-c6385572bdb6 button.colab-df-convert');\n",
              "        buttonEl.style.display =\n",
              "          google.colab.kernel.accessAllowed ? 'block' : 'none';\n",
              "\n",
              "        async function convertToInteractive(key) {\n",
              "          const element = document.querySelector('#df-49098a91-4b32-4d01-8bff-c6385572bdb6');\n",
              "          const dataTable =\n",
              "            await google.colab.kernel.invokeFunction('convertToInteractive',\n",
              "                                                     [key], {});\n",
              "          if (!dataTable) return;\n",
              "\n",
              "          const docLinkHtml = 'Like what you see? Visit the ' +\n",
              "            '<a target=\"_blank\" href=https://colab.research.google.com/notebooks/data_table.ipynb>data table notebook</a>'\n",
              "            + ' to learn more about interactive tables.';\n",
              "          element.innerHTML = '';\n",
              "          dataTable['output_type'] = 'display_data';\n",
              "          await google.colab.output.renderOutput(dataTable, element);\n",
              "          const docLink = document.createElement('div');\n",
              "          docLink.innerHTML = docLinkHtml;\n",
              "          element.appendChild(docLink);\n",
              "        }\n",
              "      </script>\n",
              "    </div>\n",
              "  </div>\n",
              "  "
            ]
          },
          "metadata": {},
          "execution_count": 29
        }
      ]
    },
    {
      "cell_type": "markdown",
      "metadata": {
        "id": "kIUiZgZ9caA0"
      },
      "source": [
        "From the above results, we can see that Amazon has the maximum risk attached but it also offers a higher return.\n",
        "\n",
        "In order to plot the efficient frontier graph, we need to do this process for several iterations. In each iteration, we consider different weights for assets and calculate the return and volatility of that particular portfolio combination."
      ]
    },
    {
      "cell_type": "code",
      "metadata": {
        "id": "C8OBdlDvcdc0",
        "outputId": "4e358764-686c-4d67-e9f7-fb2f53e7d5ac",
        "colab": {
          "base_uri": "https://localhost:8080/"
        }
      },
      "source": [
        "# Define an empty list for portfolio returns, volatility and asset weights\n",
        "p_ret = []\n",
        "p_vol = []\n",
        "p_weights = []\n",
        "\n",
        "num_assets = len(df.columns)\n",
        "print(\"Number of assets: \", num_assets)\n",
        "num_portfolios = 10000\n",
        "print(\"Number of portfolios: \", num_portfolios)"
      ],
      "execution_count": 30,
      "outputs": [
        {
          "output_type": "stream",
          "name": "stdout",
          "text": [
            "Number of assets:  4\n",
            "Number of portfolios:  10000\n"
          ]
        }
      ]
    },
    {
      "cell_type": "code",
      "metadata": {
        "id": "85S3bI9LcgNm"
      },
      "source": [
        "np.random.seed(1)\n",
        "for portfolio in range(num_portfolios):\n",
        "    weights = np.random.random(num_assets)\n",
        "    # sum of weights must be 1\n",
        "    weights = weights/np.sum(weights)\n",
        "    p_weights.append(weights)\n",
        "    # Returns are the product of individual expected returns of asset and its weights\n",
        "    returns = np.dot(weights, ind_er)\n",
        "    p_ret.append(returns)\n",
        "    # Portfolio Variance\n",
        "    var = cov_matrix.mul(weights, axis=0).mul(weights, axis=1).sum().sum()\n",
        "    # Daily standard deviation\n",
        "    sd = np.sqrt(var)\n",
        "    # Annual standard deviation = volatility\n",
        "    ann_sd = sd * np.sqrt(250)\n",
        "    p_vol.append(ann_sd)"
      ],
      "execution_count": 31,
      "outputs": []
    },
    {
      "cell_type": "code",
      "metadata": {
        "id": "VpZ3FTAmcmi6",
        "outputId": "71623ed2-c1d6-4336-f77e-c6fdeb923ce6",
        "colab": {
          "base_uri": "https://localhost:8080/",
          "height": 275
        }
      },
      "source": [
        "data_ = {'Returns':p_ret, 'Volatility':p_vol}\n",
        "\n",
        "for counter, symbol in enumerate(df.columns.tolist()):\n",
        "    print(counter, symbol)\n",
        "    data_[symbol + '_weight'] = [w[counter] for w in p_weights]\n",
        "\n",
        "# Create dataframe of the 10000 portfolios\n",
        "portfolios  = pd.DataFrame(data_)\n",
        "portfolios.head()"
      ],
      "execution_count": 32,
      "outputs": [
        {
          "output_type": "stream",
          "name": "stdout",
          "text": [
            "0 AAPL\n",
            "1 AMZN\n",
            "2 GOOGL\n",
            "3 NKE\n"
          ]
        },
        {
          "output_type": "execute_result",
          "data": {
            "text/plain": [
              "    Returns  Volatility  AAPL_weight  AMZN_weight  GOOGL_weight  NKE_weight\n",
              "0  0.285359    0.214801     0.289640     0.500297      0.000079    0.209983\n",
              "1  0.213130    0.187901     0.190366     0.119778      0.241609    0.448247\n",
              "2  0.233630    0.193150     0.194494     0.264126      0.205488    0.335892\n",
              "3  0.249852    0.210469     0.114833     0.493207      0.015383    0.376577\n",
              "4  0.280125    0.210816     0.317467     0.425026      0.106800    0.150707"
            ],
            "text/html": [
              "\n",
              "  <div id=\"df-362a460d-3382-4b7e-b9f9-978baf74d5e8\">\n",
              "    <div class=\"colab-df-container\">\n",
              "      <div>\n",
              "<style scoped>\n",
              "    .dataframe tbody tr th:only-of-type {\n",
              "        vertical-align: middle;\n",
              "    }\n",
              "\n",
              "    .dataframe tbody tr th {\n",
              "        vertical-align: top;\n",
              "    }\n",
              "\n",
              "    .dataframe thead th {\n",
              "        text-align: right;\n",
              "    }\n",
              "</style>\n",
              "<table border=\"1\" class=\"dataframe\">\n",
              "  <thead>\n",
              "    <tr style=\"text-align: right;\">\n",
              "      <th></th>\n",
              "      <th>Returns</th>\n",
              "      <th>Volatility</th>\n",
              "      <th>AAPL_weight</th>\n",
              "      <th>AMZN_weight</th>\n",
              "      <th>GOOGL_weight</th>\n",
              "      <th>NKE_weight</th>\n",
              "    </tr>\n",
              "  </thead>\n",
              "  <tbody>\n",
              "    <tr>\n",
              "      <th>0</th>\n",
              "      <td>0.285359</td>\n",
              "      <td>0.214801</td>\n",
              "      <td>0.289640</td>\n",
              "      <td>0.500297</td>\n",
              "      <td>0.000079</td>\n",
              "      <td>0.209983</td>\n",
              "    </tr>\n",
              "    <tr>\n",
              "      <th>1</th>\n",
              "      <td>0.213130</td>\n",
              "      <td>0.187901</td>\n",
              "      <td>0.190366</td>\n",
              "      <td>0.119778</td>\n",
              "      <td>0.241609</td>\n",
              "      <td>0.448247</td>\n",
              "    </tr>\n",
              "    <tr>\n",
              "      <th>2</th>\n",
              "      <td>0.233630</td>\n",
              "      <td>0.193150</td>\n",
              "      <td>0.194494</td>\n",
              "      <td>0.264126</td>\n",
              "      <td>0.205488</td>\n",
              "      <td>0.335892</td>\n",
              "    </tr>\n",
              "    <tr>\n",
              "      <th>3</th>\n",
              "      <td>0.249852</td>\n",
              "      <td>0.210469</td>\n",
              "      <td>0.114833</td>\n",
              "      <td>0.493207</td>\n",
              "      <td>0.015383</td>\n",
              "      <td>0.376577</td>\n",
              "    </tr>\n",
              "    <tr>\n",
              "      <th>4</th>\n",
              "      <td>0.280125</td>\n",
              "      <td>0.210816</td>\n",
              "      <td>0.317467</td>\n",
              "      <td>0.425026</td>\n",
              "      <td>0.106800</td>\n",
              "      <td>0.150707</td>\n",
              "    </tr>\n",
              "  </tbody>\n",
              "</table>\n",
              "</div>\n",
              "      <button class=\"colab-df-convert\" onclick=\"convertToInteractive('df-362a460d-3382-4b7e-b9f9-978baf74d5e8')\"\n",
              "              title=\"Convert this dataframe to an interactive table.\"\n",
              "              style=\"display:none;\">\n",
              "        \n",
              "  <svg xmlns=\"http://www.w3.org/2000/svg\" height=\"24px\"viewBox=\"0 0 24 24\"\n",
              "       width=\"24px\">\n",
              "    <path d=\"M0 0h24v24H0V0z\" fill=\"none\"/>\n",
              "    <path d=\"M18.56 5.44l.94 2.06.94-2.06 2.06-.94-2.06-.94-.94-2.06-.94 2.06-2.06.94zm-11 1L8.5 8.5l.94-2.06 2.06-.94-2.06-.94L8.5 2.5l-.94 2.06-2.06.94zm10 10l.94 2.06.94-2.06 2.06-.94-2.06-.94-.94-2.06-.94 2.06-2.06.94z\"/><path d=\"M17.41 7.96l-1.37-1.37c-.4-.4-.92-.59-1.43-.59-.52 0-1.04.2-1.43.59L10.3 9.45l-7.72 7.72c-.78.78-.78 2.05 0 2.83L4 21.41c.39.39.9.59 1.41.59.51 0 1.02-.2 1.41-.59l7.78-7.78 2.81-2.81c.8-.78.8-2.07 0-2.86zM5.41 20L4 18.59l7.72-7.72 1.47 1.35L5.41 20z\"/>\n",
              "  </svg>\n",
              "      </button>\n",
              "      \n",
              "  <style>\n",
              "    .colab-df-container {\n",
              "      display:flex;\n",
              "      flex-wrap:wrap;\n",
              "      gap: 12px;\n",
              "    }\n",
              "\n",
              "    .colab-df-convert {\n",
              "      background-color: #E8F0FE;\n",
              "      border: none;\n",
              "      border-radius: 50%;\n",
              "      cursor: pointer;\n",
              "      display: none;\n",
              "      fill: #1967D2;\n",
              "      height: 32px;\n",
              "      padding: 0 0 0 0;\n",
              "      width: 32px;\n",
              "    }\n",
              "\n",
              "    .colab-df-convert:hover {\n",
              "      background-color: #E2EBFA;\n",
              "      box-shadow: 0px 1px 2px rgba(60, 64, 67, 0.3), 0px 1px 3px 1px rgba(60, 64, 67, 0.15);\n",
              "      fill: #174EA6;\n",
              "    }\n",
              "\n",
              "    [theme=dark] .colab-df-convert {\n",
              "      background-color: #3B4455;\n",
              "      fill: #D2E3FC;\n",
              "    }\n",
              "\n",
              "    [theme=dark] .colab-df-convert:hover {\n",
              "      background-color: #434B5C;\n",
              "      box-shadow: 0px 1px 3px 1px rgba(0, 0, 0, 0.15);\n",
              "      filter: drop-shadow(0px 1px 2px rgba(0, 0, 0, 0.3));\n",
              "      fill: #FFFFFF;\n",
              "    }\n",
              "  </style>\n",
              "\n",
              "      <script>\n",
              "        const buttonEl =\n",
              "          document.querySelector('#df-362a460d-3382-4b7e-b9f9-978baf74d5e8 button.colab-df-convert');\n",
              "        buttonEl.style.display =\n",
              "          google.colab.kernel.accessAllowed ? 'block' : 'none';\n",
              "\n",
              "        async function convertToInteractive(key) {\n",
              "          const element = document.querySelector('#df-362a460d-3382-4b7e-b9f9-978baf74d5e8');\n",
              "          const dataTable =\n",
              "            await google.colab.kernel.invokeFunction('convertToInteractive',\n",
              "                                                     [key], {});\n",
              "          if (!dataTable) return;\n",
              "\n",
              "          const docLinkHtml = 'Like what you see? Visit the ' +\n",
              "            '<a target=\"_blank\" href=https://colab.research.google.com/notebooks/data_table.ipynb>data table notebook</a>'\n",
              "            + ' to learn more about interactive tables.';\n",
              "          element.innerHTML = '';\n",
              "          dataTable['output_type'] = 'display_data';\n",
              "          await google.colab.output.renderOutput(dataTable, element);\n",
              "          const docLink = document.createElement('div');\n",
              "          docLink.innerHTML = docLinkHtml;\n",
              "          element.appendChild(docLink);\n",
              "        }\n",
              "      </script>\n",
              "    </div>\n",
              "  </div>\n",
              "  "
            ]
          },
          "metadata": {},
          "execution_count": 32
        }
      ]
    },
    {
      "cell_type": "markdown",
      "metadata": {
        "id": "9clybW_kc2YG"
      },
      "source": [
        "We can see that there are a number of portfolios with different weights, returns and volatility. Plotting the returns and volatility from this dataframe will give the efficient frontier for our portfolio."
      ]
    },
    {
      "cell_type": "code",
      "metadata": {
        "id": "mSCmxcE4c53A",
        "outputId": "2b641725-36a3-4c8f-fcae-8e0f496da952",
        "colab": {
          "base_uri": "https://localhost:8080/",
          "height": 404
        }
      },
      "source": [
        "# Visualize efficient frontier\n",
        "plt.figure(figsize=(8,6))\n",
        "plt.scatter(portfolios['Volatility'], portfolios['Returns'], marker='o', s=10, alpha=0.3)\n",
        "plt.title(\"Efficient Frontier\")\n",
        "plt.xlabel(\"Risk\")\n",
        "plt.ylabel(\"Returns\")\n",
        "plt.grid()\n",
        "plt.show()"
      ],
      "execution_count": 33,
      "outputs": [
        {
          "output_type": "display_data",
          "data": {
            "text/plain": [
              "<Figure size 576x432 with 1 Axes>"
            ],
            "image/png": "[encoded data removed]"
          },
          "metadata": {
            "needs_background": "light"
          }
        }
      ]
    },
    {
      "cell_type": "markdown",
      "metadata": {
        "id": "OHf3uJ6DKtjA"
      },
      "source": [
        "Each point on the line (left edge) represents an optimal portfolio of stocks that maximizes the returns for any given level of risk.\n",
        "\n",
        "The point (portfolios) in the interior are sub-optimal for a given risk level. For every interior point, there is another that offers higher returns for the same risk.\n",
        "\n",
        "On this graph, we can also see the combination of weights that will give all possible combinations: minimum volatility (left most point), maximum returns (top most point), and everything in between."
      ]
    },
    {
      "cell_type": "markdown",
      "metadata": {
        "id": "JBdTpwXIMfXZ"
      },
      "source": [
        "**Minimum Variance Portfolio**"
      ]
    },
    {
      "cell_type": "code",
      "metadata": {
        "id": "jgZfGyBUMJIZ",
        "outputId": "8d3affb1-0476-45b0-98ac-e87a26123bb9",
        "colab": {
          "base_uri": "https://localhost:8080/"
        }
      },
      "source": [
        "# Minimum variance portfolio\n",
        "min_var_port = portfolios.iloc[np.argmin(portfolios['Volatility'])]\n",
        "min_var_port"
      ],
      "execution_count": 34,
      "outputs": [
        {
          "output_type": "execute_result",
          "data": {
            "text/plain": [
              "Returns         0.216495\n",
              "Volatility      0.186598\n",
              "AAPL_weight     0.258258\n",
              "AMZN_weight     0.047768\n",
              "GOOGL_weight    0.298488\n",
              "NKE_weight      0.395487\n",
              "Name: 5052, dtype: float64"
            ]
          },
          "metadata": {},
          "execution_count": 34
        }
      ]
    },
    {
      "cell_type": "code",
      "metadata": {
        "id": "eZWDfSNu3OkF",
        "outputId": "2ec739c0-9c26-46c5-e2ed-e6bfe4a67743",
        "colab": {
          "base_uri": "https://localhost:8080/",
          "height": 266
        }
      },
      "source": [
        "# Weights for Minimum variance portfolio\n",
        "sns.barplot(x = min_var_port[2:].index, y = min_var_port[2:])\n",
        "plt.ylabel(\"Weights\")\n",
        "plt.show()"
      ],
      "execution_count": 35,
      "outputs": [
        {
          "output_type": "display_data",
          "data": {
            "text/plain": [
              "<Figure size 432x288 with 1 Axes>"
            ],
            "image/png": "[encoded data removed]"
          },
          "metadata": {
            "needs_background": "light"
          }
        }
      ]
    },
    {
      "cell_type": "markdown",
      "metadata": {
        "id": "gKTk05AfK0eH"
      },
      "source": [
        "The minimum volatility is in a portfolio where the weights of Apple, Amazon, Google and Nike are about 25%, 4%, 30% and 40% respectively. This point can be plotted on the efficient frontier graph as shown:"
      ]
    },
    {
      "cell_type": "code",
      "metadata": {
        "id": "whzkmL_8dT5h",
        "outputId": "5ad49b75-8f1e-4af6-8eaf-9215f21101c6",
        "colab": {
          "base_uri": "https://localhost:8080/",
          "height": 404
        }
      },
      "source": [
        "# Visualize Efficient frontier\n",
        "plt.subplots(figsize=[8,6])\n",
        "plt.scatter(portfolios['Volatility'], portfolios['Returns'], marker='o', s=10, alpha=0.3)\n",
        "\n",
        "# Visualize Minimum variance portfolio\n",
        "plt.scatter(min_var_port[1], min_var_port[0], color='r', marker='*', s=300)\n",
        "plt.title(\"Efficient Frontier\")\n",
        "plt.xlabel(\"Risk\")\n",
        "plt.ylabel(\"Returns\")\n",
        "plt.grid()\n",
        "plt.show()"
      ],
      "execution_count": 36,
      "outputs": [
        {
          "output_type": "display_data",
          "data": {
            "text/plain": [
              "<Figure size 576x432 with 1 Axes>"
            ],
            "image/png": "[encoded data removed]"
          },
          "metadata": {
            "needs_background": "light"
          }
        }
      ]
    },
    {
      "cell_type": "markdown",
      "metadata": {
        "id": "H3zQ1AE0N1PR"
      },
      "source": [
        "The red star denotes the most efficient portfolio with minimum volatility. Note that any point to the right of efficient frontier boundary is a sup-optimal portfolio.\n",
        "\n",
        "We found the portfolio with minimum volatility, but we will notice that the return on this portfolio is pretty low. We want to maximize the return, even if it is a tradeoff with some level of risk. This is where a parameter called the Sharpe Ratio comes in.\n",
        "\n",
        "The Sharpe ratio is the average return earned ($E(r_p)$) in excess of the risk-free rate ($r_f$) per unit of volatility ($\\sigma_p$) or total risk.\n",
        "\n",
        "$$Sharpe\\ ratio = \\frac{E(r_p) - r_f}{\\sigma_p}$$"
      ]
    },
    {
      "cell_type": "markdown",
      "metadata": {
        "id": "7kAntJZ2PxGK"
      },
      "source": [
        "**Tangency Portfolio**\n",
        "\n",
        "A tangency portfolio or an optimal risky portfolio can be considered as one that has the highest Sharpe ratio.\n",
        "\n",
        "Let's find the optimal portfolio for our case:"
      ]
    },
    {
      "cell_type": "code",
      "metadata": {
        "id": "34JH2C5xRlRL",
        "outputId": "cd8e65c8-3d1d-4ccb-dcb0-d86a35e4ad03",
        "colab": {
          "base_uri": "https://localhost:8080/"
        }
      },
      "source": [
        "# Risk-free return\n",
        "rf = 0.01\n",
        "# Sharpe ratios for different weight combinations\n",
        "sharpe_ratios = (portfolios['Returns'] - rf)/portfolios['Volatility']\n",
        "\n",
        "# Highest sharpe ratio\n",
        "optimal_idx = np.argmax(sharpe_ratios)\n",
        "print(\"Highest Sharpe ratio: \", sharpe_ratios[optimal_idx])"
      ],
      "execution_count": 37,
      "outputs": [
        {
          "output_type": "stream",
          "name": "stdout",
          "text": [
            "Highest Sharpe ratio:  1.4411305671312247\n"
          ]
        }
      ]
    },
    {
      "cell_type": "code",
      "metadata": {
        "id": "WHbu4IDcR4x3",
        "outputId": "bf5d6a33-bb5d-4884-b861-08557f9e08b5",
        "colab": {
          "base_uri": "https://localhost:8080/"
        }
      },
      "source": [
        "# Tangent portfolio\n",
        "optimal_risky_port = portfolios.iloc[optimal_idx]\n",
        "optimal_risky_port"
      ],
      "execution_count": 38,
      "outputs": [
        {
          "output_type": "execute_result",
          "data": {
            "text/plain": [
              "Returns         0.331367\n",
              "Volatility      0.222997\n",
              "AAPL_weight     0.714299\n",
              "AMZN_weight     0.221448\n",
              "GOOGL_weight    0.012225\n",
              "NKE_weight      0.052028\n",
              "Name: 1278, dtype: float64"
            ]
          },
          "metadata": {},
          "execution_count": 38
        }
      ]
    },
    {
      "cell_type": "code",
      "metadata": {
        "id": "zc8hR3yZ3OkH",
        "outputId": "dc9bc830-389d-458a-feaf-14474114b0ce",
        "colab": {
          "base_uri": "https://localhost:8080/",
          "height": 266
        }
      },
      "source": [
        "# Weights for Tangency portfolio\n",
        "sns.barplot(x = optimal_risky_port[2:].index, y = optimal_risky_port[2:])\n",
        "plt.ylabel(\"Weights\")\n",
        "plt.show()"
      ],
      "execution_count": 39,
      "outputs": [
        {
          "output_type": "display_data",
          "data": {
            "text/plain": [
              "<Figure size 432x288 with 1 Axes>"
            ],
            "image/png": "[encoded data removed]"
          },
          "metadata": {
            "needs_background": "light"
          }
        }
      ]
    },
    {
      "cell_type": "code",
      "metadata": {
        "id": "MEXd2YTiTEtW",
        "outputId": "ab93c9c0-a11d-4bf4-a1bf-fcdcbcea96ec",
        "colab": {
          "base_uri": "https://localhost:8080/"
        }
      },
      "source": [
        "# Diference b/w tangent portfolio and minimum variance portfolio\n",
        "optimal_risky_port - min_var_port"
      ],
      "execution_count": 40,
      "outputs": [
        {
          "output_type": "execute_result",
          "data": {
            "text/plain": [
              "Returns         0.114872\n",
              "Volatility      0.036399\n",
              "AAPL_weight     0.456041\n",
              "AMZN_weight     0.173681\n",
              "GOOGL_weight   -0.286263\n",
              "NKE_weight     -0.343459\n",
              "dtype: float64"
            ]
          },
          "metadata": {},
          "execution_count": 40
        }
      ]
    },
    {
      "cell_type": "markdown",
      "metadata": {
        "id": "PECoa5xRQNwZ"
      },
      "source": [
        "From the above results, we can notice that the difference in risk between minimum volatility portfolio and optimal risky portfolio is low while the difference in returns is high. \n",
        "\n",
        "We can also plot this point on efficient frontier graph."
      ]
    },
    {
      "cell_type": "code",
      "metadata": {
        "id": "qxB7FZtrUWLf",
        "outputId": "264d079a-c4d3-4131-8991-33fd04879ddc",
        "colab": {
          "base_uri": "https://localhost:8080/",
          "height": 404
        }
      },
      "source": [
        "# Visualize Efficient frontier\n",
        "plt.subplots(figsize=[8,6])\n",
        "plt.scatter(portfolios['Volatility'], portfolios['Returns'], marker='o', s=10, alpha=0.3)\n",
        "\n",
        "# Visualize Minimum variance portfolio\n",
        "plt.scatter(min_var_port[1], min_var_port[0], color='r', marker='*', s=300)\n",
        "\n",
        "# Visualize optimal or tangent portfolio\n",
        "plt.scatter(optimal_risky_port[1], optimal_risky_port[0], color='g', marker='*', s=300)\n",
        "plt.title(\"Efficient Frontier\")\n",
        "plt.xlabel(\"Risk\")\n",
        "plt.ylabel(\"Returns\")\n",
        "plt.grid()\n",
        "plt.show()"
      ],
      "execution_count": 41,
      "outputs": [
        {
          "output_type": "display_data",
          "data": {
            "text/plain": [
              "<Figure size 576x432 with 1 Axes>"
            ],
            "image/png": "[encoded data removed]"
          },
          "metadata": {
            "needs_background": "light"
          }
        }
      ]
    },
    {
      "cell_type": "markdown",
      "metadata": {
        "id": "MpfYke2eVUAW"
      },
      "source": [
        "In the above plot, the green star represents the optimal risky portfolio."
      ]
    },
    {
      "cell_type": "markdown",
      "metadata": {
        "id": "VHfHdGCP_n6Y"
      },
      "source": [
        "### Please answer the questions below to complete the experiment:\n",
        "\n",
        "\n"
      ]
    },
    {
      "cell_type": "code",
      "metadata": {
        "id": "VgSwVENIPcM6"
      },
      "source": [
        "#@title The tangency portfolio is defined as the portfolio that has the { run: \"auto\", form-width: \"500px\", display-mode: \"form\" }\n",
        "Answer = \"Highest Sharpe ratio\" #@param [\"\", \"Highest returns\", \"Lowest variance\", \"Highest Sharpe ratio\"]"
      ],
      "execution_count": 42,
      "outputs": []
    },
    {
      "cell_type": "code",
      "metadata": {
        "id": "NMzKSbLIgFzQ"
      },
      "source": [
        "#@title How was the experiment? { run: \"auto\", form-width: \"500px\", display-mode: \"form\" }\n",
        "Complexity = \"Good and Challenging for me\" #@param [\"\",\"Too Simple, I am wasting time\", \"Good, But Not Challenging for me\", \"Good and Challenging for me\", \"Was Tough, but I did it\", \"Too Difficult for me\"]"
      ],
      "execution_count": 43,
      "outputs": []
    },
    {
      "cell_type": "code",
      "metadata": {
        "id": "DjcH1VWSFI2l"
      },
      "source": [
        "#@title If it was too easy, what more would you have liked to be added? If it was very difficult, what would you have liked to have been removed? { run: \"auto\", display-mode: \"form\" }\n",
        "Additional = \"NA \" #@param {type:\"string\"}"
      ],
      "execution_count": 44,
      "outputs": []
    },
    {
      "cell_type": "code",
      "metadata": {
        "id": "4VBk_4VTAxCM"
      },
      "source": [
        "#@title Can you identify the concepts from the lecture which this experiment covered? { run: \"auto\", vertical-output: true, display-mode: \"form\" }\n",
        "Concepts = \"Yes\" #@param [\"\",\"Yes\", \"No\"]"
      ],
      "execution_count": 45,
      "outputs": []
    },
    {
      "cell_type": "code",
      "metadata": {
        "id": "XH91cL1JWH7m"
      },
      "source": [
        "#@title  Text and image description/explanation and code comments within the experiment: { run: \"auto\", vertical-output: true, display-mode: \"form\" }\n",
        "Comments = \"Very Useful\" #@param [\"\",\"Very Useful\", \"Somewhat Useful\", \"Not Useful\", \"Didn't use\"]"
      ],
      "execution_count": 46,
      "outputs": []
    },
    {
      "cell_type": "code",
      "metadata": {
        "id": "z8xLqj7VWIKW"
      },
      "source": [
        "#@title Mentor Support: { run: \"auto\", vertical-output: true, display-mode: \"form\" }\n",
        "Mentor_support = \"Very Useful\" #@param [\"\",\"Very Useful\", \"Somewhat Useful\", \"Not Useful\", \"Didn't use\"]"
      ],
      "execution_count": 47,
      "outputs": []
    },
    {
      "cell_type": "code",
      "metadata": {
        "id": "FzAZHt1zw-Y-",
        "cellView": "form",
        "outputId": "d1ad060b-9279-43e5-8740-7b6e2455d69e",
        "colab": {
          "base_uri": "https://localhost:8080/"
        }
      },
      "source": [
        "#@title Run this cell to submit your notebook for grading { vertical-output: true }\n",
        "try:\n",
        "  if submission_id:\n",
        "      return_id = submit_notebook()\n",
        "      if return_id : submission_id = return_id\n",
        "  else:\n",
        "      print(\"Please complete the setup first.\")\n",
        "except NameError:\n",
        "  print (\"Please complete the setup first.\")"
      ],
      "execution_count": 48,
      "outputs": [
        {
          "output_type": "stream",
          "name": "stdout",
          "text": [
            "Your submission is successful.\n",
            "Ref Id: 8024\n",
            "Date of submission:  03 Apr 2022\n",
            "Time of submission:  21:24:13\n",
            "View your submissions: https://cds.iisc.talentsprint.com/notebook_submissions\n"
          ]
        }
      ]
    },
    {
      "cell_type": "code",
      "source": [
        ""
      ],
      "metadata": {
        "id": "Xz9pxY6ibk1s"
      },
      "execution_count": null,
      "outputs": []
    }
  ]
}