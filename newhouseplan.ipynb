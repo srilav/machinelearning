{
  "nbformat": 4,
  "nbformat_minor": 0,
  "metadata": {
    "colab": {
      "name": "Untitled2.ipynb",
      "provenance": [],
      "collapsed_sections": [],
      "authorship_tag": "ABX9TyM+atgUBOhWxTzIouwHdn6j",
      "include_colab_link": true
    },
    "kernelspec": {
      "name": "python3",
      "display_name": "Python 3"
    },
    "language_info": {
      "name": "python"
    }
  },
  "cells": [
    {
      "cell_type": "markdown",
      "metadata": {
        "id": "view-in-github",
        "colab_type": "text"
      },
      "source": [
        "<a href=\"https://colab.research.google.com/github/srilav/machinelearning/blob/main/newhouseplan.ipynb\" target=\"_parent\"><img src=\"https://colab.research.google.com/assets/colab-badge.svg\" alt=\"Open In Colab\"/></a>"
      ]
    },
    {
      "cell_type": "code",
      "metadata": {
        "id": "ilaAFAZHz0lt"
      },
      "source": [
        "import numpy as np\n",
        "import matplotlib.pyplot as plt\n",
        "import pandas as pd\n",
        "\n",
        "#variables to store mean and standard deviation for each feature\n",
        "mu = []\n",
        "std = []\n",
        "#[Age, Salary, Number of Members in Household, Date of Last Purchase, Value of Last Purchase, Date of Second Last Purchase, Value of Second Last Purchase].\n",
        "def load_data(filename):\n",
        "\tdf = pd.read_csv(filename, sep=\",\", names=['Age','Salary','DateofLastPurchase'], index_col=False)\n",
        "  \n",
        "\tdata = np.array(df, dtype=float)\n",
        "\tplot_data(data[:,:2], data[:, -1])\n",
        "\tnormalize(data)\n",
        "\treturn data[:,:2], data[:, -1]\n",
        "\n"
      ],
      "execution_count": 30,
      "outputs": []
    },
    {
      "cell_type": "code",
      "metadata": {
        "id": "2SrwxAIH1ptA"
      },
      "source": [
        "def plot_data(x, y):\n",
        "\tplt.xlabel('Salary')\n",
        "\tplt.ylabel('DateofLastPurchase')\n",
        "\tplt.plot(x[:,0], y, 'bo')\n",
        "\tplt.show()"
      ],
      "execution_count": 11,
      "outputs": []
    },
    {
      "cell_type": "code",
      "metadata": {
        "id": "IGqr5YGb16kZ"
      },
      "source": [
        "def normalize(data):\n",
        "\tfor i in range(0,data.shape[1]-1):\n",
        "\t\tdata[:,i] = ((data[:,i] - np.mean(data[:,i]))/np.std(data[:, i]))\n",
        "\t\tmu.append(np.mean(data[:,i]))\n",
        "\t\tstd.append(np.std(data[:, i]))"
      ],
      "execution_count": 12,
      "outputs": []
    },
    {
      "cell_type": "code",
      "metadata": {
        "id": "Im64Vi5F15on"
      },
      "source": [
        "def h(x,theta):\n",
        "\treturn np.matmul(x, theta)"
      ],
      "execution_count": 13,
      "outputs": []
    },
    {
      "cell_type": "code",
      "metadata": {
        "id": "RtUXj88013YZ"
      },
      "source": [
        "def cost_function(x, y, theta):\n",
        "\treturn ((h(x, theta)-y).T@(h(x, theta)-y))/(2*y.shape[0])"
      ],
      "execution_count": 14,
      "outputs": []
    },
    {
      "cell_type": "code",
      "metadata": {
        "id": "1RLcsbbT119o"
      },
      "source": [
        "def gradient_descent(x, y, theta, learning_rate=0.1, num_epochs=10):\n",
        "\tm = x.shape[0]\n",
        "\tJ_all = []\n",
        "\t\n",
        "\tfor _ in range(num_epochs):\n",
        "\t\th_x = h(x, theta)\n",
        "\t\tcost_ = (1/m)*(x.T@(h_x - y))\n",
        "\t\ttheta = theta - (learning_rate)*cost_\n",
        "\t\tJ_all.append(cost_function(x, y, theta))\n",
        "\n",
        "\treturn theta, J_all "
      ],
      "execution_count": 15,
      "outputs": []
    },
    {
      "cell_type": "code",
      "metadata": {
        "id": "GW8UY17t10XL"
      },
      "source": [
        "def plot_cost(J_all, num_epochs):\n",
        "\tplt.xlabel('Epochs')\n",
        "\tplt.ylabel('Cost')\n",
        "\tplt.plot(num_epochs, J_all, 'm', linewidth = \"5\")\n",
        "\tplt.show()"
      ],
      "execution_count": 16,
      "outputs": []
    },
    {
      "cell_type": "code",
      "metadata": {
        "id": "xkCyHf6i1y6E"
      },
      "source": [
        "def test(theta, x):\n",
        "\tx[0] = (x[0] - mu[0])/std[0]\n",
        "\tx[1] = (x[1] - mu[1])/std[1]\n",
        "\n",
        "\ty = theta[0] + theta[1]*x[0] + theta[2]*x[1]\n",
        "\tprint(\"DateofLastPurchase: \", y)"
      ],
      "execution_count": 17,
      "outputs": []
    },
    {
      "cell_type": "code",
      "metadata": {
        "colab": {
          "base_uri": "https://localhost:8080/",
          "height": 638
        },
        "id": "uc6MUuN81rAS",
        "outputId": "8691f061-ef5b-4c4d-9132-803b426e2ecc"
      },
      "source": [
        "x,y = load_data(\"house_price_data.txt\")\n",
        "y = np.reshape(y, (47,1))\n",
        "x = np.hstack((np.ones((x.shape[0],1)), x))\n",
        "theta = np.zeros((x.shape[1], 1))\n",
        "learning_rate = 0.1\n",
        "num_epochs = 50\n",
        "theta, J_all = gradient_descent(x, y, theta, learning_rate, num_epochs)\n",
        "J = cost_function(x, y, theta)\n",
        "print(\"Cost: \", J)\n",
        "print(\"Parameters: \", theta)\n",
        "\n",
        "#for testing and plotting cost \n",
        "n_epochs = []\n",
        "jplot = []\n",
        "count = 0\n",
        "for i in J_all:\n",
        "\tjplot.append(i[0][0])\n",
        "\tn_epochs.append(count)\n",
        "\tcount += 1\n",
        "jplot = np.array(jplot)\n",
        "n_epochs = np.array(n_epochs)\n",
        "plot_cost(jplot, n_epochs)\n",
        "\n",
        "test(theta, [1600, 3])"
      ],
      "execution_count": 32,
      "outputs": [
        {
          "output_type": "display_data",
          "data": {
            "image/png": "[encoded data removed]",
            "text/plain": [
              "<Figure size 432x288 with 1 Axes>"
            ]
          },
          "metadata": {
            "needs_background": "light"
          }
        },
        {
          "output_type": "stream",
          "name": "stdout",
          "text": [
            "Cost:  [[2.06126963e+09]]\n",
            "Parameters:  [[338658.2492493 ]\n",
            " [103322.82942954]\n",
            " [  -474.74249522]]\n"
          ]
        },
        {
          "output_type": "display_data",
          "data": {
            "image/png": "[encoded data removed]",
            "text/plain": [
              "<Figure size 432x288 with 1 Axes>"
            ]
          },
          "metadata": {
            "needs_background": "light"
          }
        },
        {
          "output_type": "stream",
          "name": "stdout",
          "text": [
            "Price of house:  [1.65653761e+08]\n"
          ]
        }
      ]
    }
  ]
}