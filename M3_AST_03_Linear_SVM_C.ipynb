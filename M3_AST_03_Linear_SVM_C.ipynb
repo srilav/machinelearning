{
  "nbformat": 4,
  "nbformat_minor": 0,
  "metadata": {
    "colab": {
      "name": "M3_AST_03_Linear_SVM_C.ipynb",
      "provenance": [],
      "collapsed_sections": [],
      "include_colab_link": true
    },
    "kernelspec": {
      "display_name": "Python 3",
      "language": "python",
      "name": "python3"
    },
    "language_info": {
      "codemirror_mode": {
        "name": "ipython",
        "version": 3
      },
      "file_extension": ".py",
      "mimetype": "text/x-python",
      "name": "python",
      "nbconvert_exporter": "python",
      "pygments_lexer": "ipython3",
      "version": "3.8.5"
    }
  },
  "cells": [
    {
      "cell_type": "markdown",
      "metadata": {
        "id": "view-in-github",
        "colab_type": "text"
      },
      "source": [
        "<a href=\"https://colab.research.google.com/github/srilav/machinelearning/blob/main/M3_AST_03_Linear_SVM_C.ipynb\" target=\"_parent\"><img src=\"https://colab.research.google.com/assets/colab-badge.svg\" alt=\"Open In Colab\"/></a>"
      ]
    },
    {
      "cell_type": "markdown",
      "metadata": {
        "id": "Ps9llghv8jX1"
      },
      "source": [
        "# Advanced Certification Program in Computational Data Science\n",
        "## A program by IISc and TalentSprint\n",
        "### Assignment 3: Linear Support Vector Machines"
      ]
    },
    {
      "cell_type": "markdown",
      "metadata": {
        "id": "QeP1PAXf8jYD"
      },
      "source": [
        "## Learning Objectives"
      ]
    },
    {
      "cell_type": "markdown",
      "metadata": {
        "id": "AkwaW3k58jYG"
      },
      "source": [
        "At the end of the experiment, you will be able to:\n",
        "\n",
        "* perform Linear SVM Classification\n",
        "* perform Support Vector Regression\n",
        "* visualize the boundary regions on the plane\n",
        "* visualize the regression line using Support Vector Regressor\n",
        "* compare LinearSVC, SVC and SGDClassifier"
      ]
    },
    {
      "cell_type": "markdown",
      "metadata": {
        "id": "MoBCr7X7S0Jd"
      },
      "source": [
        "### Support Vector Machine - Classification (SVC)"
      ]
    },
    {
      "cell_type": "markdown",
      "metadata": {
        "id": "vVx8dO706ps4"
      },
      "source": [
        "**Support vector machines** are a set of supervised learning methods used for classification, regression, and outliers detection. \n",
        "\n",
        "A simple linear SVM classifier works by making a straight line between two classes. That means all of the data points on one side of the line will represent a category and the data points on the other side of the line will be put into a different category. This means there can be an infinite number of lines to choose from.\n",
        "\n",
        "**Hyperplanes** are decision boundaries that help classify the data points. Data points falling on either side of the hyperplane can be attributed to different classes.\n",
        " * The hyperplane with maximum margin is called the optimal hyperplane.\n",
        "\n",
        "**Support vectors** are data points that are closer to the hyperplane and influence the position and orientation of the hyperplane. \n",
        "\n",
        "**Margin** is the width that the boundary could be increased by before hitting a data point.\n",
        "\n",
        "![wget](https://cdn.talentsprint.com/aiml/aiml_2020_b14_hyd/experiment_details_backup/linear_data.png)\n",
        "\n",
        "\n",
        "\n",
        "\n"
      ]
    },
    {
      "cell_type": "markdown",
      "metadata": {
        "id": "s1RkdZga9gOG"
      },
      "source": [
        "### Implementing SVM classifier"
      ]
    },
    {
      "cell_type": "markdown",
      "metadata": {
        "id": "H424-SLpx2Cn"
      },
      "source": [
        "#### Dataset"
      ]
    },
    {
      "cell_type": "markdown",
      "metadata": {
        "id": "wZEjjm2j0Zes"
      },
      "source": [
        "The dataset used in this assignment is `Car_Advertisement` consists of data collected by a car retail company on their previous customers.\n",
        "\n",
        "The datafields are:\n",
        "\n",
        "* User ID \n",
        "* Gender\n",
        "* Age\n",
        "* Salary\n",
        "* Purchased (whether or not they purchased a car - this is the target for our predictions) \n",
        "\n",
        "Problem statement: Using the data, we will try to predict if a new customer will purchase a car based on their gender, age and salary.\n",
        "\n"
      ]
    },
    {
      "cell_type": "markdown",
      "metadata": {
        "id": "BNLA8HiKxQhc"
      },
      "source": [
        "### Setup Steps:"
      ]
    },
    {
      "cell_type": "code",
      "metadata": {
        "id": "2YzfoPvJDiTX"
      },
      "source": [
        "#@title Please enter your registration id to start: { run: \"auto\", display-mode: \"form\" }\n",
        "Id = \"2200183\" #@param {type:\"string\"}"
      ],
      "execution_count": 64,
      "outputs": []
    },
    {
      "cell_type": "code",
      "metadata": {
        "id": "AjoZJWGErxGf"
      },
      "source": [
        "#@title Please enter your password (your registered phone number) to continue: { run: \"auto\", display-mode: \"form\" }\n",
        "password = \"7671846954\" #@param {type:\"string\"}"
      ],
      "execution_count": 65,
      "outputs": []
    },
    {
      "cell_type": "code",
      "metadata": {
        "id": "WBPPuGmBlDIN",
        "cellView": "form",
        "outputId": "50ea26b8-5bfe-4630-fa78-1829523b9448",
        "colab": {
          "base_uri": "https://localhost:8080/",
          "height": 35
        }
      },
      "source": [
        "#@title Run this cell to complete the setup for this Notebook\n",
        "from IPython import get_ipython\n",
        "\n",
        "ipython = get_ipython()\n",
        "  \n",
        "notebook= \"M3_AST_03_Linear_SVM_C\" #name of the notebook\n",
        "\n",
        "def setup():\n",
        "#  ipython.magic(\"sx pip3 install torch\")  \n",
        "    ipython.magic(\"sx wget https://cdn.iisc.talentsprint.com/CDS/Datasets/Car_Advertisement.csv\")\n",
        "    ipython.magic(\"sx wget https://cdn.iisc.talentsprint.com/CDS/Datasets/position_salaries.csv\")\n",
        "    from IPython.display import HTML, display\n",
        "    display(HTML('<script src=\"https://dashboard.talentsprint.com/aiml/record_ip.html?traineeId={0}&recordId={1}\"></script>'.format(getId(),submission_id)))\n",
        "    print(\"Setup completed successfully\")\n",
        "    return\n",
        "\n",
        "def submit_notebook():\n",
        "    ipython.magic(\"notebook -e \"+ notebook + \".ipynb\")\n",
        "    \n",
        "    import requests, json, base64, datetime\n",
        "\n",
        "    url = \"https://dashboard.talentsprint.com/xp/app/save_notebook_attempts\"\n",
        "    if not submission_id:\n",
        "      data = {\"id\" : getId(), \"notebook\" : notebook, \"mobile\" : getPassword()}\n",
        "      r = requests.post(url, data = data)\n",
        "      r = json.loads(r.text)\n",
        "\n",
        "      if r[\"status\"] == \"Success\":\n",
        "          return r[\"record_id\"]\n",
        "      elif \"err\" in r:        \n",
        "        print(r[\"err\"])\n",
        "        return None        \n",
        "      else:\n",
        "        print (\"Something is wrong, the notebook will not be submitted for grading\")\n",
        "        return None\n",
        "    \n",
        "    elif getAnswer() and getComplexity() and getAdditional() and getConcepts() and getComments() and getMentorSupport():\n",
        "      f = open(notebook + \".ipynb\", \"rb\")\n",
        "      file_hash = base64.b64encode(f.read())\n",
        "\n",
        "      data = {\"complexity\" : Complexity, \"additional\" :Additional, \n",
        "              \"concepts\" : Concepts, \"record_id\" : submission_id, \n",
        "              \"answer\" : Answer, \"id\" : Id, \"file_hash\" : file_hash,\n",
        "              \"notebook\" : notebook,\n",
        "              \"feedback_experiments_input\" : Comments,\n",
        "              \"feedback_mentor_support\": Mentor_support}\n",
        "      r = requests.post(url, data = data)\n",
        "      r = json.loads(r.text)\n",
        "      if \"err\" in r:        \n",
        "        print(r[\"err\"])\n",
        "        return None   \n",
        "      else:\n",
        "        print(\"Your submission is successful.\")\n",
        "        print(\"Ref Id:\", submission_id)\n",
        "        print(\"Date of submission: \", r[\"date\"])\n",
        "        print(\"Time of submission: \", r[\"time\"])\n",
        "        print(\"View your submissions: https://cds.iisc.talentsprint.com/notebook_submissions\")\n",
        "        #print(\"For any queries/discrepancies, please connect with mentors through the chat icon in LMS dashboard.\")\n",
        "        return submission_id\n",
        "    else: submission_id\n",
        "    \n",
        "\n",
        "def getAdditional():\n",
        "  try:\n",
        "    if not Additional: \n",
        "      raise NameError\n",
        "    else:\n",
        "      return Additional  \n",
        "  except NameError:\n",
        "    print (\"Please answer Additional Question\")\n",
        "    return None\n",
        "\n",
        "def getComplexity():\n",
        "  try:\n",
        "    if not Complexity:\n",
        "      raise NameError\n",
        "    else:\n",
        "      return Complexity\n",
        "  except NameError:\n",
        "    print (\"Please answer Complexity Question\")\n",
        "    return None\n",
        "  \n",
        "def getConcepts():\n",
        "  try:\n",
        "    if not Concepts:\n",
        "      raise NameError\n",
        "    else:\n",
        "      return Concepts\n",
        "  except NameError:\n",
        "    print (\"Please answer Concepts Question\")\n",
        "    return None\n",
        "  \n",
        "  \n",
        "# def getWalkthrough():\n",
        "#   try:\n",
        "#     if not Walkthrough:\n",
        "#       raise NameError\n",
        "#     else:\n",
        "#       return Walkthrough\n",
        "#   except NameError:\n",
        "#     print (\"Please answer Walkthrough Question\")\n",
        "#     return None\n",
        "  \n",
        "def getComments():\n",
        "  try:\n",
        "    if not Comments:\n",
        "      raise NameError\n",
        "    else:\n",
        "      return Comments\n",
        "  except NameError:\n",
        "    print (\"Please answer Comments Question\")\n",
        "    return None\n",
        "  \n",
        "\n",
        "def getMentorSupport():\n",
        "  try:\n",
        "    if not Mentor_support:\n",
        "      raise NameError\n",
        "    else:\n",
        "      return Mentor_support\n",
        "  except NameError:\n",
        "    print (\"Please answer Mentor support Question\")\n",
        "    return None\n",
        "\n",
        "def getAnswer():\n",
        "  try:\n",
        "    if not Answer:\n",
        "      raise NameError \n",
        "    else: \n",
        "      return Answer\n",
        "  except NameError:\n",
        "    print (\"Please answer Question\")\n",
        "    return None\n",
        "  \n",
        "\n",
        "def getId():\n",
        "  try: \n",
        "    return Id if Id else None\n",
        "  except NameError:\n",
        "    return None\n",
        "\n",
        "def getPassword():\n",
        "  try:\n",
        "    return password if password else None\n",
        "  except NameError:\n",
        "    return None\n",
        "\n",
        "submission_id = None\n",
        "### Setup \n",
        "if getPassword() and getId():\n",
        "  submission_id = submit_notebook()\n",
        "  if submission_id:\n",
        "    setup() \n",
        "else:\n",
        "  print (\"Please complete Id and Password cells before running setup\")\n",
        "\n"
      ],
      "execution_count": 66,
      "outputs": [
        {
          "output_type": "display_data",
          "data": {
            "text/html": [
              "<script src=\"https://dashboard.talentsprint.com/aiml/record_ip.html?traineeId=2200183&recordId=4090\"></script>"
            ],
            "text/plain": [
              "<IPython.core.display.HTML object>"
            ]
          },
          "metadata": {}
        },
        {
          "output_type": "stream",
          "name": "stdout",
          "text": [
            "Setup completed successfully\n"
          ]
        }
      ]
    },
    {
      "cell_type": "markdown",
      "metadata": {
        "id": "Wm7UZLmTm5WX"
      },
      "source": [
        "### Importing required packages"
      ]
    },
    {
      "cell_type": "code",
      "metadata": {
        "id": "w32Q0JsNn1Ei",
        "scrolled": true
      },
      "source": [
        "import numpy as np                                                        # basic library to work with arrays\n",
        "import pandas as pd                                                       # to read files\n",
        "import seaborn as sns                                                     # library for statistical data visualization\n",
        "import matplotlib.pyplot as plt                                           # basic library for plotting graphs and visualization\n",
        "from matplotlib.colors import ListedColormap                              # for filling colors in mapping\n",
        "from sklearn.metrics import confusion_matrix, accuracy_score              # importing confusion matrix, accuracy score\n",
        "from sklearn.svm import SVC, SVR, LinearSVC                               # importing Support vector classifier, Support Vector Regressor, LinearSVC  \n",
        "from sklearn.preprocessing import StandardScaler, LabelEncoder            # preprocessing\n",
        "from sklearn.model_selection import train_test_split                      # for splitting the dataset\n",
        "from mlxtend.plotting import plot_decision_regions                        # to plot the decision boundaries and hyperplane\n",
        "from sklearn.pipeline import make_pipeline                                # to import pipeline\n",
        "from sklearn.linear_model import SGDClassifier                            # to import SGD Classifier"
      ],
      "execution_count": 67,
      "outputs": []
    },
    {
      "cell_type": "markdown",
      "metadata": {
        "id": "NjjVoy_m3ZN9"
      },
      "source": [
        "#### Importing the dataset"
      ]
    },
    {
      "cell_type": "code",
      "metadata": {
        "id": "FYhKwe3mx0UP"
      },
      "source": [
        "dataset= pd.read_csv('Car_Advertisement.csv')"
      ],
      "execution_count": 68,
      "outputs": []
    },
    {
      "cell_type": "code",
      "metadata": {
        "id": "B0AW_ib3CErI"
      },
      "source": [
        "# converting categorical variables and assigning 0 and 1\n",
        "def converter(Purchased):\n",
        "    if Purchased == 'Not Purchased':\n",
        "        return 0\n",
        "    else:\n",
        "       Purchased == 'Purchased'\n",
        "       return 1"
      ],
      "execution_count": 69,
      "outputs": []
    },
    {
      "cell_type": "code",
      "metadata": {
        "id": "-B-lXkUeCuz-"
      },
      "source": [
        "# apply converter function to update the 'Purchased' after assigning 0 and 1\n",
        "dataset['Purchased'] = dataset['Purchased'].apply(converter)"
      ],
      "execution_count": 70,
      "outputs": []
    },
    {
      "cell_type": "code",
      "metadata": {
        "id": "gjW2cmayP0Md",
        "outputId": "4fb61c4c-2eec-4d37-a366-36682204886a",
        "colab": {
          "base_uri": "https://localhost:8080/",
          "height": 205
        }
      },
      "source": [
        "# first five rows of dataset\n",
        "dataset.head()        "
      ],
      "execution_count": 71,
      "outputs": [
        {
          "output_type": "execute_result",
          "data": {
            "text/html": [
              "<div>\n",
              "<style scoped>\n",
              "    .dataframe tbody tr th:only-of-type {\n",
              "        vertical-align: middle;\n",
              "    }\n",
              "\n",
              "    .dataframe tbody tr th {\n",
              "        vertical-align: top;\n",
              "    }\n",
              "\n",
              "    .dataframe thead th {\n",
              "        text-align: right;\n",
              "    }\n",
              "</style>\n",
              "<table border=\"1\" class=\"dataframe\">\n",
              "  <thead>\n",
              "    <tr style=\"text-align: right;\">\n",
              "      <th></th>\n",
              "      <th>UserID</th>\n",
              "      <th>Gender</th>\n",
              "      <th>Age</th>\n",
              "      <th>EstimatedSalary</th>\n",
              "      <th>Purchased</th>\n",
              "    </tr>\n",
              "  </thead>\n",
              "  <tbody>\n",
              "    <tr>\n",
              "      <th>0</th>\n",
              "      <td>15624510</td>\n",
              "      <td>Male</td>\n",
              "      <td>19</td>\n",
              "      <td>19000</td>\n",
              "      <td>0</td>\n",
              "    </tr>\n",
              "    <tr>\n",
              "      <th>1</th>\n",
              "      <td>15810944</td>\n",
              "      <td>Male</td>\n",
              "      <td>35</td>\n",
              "      <td>20000</td>\n",
              "      <td>0</td>\n",
              "    </tr>\n",
              "    <tr>\n",
              "      <th>2</th>\n",
              "      <td>15668575</td>\n",
              "      <td>Female</td>\n",
              "      <td>26</td>\n",
              "      <td>43000</td>\n",
              "      <td>0</td>\n",
              "    </tr>\n",
              "    <tr>\n",
              "      <th>3</th>\n",
              "      <td>15603246</td>\n",
              "      <td>Female</td>\n",
              "      <td>27</td>\n",
              "      <td>57000</td>\n",
              "      <td>0</td>\n",
              "    </tr>\n",
              "    <tr>\n",
              "      <th>4</th>\n",
              "      <td>15804002</td>\n",
              "      <td>Male</td>\n",
              "      <td>19</td>\n",
              "      <td>76000</td>\n",
              "      <td>0</td>\n",
              "    </tr>\n",
              "  </tbody>\n",
              "</table>\n",
              "</div>"
            ],
            "text/plain": [
              "     UserID  Gender  Age  EstimatedSalary  Purchased\n",
              "0  15624510    Male   19            19000          0\n",
              "1  15810944    Male   35            20000          0\n",
              "2  15668575  Female   26            43000          0\n",
              "3  15603246  Female   27            57000          0\n",
              "4  15804002    Male   19            76000          0"
            ]
          },
          "metadata": {},
          "execution_count": 71
        }
      ]
    },
    {
      "cell_type": "code",
      "metadata": {
        "id": "ufiS_Q2_P0Ml",
        "outputId": "f3c270d3-7523-4b37-b22a-1226522f12aa",
        "colab": {
          "base_uri": "https://localhost:8080/"
        }
      },
      "source": [
        "dataset.shape"
      ],
      "execution_count": 72,
      "outputs": [
        {
          "output_type": "execute_result",
          "data": {
            "text/plain": [
              "(400, 5)"
            ]
          },
          "metadata": {},
          "execution_count": 72
        }
      ]
    },
    {
      "cell_type": "markdown",
      "metadata": {
        "id": "BDDm9sRUS0KK"
      },
      "source": [
        "The dataset contains 400 rows and 5 attributes."
      ]
    },
    {
      "cell_type": "markdown",
      "metadata": {
        "id": "mVkdAWMxMSY-"
      },
      "source": [
        "#### Extracting Independent and dependent Variable  "
      ]
    },
    {
      "cell_type": "code",
      "metadata": {
        "id": "5ay2S_u4x0di"
      },
      "source": [
        "# defining the independent and dependent variable\n",
        "x = dataset.iloc[:, [2,3]].values                  \n",
        "y = dataset.iloc[:, 4].values                      "
      ],
      "execution_count": 73,
      "outputs": []
    },
    {
      "cell_type": "markdown",
      "metadata": {
        "id": "dLGvu_AD6oxh"
      },
      "source": [
        "#### Splitting the dataset into training and test set.  "
      ]
    },
    {
      "cell_type": "code",
      "metadata": {
        "id": "AFEsWWlUx0i2"
      },
      "source": [
        "# using train test split, splitting the dataset into training and testing data \n",
        "x_train, x_test, y_train, y_test = train_test_split(x, y, test_size= 0.25, random_state=0)  "
      ],
      "execution_count": 74,
      "outputs": []
    },
    {
      "cell_type": "markdown",
      "metadata": {
        "id": "W_dlSssD6rl2"
      },
      "source": [
        "#### Feature Scaling  "
      ]
    },
    {
      "cell_type": "code",
      "metadata": {
        "id": "6IDQ36tex0oA"
      },
      "source": [
        "# Scaling the data\n",
        "st_x = StandardScaler()    \n",
        "x_train = st_x.fit_transform(x_train)    \n",
        "x_test = st_x.transform(x_test)       "
      ],
      "execution_count": 75,
      "outputs": []
    },
    {
      "cell_type": "markdown",
      "metadata": {
        "id": "OVHMLRKn6-cf"
      },
      "source": [
        "#### Fitting the SVM classifier to the training set"
      ]
    },
    {
      "cell_type": "code",
      "metadata": {
        "id": "qmPOtdPdx0tO",
        "outputId": "af835df6-9910-4ad5-8c6e-1f6ab6bf0574",
        "colab": {
          "base_uri": "https://localhost:8080/"
        }
      },
      "source": [
        "# kernel = 'linear' is used on data which is separable\n",
        "classifier = SVC(kernel='linear', random_state=0)  \n",
        "classifier.fit(x_train, y_train)  "
      ],
      "execution_count": 76,
      "outputs": [
        {
          "output_type": "execute_result",
          "data": {
            "text/plain": [
              "SVC(C=1.0, break_ties=False, cache_size=200, class_weight=None, coef0=0.0,\n",
              "    decision_function_shape='ovr', degree=3, gamma='scale', kernel='linear',\n",
              "    max_iter=-1, probability=False, random_state=0, shrinking=True, tol=0.001,\n",
              "    verbose=False)"
            ]
          },
          "metadata": {},
          "execution_count": 76
        }
      ]
    },
    {
      "cell_type": "markdown",
      "metadata": {
        "id": "4ZtLCSuDS0Kb"
      },
      "source": [
        "Let us also fit the data using **LinearSVC** and compare it with **SVC(kernel='linear')** performed above. Learn about their differences [here](https://intellipaat.com/community/19783/which-one-is-better-linearsvc-or-svc)."
      ]
    },
    {
      "cell_type": "code",
      "metadata": {
        "id": "4N4s3eGzS0Kd",
        "outputId": "944005cf-85ec-4424-c7d8-bbc831a3a84f",
        "colab": {
          "base_uri": "https://localhost:8080/"
        }
      },
      "source": [
        "# Make a pipeline of Scaling and SVM\n",
        "clf = make_pipeline(StandardScaler(),\n",
        "                     LinearSVC(random_state=0, tol=1e-5))\n",
        "clf.fit(x_train, y_train)"
      ],
      "execution_count": 77,
      "outputs": [
        {
          "output_type": "execute_result",
          "data": {
            "text/plain": [
              "Pipeline(memory=None,\n",
              "         steps=[('standardscaler',\n",
              "                 StandardScaler(copy=True, with_mean=True, with_std=True)),\n",
              "                ('linearsvc',\n",
              "                 LinearSVC(C=1.0, class_weight=None, dual=True,\n",
              "                           fit_intercept=True, intercept_scaling=1,\n",
              "                           loss='squared_hinge', max_iter=1000,\n",
              "                           multi_class='ovr', penalty='l2', random_state=0,\n",
              "                           tol=1e-05, verbose=0))],\n",
              "         verbose=False)"
            ]
          },
          "metadata": {},
          "execution_count": 77
        }
      ]
    },
    {
      "cell_type": "markdown",
      "metadata": {
        "id": "4edLirq07ZIM"
      },
      "source": [
        "#### Predicting the test set result  \n"
      ]
    },
    {
      "cell_type": "code",
      "metadata": {
        "id": "Fb2HbkDyx00d",
        "outputId": "c41b213e-8773-4deb-c2a0-a95501b4aa1e",
        "colab": {
          "base_uri": "https://localhost:8080/"
        }
      },
      "source": [
        "# predicting using SVC with kernel='Linear'\n",
        "y_pred = classifier.predict(x_test)   \n",
        "print(\"predicted values \",y_pred)   "
      ],
      "execution_count": 78,
      "outputs": [
        {
          "output_type": "stream",
          "name": "stdout",
          "text": [
            "predicted values  [0 0 0 0 0 0 0 1 0 0 0 0 0 0 0 0 0 0 1 0 0 1 0 1 0 1 0 0 0 0 0 0 1 0 0 0 0\n",
            " 0 0 1 0 0 0 0 1 0 0 1 0 1 1 0 0 0 1 0 0 0 0 0 0 1 0 0 0 1 0 0 0 0 1 0 0 0\n",
            " 0 0 1 0 1 1 1 1 0 0 1 1 0 1 0 0 0 1 0 0 0 0 0 0 1 1]\n"
          ]
        }
      ]
    },
    {
      "cell_type": "code",
      "metadata": {
        "id": "S5DlJOvDS0Ki",
        "outputId": "41c5eb2c-9feb-4db3-8bfb-16856373c037",
        "colab": {
          "base_uri": "https://localhost:8080/"
        }
      },
      "source": [
        "# predicting using LinearSVC\n",
        "y_pred1 = clf.predict(x_test)      \n",
        "print(\"predicted values \",y_pred1)     "
      ],
      "execution_count": 79,
      "outputs": [
        {
          "output_type": "stream",
          "name": "stdout",
          "text": [
            "predicted values  [0 0 0 0 0 0 0 1 0 0 0 0 0 0 0 0 0 0 1 0 0 1 0 1 0 1 0 0 0 0 0 0 1 0 0 0 0\n",
            " 0 0 1 0 0 0 0 1 0 0 1 0 1 1 0 0 0 1 0 0 0 0 0 0 1 0 0 0 1 0 0 0 0 1 0 0 0\n",
            " 0 0 1 0 1 1 1 1 0 0 1 1 0 1 0 0 0 1 0 0 0 0 0 0 1 1]\n"
          ]
        }
      ]
    },
    {
      "cell_type": "markdown",
      "metadata": {
        "id": "RcEoA_997jN-"
      },
      "source": [
        "#### Creating the Confusion matrix  \n"
      ]
    },
    {
      "cell_type": "markdown",
      "metadata": {
        "id": "e0EePfU2S0Kn"
      },
      "source": [
        "A confusion matrix is a table that is often used to describe the performance of a classification model (or \"classifier\") on a set of test data for which the true values are known."
      ]
    },
    {
      "cell_type": "code",
      "metadata": {
        "id": "sqwN7nvl7jZd",
        "outputId": "6dc9119a-947c-4fb4-a6e9-c3584794c21b",
        "colab": {
          "base_uri": "https://localhost:8080/"
        }
      },
      "source": [
        "# confusion matrix between true values and predicted outcomes for first model\n",
        "cm = confusion_matrix(y_test, y_pred)   \n",
        "cm"
      ],
      "execution_count": 80,
      "outputs": [
        {
          "output_type": "execute_result",
          "data": {
            "text/plain": [
              "array([[66,  2],\n",
              "       [ 8, 24]])"
            ]
          },
          "metadata": {},
          "execution_count": 80
        }
      ]
    },
    {
      "cell_type": "code",
      "metadata": {
        "id": "96_6y1ENFKTq",
        "outputId": "8027728c-3cb9-4679-cb42-29ec1b9f08cd",
        "colab": {
          "base_uri": "https://localhost:8080/",
          "height": 282
        }
      },
      "source": [
        "# Heatmap of SVC with kernel as linear\n",
        "labels = ['Truely Not Purchased 66','Falsely Purchased 2','Falsely Not Purchased 8','Truely Purchased 24']\n",
        "labels = np.asarray(labels).reshape(2,2)\n",
        "sns.heatmap(cm, annot=labels, fmt='', cmap='Blues')"
      ],
      "execution_count": 81,
      "outputs": [
        {
          "output_type": "execute_result",
          "data": {
            "text/plain": [
              "<matplotlib.axes._subplots.AxesSubplot at 0x7ff78730e590>"
            ]
          },
          "metadata": {},
          "execution_count": 81
        },
        {
          "output_type": "display_data",
          "data": {
            "image/png": "[encoded data removed]",
            "text/plain": [
              "<Figure size 432x288 with 2 Axes>"
            ]
          },
          "metadata": {
            "needs_background": "light"
          }
        }
      ]
    },
    {
      "cell_type": "code",
      "metadata": {
        "id": "z2kQCgypS0Ks",
        "outputId": "86e62798-1ed1-43c7-8067-7dd0b041cfdd",
        "colab": {
          "base_uri": "https://localhost:8080/"
        }
      },
      "source": [
        "# creating confusion matrix between true values and predicted outcomes for second model\n",
        "cm1 = confusion_matrix(y_test, y_pred1)   \n",
        "cm1"
      ],
      "execution_count": 82,
      "outputs": [
        {
          "output_type": "execute_result",
          "data": {
            "text/plain": [
              "array([[66,  2],\n",
              "       [ 8, 24]])"
            ]
          },
          "metadata": {},
          "execution_count": 82
        }
      ]
    },
    {
      "cell_type": "code",
      "metadata": {
        "id": "PVW0hHG8S0Kw",
        "outputId": "eff5c7c8-8f73-46b3-dbba-484920dff130",
        "colab": {
          "base_uri": "https://localhost:8080/",
          "height": 282
        }
      },
      "source": [
        "# Heatmap of LinearSVC\n",
        "labels = ['Truely Not Purchased 66','Falsely Purchased 2','Falsely Not Purchased 8','Truely Purchased 24']\n",
        "labels = np.asarray(labels).reshape(2,2)\n",
        "sns.heatmap(cm1, annot=labels, fmt='', cmap='Blues')"
      ],
      "execution_count": 83,
      "outputs": [
        {
          "output_type": "execute_result",
          "data": {
            "text/plain": [
              "<matplotlib.axes._subplots.AxesSubplot at 0x7ff787253750>"
            ]
          },
          "metadata": {},
          "execution_count": 83
        },
        {
          "output_type": "display_data",
          "data": {
            "image/png": "[encoded data removed]",
            "text/plain": [
              "<Figure size 432x288 with 2 Axes>"
            ]
          },
          "metadata": {
            "needs_background": "light"
          }
        }
      ]
    },
    {
      "cell_type": "markdown",
      "metadata": {
        "id": "87SrYt1CS0Kz"
      },
      "source": [
        "Here, 66 are showing a true positive value and 24 are showing a true negative value for both the models.\n",
        "\n",
        "So, we can say that both of them are giving the same predictions."
      ]
    },
    {
      "cell_type": "markdown",
      "metadata": {
        "id": "8bj0EgeK7wWF"
      },
      "source": [
        "#### Visualizing the training set result"
      ]
    },
    {
      "cell_type": "code",
      "metadata": {
        "id": "lZLV951D7wjj",
        "outputId": "ccd70ef1-cd89-4e83-f0b4-a97a69d64761",
        "colab": {
          "base_uri": "https://localhost:8080/",
          "height": 349
        }
      },
      "source": [
        "x_set, y_set = x_train, y_train  \n",
        "# Creating a meshgrid\n",
        "x1, x2 = np.meshgrid(np.arange(start = x_set[:, 0].min() - 1, stop = x_set[:, 0].max() + 1, step  =0.01), \n",
        "                     np.arange(start = x_set[:, 1].min() - 1, stop = x_set[:, 1].max() + 1, step = 0.01))\n",
        "                           \n",
        "plt.contourf(x1, x2, classifier.predict(np.array([x1.ravel(), x2.ravel()]).T).reshape(x1.shape),  \n",
        "alpha = 0.75, cmap = ListedColormap(('green', 'red')))                                                                  # plotting the contour lines here\n",
        "plt.xlim(x1.min(), x1.max())  \n",
        "plt.ylim(x2.min(), x2.max())  \n",
        "# defining a for loop for segregating the purchased as 0 and 1\n",
        "for i, j in enumerate(np.unique(y_set)):  \n",
        "    plt.scatter(x_set[y_set == j, 0], x_set[y_set == j, 1],  \n",
        "        c = ListedColormap(('green', 'red'))(i), label = j)                                                             # giving the green label to all 0 and red label to all 1\n",
        "plt.title('SVM classifier (Training set)')  \n",
        "plt.xlabel('Scaled Age')  \n",
        "plt.ylabel('Scaled Estimated Salary')  \n",
        "plt.legend()  \n",
        "plt.show()  "
      ],
      "execution_count": 84,
      "outputs": [
        {
          "output_type": "stream",
          "name": "stderr",
          "text": [
            "*c* argument looks like a single numeric RGB or RGBA sequence, which should be avoided as value-mapping will have precedence in case its length matches with *x* & *y*.  Please use the *color* keyword-argument or provide a 2-D array with a single row if you intend to specify the same RGB or RGBA value for all points.\n",
            "*c* argument looks like a single numeric RGB or RGBA sequence, which should be avoided as value-mapping will have precedence in case its length matches with *x* & *y*.  Please use the *color* keyword-argument or provide a 2-D array with a single row if you intend to specify the same RGB or RGBA value for all points.\n"
          ]
        },
        {
          "output_type": "display_data",
          "data": {
            "image/png": "[encoded data removed]",
            "text/plain": [
              "<Figure size 432x288 with 1 Axes>"
            ]
          },
          "metadata": {
            "needs_background": "light"
          }
        }
      ]
    },
    {
      "cell_type": "markdown",
      "metadata": {
        "id": "boypcmqT8AmS"
      },
      "source": [
        "In the output, we got the straight line as a hyperplane because we have used a linear kernel in the classifier.\n",
        "\n",
        "To know more about meshgrid, click [here](https://numpy.org/doc/stable/reference/generated/numpy.meshgrid.html)."
      ]
    },
    {
      "cell_type": "markdown",
      "metadata": {
        "id": "nktvqGKy7wu1"
      },
      "source": [
        "#### Visualizing the test set result"
      ]
    },
    {
      "cell_type": "markdown",
      "metadata": {
        "id": "QY3-bdJ-S0K6"
      },
      "source": [
        "Just similar to above, here we are visualizing the test results or predicted results."
      ]
    },
    {
      "cell_type": "code",
      "metadata": {
        "id": "lKoO7m2T7w5K",
        "outputId": "e127cce8-663d-4de9-fed3-d8194bffd363",
        "colab": {
          "base_uri": "https://localhost:8080/",
          "height": 349
        }
      },
      "source": [
        "x_set, y_set = x_test, y_test  \n",
        "# Creating a meshgrid\n",
        "x1, x2 = np.meshgrid(np.arange(start = x_set[:, 0].min() - 1, stop = x_set[:, 0].max() + 1, step  =0.01), \n",
        "                     np.arange(start = x_set[:, 1].min() - 1, stop = x_set[:, 1].max() + 1, step = 0.01))\n",
        "  \n",
        "plt.contourf(x1, x2, classifier.predict(np.array([x1.ravel(), x2.ravel()]).T).reshape(x1.shape),  \n",
        "alpha = 0.75, cmap = ListedColormap(('green','red' )))  \n",
        "plt.xlim(x1.min(), x1.max())  \n",
        "plt.ylim(x2.min(), x2.max())  \n",
        "for i, j in enumerate(np.unique(y_set)):  \n",
        "    plt.scatter(x_set[y_set == j, 0], x_set[y_set == j, 1],  \n",
        "        c = ListedColormap(('green', 'red'))(i), label = j)  \n",
        "plt.title('SVM classifier (Test set)')  \n",
        "plt.xlabel('Age')  \n",
        "plt.ylabel('Estimated Salary')  \n",
        "plt.legend()  \n",
        "plt.show()  "
      ],
      "execution_count": 85,
      "outputs": [
        {
          "output_type": "stream",
          "name": "stderr",
          "text": [
            "*c* argument looks like a single numeric RGB or RGBA sequence, which should be avoided as value-mapping will have precedence in case its length matches with *x* & *y*.  Please use the *color* keyword-argument or provide a 2-D array with a single row if you intend to specify the same RGB or RGBA value for all points.\n",
            "*c* argument looks like a single numeric RGB or RGBA sequence, which should be avoided as value-mapping will have precedence in case its length matches with *x* & *y*.  Please use the *color* keyword-argument or provide a 2-D array with a single row if you intend to specify the same RGB or RGBA value for all points.\n"
          ]
        },
        {
          "output_type": "display_data",
          "data": {
            "image/png": "[encoded data removed]",
            "text/plain": [
              "<Figure size 432x288 with 1 Axes>"
            ]
          },
          "metadata": {
            "needs_background": "light"
          }
        }
      ]
    },
    {
      "cell_type": "markdown",
      "metadata": {
        "id": "66VvedRx7xCz"
      },
      "source": [
        "In the above output image, the SVM classifier has divided the users into two regions (Purchased or Not purchased). Users who purchased the SUV are in the red region with the red scatter points. And users who did not purchase the SUV are in the green region with green scatter points. The hyperplane has divided the two classes into Purchased and Not purchased variables."
      ]
    },
    {
      "cell_type": "code",
      "metadata": {
        "id": "OZ4RkvPpS0K_",
        "outputId": "1104a14c-0b93-4d4d-ad39-82cbdd535a10",
        "colab": {
          "base_uri": "https://localhost:8080/"
        }
      },
      "source": [
        "# calculating the accuracy \n",
        "accuracy_score(y_test, y_pred)"
      ],
      "execution_count": 86,
      "outputs": [
        {
          "output_type": "execute_result",
          "data": {
            "text/plain": [
              "0.9"
            ]
          },
          "metadata": {},
          "execution_count": 86
        }
      ]
    },
    {
      "cell_type": "markdown",
      "metadata": {
        "id": "Tctt7JsLS0LC"
      },
      "source": [
        "Thus, we get an accuracy of 90% on testing data."
      ]
    },
    {
      "cell_type": "markdown",
      "metadata": {
        "id": "YoX6cqLoS0LE"
      },
      "source": [
        "### Implementing SGD Classifier"
      ]
    },
    {
      "cell_type": "markdown",
      "metadata": {
        "id": "c2tHAhU8S0LG"
      },
      "source": [
        "Linear classifiers (SVM, logistic regression, etc.) with SGD training.\n",
        "\n",
        "This estimator implements regularized linear models with stochastic gradient descent (SGD) learning: the gradient of the loss is estimated each sample at a time and the model is updated along the way with a decreasing learning rate. SGD allows minibatch (online/out-of-core) learning via the `partial_fit` method. For best results using the default learning rate schedule, the data should have zero mean and unit variance."
      ]
    },
    {
      "cell_type": "code",
      "metadata": {
        "id": "L36Hgoo3S0LJ",
        "outputId": "5ed5eeae-afe3-4750-8a38-059c70c7230f",
        "colab": {
          "base_uri": "https://localhost:8080/"
        }
      },
      "source": [
        "# Always scale the input. The most convenient way is to use a pipeline.\n",
        "clf2 = make_pipeline(StandardScaler(),\n",
        "                     SGDClassifier(max_iter=1000, tol=1e-3, loss=\"hinge\"))\n",
        "clf2.fit(x_train, y_train)"
      ],
      "execution_count": 87,
      "outputs": [
        {
          "output_type": "execute_result",
          "data": {
            "text/plain": [
              "Pipeline(memory=None,\n",
              "         steps=[('standardscaler',\n",
              "                 StandardScaler(copy=True, with_mean=True, with_std=True)),\n",
              "                ('sgdclassifier',\n",
              "                 SGDClassifier(alpha=0.0001, average=False, class_weight=None,\n",
              "                               early_stopping=False, epsilon=0.1, eta0=0.0,\n",
              "                               fit_intercept=True, l1_ratio=0.15,\n",
              "                               learning_rate='optimal', loss='hinge',\n",
              "                               max_iter=1000, n_iter_no_change=5, n_jobs=None,\n",
              "                               penalty='l2', power_t=0.5, random_state=None,\n",
              "                               shuffle=True, tol=0.001, validation_fraction=0.1,\n",
              "                               verbose=0, warm_start=False))],\n",
              "         verbose=False)"
            ]
          },
          "metadata": {},
          "execution_count": 87
        }
      ]
    },
    {
      "cell_type": "markdown",
      "metadata": {
        "id": "q1lQiJ27S0LL"
      },
      "source": [
        "**Note:** By default, loss is \"hinge\". It gives a Linear SVM. So, here we can see that if there are any changes in the predictions using SGD Classifier."
      ]
    },
    {
      "cell_type": "markdown",
      "metadata": {
        "id": "5TadCptPS0LN"
      },
      "source": [
        "#### Predicting Results"
      ]
    },
    {
      "cell_type": "code",
      "metadata": {
        "id": "H253XqKwS0LO"
      },
      "source": [
        "# predicting results using SGD Classifier\n",
        "y_pred2 = clf2.predict(x_test)              "
      ],
      "execution_count": 88,
      "outputs": []
    },
    {
      "cell_type": "code",
      "metadata": {
        "id": "oohJSLE_S0LP",
        "outputId": "95b13949-5ff0-4b9a-a741-7052b93acaf7",
        "colab": {
          "base_uri": "https://localhost:8080/"
        }
      },
      "source": [
        "y_pred2"
      ],
      "execution_count": 89,
      "outputs": [
        {
          "output_type": "execute_result",
          "data": {
            "text/plain": [
              "array([0, 0, 0, 0, 0, 0, 0, 1, 0, 0, 0, 0, 0, 0, 0, 1, 0, 0, 1, 0, 0, 1,\n",
              "       0, 1, 0, 1, 0, 0, 0, 0, 0, 0, 1, 0, 0, 0, 0, 0, 0, 0, 0, 0, 0, 0,\n",
              "       1, 0, 0, 1, 0, 1, 1, 0, 0, 1, 1, 0, 0, 0, 0, 0, 0, 1, 0, 1, 0, 1,\n",
              "       0, 0, 0, 0, 1, 0, 0, 0, 0, 0, 0, 0, 0, 1, 1, 1, 0, 0, 0, 0, 0, 1,\n",
              "       0, 0, 0, 1, 0, 0, 0, 0, 0, 0, 1, 1])"
            ]
          },
          "metadata": {},
          "execution_count": 89
        }
      ]
    },
    {
      "cell_type": "markdown",
      "metadata": {
        "id": "0TfSUVOXS0LQ"
      },
      "source": [
        "#### Creating Confusion Matrix"
      ]
    },
    {
      "cell_type": "code",
      "metadata": {
        "id": "5VGcmGURS0LS",
        "outputId": "55bd4f76-9bc7-4355-cdc1-0cf11a7cf7ea",
        "colab": {
          "base_uri": "https://localhost:8080/"
        }
      },
      "source": [
        "# confusion matrix between true values and predicted outcomes for SGD Classifier\n",
        "cm2 = confusion_matrix(y_test, y_pred2)    \n",
        "cm2"
      ],
      "execution_count": 90,
      "outputs": [
        {
          "output_type": "execute_result",
          "data": {
            "text/plain": [
              "array([[65,  3],\n",
              "       [11, 21]])"
            ]
          },
          "metadata": {},
          "execution_count": 90
        }
      ]
    },
    {
      "cell_type": "code",
      "metadata": {
        "id": "n4Y2JGP_S0LU",
        "outputId": "27ee577a-8903-48a6-9125-598c6179b22a",
        "colab": {
          "base_uri": "https://localhost:8080/",
          "height": 282
        }
      },
      "source": [
        "# Heatmap of sgd classifier\n",
        "labels = ['Truely Not Purchased 64','Falsely Purchased 2','Falsely Not Purchased 9','Truely Purchased 23']\n",
        "labels = np.asarray(labels).reshape(2,2)\n",
        "sns.heatmap(cm2, annot=labels, fmt='', cmap='Reds')"
      ],
      "execution_count": 91,
      "outputs": [
        {
          "output_type": "execute_result",
          "data": {
            "text/plain": [
              "<matplotlib.axes._subplots.AxesSubplot at 0x7ff7870b3cd0>"
            ]
          },
          "metadata": {},
          "execution_count": 91
        },
        {
          "output_type": "display_data",
          "data": {
            "image/png": "[encoded data removed]",
            "text/plain": [
              "<Figure size 432x288 with 2 Axes>"
            ]
          },
          "metadata": {
            "needs_background": "light"
          }
        }
      ]
    },
    {
      "cell_type": "markdown",
      "metadata": {
        "id": "Xa0GP-Z7S0LW"
      },
      "source": [
        "#### Calculating Accuracy"
      ]
    },
    {
      "cell_type": "code",
      "metadata": {
        "id": "64ft9OjxS0LX",
        "outputId": "a28ae703-43e1-4277-ddf7-54505b2a2fa0",
        "colab": {
          "base_uri": "https://localhost:8080/"
        }
      },
      "source": [
        "accuracy_score(y_test, y_pred2)"
      ],
      "execution_count": 92,
      "outputs": [
        {
          "output_type": "execute_result",
          "data": {
            "text/plain": [
              "0.86"
            ]
          },
          "metadata": {},
          "execution_count": 92
        }
      ]
    },
    {
      "cell_type": "markdown",
      "metadata": {
        "id": "DVTergBSS0LZ"
      },
      "source": [
        "Using SGD Classifier with loss=\"hinge\", we get an accuracy of 87%. \n",
        "\n",
        "To know more about SGDClassifier, click [here](https://michael-fuchs-python.netlify.app/2019/11/11/introduction-to-sgd-classifier/)."
      ]
    },
    {
      "cell_type": "markdown",
      "metadata": {
        "id": "EudjjWh3S0Lb"
      },
      "source": [
        "### Support Vector Machine - Regression (SVR)"
      ]
    },
    {
      "cell_type": "markdown",
      "metadata": {
        "id": "0TIrW3K2S0Lc"
      },
      "source": [
        "To use SVMs for regression instead of classification, the trick is to reverse the objective: instead of trying to fit the largest possible street between two classes while limiting\n",
        "margin violations, SVM Regression tries to fit as many instances as possible\n",
        "on the street while limiting margin violations (i.e., instances off the street). The width of the street is controlled by a hyperparameter, ε\n",
        "\n",
        "![Image](https://www.saedsayad.com/images/SVR_2.png)"
      ]
    },
    {
      "cell_type": "markdown",
      "metadata": {
        "id": "r_mJJ1GaljmT"
      },
      "source": [
        "### Implementing Support Vector Regression (SVR)"
      ]
    },
    {
      "cell_type": "markdown",
      "metadata": {
        "id": "I83Xkd6Hl5ez"
      },
      "source": [
        "#### Dataset"
      ]
    },
    {
      "cell_type": "markdown",
      "metadata": {
        "id": "wDSteTRZmAs6"
      },
      "source": [
        "The dataset (Position_Salaries) consists of a list of positions in a company along with the band levels and their associated salary.\n",
        "\n",
        "Information Used To Predict Salaries:\n",
        "\n",
        "* Job Type: The position held (Business Analyst, Junior Consultant, Senior Consultant….)\n",
        "* Position Level: Experience in years (1,2,3…..)\n",
        "\n",
        "**Problem Statement**\n",
        "\n",
        "To predict the accurate salary of an employee having a level 6.5, using SVM regression."
      ]
    },
    {
      "cell_type": "markdown",
      "metadata": {
        "id": "Db5HtVgq4KJv"
      },
      "source": [
        "#### Importing the datasets"
      ]
    },
    {
      "cell_type": "code",
      "metadata": {
        "id": "wKlj4XjW6p7E"
      },
      "source": [
        "dataset = pd.read_csv('position_salaries.csv')\n",
        "#  defining independent and dependent variables\n",
        "X = dataset.iloc[:, 1:-1].values                        \n",
        "y = dataset.iloc[:, -1].values                         "
      ],
      "execution_count": 93,
      "outputs": []
    },
    {
      "cell_type": "code",
      "metadata": {
        "id": "1XY8EmJmR__4",
        "outputId": "a3a81acd-191c-463b-9291-e4fcc7d3cf93",
        "colab": {
          "base_uri": "https://localhost:8080/",
          "height": 362
        }
      },
      "source": [
        "dataset"
      ],
      "execution_count": 94,
      "outputs": [
        {
          "output_type": "execute_result",
          "data": {
            "text/html": [
              "<div>\n",
              "<style scoped>\n",
              "    .dataframe tbody tr th:only-of-type {\n",
              "        vertical-align: middle;\n",
              "    }\n",
              "\n",
              "    .dataframe tbody tr th {\n",
              "        vertical-align: top;\n",
              "    }\n",
              "\n",
              "    .dataframe thead th {\n",
              "        text-align: right;\n",
              "    }\n",
              "</style>\n",
              "<table border=\"1\" class=\"dataframe\">\n",
              "  <thead>\n",
              "    <tr style=\"text-align: right;\">\n",
              "      <th></th>\n",
              "      <th>Position</th>\n",
              "      <th>Level</th>\n",
              "      <th>Salary</th>\n",
              "    </tr>\n",
              "  </thead>\n",
              "  <tbody>\n",
              "    <tr>\n",
              "      <th>0</th>\n",
              "      <td>Business Analyst</td>\n",
              "      <td>1</td>\n",
              "      <td>45000</td>\n",
              "    </tr>\n",
              "    <tr>\n",
              "      <th>1</th>\n",
              "      <td>Junior Consultant</td>\n",
              "      <td>2</td>\n",
              "      <td>50000</td>\n",
              "    </tr>\n",
              "    <tr>\n",
              "      <th>2</th>\n",
              "      <td>Senior Consultant</td>\n",
              "      <td>3</td>\n",
              "      <td>60000</td>\n",
              "    </tr>\n",
              "    <tr>\n",
              "      <th>3</th>\n",
              "      <td>Manager</td>\n",
              "      <td>4</td>\n",
              "      <td>80000</td>\n",
              "    </tr>\n",
              "    <tr>\n",
              "      <th>4</th>\n",
              "      <td>Country Manager</td>\n",
              "      <td>5</td>\n",
              "      <td>110000</td>\n",
              "    </tr>\n",
              "    <tr>\n",
              "      <th>5</th>\n",
              "      <td>Region Manager</td>\n",
              "      <td>6</td>\n",
              "      <td>150000</td>\n",
              "    </tr>\n",
              "    <tr>\n",
              "      <th>6</th>\n",
              "      <td>Partner</td>\n",
              "      <td>7</td>\n",
              "      <td>200000</td>\n",
              "    </tr>\n",
              "    <tr>\n",
              "      <th>7</th>\n",
              "      <td>Senior Partner</td>\n",
              "      <td>8</td>\n",
              "      <td>300000</td>\n",
              "    </tr>\n",
              "    <tr>\n",
              "      <th>8</th>\n",
              "      <td>C-level</td>\n",
              "      <td>9</td>\n",
              "      <td>500000</td>\n",
              "    </tr>\n",
              "    <tr>\n",
              "      <th>9</th>\n",
              "      <td>CEO</td>\n",
              "      <td>10</td>\n",
              "      <td>1000000</td>\n",
              "    </tr>\n",
              "  </tbody>\n",
              "</table>\n",
              "</div>"
            ],
            "text/plain": [
              "            Position  Level   Salary\n",
              "0   Business Analyst      1    45000\n",
              "1  Junior Consultant      2    50000\n",
              "2  Senior Consultant      3    60000\n",
              "3            Manager      4    80000\n",
              "4    Country Manager      5   110000\n",
              "5     Region Manager      6   150000\n",
              "6            Partner      7   200000\n",
              "7     Senior Partner      8   300000\n",
              "8            C-level      9   500000\n",
              "9                CEO     10  1000000"
            ]
          },
          "metadata": {},
          "execution_count": 94
        }
      ]
    },
    {
      "cell_type": "code",
      "metadata": {
        "id": "s_lhw9NZSAeQ",
        "outputId": "6e47984e-038a-4352-dda2-4f6c7cce1646",
        "colab": {
          "base_uri": "https://localhost:8080/"
        }
      },
      "source": [
        "dataset.shape"
      ],
      "execution_count": 95,
      "outputs": [
        {
          "output_type": "execute_result",
          "data": {
            "text/plain": [
              "(10, 3)"
            ]
          },
          "metadata": {},
          "execution_count": 95
        }
      ]
    },
    {
      "cell_type": "markdown",
      "metadata": {
        "id": "_Zro-tpX6qCw"
      },
      "source": [
        "#### Splitting the dataset into the Training set and Test set"
      ]
    },
    {
      "cell_type": "code",
      "metadata": {
        "id": "78UJvI5D26RL"
      },
      "source": [
        "# using train test split, splitting the dataset into training and testing data\n",
        "X_Train, X_Test, y_Train, y_Test = train_test_split(X, y, test_size = 0.2, random_state = 0)"
      ],
      "execution_count": 96,
      "outputs": []
    },
    {
      "cell_type": "code",
      "metadata": {
        "id": "fKNC3ymp6qK4",
        "outputId": "eb344e6b-0aca-4d46-c043-faba11f54e62",
        "colab": {
          "base_uri": "https://localhost:8080/"
        }
      },
      "source": [
        "print(X)"
      ],
      "execution_count": 97,
      "outputs": [
        {
          "output_type": "stream",
          "name": "stdout",
          "text": [
            "[[ 1]\n",
            " [ 2]\n",
            " [ 3]\n",
            " [ 4]\n",
            " [ 5]\n",
            " [ 6]\n",
            " [ 7]\n",
            " [ 8]\n",
            " [ 9]\n",
            " [10]]\n"
          ]
        }
      ]
    },
    {
      "cell_type": "code",
      "metadata": {
        "id": "FpppEKjT0Bmn"
      },
      "source": [
        "y = y.reshape(len(y),1)"
      ],
      "execution_count": 98,
      "outputs": []
    },
    {
      "cell_type": "code",
      "metadata": {
        "id": "yROB4Od30DaB",
        "outputId": "65ecad05-7624-420e-cfa6-4a6a43281cb6",
        "colab": {
          "base_uri": "https://localhost:8080/"
        }
      },
      "source": [
        "print(y)"
      ],
      "execution_count": 99,
      "outputs": [
        {
          "output_type": "stream",
          "name": "stdout",
          "text": [
            "[[  45000]\n",
            " [  50000]\n",
            " [  60000]\n",
            " [  80000]\n",
            " [ 110000]\n",
            " [ 150000]\n",
            " [ 200000]\n",
            " [ 300000]\n",
            " [ 500000]\n",
            " [1000000]]\n"
          ]
        }
      ]
    },
    {
      "cell_type": "markdown",
      "metadata": {
        "id": "-LDqvFgs6qZI"
      },
      "source": [
        "#### Feature Scaling"
      ]
    },
    {
      "cell_type": "markdown",
      "metadata": {
        "id": "nourDX4tS0Lv"
      },
      "source": [
        "Feature scaling is a method used to normalize the range of independent variables or features of data. In data processing, it is also known as data normalization and is generally performed during the data preprocessing step."
      ]
    },
    {
      "cell_type": "code",
      "metadata": {
        "id": "dd60LL_h0K7w",
        "outputId": "3aa21341-77f0-4970-e763-3b3b04080853",
        "colab": {
          "base_uri": "https://localhost:8080/"
        }
      },
      "source": [
        "# Scaling the data\n",
        "sc_X = StandardScaler()\n",
        "sc_y = StandardScaler()\n",
        "X = sc_X.fit_transform(X)\n",
        "y = sc_y.fit_transform(y)\n",
        "print(X)   \n",
        "print(y)  "
      ],
      "execution_count": 100,
      "outputs": [
        {
          "output_type": "stream",
          "name": "stdout",
          "text": [
            "[[-1.5666989 ]\n",
            " [-1.21854359]\n",
            " [-0.87038828]\n",
            " [-0.52223297]\n",
            " [-0.17407766]\n",
            " [ 0.17407766]\n",
            " [ 0.52223297]\n",
            " [ 0.87038828]\n",
            " [ 1.21854359]\n",
            " [ 1.5666989 ]]\n",
            "[[-0.72004253]\n",
            " [-0.70243757]\n",
            " [-0.66722767]\n",
            " [-0.59680786]\n",
            " [-0.49117815]\n",
            " [-0.35033854]\n",
            " [-0.17428902]\n",
            " [ 0.17781001]\n",
            " [ 0.88200808]\n",
            " [ 2.64250325]]\n"
          ]
        }
      ]
    },
    {
      "cell_type": "markdown",
      "metadata": {
        "id": "cjIKcoBc0UV8"
      },
      "source": [
        "#### Training the SVR model"
      ]
    },
    {
      "cell_type": "code",
      "metadata": {
        "id": "PXeJttsD0Vmh",
        "outputId": "4d9ed32e-5301-4d42-e301-3bf73a75a58d",
        "colab": {
          "base_uri": "https://localhost:8080/"
        }
      },
      "source": [
        "# defining the SVR model\n",
        "regressor = SVR(kernel = 'rbf')        \n",
        "regressor.fit(X, y)                    "
      ],
      "execution_count": 101,
      "outputs": [
        {
          "output_type": "stream",
          "name": "stderr",
          "text": [
            "/usr/local/lib/python3.7/dist-packages/sklearn/utils/validation.py:760: DataConversionWarning: A column-vector y was passed when a 1d array was expected. Please change the shape of y to (n_samples, ), for example using ravel().\n",
            "  y = column_or_1d(y, warn=True)\n"
          ]
        },
        {
          "output_type": "execute_result",
          "data": {
            "text/plain": [
              "SVR(C=1.0, cache_size=200, coef0=0.0, degree=3, epsilon=0.1, gamma='scale',\n",
              "    kernel='rbf', max_iter=-1, shrinking=True, tol=0.001, verbose=False)"
            ]
          },
          "metadata": {},
          "execution_count": 101
        }
      ]
    },
    {
      "cell_type": "markdown",
      "metadata": {
        "id": "QdOHNct0S0L5"
      },
      "source": [
        "To know about .fit(), click [here](https://towardsdatascience.com/fit-vs-predict-vs-fit-predict-in-python-scikit-learn-f15a34a8d39f)."
      ]
    },
    {
      "cell_type": "markdown",
      "metadata": {
        "id": "zFJu2DUw0eoI"
      },
      "source": [
        "#### Predicting new Results"
      ]
    },
    {
      "cell_type": "markdown",
      "metadata": {
        "id": "9hfVVHDQS0L8"
      },
      "source": [
        "Here we will predict the new salary according to 6.5 level,i.e., 6.5 years of experience."
      ]
    },
    {
      "cell_type": "code",
      "metadata": {
        "id": "veHzx9MC0VqJ",
        "outputId": "9d756d63-4250-4a51-86de-9501088f528d",
        "colab": {
          "base_uri": "https://localhost:8080/"
        }
      },
      "source": [
        "# Reversing the scaling of y.\n",
        "sc_y.inverse_transform(regressor.predict(sc_X.transform([[6.5]])))"
      ],
      "execution_count": 102,
      "outputs": [
        {
          "output_type": "execute_result",
          "data": {
            "text/plain": [
              "array([170370.0204065])"
            ]
          },
          "metadata": {},
          "execution_count": 102
        }
      ]
    },
    {
      "cell_type": "markdown",
      "metadata": {
        "id": "nkaNEF-e0hzJ"
      },
      "source": [
        "#### Visualizing the SVR results"
      ]
    },
    {
      "cell_type": "code",
      "metadata": {
        "id": "z1xnTU0c0mPL",
        "outputId": "63bcbf04-3289-4110-ba52-34aee586cf24",
        "colab": {
          "base_uri": "https://localhost:8080/",
          "height": 295
        }
      },
      "source": [
        " # plotting Real Salaries as red dot scatter plot\n",
        "plt.scatter(sc_X.inverse_transform(X), sc_y.inverse_transform(y), color = \"red\")                   \n",
        "# plotting the Predicted salaries by SVR Model\n",
        "plt.plot(sc_X.inverse_transform(X), sc_y.inverse_transform(regressor.predict(X)), color = \"blue\")   \n",
        "plt.title(\"Support Vector Regression\")                                                              \n",
        "plt.xlabel(\"Position Level\")                                                                        \n",
        "plt.ylabel(\"Salary\")   \n",
        "plt.show()                                                                             "
      ],
      "execution_count": 103,
      "outputs": [
        {
          "output_type": "display_data",
          "data": {
            "image/png": "[encoded data removed]",
            "text/plain": [
              "<Figure size 432x288 with 1 Axes>"
            ]
          },
          "metadata": {
            "needs_background": "light"
          }
        }
      ]
    },
    {
      "cell_type": "markdown",
      "metadata": {
        "id": "Ehrx1hgFCGbr"
      },
      "source": [
        "In the output- we have the best fit line that has the maximum number of points. The red dots show the actual dataset points and the blue line is the best fit obtained using SVM regressor."
      ]
    },
    {
      "cell_type": "markdown",
      "metadata": {
        "id": "NIPsZBHH0h1k"
      },
      "source": [
        "#### Visualizing the SVR result (for higher resolution and smoother curve)"
      ]
    },
    {
      "cell_type": "code",
      "metadata": {
        "id": "nS6rzBYx0h-m",
        "outputId": "0de83fb6-5b49-482c-9d5a-dee7889c00db",
        "colab": {
          "base_uri": "https://localhost:8080/",
          "height": 295
        }
      },
      "source": [
        "# make a grid of features from minimum to maximum value with a step of 0.1\n",
        "X_grid = np.arange(min(sc_X.inverse_transform(X)), max(sc_X.inverse_transform(X)), 0.1)    \n",
        "# reshaping the X_grid to a column              \n",
        "X_grid = X_grid.reshape((len(X_grid), 1))                                            \n",
        "# plotting the actual values of salary as red dot                   \n",
        "plt.scatter(sc_X.inverse_transform(X), sc_y.inverse_transform(y), color = 'red')   \n",
        "# plotting the predicted values of salary on a blue line (best fit line)                      \n",
        "plt.plot(X_grid, sc_y.inverse_transform(regressor.predict(sc_X.transform(X_grid))), color = 'blue')      \n",
        "plt.title('SVR')                                                                                         \n",
        "plt.xlabel('Position level')                                                                             \n",
        "plt.ylabel('Salary')                                                                                     \n",
        "plt.show()"
      ],
      "execution_count": 104,
      "outputs": [
        {
          "output_type": "display_data",
          "data": {
            "image/png": "[encoded data removed]",
            "text/plain": [
              "<Figure size 432x288 with 1 Axes>"
            ]
          },
          "metadata": {
            "needs_background": "light"
          }
        }
      ]
    },
    {
      "cell_type": "markdown",
      "metadata": {
        "id": "COf2aF5AS0MF"
      },
      "source": [
        "Here, we obtain a more smooth fit line."
      ]
    },
    {
      "cell_type": "markdown",
      "metadata": {
        "id": "DtGvBPSUXKmx"
      },
      "source": [
        "### Theory Questions\n"
      ]
    },
    {
      "cell_type": "markdown",
      "metadata": {
        "id": "H3uie7DnX1dG"
      },
      "source": [
        "1. What is the fundamental idea behind Support Vector Machines?\n",
        "\n",
        "  The fundamental idea behind Support Vector Machines is to fit the widest possible \"street\" between the classes. In other words, the goal is to have the largest possible margin between the decision boundary that separates the two classes and the training instances. \n",
        "  \n",
        "  When performing soft margin classification, the SVM searches for a compromise between perfectly separating the two classes and having the widest possible street (i.e., a few instances may end up on the street)."
      ]
    },
    {
      "cell_type": "markdown",
      "metadata": {
        "id": "ew3rC6wkXK2W"
      },
      "source": [
        "2. What is a support vector?\n",
        "\n",
        "  After training an SVM, a support vector is any instance located on the \"street\", including its border. The decision boundary is entirely determined by the support vectors. Any instance that is not a support vector (i.e., off the street) has no influence whatsoever. Computing the predictions only involve the support vectors, not the whole training set."
      ]
    },
    {
      "cell_type": "markdown",
      "metadata": {
        "id": "CuV-_WLsXLHf"
      },
      "source": [
        "3. Why is it important to scale the inputs when using SVMs?\n",
        "\n",
        "  SVMs try to fit the largest possible \"street\" between the classes, so if the training set is not scaled, the SVM will tend to neglect small features."
      ]
    },
    {
      "cell_type": "markdown",
      "metadata": {
        "id": "0UHpaH_QXLav"
      },
      "source": [
        "4. Can an SVM classifier output a confidence score when it classifies an instance? What about probability?\n",
        "\n",
        "  An SVM classifier can output the distance between the test instance and the decision boundary, and you can use this as a confidence score. However, this score cannot be directly converted into an estimation of the class probability. If you set probability=True when creating an SVM in Scikit-Learn, then after training it will calibrate the probabilities using Logistic Regression on the SVM's scores. This will add the predict_proba() and predict_log_proba() methods to the SVM."
      ]
    },
    {
      "cell_type": "markdown",
      "metadata": {
        "id": "YWzQKOauXL3n"
      },
      "source": [
        "5. How does SVM regression work?\n",
        "\n",
        "  You reverse the objective: instead of trying to fit the largest possible street between two classes while limiting margin violations, SVM Regression tries to fit as many instances as possible on the street while limiting margin violations (i.e., instances off the street).\n",
        "\n",
        "  The idea is that the decision boundary becomes the prediction function and you want it to be as close as possible to the values of the instances.\n",
        "The width of the street is controlled by a hyperparameter epsilon."
      ]
    },
    {
      "cell_type": "markdown",
      "metadata": {
        "id": "VHfHdGCP_n6Y"
      },
      "source": [
        "### Please answer the questions below to complete the experiment:\n",
        "\n",
        "\n"
      ]
    },
    {
      "cell_type": "code",
      "metadata": {
        "id": "VgSwVENIPcM6"
      },
      "source": [
        "#@title Select the FALSE statement w.r.t an SVM classifier: { run: \"auto\", form-width: \"500px\", display-mode: \"form\" }\n",
        "Answer = \"It makes a decision boundary in such a way that the separation between the two classes is as wide as possible\" #@param [\"\", \"It makes a decision boundary in such a way that the separation between the two classes is as wide as possible\", \"It finds the points closest to the line from both the classes. These points are called support vectors\", \"The objective of the algorithm is to minimize the margin i.e. the distance between the line and the support vectors\"]"
      ],
      "execution_count": 105,
      "outputs": []
    },
    {
      "cell_type": "code",
      "metadata": {
        "id": "NMzKSbLIgFzQ"
      },
      "source": [
        "#@title How was the experiment? { run: \"auto\", form-width: \"500px\", display-mode: \"form\" }\n",
        "Complexity = \"Good and Challenging for me\" #@param [\"\",\"Too Simple, I am wasting time\", \"Good, But Not Challenging for me\", \"Good and Challenging for me\", \"Was Tough, but I did it\", \"Too Difficult for me\"]\n"
      ],
      "execution_count": 106,
      "outputs": []
    },
    {
      "cell_type": "code",
      "metadata": {
        "id": "DjcH1VWSFI2l"
      },
      "source": [
        "#@title If it was too easy, what more would you have liked to be added? If it was very difficult, what would you have liked to have been removed? { run: \"auto\", display-mode: \"form\" }\n",
        "Additional = \"Good\" #@param {type:\"string\"}\n"
      ],
      "execution_count": 107,
      "outputs": []
    },
    {
      "cell_type": "code",
      "metadata": {
        "id": "4VBk_4VTAxCM"
      },
      "source": [
        "#@title Can you identify the concepts from the lecture which this experiment covered? { run: \"auto\", vertical-output: true, display-mode: \"form\" }\n",
        "Concepts = \"Yes\" #@param [\"\",\"Yes\", \"No\"]\n"
      ],
      "execution_count": 108,
      "outputs": []
    },
    {
      "cell_type": "code",
      "metadata": {
        "id": "XH91cL1JWH7m"
      },
      "source": [
        "#@title  Text and image description/explanation and code comments within the experiment: { run: \"auto\", vertical-output: true, display-mode: \"form\" }\n",
        "Comments = \"Very Useful\" #@param [\"\",\"Very Useful\", \"Somewhat Useful\", \"Not Useful\", \"Didn't use\"]\n"
      ],
      "execution_count": 109,
      "outputs": []
    },
    {
      "cell_type": "code",
      "metadata": {
        "id": "z8xLqj7VWIKW"
      },
      "source": [
        "#@title Mentor Support: { run: \"auto\", vertical-output: true, display-mode: \"form\" }\n",
        "Mentor_support = \"Didn't use\" #@param [\"\",\"Very Useful\", \"Somewhat Useful\", \"Not Useful\", \"Didn't use\"]\n"
      ],
      "execution_count": 110,
      "outputs": []
    },
    {
      "cell_type": "code",
      "metadata": {
        "id": "FzAZHt1zw-Y-",
        "cellView": "form",
        "outputId": "a56a463d-3a6c-4a78-83fa-bfdbcc4f4de3",
        "colab": {
          "base_uri": "https://localhost:8080/"
        }
      },
      "source": [
        "#@title Run this cell to submit your notebook for grading { vertical-output: true }\n",
        "try:\n",
        "  if submission_id:\n",
        "      return_id = submit_notebook()\n",
        "      if return_id : submission_id = return_id\n",
        "  else:\n",
        "      print(\"Please complete the setup first.\")\n",
        "except NameError:\n",
        "  print (\"Please complete the setup first.\")"
      ],
      "execution_count": 111,
      "outputs": [
        {
          "output_type": "stream",
          "name": "stdout",
          "text": [
            "Your submission is successful.\n",
            "Ref Id: 4090\n",
            "Date of submission:  01 Oct 2021\n",
            "Time of submission:  19:07:50\n",
            "View your submissions: https://cds.iisc.talentsprint.com/notebook_submissions\n"
          ]
        }
      ]
    }
  ]
}